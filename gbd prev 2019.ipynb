{
 "cells": [
  {
   "cell_type": "code",
   "execution_count": 4,
   "id": "e732d0ea",
   "metadata": {},
   "outputs": [],
   "source": [
    "import pandas as pd, numpy as np\n",
    "from get_draws.api import get_draws\n",
    "from db_queries import get_population, get_ids, get_location_metadata, get_outputs"
   ]
  },
  {
   "cell_type": "code",
   "execution_count": 2,
   "id": "c6c06169",
   "metadata": {},
   "outputs": [
    {
     "data": {
      "text/plain": [
       "[44861, 44853, 44854, 44857, 44862, 44860, 44859, 44855, 44856, 44858, 44852]"
      ]
     },
     "execution_count": 2,
     "metadata": {},
     "output_type": "execute_result"
    }
   ],
   "source": [
    "l = get_location_metadata(location_set_id=1, gbd_round_id=6)\n",
    "subnationals = l.loc[l.parent_id==179]\n",
    "subnational_ids = list(subnationals.location_id.unique())\n",
    "subnational_ids"
   ]
  },
  {
   "cell_type": "code",
   "execution_count": 3,
   "id": "21095084",
   "metadata": {},
   "outputs": [
    {
     "data": {
      "text/plain": [
       "[179,\n",
       " 44861,\n",
       " 44853,\n",
       " 44854,\n",
       " 44857,\n",
       " 44862,\n",
       " 44860,\n",
       " 44859,\n",
       " 44855,\n",
       " 44856,\n",
       " 44858,\n",
       " 44852]"
      ]
     },
     "execution_count": 3,
     "metadata": {},
     "output_type": "execute_result"
    }
   ],
   "source": [
    "[179] + subnational_ids"
   ]
  },
  {
   "cell_type": "code",
   "execution_count": null,
   "id": "129ebeb0",
   "metadata": {
    "scrolled": true
   },
   "outputs": [],
   "source": [
    "df = get_draws(gbd_id_type='rei_id',\n",
    "                 gbd_id=240,\n",
    "                 source='exposure',\n",
    "                # year_id=[2012,2019],\n",
    "                 gbd_round_id=6,\n",
    "                 status='best',\n",
    "                 location_id = [179] + subnational_ids,\n",
    "                 decomp_step = 'step4')\n",
    "df = (df.loc[(df.parameter.isin(['cat1','cat2']))\n",
    "           &(df.age_group_id.isin([4,5]))]\n",
    "      .groupby(['location_id','year_id','sex_id','age_group_id']).sum())\n",
    "df = df.drop(columns=[c for c in df.columns if 'draw' not in c])\n",
    "df"
   ]
  },
  {
   "cell_type": "code",
   "execution_count": null,
   "id": "5cb79bc4",
   "metadata": {},
   "outputs": [],
   "source": [
    "pop = get_population(gbd_round_id=6,\n",
    "                    year_id=list(df.reset_index().year_id.unique()),\n",
    "                    location_id=[179] + subnational_ids,\n",
    "                    sex_id=[1,2],\n",
    "                    age_group_id=[4,5],\n",
    "                    decomp_step='step4')[['location_id','year_id','age_group_id','sex_id','population']]\n",
    "pop"
   ]
  },
  {
   "cell_type": "code",
   "execution_count": null,
   "id": "9d22acb9",
   "metadata": {},
   "outputs": [],
   "source": [
    "data = df.reset_index().merge(pop, on=['age_group_id','sex_id','location_id','year_id'])\n",
    "for i in list(range(0,1000)):\n",
    "    data[f'draw_{i}'] = data[f'draw_{i}'] * data.population\n",
    "data = data.groupby(['location_id','year_id']).sum()\n",
    "for i in list(range(0,1000)):\n",
    "    data[f'draw_{i}'] = data[f'draw_{i}'] / data.population\n",
    "data = (data.drop(columns=[c for c in data.columns if 'draw' not in c])\n",
    "        .apply(pd.DataFrame.describe, axis=1, percentiles=[0.025,0.975]))\n",
    "data"
   ]
  },
  {
   "cell_type": "code",
   "execution_count": null,
   "id": "6d32de79",
   "metadata": {},
   "outputs": [],
   "source": [
    "d = data.reset_index()\n",
    "d.loc[d.year_id==2010].sort_values(by='mean').merge(subnationals[['location_id','location_name']], on='location_id')"
   ]
  },
  {
   "cell_type": "code",
   "execution_count": 5,
   "id": "b8300eb0",
   "metadata": {},
   "outputs": [
    {
     "data": {
      "text/html": [
       "<div>\n",
       "<style scoped>\n",
       "    .dataframe tbody tr th:only-of-type {\n",
       "        vertical-align: middle;\n",
       "    }\n",
       "\n",
       "    .dataframe tbody tr th {\n",
       "        vertical-align: top;\n",
       "    }\n",
       "\n",
       "    .dataframe thead th {\n",
       "        text-align: right;\n",
       "    }\n",
       "</style>\n",
       "<table border=\"1\" class=\"dataframe\">\n",
       "  <thead>\n",
       "    <tr style=\"text-align: right;\">\n",
       "      <th></th>\n",
       "      <th>age_group_id</th>\n",
       "      <th>cause_id</th>\n",
       "      <th>location_id</th>\n",
       "      <th>measure_id</th>\n",
       "      <th>metric_id</th>\n",
       "      <th>rei_id</th>\n",
       "      <th>sex_id</th>\n",
       "      <th>year_id</th>\n",
       "      <th>acause</th>\n",
       "      <th>age_group_name</th>\n",
       "      <th>...</th>\n",
       "      <th>location_name</th>\n",
       "      <th>location_type</th>\n",
       "      <th>measure_name</th>\n",
       "      <th>metric_name</th>\n",
       "      <th>rei</th>\n",
       "      <th>rei_name</th>\n",
       "      <th>sex</th>\n",
       "      <th>val</th>\n",
       "      <th>upper</th>\n",
       "      <th>lower</th>\n",
       "    </tr>\n",
       "  </thead>\n",
       "  <tbody>\n",
       "    <tr>\n",
       "      <th>0</th>\n",
       "      <td>1</td>\n",
       "      <td>294</td>\n",
       "      <td>179</td>\n",
       "      <td>1</td>\n",
       "      <td>1</td>\n",
       "      <td>240</td>\n",
       "      <td>3</td>\n",
       "      <td>2019</td>\n",
       "      <td>_all</td>\n",
       "      <td>Under 5</td>\n",
       "      <td>...</td>\n",
       "      <td>Ethiopia</td>\n",
       "      <td>admin0</td>\n",
       "      <td>Deaths</td>\n",
       "      <td>Number</td>\n",
       "      <td>nutrition_wasting</td>\n",
       "      <td>Child wasting</td>\n",
       "      <td>Both</td>\n",
       "      <td>35488.721681</td>\n",
       "      <td>49945.866043</td>\n",
       "      <td>24738.812395</td>\n",
       "    </tr>\n",
       "  </tbody>\n",
       "</table>\n",
       "<p>1 rows × 22 columns</p>\n",
       "</div>"
      ],
      "text/plain": [
       "   age_group_id  cause_id  location_id  measure_id  metric_id  rei_id  sex_id  \\\n",
       "0             1       294          179           1          1     240       3   \n",
       "\n",
       "   year_id acause age_group_name  ... location_name  location_type  \\\n",
       "0     2019   _all        Under 5  ...      Ethiopia         admin0   \n",
       "\n",
       "  measure_name metric_name                rei       rei_name   sex  \\\n",
       "0       Deaths      Number  nutrition_wasting  Child wasting  Both   \n",
       "\n",
       "            val         upper         lower  \n",
       "0  35488.721681  49945.866043  24738.812395  \n",
       "\n",
       "[1 rows x 22 columns]"
      ]
     },
     "execution_count": 5,
     "metadata": {},
     "output_type": "execute_result"
    }
   ],
   "source": [
    "bur = get_outputs(gbd_round_id=6,\n",
    "                  year_id=2019,\n",
    "                  age_group_id=1,\n",
    "                  location_id=179,\n",
    "                  topic='rei',\n",
    "                  rei_id=240,\n",
    "                  decomp_step='step5')\n",
    "bur"
   ]
  },
  {
   "cell_type": "code",
   "execution_count": 6,
   "id": "30045d5f",
   "metadata": {},
   "outputs": [
    {
     "data": {
      "text/html": [
       "<div>\n",
       "<style scoped>\n",
       "    .dataframe tbody tr th:only-of-type {\n",
       "        vertical-align: middle;\n",
       "    }\n",
       "\n",
       "    .dataframe tbody tr th {\n",
       "        vertical-align: top;\n",
       "    }\n",
       "\n",
       "    .dataframe thead th {\n",
       "        text-align: right;\n",
       "    }\n",
       "</style>\n",
       "<table border=\"1\" class=\"dataframe\">\n",
       "  <thead>\n",
       "    <tr style=\"text-align: right;\">\n",
       "      <th></th>\n",
       "      <th>age_group_id</th>\n",
       "      <th>cause_id</th>\n",
       "      <th>location_id</th>\n",
       "      <th>measure_id</th>\n",
       "      <th>metric_id</th>\n",
       "      <th>sex_id</th>\n",
       "      <th>year_id</th>\n",
       "      <th>acause</th>\n",
       "      <th>age_group_name</th>\n",
       "      <th>cause_name</th>\n",
       "      <th>expected</th>\n",
       "      <th>location_name</th>\n",
       "      <th>location_type</th>\n",
       "      <th>measure_name</th>\n",
       "      <th>metric_name</th>\n",
       "      <th>sex</th>\n",
       "      <th>val</th>\n",
       "      <th>upper</th>\n",
       "      <th>lower</th>\n",
       "    </tr>\n",
       "  </thead>\n",
       "  <tbody>\n",
       "    <tr>\n",
       "      <th>0</th>\n",
       "      <td>1</td>\n",
       "      <td>294</td>\n",
       "      <td>179</td>\n",
       "      <td>1</td>\n",
       "      <td>1</td>\n",
       "      <td>3</td>\n",
       "      <td>2019</td>\n",
       "      <td>_all</td>\n",
       "      <td>Under 5</td>\n",
       "      <td>All causes</td>\n",
       "      <td>False</td>\n",
       "      <td>Ethiopia</td>\n",
       "      <td>admin0</td>\n",
       "      <td>Deaths</td>\n",
       "      <td>Number</td>\n",
       "      <td>Both</td>\n",
       "      <td>190172.915684</td>\n",
       "      <td>242574.96096</td>\n",
       "      <td>149788.722632</td>\n",
       "    </tr>\n",
       "  </tbody>\n",
       "</table>\n",
       "</div>"
      ],
      "text/plain": [
       "   age_group_id  cause_id  location_id  measure_id  metric_id  sex_id  \\\n",
       "0             1       294          179           1          1       3   \n",
       "\n",
       "   year_id acause age_group_name  cause_name  expected location_name  \\\n",
       "0     2019   _all        Under 5  All causes     False      Ethiopia   \n",
       "\n",
       "  location_type measure_name metric_name   sex            val         upper  \\\n",
       "0        admin0       Deaths      Number  Both  190172.915684  242574.96096   \n",
       "\n",
       "           lower  \n",
       "0  149788.722632  "
      ]
     },
     "execution_count": 6,
     "metadata": {},
     "output_type": "execute_result"
    }
   ],
   "source": [
    "dalys = get_outputs(gbd_round_id=6,\n",
    "                  year_id=2019,\n",
    "                  age_group_id=1,\n",
    "                  location_id=179,\n",
    "                  topic='cause',\n",
    "                  cause_id=294,\n",
    "                  decomp_step='step5')\n",
    "dalys"
   ]
  },
  {
   "cell_type": "code",
   "execution_count": 7,
   "id": "0ad8113f",
   "metadata": {},
   "outputs": [
    {
     "data": {
      "text/plain": [
       "0.1866129125346623"
      ]
     },
     "execution_count": 7,
     "metadata": {},
     "output_type": "execute_result"
    }
   ],
   "source": [
    "35488.721681 / 190172.915684"
   ]
  },
  {
   "cell_type": "code",
   "execution_count": null,
   "id": "8c9f54c3",
   "metadata": {},
   "outputs": [],
   "source": []
  }
 ],
 "metadata": {
  "kernelspec": {
   "display_name": "Python 3 (ipykernel)",
   "language": "python",
   "name": "python3"
  },
  "language_info": {
   "codemirror_mode": {
    "name": "ipython",
    "version": 3
   },
   "file_extension": ".py",
   "mimetype": "text/x-python",
   "name": "python",
   "nbconvert_exporter": "python",
   "pygments_lexer": "ipython3",
   "version": "3.7.13"
  }
 },
 "nbformat": 4,
 "nbformat_minor": 5
}
