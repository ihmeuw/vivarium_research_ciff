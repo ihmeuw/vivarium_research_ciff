{
 "cells": [
  {
   "cell_type": "code",
   "execution_count": 1,
   "id": "a6fdd02e",
   "metadata": {},
   "outputs": [
    {
     "data": {
      "text/html": [
       "<style>.container { width:100% !important; }</style>"
      ],
      "text/plain": [
       "<IPython.core.display.HTML object>"
      ]
     },
     "metadata": {},
     "output_type": "display_data"
    }
   ],
   "source": [
    "from IPython.core.display import display, HTML\n",
    "#makes the display bars longer and spread out 100% across the screen width\n",
    "display(HTML(\"<style>.container { width:100% !important; }</style>\"))"
   ]
  },
  {
   "cell_type": "code",
   "execution_count": 2,
   "id": "c5b2cf36",
   "metadata": {},
   "outputs": [
    {
     "name": "stdout",
     "output_type": "stream",
     "text": [
      "/ihme/homes/ndbs/vivarium_research_ciff_sam/nathaniel/scratch__gitignore__\n",
      "ndbs\n",
      "Fri Jul 30 14:31:21 PDT 2021\n"
     ]
    }
   ],
   "source": [
    "%matplotlib inline\n",
    "import matplotlib.pyplot as plt\n",
    "import numpy as np\n",
    "import pandas as pd\n",
    "pd.set_option('display.max_rows', 8)\n",
    "\n",
    "import warnings\n",
    "warnings.filterwarnings('ignore')\n",
    "from matplotlib.backends.backend_pdf import PdfPages\n",
    "\n",
    "# Add the repo directory vivarium_research_ciff_sam/ to sys.path\n",
    "import os, sys\n",
    "repo_path = os.path.abspath('../..')\n",
    "sys.path.append(repo_path)\n",
    "# Assumes vivarium_research_ciff_sam/ is in sys.path\n",
    "import nathaniel.model_validation.vivarium_output_loader as vol\n",
    "import nathaniel.model_validation.ciff_output_processing as cop\n",
    "\n",
    "!pwd\n",
    "!whoami\n",
    "!date"
   ]
  },
  {
   "cell_type": "code",
   "execution_count": 3,
   "id": "38f852fa",
   "metadata": {},
   "outputs": [],
   "source": [
    "%load_ext autoreload\n",
    "%autoreload 2"
   ]
  },
  {
   "cell_type": "code",
   "execution_count": 4,
   "id": "2185e9ec",
   "metadata": {},
   "outputs": [
    {
     "name": "stdout",
     "output_type": "stream",
     "text": [
      "v2.1_gbd_2020_wasting  v2.3_wasting_birth_prevalence\r\n"
     ]
    }
   ],
   "source": [
    "!ls /ihme/homes/ndbs/vivarium_results/ciff_malnutrition/verification_and_validation/"
   ]
  },
  {
   "cell_type": "code",
   "execution_count": 5,
   "id": "42e1db0a",
   "metadata": {},
   "outputs": [
    {
     "data": {
      "text/plain": [
       "'/ihme/homes/ndbs/vivarium_research_ciff_sam/nathaniel/scratch__gitignore__/~/vivarium_results'"
      ]
     },
     "execution_count": 5,
     "metadata": {},
     "output_type": "execute_result"
    }
   ],
   "source": [
    "os.path.abspath('~/vivarium_results')"
   ]
  },
  {
   "cell_type": "markdown",
   "id": "feee2775",
   "metadata": {},
   "source": [
    "# Define directories"
   ]
  },
  {
   "cell_type": "code",
   "execution_count": 6,
   "id": "0378a977",
   "metadata": {},
   "outputs": [],
   "source": [
    "# sim results path:\n",
    "# /ihme/costeffectiveness/results/vivarium_ciff_sam/v2.3_wasting_birth_prevalence/ciff_sam/2021_07_26_17_14_31/count_data\n",
    "\n",
    "project_results_dir = '/ihme/costeffectiveness/results/vivarium_ciff_sam'\n",
    "model_name = 'v2.3_wasting_birth_prevalence'\n",
    "model_timestamp = '2021_07_26_17_14_31'\n",
    "\n",
    "model_count_data_dir = f'{project_results_dir}/{model_name}/ciff_sam/{model_timestamp}/count_data/'\n",
    "\n",
    "project_vv_directory_name = 'ciff_malnutrition/verification_and_validation'\n",
    "username = 'ndbs'\n",
    "\n",
    "output_dir = f'/ihme/homes/{username}/vivarium_results/{project_vv_directory_name}/{model_name}'\n",
    "\n",
    "share_output_dir = f'/share/scratch/users/ndbs/vivarium_results/{project_vv_directory_name}/{model_name}'\n",
    "j_output_dir = f'/home/j/Project/simulation_science/{project_vv_directory_name}/{model_name}'"
   ]
  },
  {
   "cell_type": "markdown",
   "id": "9bc29c84",
   "metadata": {},
   "source": [
    "# Load transformed count data"
   ]
  },
  {
   "cell_type": "code",
   "execution_count": 7,
   "id": "337df017",
   "metadata": {},
   "outputs": [
    {
     "data": {
      "text/plain": [
       "dict_keys(['wasting_transition_count', 'wasting_state_person_time', 'deaths', 'population', 'ylls', 'ylds', 'disease_state_person_time', 'disease_transition_count'])"
      ]
     },
     "execution_count": 7,
     "metadata": {},
     "output_type": "execute_result"
    }
   ],
   "source": [
    "data = vol.load_transformed_count_data(model_count_data_dir)\n",
    "data.keys()"
   ]
  },
  {
   "cell_type": "markdown",
   "id": "9749f450",
   "metadata": {},
   "source": [
    "# Write a small class to wrap the count data dictionary and provide more convenient access via attributes"
   ]
  },
  {
   "cell_type": "code",
   "execution_count": 8,
   "id": "fc13de3f",
   "metadata": {},
   "outputs": [
    {
     "name": "stdout",
     "output_type": "stream",
     "text": [
      "False\n"
     ]
    },
    {
     "data": {
      "text/plain": [
       "['wasting_transition_count',\n",
       " 'wasting_state_person_time',\n",
       " 'deaths',\n",
       " 'population',\n",
       " 'ylls',\n",
       " 'ylds',\n",
       " 'disease_state_person_time',\n",
       " 'disease_transition_count']"
      ]
     },
     "execution_count": 8,
     "metadata": {},
     "output_type": "execute_result"
    }
   ],
   "source": [
    "class VivariumCountData:\n",
    "    def __init__(self, table_dict):\n",
    "        for table_name, table in table_dict.items():\n",
    "            setattr(self, table_name, table)\n",
    "    \n",
    "    def to_dict(self):\n",
    "        return dict(self.__dict__)\n",
    "    \n",
    "    def __getitem__(self, key):\n",
    "        return self.__dict__[key]\n",
    "    \n",
    "    def table_names(self):\n",
    "        return list(self.__dict__.keys())\n",
    "\n",
    "d = VivariumCountData(data)\n",
    "print(d.__dict__ is d.to_dict())\n",
    "d.table_names()"
   ]
  },
  {
   "cell_type": "code",
   "execution_count": 9,
   "id": "d0ef3756",
   "metadata": {},
   "outputs": [
    {
     "data": {
      "text/plain": [
       "dict_keys(['wasting_transition_count', 'wasting_state_person_time', 'deaths', 'population', 'ylls', 'ylds', 'disease_state_person_time', 'disease_transition_count'])"
      ]
     },
     "execution_count": 9,
     "metadata": {},
     "output_type": "execute_result"
    }
   ],
   "source": [
    "d.to_dict().keys()"
   ]
  },
  {
   "cell_type": "markdown",
   "id": "6475d87f",
   "metadata": {},
   "source": [
    "# Alternate version of class to store Vivarium count data"
   ]
  },
  {
   "cell_type": "code",
   "execution_count": 61,
   "id": "fff606f1",
   "metadata": {},
   "outputs": [
    {
     "data": {
      "text/plain": [
       "['wasting_transition_count',\n",
       " 'wasting_state_person_time',\n",
       " 'deaths',\n",
       " 'population',\n",
       " 'ylls',\n",
       " 'ylds',\n",
       " 'disease_state_person_time',\n",
       " 'disease_transition_count']"
      ]
     },
     "execution_count": 61,
     "metadata": {},
     "output_type": "execute_result"
    }
   ],
   "source": [
    "class CountDataDict(dict):\n",
    "    def __init__(self, *args, **kwargs):\n",
    "        super().__init__(*args, **kwargs)\n",
    "        for key, value in self.items():\n",
    "            setattr(self, key, value)\n",
    "            \n",
    "    def __setattr__(self, key, value):  \n",
    "        super().__setattr__(key, value)\n",
    "        if key not in self: # if statement needed to avoid infinite recursion...\n",
    "            self[key] = value\n",
    "    \n",
    "    def __setitem__(self, key, value):\n",
    "        super().__setitem__(key, value)\n",
    "        setattr(self, key, value)\n",
    "    \n",
    "    def table_names(self):\n",
    "        return list(self.keys())\n",
    "\n",
    "c = CountDataDict(data)\n",
    "c.table_names()"
   ]
  },
  {
   "cell_type": "code",
   "execution_count": 62,
   "id": "d4cdc120",
   "metadata": {},
   "outputs": [
    {
     "data": {
      "text/plain": [
       "dict_keys(['wasting_transition_count', 'wasting_state_person_time', 'deaths', 'population', 'ylls', 'ylds', 'disease_state_person_time', 'disease_transition_count'])"
      ]
     },
     "execution_count": 62,
     "metadata": {},
     "output_type": "execute_result"
    }
   ],
   "source": [
    "c.__dict__.keys()"
   ]
  },
  {
   "cell_type": "code",
   "execution_count": 63,
   "id": "beb96765",
   "metadata": {},
   "outputs": [
    {
     "data": {
      "text/plain": [
       "dict_keys(['wasting_transition_count', 'wasting_state_person_time', 'deaths', 'population', 'ylls', 'ylds', 'disease_state_person_time', 'disease_transition_count'])"
      ]
     },
     "execution_count": 63,
     "metadata": {},
     "output_type": "execute_result"
    }
   ],
   "source": [
    "c.keys()"
   ]
  },
  {
   "cell_type": "code",
   "execution_count": 64,
   "id": "f815c182",
   "metadata": {},
   "outputs": [
    {
     "data": {
      "text/plain": [
       "['__class__',\n",
       " '__contains__',\n",
       " '__delattr__',\n",
       " '__delitem__',\n",
       " '__dict__',\n",
       " '__dir__',\n",
       " '__doc__',\n",
       " '__eq__',\n",
       " '__format__',\n",
       " '__ge__',\n",
       " '__getattribute__',\n",
       " '__getitem__',\n",
       " '__gt__',\n",
       " '__hash__',\n",
       " '__init__',\n",
       " '__init_subclass__',\n",
       " '__iter__',\n",
       " '__le__',\n",
       " '__len__',\n",
       " '__lt__',\n",
       " '__module__',\n",
       " '__ne__',\n",
       " '__new__',\n",
       " '__reduce__',\n",
       " '__reduce_ex__',\n",
       " '__repr__',\n",
       " '__reversed__',\n",
       " '__setattr__',\n",
       " '__setitem__',\n",
       " '__sizeof__',\n",
       " '__str__',\n",
       " '__subclasshook__',\n",
       " '__weakref__',\n",
       " 'clear',\n",
       " 'copy',\n",
       " 'deaths',\n",
       " 'disease_state_person_time',\n",
       " 'disease_transition_count',\n",
       " 'fromkeys',\n",
       " 'get',\n",
       " 'items',\n",
       " 'keys',\n",
       " 'pop',\n",
       " 'popitem',\n",
       " 'population',\n",
       " 'setdefault',\n",
       " 'table_names',\n",
       " 'update',\n",
       " 'values',\n",
       " 'wasting_state_person_time',\n",
       " 'wasting_transition_count',\n",
       " 'ylds',\n",
       " 'ylls']"
      ]
     },
     "execution_count": 64,
     "metadata": {},
     "output_type": "execute_result"
    }
   ],
   "source": [
    "dir(c)"
   ]
  },
  {
   "cell_type": "code",
   "execution_count": 65,
   "id": "ac90ef59",
   "metadata": {},
   "outputs": [
    {
     "data": {
      "text/html": [
       "<div>\n",
       "<style scoped>\n",
       "    .dataframe tbody tr th:only-of-type {\n",
       "        vertical-align: middle;\n",
       "    }\n",
       "\n",
       "    .dataframe tbody tr th {\n",
       "        vertical-align: top;\n",
       "    }\n",
       "\n",
       "    .dataframe thead th {\n",
       "        text-align: right;\n",
       "    }\n",
       "</style>\n",
       "<table border=\"1\" class=\"dataframe\">\n",
       "  <thead>\n",
       "    <tr style=\"text-align: right;\">\n",
       "      <th></th>\n",
       "      <th>sex</th>\n",
       "      <th>year</th>\n",
       "      <th>cause</th>\n",
       "      <th>measure</th>\n",
       "      <th>input_draw</th>\n",
       "      <th>scenario</th>\n",
       "      <th>value</th>\n",
       "      <th>wasting_state</th>\n",
       "      <th>age</th>\n",
       "    </tr>\n",
       "  </thead>\n",
       "  <tbody>\n",
       "    <tr>\n",
       "      <th>0</th>\n",
       "      <td>female</td>\n",
       "      <td>2022</td>\n",
       "      <td>diarrheal_diseases</td>\n",
       "      <td>ylls</td>\n",
       "      <td>29</td>\n",
       "      <td>baseline</td>\n",
       "      <td>88.871895</td>\n",
       "      <td>susceptible_to_child_wasting</td>\n",
       "      <td>early_neonatal</td>\n",
       "    </tr>\n",
       "    <tr>\n",
       "      <th>1</th>\n",
       "      <td>female</td>\n",
       "      <td>2022</td>\n",
       "      <td>diarrheal_diseases</td>\n",
       "      <td>ylls</td>\n",
       "      <td>29</td>\n",
       "      <td>baseline</td>\n",
       "      <td>0.000000</td>\n",
       "      <td>mild_child_wasting</td>\n",
       "      <td>early_neonatal</td>\n",
       "    </tr>\n",
       "    <tr>\n",
       "      <th>2</th>\n",
       "      <td>female</td>\n",
       "      <td>2022</td>\n",
       "      <td>diarrheal_diseases</td>\n",
       "      <td>ylls</td>\n",
       "      <td>29</td>\n",
       "      <td>baseline</td>\n",
       "      <td>0.000000</td>\n",
       "      <td>moderate_acute_malnutrition</td>\n",
       "      <td>early_neonatal</td>\n",
       "    </tr>\n",
       "    <tr>\n",
       "      <th>3</th>\n",
       "      <td>female</td>\n",
       "      <td>2022</td>\n",
       "      <td>diarrheal_diseases</td>\n",
       "      <td>ylls</td>\n",
       "      <td>29</td>\n",
       "      <td>baseline</td>\n",
       "      <td>0.000000</td>\n",
       "      <td>severe_acute_malnutrition</td>\n",
       "      <td>early_neonatal</td>\n",
       "    </tr>\n",
       "    <tr>\n",
       "      <th>...</th>\n",
       "      <td>...</td>\n",
       "      <td>...</td>\n",
       "      <td>...</td>\n",
       "      <td>...</td>\n",
       "      <td>...</td>\n",
       "      <td>...</td>\n",
       "      <td>...</td>\n",
       "      <td>...</td>\n",
       "      <td>...</td>\n",
       "    </tr>\n",
       "    <tr>\n",
       "      <th>17276</th>\n",
       "      <td>male</td>\n",
       "      <td>2026</td>\n",
       "      <td>severe_acute_malnutrition</td>\n",
       "      <td>ylls</td>\n",
       "      <td>946</td>\n",
       "      <td>baseline</td>\n",
       "      <td>0.000000</td>\n",
       "      <td>susceptible_to_child_wasting</td>\n",
       "      <td>2_to_4</td>\n",
       "    </tr>\n",
       "    <tr>\n",
       "      <th>17277</th>\n",
       "      <td>male</td>\n",
       "      <td>2026</td>\n",
       "      <td>severe_acute_malnutrition</td>\n",
       "      <td>ylls</td>\n",
       "      <td>946</td>\n",
       "      <td>baseline</td>\n",
       "      <td>0.000000</td>\n",
       "      <td>mild_child_wasting</td>\n",
       "      <td>2_to_4</td>\n",
       "    </tr>\n",
       "    <tr>\n",
       "      <th>17278</th>\n",
       "      <td>male</td>\n",
       "      <td>2026</td>\n",
       "      <td>severe_acute_malnutrition</td>\n",
       "      <td>ylls</td>\n",
       "      <td>946</td>\n",
       "      <td>baseline</td>\n",
       "      <td>0.000000</td>\n",
       "      <td>moderate_acute_malnutrition</td>\n",
       "      <td>2_to_4</td>\n",
       "    </tr>\n",
       "    <tr>\n",
       "      <th>17279</th>\n",
       "      <td>male</td>\n",
       "      <td>2026</td>\n",
       "      <td>severe_acute_malnutrition</td>\n",
       "      <td>ylls</td>\n",
       "      <td>946</td>\n",
       "      <td>baseline</td>\n",
       "      <td>0.000000</td>\n",
       "      <td>severe_acute_malnutrition</td>\n",
       "      <td>2_to_4</td>\n",
       "    </tr>\n",
       "  </tbody>\n",
       "</table>\n",
       "<p>17280 rows × 9 columns</p>\n",
       "</div>"
      ],
      "text/plain": [
       "          sex  year                      cause measure  input_draw  scenario  \\\n",
       "0      female  2022         diarrheal_diseases    ylls          29  baseline   \n",
       "1      female  2022         diarrheal_diseases    ylls          29  baseline   \n",
       "2      female  2022         diarrheal_diseases    ylls          29  baseline   \n",
       "3      female  2022         diarrheal_diseases    ylls          29  baseline   \n",
       "...       ...   ...                        ...     ...         ...       ...   \n",
       "17276    male  2026  severe_acute_malnutrition    ylls         946  baseline   \n",
       "17277    male  2026  severe_acute_malnutrition    ylls         946  baseline   \n",
       "17278    male  2026  severe_acute_malnutrition    ylls         946  baseline   \n",
       "17279    male  2026  severe_acute_malnutrition    ylls         946  baseline   \n",
       "\n",
       "           value                 wasting_state             age  \n",
       "0      88.871895  susceptible_to_child_wasting  early_neonatal  \n",
       "1       0.000000            mild_child_wasting  early_neonatal  \n",
       "2       0.000000   moderate_acute_malnutrition  early_neonatal  \n",
       "3       0.000000     severe_acute_malnutrition  early_neonatal  \n",
       "...          ...                           ...             ...  \n",
       "17276   0.000000  susceptible_to_child_wasting          2_to_4  \n",
       "17277   0.000000            mild_child_wasting          2_to_4  \n",
       "17278   0.000000   moderate_acute_malnutrition          2_to_4  \n",
       "17279   0.000000     severe_acute_malnutrition          2_to_4  \n",
       "\n",
       "[17280 rows x 9 columns]"
      ]
     },
     "execution_count": 65,
     "metadata": {},
     "output_type": "execute_result"
    }
   ],
   "source": [
    "c.ylls"
   ]
  },
  {
   "cell_type": "code",
   "execution_count": 66,
   "id": "0119513d",
   "metadata": {},
   "outputs": [
    {
     "data": {
      "text/plain": [
       "['wasting_transition_count',\n",
       " 'wasting_state_person_time',\n",
       " 'deaths',\n",
       " 'population',\n",
       " 'ylls',\n",
       " 'ylds',\n",
       " 'disease_state_person_time',\n",
       " 'disease_transition_count',\n",
       " 'empty_table']"
      ]
     },
     "execution_count": 66,
     "metadata": {},
     "output_type": "execute_result"
    }
   ],
   "source": [
    "c['empty_table'] = pd.DataFrame()\n",
    "c.table_names()"
   ]
  },
  {
   "cell_type": "raw",
   "id": "13056b54",
   "metadata": {},
   "source": [
    "Fails with TypeError:\n",
    "\n",
    "---------------------------------------------------------------------------\n",
    "TypeError                                 Traceback (most recent call last)\n",
    "/tmp/ipykernel_2192029/3625460883.py in <module>\n",
    "----> 1 c[1] = pd.DataFrame()\n",
    "\n",
    "/tmp/ipykernel_2192029/4181879029.py in __setitem__(self, key, value)\n",
    "     12     def __setitem__(self, key, value):\n",
    "     13         super().__setitem__(key, value)\n",
    "---> 14         setattr(self, key, value)\n",
    "     15 \n",
    "     16     def table_names(self):\n",
    "\n",
    "TypeError: attribute name must be string, not 'int'\n",
    "\n",
    "\n",
    "c[1] = pd.DataFrame()"
   ]
  },
  {
   "cell_type": "code",
   "execution_count": 68,
   "id": "3b2d75f3",
   "metadata": {},
   "outputs": [],
   "source": [
    "# Hmm, this doesn't work -- 'yak' doesn't get recorded in self.keys()\n",
    "# Ok, now it works after I implemented __setattr__\n",
    "c.yak = 2"
   ]
  },
  {
   "cell_type": "code",
   "execution_count": 69,
   "id": "6efa52b8",
   "metadata": {},
   "outputs": [
    {
     "data": {
      "text/plain": [
       "2"
      ]
     },
     "execution_count": 69,
     "metadata": {},
     "output_type": "execute_result"
    }
   ],
   "source": [
    "c['yak']"
   ]
  },
  {
   "cell_type": "code",
   "execution_count": 70,
   "id": "fa3fd0da",
   "metadata": {},
   "outputs": [
    {
     "data": {
      "text/plain": [
       "['wasting_transition_count',\n",
       " 'wasting_state_person_time',\n",
       " 'deaths',\n",
       " 'population',\n",
       " 'ylls',\n",
       " 'ylds',\n",
       " 'disease_state_person_time',\n",
       " 'disease_transition_count',\n",
       " 'empty_table',\n",
       " 1,\n",
       " 'yak']"
      ]
     },
     "execution_count": 70,
     "metadata": {},
     "output_type": "execute_result"
    }
   ],
   "source": [
    "# However, the bad key 1 made it into our keys() before the failure. Not good.\n",
    "c.table_names()"
   ]
  },
  {
   "cell_type": "code",
   "execution_count": 74,
   "id": "511244c9",
   "metadata": {},
   "outputs": [
    {
     "data": {
      "text/html": [
       "<div>\n",
       "<style scoped>\n",
       "    .dataframe tbody tr th:only-of-type {\n",
       "        vertical-align: middle;\n",
       "    }\n",
       "\n",
       "    .dataframe tbody tr th {\n",
       "        vertical-align: top;\n",
       "    }\n",
       "\n",
       "    .dataframe thead th {\n",
       "        text-align: right;\n",
       "    }\n",
       "</style>\n",
       "<table border=\"1\" class=\"dataframe\">\n",
       "  <thead>\n",
       "    <tr style=\"text-align: right;\">\n",
       "      <th></th>\n",
       "    </tr>\n",
       "  </thead>\n",
       "  <tbody>\n",
       "  </tbody>\n",
       "</table>\n",
       "</div>"
      ],
      "text/plain": [
       "Empty DataFrame\n",
       "Columns: []\n",
       "Index: []"
      ]
     },
     "execution_count": 74,
     "metadata": {},
     "output_type": "execute_result"
    }
   ],
   "source": [
    "c[1]"
   ]
  },
  {
   "cell_type": "code",
   "execution_count": 75,
   "id": "3b1f2d2f",
   "metadata": {},
   "outputs": [
    {
     "data": {
      "text/plain": [
       "pandas.core.frame.DataFrame"
      ]
     },
     "execution_count": 75,
     "metadata": {},
     "output_type": "execute_result"
    }
   ],
   "source": [
    "type(c[1])"
   ]
  },
  {
   "cell_type": "code",
   "execution_count": 71,
   "id": "cf889782",
   "metadata": {},
   "outputs": [
    {
     "data": {
      "text/plain": [
       "['__class__',\n",
       " '__contains__',\n",
       " '__delattr__',\n",
       " '__delitem__',\n",
       " '__dict__',\n",
       " '__dir__',\n",
       " '__doc__',\n",
       " '__eq__',\n",
       " '__format__',\n",
       " '__ge__',\n",
       " '__getattribute__',\n",
       " '__getitem__',\n",
       " '__gt__',\n",
       " '__hash__',\n",
       " '__init__',\n",
       " '__init_subclass__',\n",
       " '__iter__',\n",
       " '__le__',\n",
       " '__len__',\n",
       " '__lt__',\n",
       " '__module__',\n",
       " '__ne__',\n",
       " '__new__',\n",
       " '__reduce__',\n",
       " '__reduce_ex__',\n",
       " '__repr__',\n",
       " '__reversed__',\n",
       " '__setattr__',\n",
       " '__setitem__',\n",
       " '__sizeof__',\n",
       " '__str__',\n",
       " '__subclasshook__',\n",
       " '__weakref__',\n",
       " 'clear',\n",
       " 'copy',\n",
       " 'deaths',\n",
       " 'disease_state_person_time',\n",
       " 'disease_transition_count',\n",
       " 'empty_table',\n",
       " 'fromkeys',\n",
       " 'get',\n",
       " 'items',\n",
       " 'keys',\n",
       " 'pop',\n",
       " 'popitem',\n",
       " 'population',\n",
       " 'setdefault',\n",
       " 'table_names',\n",
       " 'update',\n",
       " 'values',\n",
       " 'wasting_state_person_time',\n",
       " 'wasting_transition_count',\n",
       " 'yak',\n",
       " 'ylds',\n",
       " 'ylls']"
      ]
     },
     "execution_count": 71,
     "metadata": {},
     "output_type": "execute_result"
    }
   ],
   "source": [
    "dir(c)"
   ]
  },
  {
   "cell_type": "code",
   "execution_count": 26,
   "id": "db949dee",
   "metadata": {},
   "outputs": [
    {
     "data": {
      "text/plain": [
       "dict_keys(['wasting_transition_count', 'wasting_state_person_time', 'deaths', 'population', 'ylls', 'ylds', 'disease_state_person_time', 'disease_transition_count', 'empty_table', 'yak'])"
      ]
     },
     "execution_count": 26,
     "metadata": {},
     "output_type": "execute_result"
    }
   ],
   "source": [
    "c.__dict__.keys()"
   ]
  },
  {
   "cell_type": "code",
   "execution_count": 76,
   "id": "7640438c",
   "metadata": {},
   "outputs": [
    {
     "name": "stdout",
     "output_type": "stream",
     "text": [
      "False\n"
     ]
    },
    {
     "data": {
      "text/plain": [
       "['wasting_transition_count',\n",
       " 'wasting_state_person_time',\n",
       " 'deaths',\n",
       " 'population',\n",
       " 'ylls',\n",
       " 'ylds',\n",
       " 'disease_state_person_time',\n",
       " 'disease_transition_count']"
      ]
     },
     "execution_count": 76,
     "metadata": {},
     "output_type": "execute_result"
    }
   ],
   "source": [
    "import collections\n",
    "\n",
    "class CountData2(collections.abc.MutableMapping):\n",
    "    def __init__(self, table_dict):\n",
    "        self.__dict__ = dict(table_dict)\n",
    "#         for table_name, table in table_dict.items():\n",
    "#             self[table_name] = table\n",
    "    \n",
    "#     def __setattr(self, key, value):\n",
    "#         if not isinstance(value, pd.DataFrame):\n",
    "#             raise TypeError(f\"Only DataFrames are allowed in CountData. You provided {type(value)}\")\n",
    "#         super().__setattr__(key, value)\n",
    "    \n",
    "    def __setitem__(self, key, value):\n",
    "        setattr(self, key, value)\n",
    "        \n",
    "    def __delitem__(self, key):\n",
    "        del self.key\n",
    "    \n",
    "    def __getitem__(self, key):\n",
    "        return self.__dict__[key]\n",
    "    \n",
    "    def __iter__(self):\n",
    "        return iter(self.__dict__)\n",
    "    \n",
    "    def __len__(self):\n",
    "        return len(self.__dict__)\n",
    "    \n",
    "    def to_dict(self):\n",
    "        # return dict(self) # this also works since we implement Mapping\n",
    "        return dict(self.__dict__)\n",
    "    \n",
    "    def table_names(self):\n",
    "        return list(self.keys())\n",
    "\n",
    "cd2 = CountData2(data)\n",
    "print(cd2.__dict__ is cd2.to_dict())\n",
    "cd2.table_names()"
   ]
  },
  {
   "cell_type": "code",
   "execution_count": 82,
   "id": "103ceb0e",
   "metadata": {},
   "outputs": [
    {
     "data": {
      "text/html": [
       "<div>\n",
       "<style scoped>\n",
       "    .dataframe tbody tr th:only-of-type {\n",
       "        vertical-align: middle;\n",
       "    }\n",
       "\n",
       "    .dataframe tbody tr th {\n",
       "        vertical-align: top;\n",
       "    }\n",
       "\n",
       "    .dataframe thead th {\n",
       "        text-align: right;\n",
       "    }\n",
       "</style>\n",
       "<table border=\"1\" class=\"dataframe\">\n",
       "  <thead>\n",
       "    <tr style=\"text-align: right;\">\n",
       "      <th></th>\n",
       "      <th>sex</th>\n",
       "      <th>year</th>\n",
       "      <th>cause</th>\n",
       "      <th>measure</th>\n",
       "      <th>input_draw</th>\n",
       "      <th>scenario</th>\n",
       "      <th>value</th>\n",
       "      <th>wasting_state</th>\n",
       "      <th>age</th>\n",
       "    </tr>\n",
       "  </thead>\n",
       "  <tbody>\n",
       "    <tr>\n",
       "      <th>0</th>\n",
       "      <td>female</td>\n",
       "      <td>2022</td>\n",
       "      <td>diarrheal_diseases</td>\n",
       "      <td>death</td>\n",
       "      <td>29</td>\n",
       "      <td>baseline</td>\n",
       "      <td>1.0</td>\n",
       "      <td>susceptible_to_child_wasting</td>\n",
       "      <td>early_neonatal</td>\n",
       "    </tr>\n",
       "    <tr>\n",
       "      <th>1</th>\n",
       "      <td>female</td>\n",
       "      <td>2022</td>\n",
       "      <td>diarrheal_diseases</td>\n",
       "      <td>death</td>\n",
       "      <td>29</td>\n",
       "      <td>baseline</td>\n",
       "      <td>0.0</td>\n",
       "      <td>mild_child_wasting</td>\n",
       "      <td>early_neonatal</td>\n",
       "    </tr>\n",
       "    <tr>\n",
       "      <th>2</th>\n",
       "      <td>female</td>\n",
       "      <td>2022</td>\n",
       "      <td>diarrheal_diseases</td>\n",
       "      <td>death</td>\n",
       "      <td>29</td>\n",
       "      <td>baseline</td>\n",
       "      <td>0.0</td>\n",
       "      <td>moderate_acute_malnutrition</td>\n",
       "      <td>early_neonatal</td>\n",
       "    </tr>\n",
       "    <tr>\n",
       "      <th>3</th>\n",
       "      <td>female</td>\n",
       "      <td>2022</td>\n",
       "      <td>diarrheal_diseases</td>\n",
       "      <td>death</td>\n",
       "      <td>29</td>\n",
       "      <td>baseline</td>\n",
       "      <td>0.0</td>\n",
       "      <td>severe_acute_malnutrition</td>\n",
       "      <td>early_neonatal</td>\n",
       "    </tr>\n",
       "    <tr>\n",
       "      <th>...</th>\n",
       "      <td>...</td>\n",
       "      <td>...</td>\n",
       "      <td>...</td>\n",
       "      <td>...</td>\n",
       "      <td>...</td>\n",
       "      <td>...</td>\n",
       "      <td>...</td>\n",
       "      <td>...</td>\n",
       "      <td>...</td>\n",
       "    </tr>\n",
       "    <tr>\n",
       "      <th>17276</th>\n",
       "      <td>male</td>\n",
       "      <td>2026</td>\n",
       "      <td>severe_acute_malnutrition</td>\n",
       "      <td>death</td>\n",
       "      <td>946</td>\n",
       "      <td>baseline</td>\n",
       "      <td>0.0</td>\n",
       "      <td>susceptible_to_child_wasting</td>\n",
       "      <td>2_to_4</td>\n",
       "    </tr>\n",
       "    <tr>\n",
       "      <th>17277</th>\n",
       "      <td>male</td>\n",
       "      <td>2026</td>\n",
       "      <td>severe_acute_malnutrition</td>\n",
       "      <td>death</td>\n",
       "      <td>946</td>\n",
       "      <td>baseline</td>\n",
       "      <td>0.0</td>\n",
       "      <td>mild_child_wasting</td>\n",
       "      <td>2_to_4</td>\n",
       "    </tr>\n",
       "    <tr>\n",
       "      <th>17278</th>\n",
       "      <td>male</td>\n",
       "      <td>2026</td>\n",
       "      <td>severe_acute_malnutrition</td>\n",
       "      <td>death</td>\n",
       "      <td>946</td>\n",
       "      <td>baseline</td>\n",
       "      <td>0.0</td>\n",
       "      <td>moderate_acute_malnutrition</td>\n",
       "      <td>2_to_4</td>\n",
       "    </tr>\n",
       "    <tr>\n",
       "      <th>17279</th>\n",
       "      <td>male</td>\n",
       "      <td>2026</td>\n",
       "      <td>severe_acute_malnutrition</td>\n",
       "      <td>death</td>\n",
       "      <td>946</td>\n",
       "      <td>baseline</td>\n",
       "      <td>0.0</td>\n",
       "      <td>severe_acute_malnutrition</td>\n",
       "      <td>2_to_4</td>\n",
       "    </tr>\n",
       "  </tbody>\n",
       "</table>\n",
       "<p>17280 rows × 9 columns</p>\n",
       "</div>"
      ],
      "text/plain": [
       "          sex  year                      cause measure  input_draw  scenario  \\\n",
       "0      female  2022         diarrheal_diseases   death          29  baseline   \n",
       "1      female  2022         diarrheal_diseases   death          29  baseline   \n",
       "2      female  2022         diarrheal_diseases   death          29  baseline   \n",
       "3      female  2022         diarrheal_diseases   death          29  baseline   \n",
       "...       ...   ...                        ...     ...         ...       ...   \n",
       "17276    male  2026  severe_acute_malnutrition   death         946  baseline   \n",
       "17277    male  2026  severe_acute_malnutrition   death         946  baseline   \n",
       "17278    male  2026  severe_acute_malnutrition   death         946  baseline   \n",
       "17279    male  2026  severe_acute_malnutrition   death         946  baseline   \n",
       "\n",
       "       value                 wasting_state             age  \n",
       "0        1.0  susceptible_to_child_wasting  early_neonatal  \n",
       "1        0.0            mild_child_wasting  early_neonatal  \n",
       "2        0.0   moderate_acute_malnutrition  early_neonatal  \n",
       "3        0.0     severe_acute_malnutrition  early_neonatal  \n",
       "...      ...                           ...             ...  \n",
       "17276    0.0  susceptible_to_child_wasting          2_to_4  \n",
       "17277    0.0            mild_child_wasting          2_to_4  \n",
       "17278    0.0   moderate_acute_malnutrition          2_to_4  \n",
       "17279    0.0     severe_acute_malnutrition          2_to_4  \n",
       "\n",
       "[17280 rows x 9 columns]"
      ]
     },
     "execution_count": 82,
     "metadata": {},
     "output_type": "execute_result"
    }
   ],
   "source": [
    "cd2.deaths"
   ]
  },
  {
   "cell_type": "code",
   "execution_count": 77,
   "id": "ced6d893",
   "metadata": {},
   "outputs": [],
   "source": [
    "cd2.empty_table = pd.DataFrame()"
   ]
  },
  {
   "cell_type": "code",
   "execution_count": 78,
   "id": "29a1632c",
   "metadata": {},
   "outputs": [
    {
     "data": {
      "text/plain": [
       "['wasting_transition_count',\n",
       " 'wasting_state_person_time',\n",
       " 'deaths',\n",
       " 'population',\n",
       " 'ylls',\n",
       " 'ylds',\n",
       " 'disease_state_person_time',\n",
       " 'disease_transition_count',\n",
       " 'empty_table']"
      ]
     },
     "execution_count": 78,
     "metadata": {},
     "output_type": "execute_result"
    }
   ],
   "source": [
    "cd2.table_names()"
   ]
  },
  {
   "cell_type": "code",
   "execution_count": 83,
   "id": "671d6ee4",
   "metadata": {},
   "outputs": [
    {
     "data": {
      "text/html": [
       "<div>\n",
       "<style scoped>\n",
       "    .dataframe tbody tr th:only-of-type {\n",
       "        vertical-align: middle;\n",
       "    }\n",
       "\n",
       "    .dataframe tbody tr th {\n",
       "        vertical-align: top;\n",
       "    }\n",
       "\n",
       "    .dataframe thead th {\n",
       "        text-align: right;\n",
       "    }\n",
       "</style>\n",
       "<table border=\"1\" class=\"dataframe\">\n",
       "  <thead>\n",
       "    <tr style=\"text-align: right;\">\n",
       "      <th></th>\n",
       "    </tr>\n",
       "  </thead>\n",
       "  <tbody>\n",
       "  </tbody>\n",
       "</table>\n",
       "</div>"
      ],
      "text/plain": [
       "Empty DataFrame\n",
       "Columns: []\n",
       "Index: []"
      ]
     },
     "execution_count": 83,
     "metadata": {},
     "output_type": "execute_result"
    }
   ],
   "source": [
    "cd2.empty_table"
   ]
  },
  {
   "cell_type": "code",
   "execution_count": 84,
   "id": "c18fc61f",
   "metadata": {},
   "outputs": [
    {
     "data": {
      "text/html": [
       "<div>\n",
       "<style scoped>\n",
       "    .dataframe tbody tr th:only-of-type {\n",
       "        vertical-align: middle;\n",
       "    }\n",
       "\n",
       "    .dataframe tbody tr th {\n",
       "        vertical-align: top;\n",
       "    }\n",
       "\n",
       "    .dataframe thead th {\n",
       "        text-align: right;\n",
       "    }\n",
       "</style>\n",
       "<table border=\"1\" class=\"dataframe\">\n",
       "  <thead>\n",
       "    <tr style=\"text-align: right;\">\n",
       "      <th></th>\n",
       "    </tr>\n",
       "  </thead>\n",
       "  <tbody>\n",
       "  </tbody>\n",
       "</table>\n",
       "</div>"
      ],
      "text/plain": [
       "Empty DataFrame\n",
       "Columns: []\n",
       "Index: []"
      ]
     },
     "execution_count": 84,
     "metadata": {},
     "output_type": "execute_result"
    }
   ],
   "source": [
    "pd.DataFrame()"
   ]
  },
  {
   "cell_type": "code",
   "execution_count": 85,
   "id": "d50208e6",
   "metadata": {},
   "outputs": [
    {
     "data": {
      "text/plain": [
       "pandas.core.frame.DataFrame"
      ]
     },
     "execution_count": 85,
     "metadata": {},
     "output_type": "execute_result"
    }
   ],
   "source": [
    "type(_)"
   ]
  },
  {
   "cell_type": "code",
   "execution_count": 86,
   "id": "c7d76c65",
   "metadata": {},
   "outputs": [
    {
     "data": {
      "text/plain": [
       "dict_keys(['wasting_transition_count', 'wasting_state_person_time', 'deaths', 'population', 'ylls', 'ylds', 'disease_state_person_time', 'disease_transition_count', 'empty_table'])"
      ]
     },
     "execution_count": 86,
     "metadata": {},
     "output_type": "execute_result"
    }
   ],
   "source": [
    "cd2.to_dict().keys()"
   ]
  },
  {
   "cell_type": "code",
   "execution_count": 87,
   "id": "a2c57d9e",
   "metadata": {},
   "outputs": [],
   "source": [
    "cd2['goat'] = pd.DataFrame([1,2,3])"
   ]
  },
  {
   "cell_type": "code",
   "execution_count": 88,
   "id": "f853f25d",
   "metadata": {},
   "outputs": [
    {
     "data": {
      "text/html": [
       "<div>\n",
       "<style scoped>\n",
       "    .dataframe tbody tr th:only-of-type {\n",
       "        vertical-align: middle;\n",
       "    }\n",
       "\n",
       "    .dataframe tbody tr th {\n",
       "        vertical-align: top;\n",
       "    }\n",
       "\n",
       "    .dataframe thead th {\n",
       "        text-align: right;\n",
       "    }\n",
       "</style>\n",
       "<table border=\"1\" class=\"dataframe\">\n",
       "  <thead>\n",
       "    <tr style=\"text-align: right;\">\n",
       "      <th></th>\n",
       "      <th>0</th>\n",
       "    </tr>\n",
       "  </thead>\n",
       "  <tbody>\n",
       "    <tr>\n",
       "      <th>0</th>\n",
       "      <td>1</td>\n",
       "    </tr>\n",
       "    <tr>\n",
       "      <th>1</th>\n",
       "      <td>2</td>\n",
       "    </tr>\n",
       "    <tr>\n",
       "      <th>2</th>\n",
       "      <td>3</td>\n",
       "    </tr>\n",
       "  </tbody>\n",
       "</table>\n",
       "</div>"
      ],
      "text/plain": [
       "   0\n",
       "0  1\n",
       "1  2\n",
       "2  3"
      ]
     },
     "execution_count": 88,
     "metadata": {},
     "output_type": "execute_result"
    }
   ],
   "source": [
    "cd2.goat"
   ]
  },
  {
   "cell_type": "code",
   "execution_count": 89,
   "id": "2fd4ddfd",
   "metadata": {},
   "outputs": [
    {
     "data": {
      "text/plain": [
       "['wasting_transition_count',\n",
       " 'wasting_state_person_time',\n",
       " 'deaths',\n",
       " 'population',\n",
       " 'ylls',\n",
       " 'ylds',\n",
       " 'disease_state_person_time',\n",
       " 'disease_transition_count',\n",
       " 'empty_table',\n",
       " 'goat']"
      ]
     },
     "execution_count": 89,
     "metadata": {},
     "output_type": "execute_result"
    }
   ],
   "source": [
    "cd2.table_names()"
   ]
  },
  {
   "cell_type": "code",
   "execution_count": 90,
   "id": "d3e0f63a",
   "metadata": {},
   "outputs": [
    {
     "data": {
      "text/plain": [
       "['wasting_transition_count',\n",
       " 'wasting_state_person_time',\n",
       " 'deaths',\n",
       " 'population',\n",
       " 'ylls',\n",
       " 'ylds',\n",
       " 'disease_state_person_time',\n",
       " 'disease_transition_count',\n",
       " 'empty_table',\n",
       " 'goat',\n",
       " 'a',\n",
       " 'b']"
      ]
     },
     "execution_count": 90,
     "metadata": {},
     "output_type": "execute_result"
    }
   ],
   "source": [
    "cd2.__dict__.update({'a': 1, 'b': 2})\n",
    "cd2.table_names()"
   ]
  },
  {
   "cell_type": "code",
   "execution_count": 91,
   "id": "c51810c8",
   "metadata": {},
   "outputs": [
    {
     "data": {
      "text/plain": [
       "1"
      ]
     },
     "execution_count": 91,
     "metadata": {},
     "output_type": "execute_result"
    }
   ],
   "source": [
    "cd2.a"
   ]
  },
  {
   "cell_type": "code",
   "execution_count": 92,
   "id": "044ea971",
   "metadata": {},
   "outputs": [
    {
     "data": {
      "text/plain": [
       "['wasting_transition_count',\n",
       " 'wasting_state_person_time',\n",
       " 'deaths',\n",
       " 'population',\n",
       " 'ylls',\n",
       " 'ylds',\n",
       " 'disease_state_person_time',\n",
       " 'disease_transition_count',\n",
       " 'empty_table',\n",
       " 'goat',\n",
       " 'a']"
      ]
     },
     "execution_count": 92,
     "metadata": {},
     "output_type": "execute_result"
    }
   ],
   "source": [
    "del cd2.b\n",
    "cd2.table_names()"
   ]
  },
  {
   "cell_type": "code",
   "execution_count": 93,
   "id": "aeb5342d",
   "metadata": {},
   "outputs": [
    {
     "data": {
      "text/plain": [
       "True"
      ]
     },
     "execution_count": 93,
     "metadata": {},
     "output_type": "execute_result"
    }
   ],
   "source": [
    "'a' in cd2"
   ]
  },
  {
   "cell_type": "code",
   "execution_count": 94,
   "id": "4748fbc4",
   "metadata": {},
   "outputs": [
    {
     "data": {
      "text/plain": [
       "False"
      ]
     },
     "execution_count": 94,
     "metadata": {},
     "output_type": "execute_result"
    }
   ],
   "source": [
    "dict(cd2) is cd2.__dict__"
   ]
  },
  {
   "cell_type": "code",
   "execution_count": 42,
   "id": "ca3d7417",
   "metadata": {},
   "outputs": [
    {
     "data": {
      "text/plain": [
       "['wasting_transition_count',\n",
       " 'wasting_state_person_time',\n",
       " 'deaths',\n",
       " 'population',\n",
       " 'ylls',\n",
       " 'ylds',\n",
       " 'disease_state_person_time',\n",
       " 'disease_transition_count',\n",
       " 'empty_table',\n",
       " 'goat',\n",
       " 'a']"
      ]
     },
     "execution_count": 42,
     "metadata": {},
     "output_type": "execute_result"
    }
   ],
   "source": [
    "list(cd2.keys())"
   ]
  },
  {
   "cell_type": "raw",
   "id": "aacbbb2e",
   "metadata": {},
   "source": [
    "cd2[1] = 5\n",
    "\n",
    "---------------------------------------------------------------------------\n",
    "TypeError                                 Traceback (most recent call last)\n",
    "/tmp/ipykernel_2192029/3080791108.py in <module>\n",
    "----> 1 cd2[1] = 5\n",
    "\n",
    "/tmp/ipykernel_2192029/1696243814.py in __setitem__(self, key, value)\n",
    "      7 \n",
    "      8     def __setitem__(self, key, value):\n",
    "----> 9         setattr(self, key, value)\n",
    "     10 \n",
    "     11     def __delitem__(self, key):\n",
    "\n",
    "TypeError: attribute name must be string, not 'int'"
   ]
  },
  {
   "cell_type": "code",
   "execution_count": 73,
   "id": "68b6fc4b",
   "metadata": {},
   "outputs": [
    {
     "data": {
      "text/plain": [
       "['wasting_transition_count',\n",
       " 'wasting_state_person_time',\n",
       " 'deaths',\n",
       " 'population',\n",
       " 'ylls',\n",
       " 'ylds',\n",
       " 'disease_state_person_time',\n",
       " 'disease_transition_count',\n",
       " 'empty_table',\n",
       " 'goat',\n",
       " 'a']"
      ]
     },
     "execution_count": 73,
     "metadata": {},
     "output_type": "execute_result"
    }
   ],
   "source": [
    "# Now we don't have the bad key 1 in keys()\n",
    "cd2.table_names()"
   ]
  },
  {
   "cell_type": "code",
   "execution_count": 43,
   "id": "da75d4b2",
   "metadata": {},
   "outputs": [
    {
     "data": {
      "text/plain": [
       "False"
      ]
     },
     "execution_count": 43,
     "metadata": {},
     "output_type": "execute_result"
    }
   ],
   "source": [
    "isinstance(pd.Series, np.ndarray)"
   ]
  },
  {
   "cell_type": "code",
   "execution_count": 45,
   "id": "39300b19",
   "metadata": {},
   "outputs": [
    {
     "data": {
      "text/plain": [
       "False"
      ]
     },
     "execution_count": 45,
     "metadata": {},
     "output_type": "execute_result"
    }
   ],
   "source": [
    "isinstance(pd.Index, np.ndarray)"
   ]
  },
  {
   "cell_type": "code",
   "execution_count": null,
   "id": "a276193e",
   "metadata": {},
   "outputs": [],
   "source": []
  }
 ],
 "metadata": {
  "kernelspec": {
   "display_name": "Python 3 (ipykernel)",
   "language": "python",
   "name": "python3"
  },
  "language_info": {
   "codemirror_mode": {
    "name": "ipython",
    "version": 3
   },
   "file_extension": ".py",
   "mimetype": "text/x-python",
   "name": "python",
   "nbconvert_exporter": "python",
   "pygments_lexer": "ipython3",
   "version": "3.8.10"
  }
 },
 "nbformat": 4,
 "nbformat_minor": 5
}
