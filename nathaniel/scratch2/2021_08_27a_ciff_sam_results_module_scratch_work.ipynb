{
 "cells": [
  {
   "cell_type": "code",
   "execution_count": 1,
   "id": "ca912001",
   "metadata": {},
   "outputs": [
    {
     "name": "stdout",
     "output_type": "stream",
     "text": [
      "/ihme/homes/ndbs/vivarium_research_ciff_sam/nathaniel/scratch__gitignore__\n",
      "ndbs\n",
      "Fri Aug 27 14:53:23 PDT 2021\n"
     ]
    }
   ],
   "source": [
    "import matplotlib.pyplot as plt\n",
    "import numpy as np\n",
    "import pandas as pd\n",
    "pd.set_option('display.max_rows', 8)\n",
    "\n",
    "import collections\n",
    "\n",
    "import warnings\n",
    "# warnings.filterwarnings('ignore')\n",
    "from matplotlib.backends.backend_pdf import PdfPages\n",
    "\n",
    "from pathlib import Path\n",
    "\n",
    "import db_queries as db\n",
    "import vivarium_helpers.id_helper as idh\n",
    "\n",
    "# Add the repo directory vivarium_research_ciff_sam/ to sys.path\n",
    "import os, sys\n",
    "repo_path = os.path.abspath('../..')\n",
    "sys.path.append(repo_path)\n",
    "# Assumes vivarium_research_ciff_sam/ is in sys.path\n",
    "import model_validation.vivarium_transformed_output as vto\n",
    "# import model_validation.vivarium_raw_output as vro\n",
    "import model_validation.vivarium_output_processing as vo\n",
    "import model_validation.ciff_sam_results as csr\n",
    "\n",
    "!pwd\n",
    "!whoami\n",
    "!date"
   ]
  },
  {
   "cell_type": "code",
   "execution_count": 2,
   "id": "953e81d6",
   "metadata": {},
   "outputs": [],
   "source": [
    "%load_ext autoreload\n",
    "%autoreload 2"
   ]
  },
  {
   "cell_type": "code",
   "execution_count": 15,
   "id": "b98743f1",
   "metadata": {},
   "outputs": [],
   "source": [
    "import model_validation.ciff_sam_results as csr"
   ]
  },
  {
   "cell_type": "markdown",
   "id": "686bf1f4",
   "metadata": {},
   "source": [
    "# Test models dataframe for use in `get_count_data_path` function below"
   ]
  },
  {
   "cell_type": "code",
   "execution_count": 16,
   "id": "5bbeb3e3",
   "metadata": {},
   "outputs": [
    {
     "data": {
      "text/html": [
       "<div>\n",
       "<style scoped>\n",
       "    .dataframe tbody tr th:only-of-type {\n",
       "        vertical-align: middle;\n",
       "    }\n",
       "\n",
       "    .dataframe tbody tr th {\n",
       "        vertical-align: top;\n",
       "    }\n",
       "\n",
       "    .dataframe thead th {\n",
       "        text-align: right;\n",
       "    }\n",
       "</style>\n",
       "<table border=\"1\" class=\"dataframe\">\n",
       "  <thead>\n",
       "    <tr style=\"text-align: right;\">\n",
       "      <th></th>\n",
       "      <th>model_id</th>\n",
       "      <th>model_name</th>\n",
       "      <th>run_id</th>\n",
       "    </tr>\n",
       "  </thead>\n",
       "  <tbody>\n",
       "    <tr>\n",
       "      <th>0</th>\n",
       "      <td>2.4</td>\n",
       "      <td>v2.4_corrected_fertility</td>\n",
       "      <td>2021_08_03_15_08_32</td>\n",
       "    </tr>\n",
       "    <tr>\n",
       "      <th>1</th>\n",
       "      <td>2.5</td>\n",
       "      <td>v2.5_stunting</td>\n",
       "      <td>2021_08_05_16_17_12</td>\n",
       "    </tr>\n",
       "    <tr>\n",
       "      <th>2</th>\n",
       "      <td>3.0</td>\n",
       "      <td>v3.0_sq_lns</td>\n",
       "      <td>2021_08_16_17_54_19</td>\n",
       "    </tr>\n",
       "    <tr>\n",
       "      <th>3</th>\n",
       "      <td>3.1</td>\n",
       "      <td>v3.1_sq_lns_stunting_stratified</td>\n",
       "      <td>2021_08_24_10_28_32</td>\n",
       "    </tr>\n",
       "  </tbody>\n",
       "</table>\n",
       "</div>"
      ],
      "text/plain": [
       "   model_id                       model_name               run_id\n",
       "0       2.4         v2.4_corrected_fertility  2021_08_03_15_08_32\n",
       "1       2.5                    v2.5_stunting  2021_08_05_16_17_12\n",
       "2       3.0                      v3.0_sq_lns  2021_08_16_17_54_19\n",
       "3       3.1  v3.1_sq_lns_stunting_stratified  2021_08_24_10_28_32"
      ]
     },
     "execution_count": 16,
     "metadata": {},
     "output_type": "execute_result"
    }
   ],
   "source": [
    "models = pd.DataFrame(\n",
    "    [\n",
    "        [2.4, 'v2.4_corrected_fertility', '2021_08_03_15_08_32'],\n",
    "        [2.5, 'v2.5_stunting', '2021_08_05_16_17_12'],\n",
    "        [3.0, 'v3.0_sq_lns', '2021_08_16_17_54_19'],\n",
    "        [3.1, 'v3.1_sq_lns_stunting_stratified', '2021_08_24_10_28_32']\n",
    "    ],\n",
    "    columns=['model_id', 'model_name', 'run_id']\n",
    ")\n",
    "models"
   ]
  },
  {
   "cell_type": "code",
   "execution_count": 26,
   "id": "515a1445",
   "metadata": {},
   "outputs": [
    {
     "data": {
      "text/plain": [
       "1    2021_08_05_16_17_12\n",
       "Name: run_id, dtype: object"
      ]
     },
     "execution_count": 26,
     "metadata": {},
     "output_type": "execute_result"
    }
   ],
   "source": [
    "models.loc[models.model_id==2.5, 'run_id']"
   ]
  },
  {
   "cell_type": "code",
   "execution_count": 25,
   "id": "410b5d9c",
   "metadata": {},
   "outputs": [
    {
     "data": {
      "text/plain": [
       "'2021_08_05_16_17_12'"
      ]
     },
     "execution_count": 25,
     "metadata": {},
     "output_type": "execute_result"
    }
   ],
   "source": [
    "models.set_index('model_id').loc[2.5, 'run_id']"
   ]
  },
  {
   "cell_type": "code",
   "execution_count": 39,
   "id": "60e0ba37",
   "metadata": {},
   "outputs": [
    {
     "data": {
      "text/plain": [
       "model_name          v2.5_stunting\n",
       "run_id        2021_08_05_16_17_12\n",
       "Name: 2.5, dtype: object"
      ]
     },
     "execution_count": 39,
     "metadata": {},
     "output_type": "execute_result"
    }
   ],
   "source": [
    "models.set_index('model_id').loc[2.5]"
   ]
  },
  {
   "cell_type": "code",
   "execution_count": 41,
   "id": "4e1e8278",
   "metadata": {},
   "outputs": [
    {
     "data": {
      "text/plain": [
       "model_name          v2.5_stunting\n",
       "run_id        2021_08_05_16_17_12\n",
       "Name: 2.5, dtype: object"
      ]
     },
     "execution_count": 41,
     "metadata": {},
     "output_type": "execute_result"
    }
   ],
   "source": [
    "models.set_index('model_id').loc[2.5, ['model_name', 'run_id']]"
   ]
  },
  {
   "cell_type": "code",
   "execution_count": 42,
   "id": "2d768fd1",
   "metadata": {},
   "outputs": [
    {
     "name": "stdout",
     "output_type": "stream",
     "text": [
      "v2.5_stunting 2021_08_05_16_17_12\n"
     ]
    }
   ],
   "source": [
    "model_name, run_id = models.set_index('model_id').loc[2.5, ['model_name', 'run_id']]\n",
    "print(model_name, run_id)"
   ]
  },
  {
   "cell_type": "code",
   "execution_count": 55,
   "id": "5e0917f9",
   "metadata": {},
   "outputs": [
    {
     "data": {
      "text/plain": [
       "model_name          v2.5_stunting\n",
       "run_id        2021_08_05_16_17_12\n",
       "Name: 2.5, dtype: object"
      ]
     },
     "execution_count": 55,
     "metadata": {},
     "output_type": "execute_result"
    }
   ],
   "source": [
    "model_metadata = models.set_index('model_id').loc[2.5] \n",
    "model_metadata.loc[['model_name', 'run_id']]\n",
    "# model_name, run_id = \n",
    "# print(model_name, run_id)"
   ]
  },
  {
   "cell_type": "code",
   "execution_count": 79,
   "id": "53aa0530",
   "metadata": {},
   "outputs": [
    {
     "data": {
      "text/plain": [
       "model_name          v2.5_stunting\n",
       "run_id        2021_08_05_16_17_12\n",
       "Name: 2.5, dtype: object"
      ]
     },
     "execution_count": 79,
     "metadata": {},
     "output_type": "execute_result"
    }
   ],
   "source": [
    "model_metadata"
   ]
  },
  {
   "cell_type": "code",
   "execution_count": 33,
   "id": "2f11f82f",
   "metadata": {},
   "outputs": [
    {
     "data": {
      "text/html": [
       "<div>\n",
       "<style scoped>\n",
       "    .dataframe tbody tr th:only-of-type {\n",
       "        vertical-align: middle;\n",
       "    }\n",
       "\n",
       "    .dataframe tbody tr th {\n",
       "        vertical-align: top;\n",
       "    }\n",
       "\n",
       "    .dataframe thead th {\n",
       "        text-align: right;\n",
       "    }\n",
       "</style>\n",
       "<table border=\"1\" class=\"dataframe\">\n",
       "  <thead>\n",
       "    <tr style=\"text-align: right;\">\n",
       "      <th></th>\n",
       "      <th>model_id</th>\n",
       "      <th>model_name</th>\n",
       "      <th>run_id</th>\n",
       "    </tr>\n",
       "  </thead>\n",
       "  <tbody>\n",
       "    <tr>\n",
       "      <th>0</th>\n",
       "      <td>2.4</td>\n",
       "      <td>v2.4_corrected_fertility</td>\n",
       "      <td>2021_08_03_15_08_32</td>\n",
       "    </tr>\n",
       "    <tr>\n",
       "      <th>1</th>\n",
       "      <td>2.5</td>\n",
       "      <td>v2.5_stunting</td>\n",
       "      <td>2021_08_05_16_17_12</td>\n",
       "    </tr>\n",
       "    <tr>\n",
       "      <th>2</th>\n",
       "      <td>3.0</td>\n",
       "      <td>v3.0_sq_lns</td>\n",
       "      <td>2021_08_16_17_54_19</td>\n",
       "    </tr>\n",
       "    <tr>\n",
       "      <th>3</th>\n",
       "      <td>3.1</td>\n",
       "      <td>v3.1_sq_lns_stunting_stratified</td>\n",
       "      <td>2021_08_24_10_28_32</td>\n",
       "    </tr>\n",
       "    <tr>\n",
       "      <th>4</th>\n",
       "      <td>2.5</td>\n",
       "      <td>v2.5_stunting</td>\n",
       "      <td>2021_08_07_14_10_05</td>\n",
       "    </tr>\n",
       "  </tbody>\n",
       "</table>\n",
       "</div>"
      ],
      "text/plain": [
       "   model_id                       model_name               run_id\n",
       "0       2.4         v2.4_corrected_fertility  2021_08_03_15_08_32\n",
       "1       2.5                    v2.5_stunting  2021_08_05_16_17_12\n",
       "2       3.0                      v3.0_sq_lns  2021_08_16_17_54_19\n",
       "3       3.1  v3.1_sq_lns_stunting_stratified  2021_08_24_10_28_32\n",
       "4       2.5                    v2.5_stunting  2021_08_07_14_10_05"
      ]
     },
     "execution_count": 33,
     "metadata": {},
     "output_type": "execute_result"
    }
   ],
   "source": [
    "fake_models = models.append(\n",
    "    pd.Series([2.5, 'v2.5_stunting', '2021_08_07_14_10_05'], index=models.columns),\n",
    "    ignore_index=True\n",
    ")\n",
    "fake_models"
   ]
  },
  {
   "cell_type": "code",
   "execution_count": 36,
   "id": "831e595c",
   "metadata": {},
   "outputs": [
    {
     "data": {
      "text/plain": [
       "model_id\n",
       "2.5    2021_08_05_16_17_12\n",
       "2.5    2021_08_07_14_10_05\n",
       "Name: run_id, dtype: object"
      ]
     },
     "execution_count": 36,
     "metadata": {},
     "output_type": "execute_result"
    }
   ],
   "source": [
    "fake_models.set_index('model_id').loc[2.5, 'run_id']"
   ]
  },
  {
   "cell_type": "code",
   "execution_count": 38,
   "id": "10b0f857",
   "metadata": {},
   "outputs": [
    {
     "data": {
      "text/html": [
       "<div>\n",
       "<style scoped>\n",
       "    .dataframe tbody tr th:only-of-type {\n",
       "        vertical-align: middle;\n",
       "    }\n",
       "\n",
       "    .dataframe tbody tr th {\n",
       "        vertical-align: top;\n",
       "    }\n",
       "\n",
       "    .dataframe thead th {\n",
       "        text-align: right;\n",
       "    }\n",
       "</style>\n",
       "<table border=\"1\" class=\"dataframe\">\n",
       "  <thead>\n",
       "    <tr style=\"text-align: right;\">\n",
       "      <th></th>\n",
       "      <th>model_name</th>\n",
       "      <th>run_id</th>\n",
       "    </tr>\n",
       "    <tr>\n",
       "      <th>model_id</th>\n",
       "      <th></th>\n",
       "      <th></th>\n",
       "    </tr>\n",
       "  </thead>\n",
       "  <tbody>\n",
       "    <tr>\n",
       "      <th>2.5</th>\n",
       "      <td>v2.5_stunting</td>\n",
       "      <td>2021_08_05_16_17_12</td>\n",
       "    </tr>\n",
       "    <tr>\n",
       "      <th>2.5</th>\n",
       "      <td>v2.5_stunting</td>\n",
       "      <td>2021_08_07_14_10_05</td>\n",
       "    </tr>\n",
       "  </tbody>\n",
       "</table>\n",
       "</div>"
      ],
      "text/plain": [
       "             model_name               run_id\n",
       "model_id                                    \n",
       "2.5       v2.5_stunting  2021_08_05_16_17_12\n",
       "2.5       v2.5_stunting  2021_08_07_14_10_05"
      ]
     },
     "execution_count": 38,
     "metadata": {},
     "output_type": "execute_result"
    }
   ],
   "source": [
    "fake_models.set_index('model_id').loc[2.5]"
   ]
  },
  {
   "cell_type": "code",
   "execution_count": 40,
   "id": "ce450f09",
   "metadata": {},
   "outputs": [
    {
     "data": {
      "text/html": [
       "<div>\n",
       "<style scoped>\n",
       "    .dataframe tbody tr th:only-of-type {\n",
       "        vertical-align: middle;\n",
       "    }\n",
       "\n",
       "    .dataframe tbody tr th {\n",
       "        vertical-align: top;\n",
       "    }\n",
       "\n",
       "    .dataframe thead th {\n",
       "        text-align: right;\n",
       "    }\n",
       "</style>\n",
       "<table border=\"1\" class=\"dataframe\">\n",
       "  <thead>\n",
       "    <tr style=\"text-align: right;\">\n",
       "      <th></th>\n",
       "      <th>model_name</th>\n",
       "      <th>run_id</th>\n",
       "    </tr>\n",
       "    <tr>\n",
       "      <th>model_id</th>\n",
       "      <th></th>\n",
       "      <th></th>\n",
       "    </tr>\n",
       "  </thead>\n",
       "  <tbody>\n",
       "    <tr>\n",
       "      <th>2.5</th>\n",
       "      <td>v2.5_stunting</td>\n",
       "      <td>2021_08_05_16_17_12</td>\n",
       "    </tr>\n",
       "    <tr>\n",
       "      <th>2.5</th>\n",
       "      <td>v2.5_stunting</td>\n",
       "      <td>2021_08_07_14_10_05</td>\n",
       "    </tr>\n",
       "  </tbody>\n",
       "</table>\n",
       "</div>"
      ],
      "text/plain": [
       "             model_name               run_id\n",
       "model_id                                    \n",
       "2.5       v2.5_stunting  2021_08_05_16_17_12\n",
       "2.5       v2.5_stunting  2021_08_07_14_10_05"
      ]
     },
     "execution_count": 40,
     "metadata": {},
     "output_type": "execute_result"
    }
   ],
   "source": [
    "fake_models.set_index('model_id').loc[2.5, ['model_name', 'run_id']]"
   ]
  },
  {
   "cell_type": "code",
   "execution_count": 43,
   "id": "3fb12104",
   "metadata": {},
   "outputs": [
    {
     "name": "stdout",
     "output_type": "stream",
     "text": [
      "model_name run_id\n"
     ]
    }
   ],
   "source": [
    "model_name, run_id = fake_models.set_index('model_id').loc[2.5, ['model_name', 'run_id']]\n",
    "print(model_name, run_id)"
   ]
  },
  {
   "cell_type": "code",
   "execution_count": 56,
   "id": "480adcc1",
   "metadata": {},
   "outputs": [
    {
     "ename": "KeyError",
     "evalue": "\"None of [Index(['model_name', 'run_id'], dtype='object', name='model_id')] are in the [index]\"",
     "output_type": "error",
     "traceback": [
      "\u001b[0;31m---------------------------------------------------------------------------\u001b[0m",
      "\u001b[0;31mKeyError\u001b[0m                                  Traceback (most recent call last)",
      "\u001b[0;32m/tmp/ipykernel_39388/4242513348.py\u001b[0m in \u001b[0;36m<module>\u001b[0;34m\u001b[0m\n\u001b[1;32m      1\u001b[0m \u001b[0mfake_model_metadata\u001b[0m \u001b[0;34m=\u001b[0m \u001b[0mfake_models\u001b[0m\u001b[0;34m.\u001b[0m\u001b[0mset_index\u001b[0m\u001b[0;34m(\u001b[0m\u001b[0;34m'model_id'\u001b[0m\u001b[0;34m)\u001b[0m\u001b[0;34m.\u001b[0m\u001b[0mloc\u001b[0m\u001b[0;34m[\u001b[0m\u001b[0;36m2.5\u001b[0m\u001b[0;34m]\u001b[0m\u001b[0;34m\u001b[0m\u001b[0;34m\u001b[0m\u001b[0m\n\u001b[0;32m----> 2\u001b[0;31m \u001b[0mfake_model_metadata\u001b[0m\u001b[0;34m.\u001b[0m\u001b[0mloc\u001b[0m\u001b[0;34m[\u001b[0m\u001b[0;34m[\u001b[0m\u001b[0;34m'model_name'\u001b[0m\u001b[0;34m,\u001b[0m \u001b[0;34m'run_id'\u001b[0m\u001b[0;34m]\u001b[0m\u001b[0;34m]\u001b[0m\u001b[0;34m\u001b[0m\u001b[0;34m\u001b[0m\u001b[0m\n\u001b[0m\u001b[1;32m      3\u001b[0m \u001b[0;31m# model_name, run_id =\u001b[0m\u001b[0;34m\u001b[0m\u001b[0;34m\u001b[0m\u001b[0;34m\u001b[0m\u001b[0m\n",
      "\u001b[0;32m~/miniconda3/envs/ciff-sam-38/lib/python3.8/site-packages/pandas/core/indexing.py\u001b[0m in \u001b[0;36m__getitem__\u001b[0;34m(self, key)\u001b[0m\n\u001b[1;32m    929\u001b[0m \u001b[0;34m\u001b[0m\u001b[0m\n\u001b[1;32m    930\u001b[0m             \u001b[0mmaybe_callable\u001b[0m \u001b[0;34m=\u001b[0m \u001b[0mcom\u001b[0m\u001b[0;34m.\u001b[0m\u001b[0mapply_if_callable\u001b[0m\u001b[0;34m(\u001b[0m\u001b[0mkey\u001b[0m\u001b[0;34m,\u001b[0m \u001b[0mself\u001b[0m\u001b[0;34m.\u001b[0m\u001b[0mobj\u001b[0m\u001b[0;34m)\u001b[0m\u001b[0;34m\u001b[0m\u001b[0;34m\u001b[0m\u001b[0m\n\u001b[0;32m--> 931\u001b[0;31m             \u001b[0;32mreturn\u001b[0m \u001b[0mself\u001b[0m\u001b[0;34m.\u001b[0m\u001b[0m_getitem_axis\u001b[0m\u001b[0;34m(\u001b[0m\u001b[0mmaybe_callable\u001b[0m\u001b[0;34m,\u001b[0m \u001b[0maxis\u001b[0m\u001b[0;34m=\u001b[0m\u001b[0maxis\u001b[0m\u001b[0;34m)\u001b[0m\u001b[0;34m\u001b[0m\u001b[0;34m\u001b[0m\u001b[0m\n\u001b[0m\u001b[1;32m    932\u001b[0m \u001b[0;34m\u001b[0m\u001b[0m\n\u001b[1;32m    933\u001b[0m     \u001b[0;32mdef\u001b[0m \u001b[0m_is_scalar_access\u001b[0m\u001b[0;34m(\u001b[0m\u001b[0mself\u001b[0m\u001b[0;34m,\u001b[0m \u001b[0mkey\u001b[0m\u001b[0;34m:\u001b[0m \u001b[0mtuple\u001b[0m\u001b[0;34m)\u001b[0m\u001b[0;34m:\u001b[0m\u001b[0;34m\u001b[0m\u001b[0;34m\u001b[0m\u001b[0m\n",
      "\u001b[0;32m~/miniconda3/envs/ciff-sam-38/lib/python3.8/site-packages/pandas/core/indexing.py\u001b[0m in \u001b[0;36m_getitem_axis\u001b[0;34m(self, key, axis)\u001b[0m\n\u001b[1;32m   1151\u001b[0m                     \u001b[0;32mraise\u001b[0m \u001b[0mValueError\u001b[0m\u001b[0;34m(\u001b[0m\u001b[0;34m\"Cannot index with multidimensional key\"\u001b[0m\u001b[0;34m)\u001b[0m\u001b[0;34m\u001b[0m\u001b[0;34m\u001b[0m\u001b[0m\n\u001b[1;32m   1152\u001b[0m \u001b[0;34m\u001b[0m\u001b[0m\n\u001b[0;32m-> 1153\u001b[0;31m                 \u001b[0;32mreturn\u001b[0m \u001b[0mself\u001b[0m\u001b[0;34m.\u001b[0m\u001b[0m_getitem_iterable\u001b[0m\u001b[0;34m(\u001b[0m\u001b[0mkey\u001b[0m\u001b[0;34m,\u001b[0m \u001b[0maxis\u001b[0m\u001b[0;34m=\u001b[0m\u001b[0maxis\u001b[0m\u001b[0;34m)\u001b[0m\u001b[0;34m\u001b[0m\u001b[0;34m\u001b[0m\u001b[0m\n\u001b[0m\u001b[1;32m   1154\u001b[0m \u001b[0;34m\u001b[0m\u001b[0m\n\u001b[1;32m   1155\u001b[0m             \u001b[0;31m# nested tuple slicing\u001b[0m\u001b[0;34m\u001b[0m\u001b[0;34m\u001b[0m\u001b[0;34m\u001b[0m\u001b[0m\n",
      "\u001b[0;32m~/miniconda3/envs/ciff-sam-38/lib/python3.8/site-packages/pandas/core/indexing.py\u001b[0m in \u001b[0;36m_getitem_iterable\u001b[0;34m(self, key, axis)\u001b[0m\n\u001b[1;32m   1091\u001b[0m \u001b[0;34m\u001b[0m\u001b[0m\n\u001b[1;32m   1092\u001b[0m         \u001b[0;31m# A collection of keys\u001b[0m\u001b[0;34m\u001b[0m\u001b[0;34m\u001b[0m\u001b[0;34m\u001b[0m\u001b[0m\n\u001b[0;32m-> 1093\u001b[0;31m         \u001b[0mkeyarr\u001b[0m\u001b[0;34m,\u001b[0m \u001b[0mindexer\u001b[0m \u001b[0;34m=\u001b[0m \u001b[0mself\u001b[0m\u001b[0;34m.\u001b[0m\u001b[0m_get_listlike_indexer\u001b[0m\u001b[0;34m(\u001b[0m\u001b[0mkey\u001b[0m\u001b[0;34m,\u001b[0m \u001b[0maxis\u001b[0m\u001b[0;34m)\u001b[0m\u001b[0;34m\u001b[0m\u001b[0;34m\u001b[0m\u001b[0m\n\u001b[0m\u001b[1;32m   1094\u001b[0m         return self.obj._reindex_with_indexers(\n\u001b[1;32m   1095\u001b[0m             \u001b[0;34m{\u001b[0m\u001b[0maxis\u001b[0m\u001b[0;34m:\u001b[0m \u001b[0;34m[\u001b[0m\u001b[0mkeyarr\u001b[0m\u001b[0;34m,\u001b[0m \u001b[0mindexer\u001b[0m\u001b[0;34m]\u001b[0m\u001b[0;34m}\u001b[0m\u001b[0;34m,\u001b[0m \u001b[0mcopy\u001b[0m\u001b[0;34m=\u001b[0m\u001b[0;32mTrue\u001b[0m\u001b[0;34m,\u001b[0m \u001b[0mallow_dups\u001b[0m\u001b[0;34m=\u001b[0m\u001b[0;32mTrue\u001b[0m\u001b[0;34m\u001b[0m\u001b[0;34m\u001b[0m\u001b[0m\n",
      "\u001b[0;32m~/miniconda3/envs/ciff-sam-38/lib/python3.8/site-packages/pandas/core/indexing.py\u001b[0m in \u001b[0;36m_get_listlike_indexer\u001b[0;34m(self, key, axis)\u001b[0m\n\u001b[1;32m   1312\u001b[0m             \u001b[0mkeyarr\u001b[0m\u001b[0;34m,\u001b[0m \u001b[0mindexer\u001b[0m\u001b[0;34m,\u001b[0m \u001b[0mnew_indexer\u001b[0m \u001b[0;34m=\u001b[0m \u001b[0max\u001b[0m\u001b[0;34m.\u001b[0m\u001b[0m_reindex_non_unique\u001b[0m\u001b[0;34m(\u001b[0m\u001b[0mkeyarr\u001b[0m\u001b[0;34m)\u001b[0m\u001b[0;34m\u001b[0m\u001b[0;34m\u001b[0m\u001b[0m\n\u001b[1;32m   1313\u001b[0m \u001b[0;34m\u001b[0m\u001b[0m\n\u001b[0;32m-> 1314\u001b[0;31m         \u001b[0mself\u001b[0m\u001b[0;34m.\u001b[0m\u001b[0m_validate_read_indexer\u001b[0m\u001b[0;34m(\u001b[0m\u001b[0mkeyarr\u001b[0m\u001b[0;34m,\u001b[0m \u001b[0mindexer\u001b[0m\u001b[0;34m,\u001b[0m \u001b[0maxis\u001b[0m\u001b[0;34m)\u001b[0m\u001b[0;34m\u001b[0m\u001b[0;34m\u001b[0m\u001b[0m\n\u001b[0m\u001b[1;32m   1315\u001b[0m \u001b[0;34m\u001b[0m\u001b[0m\n\u001b[1;32m   1316\u001b[0m         if needs_i8_conversion(ax.dtype) or isinstance(\n",
      "\u001b[0;32m~/miniconda3/envs/ciff-sam-38/lib/python3.8/site-packages/pandas/core/indexing.py\u001b[0m in \u001b[0;36m_validate_read_indexer\u001b[0;34m(self, key, indexer, axis)\u001b[0m\n\u001b[1;32m   1372\u001b[0m                 \u001b[0;32mif\u001b[0m \u001b[0muse_interval_msg\u001b[0m\u001b[0;34m:\u001b[0m\u001b[0;34m\u001b[0m\u001b[0;34m\u001b[0m\u001b[0m\n\u001b[1;32m   1373\u001b[0m                     \u001b[0mkey\u001b[0m \u001b[0;34m=\u001b[0m \u001b[0mlist\u001b[0m\u001b[0;34m(\u001b[0m\u001b[0mkey\u001b[0m\u001b[0;34m)\u001b[0m\u001b[0;34m\u001b[0m\u001b[0;34m\u001b[0m\u001b[0m\n\u001b[0;32m-> 1374\u001b[0;31m                 \u001b[0;32mraise\u001b[0m \u001b[0mKeyError\u001b[0m\u001b[0;34m(\u001b[0m\u001b[0;34mf\"None of [{key}] are in the [{axis_name}]\"\u001b[0m\u001b[0;34m)\u001b[0m\u001b[0;34m\u001b[0m\u001b[0;34m\u001b[0m\u001b[0m\n\u001b[0m\u001b[1;32m   1375\u001b[0m \u001b[0;34m\u001b[0m\u001b[0m\n\u001b[1;32m   1376\u001b[0m             \u001b[0mnot_found\u001b[0m \u001b[0;34m=\u001b[0m \u001b[0mlist\u001b[0m\u001b[0;34m(\u001b[0m\u001b[0mensure_index\u001b[0m\u001b[0;34m(\u001b[0m\u001b[0mkey\u001b[0m\u001b[0;34m)\u001b[0m\u001b[0;34m[\u001b[0m\u001b[0mmissing_mask\u001b[0m\u001b[0;34m.\u001b[0m\u001b[0mnonzero\u001b[0m\u001b[0;34m(\u001b[0m\u001b[0;34m)\u001b[0m\u001b[0;34m[\u001b[0m\u001b[0;36m0\u001b[0m\u001b[0;34m]\u001b[0m\u001b[0;34m]\u001b[0m\u001b[0;34m.\u001b[0m\u001b[0munique\u001b[0m\u001b[0;34m(\u001b[0m\u001b[0;34m)\u001b[0m\u001b[0;34m)\u001b[0m\u001b[0;34m\u001b[0m\u001b[0;34m\u001b[0m\u001b[0m\n",
      "\u001b[0;31mKeyError\u001b[0m: \"None of [Index(['model_name', 'run_id'], dtype='object', name='model_id')] are in the [index]\""
     ]
    }
   ],
   "source": [
    "fake_model_metadata = fake_models.set_index('model_id').loc[2.5] \n",
    "fake_model_metadata.loc[['model_name', 'run_id']]\n",
    "# model_name, run_id = "
   ]
  },
  {
   "cell_type": "code",
   "execution_count": 80,
   "id": "28c6ee02",
   "metadata": {},
   "outputs": [
    {
     "data": {
      "text/plain": [
       "model_name          v2.5_stunting\n",
       "run_id        2021_08_05_16_17_12\n",
       "Name: 2.5, dtype: object"
      ]
     },
     "execution_count": 80,
     "metadata": {},
     "output_type": "execute_result"
    }
   ],
   "source": [
    "model_metadata"
   ]
  },
  {
   "cell_type": "code",
   "execution_count": 97,
   "id": "6ec64029",
   "metadata": {},
   "outputs": [
    {
     "data": {
      "text/plain": [
       "True"
      ]
     },
     "execution_count": 97,
     "metadata": {},
     "output_type": "execute_result"
    }
   ],
   "source": [
    "model_metadata['run_id']=='2021_08_05_16_17_12'"
   ]
  },
  {
   "cell_type": "code",
   "execution_count": 99,
   "id": "322526ff",
   "metadata": {},
   "outputs": [
    {
     "data": {
      "text/plain": [
       "True"
      ]
     },
     "execution_count": 99,
     "metadata": {},
     "output_type": "execute_result"
    }
   ],
   "source": [
    "type(model_metadata['run_id']=='2021_08_05_16_17_12') is bool"
   ]
  },
  {
   "cell_type": "code",
   "execution_count": 81,
   "id": "20867110",
   "metadata": {},
   "outputs": [
    {
     "data": {
      "text/html": [
       "<div>\n",
       "<style scoped>\n",
       "    .dataframe tbody tr th:only-of-type {\n",
       "        vertical-align: middle;\n",
       "    }\n",
       "\n",
       "    .dataframe tbody tr th {\n",
       "        vertical-align: top;\n",
       "    }\n",
       "\n",
       "    .dataframe thead th {\n",
       "        text-align: right;\n",
       "    }\n",
       "</style>\n",
       "<table border=\"1\" class=\"dataframe\">\n",
       "  <thead>\n",
       "    <tr style=\"text-align: right;\">\n",
       "      <th></th>\n",
       "      <th>model_name</th>\n",
       "      <th>run_id</th>\n",
       "    </tr>\n",
       "    <tr>\n",
       "      <th>model_id</th>\n",
       "      <th></th>\n",
       "      <th></th>\n",
       "    </tr>\n",
       "  </thead>\n",
       "  <tbody>\n",
       "    <tr>\n",
       "      <th>2.5</th>\n",
       "      <td>v2.5_stunting</td>\n",
       "      <td>2021_08_05_16_17_12</td>\n",
       "    </tr>\n",
       "    <tr>\n",
       "      <th>2.5</th>\n",
       "      <td>v2.5_stunting</td>\n",
       "      <td>2021_08_07_14_10_05</td>\n",
       "    </tr>\n",
       "  </tbody>\n",
       "</table>\n",
       "</div>"
      ],
      "text/plain": [
       "             model_name               run_id\n",
       "model_id                                    \n",
       "2.5       v2.5_stunting  2021_08_05_16_17_12\n",
       "2.5       v2.5_stunting  2021_08_07_14_10_05"
      ]
     },
     "execution_count": 81,
     "metadata": {},
     "output_type": "execute_result"
    }
   ],
   "source": [
    "fake_model_metadata"
   ]
  },
  {
   "cell_type": "code",
   "execution_count": 82,
   "id": "0e92aff4",
   "metadata": {},
   "outputs": [
    {
     "data": {
      "text/plain": [
       "'v2.5_stunting'"
      ]
     },
     "execution_count": 82,
     "metadata": {},
     "output_type": "execute_result"
    }
   ],
   "source": [
    "model_metadata['model_name']"
   ]
  },
  {
   "cell_type": "code",
   "execution_count": 83,
   "id": "c42538e9",
   "metadata": {},
   "outputs": [
    {
     "data": {
      "text/plain": [
       "model_id\n",
       "2.5    v2.5_stunting\n",
       "2.5    v2.5_stunting\n",
       "Name: model_name, dtype: object"
      ]
     },
     "execution_count": 83,
     "metadata": {},
     "output_type": "execute_result"
    }
   ],
   "source": [
    "fake_model_metadata['model_name']"
   ]
  },
  {
   "cell_type": "code",
   "execution_count": 95,
   "id": "03d9a8e8",
   "metadata": {},
   "outputs": [
    {
     "data": {
      "text/plain": [
       "model_id\n",
       "2.5     True\n",
       "2.5    False\n",
       "Name: run_id, dtype: bool"
      ]
     },
     "execution_count": 95,
     "metadata": {},
     "output_type": "execute_result"
    }
   ],
   "source": [
    "fake_model_metadata['run_id'] == '2021_08_05_16_17_12'"
   ]
  },
  {
   "cell_type": "code",
   "execution_count": 110,
   "id": "dc1384c2",
   "metadata": {},
   "outputs": [
    {
     "data": {
      "text/plain": [
       "model_name          v2.5_stunting\n",
       "run_id        2021_08_07_14_10_05\n",
       "Name: 2.5, dtype: object"
      ]
     },
     "execution_count": 110,
     "metadata": {},
     "output_type": "execute_result"
    }
   ],
   "source": [
    "fake_model_metadata = fake_models.set_index('model_id').loc[2.5] \n",
    "fake_model_metadata.loc[fake_model_metadata.run_id=='2021_08_07_14_10_05'].squeeze()"
   ]
  },
  {
   "cell_type": "code",
   "execution_count": 68,
   "id": "46e8e8c1",
   "metadata": {},
   "outputs": [
    {
     "data": {
      "text/plain": [
       "'v2.5_stunting'"
      ]
     },
     "execution_count": 68,
     "metadata": {},
     "output_type": "execute_result"
    }
   ],
   "source": [
    "fake_model_metadata = fake_models.set_index('model_id').loc[2.5] \n",
    "fake_model_metadata.loc[fake_model_metadata.run_id=='2021_08_07_14_10_05', 'model_name'].iat[0]"
   ]
  },
  {
   "cell_type": "code",
   "execution_count": 125,
   "id": "6cdcc654",
   "metadata": {},
   "outputs": [
    {
     "data": {
      "text/plain": [
       "model_name          v2.5_stunting\n",
       "run_id        2021_08_05_16_17_12\n",
       "Name: 2.5, dtype: object"
      ]
     },
     "execution_count": 125,
     "metadata": {},
     "output_type": "execute_result"
    }
   ],
   "source": [
    "model_metadata"
   ]
  },
  {
   "cell_type": "code",
   "execution_count": 170,
   "id": "6055bd4f",
   "metadata": {},
   "outputs": [
    {
     "ename": "AttributeError",
     "evalue": "'Series' object has no attribute 'query'",
     "output_type": "error",
     "traceback": [
      "\u001b[0;31m---------------------------------------------------------------------------\u001b[0m",
      "\u001b[0;31mAttributeError\u001b[0m                            Traceback (most recent call last)",
      "\u001b[0;32m/tmp/ipykernel_39388/1376131817.py\u001b[0m in \u001b[0;36m<module>\u001b[0;34m\u001b[0m\n\u001b[0;32m----> 1\u001b[0;31m \u001b[0mmodel_metadata\u001b[0m\u001b[0;34m.\u001b[0m\u001b[0mquery\u001b[0m\u001b[0;34m(\u001b[0m\u001b[0;34m\"run_id=='2021_08_05_16_17_12'\"\u001b[0m\u001b[0;34m)\u001b[0m\u001b[0;34m\u001b[0m\u001b[0;34m\u001b[0m\u001b[0m\n\u001b[0m",
      "\u001b[0;32m~/miniconda3/envs/ciff-sam-38/lib/python3.8/site-packages/pandas/core/generic.py\u001b[0m in \u001b[0;36m__getattr__\u001b[0;34m(self, name)\u001b[0m\n\u001b[1;32m   5476\u001b[0m         ):\n\u001b[1;32m   5477\u001b[0m             \u001b[0;32mreturn\u001b[0m \u001b[0mself\u001b[0m\u001b[0;34m[\u001b[0m\u001b[0mname\u001b[0m\u001b[0;34m]\u001b[0m\u001b[0;34m\u001b[0m\u001b[0;34m\u001b[0m\u001b[0m\n\u001b[0;32m-> 5478\u001b[0;31m         \u001b[0;32mreturn\u001b[0m \u001b[0mobject\u001b[0m\u001b[0;34m.\u001b[0m\u001b[0m__getattribute__\u001b[0m\u001b[0;34m(\u001b[0m\u001b[0mself\u001b[0m\u001b[0;34m,\u001b[0m \u001b[0mname\u001b[0m\u001b[0;34m)\u001b[0m\u001b[0;34m\u001b[0m\u001b[0;34m\u001b[0m\u001b[0m\n\u001b[0m\u001b[1;32m   5479\u001b[0m \u001b[0;34m\u001b[0m\u001b[0m\n\u001b[1;32m   5480\u001b[0m     \u001b[0;32mdef\u001b[0m \u001b[0m__setattr__\u001b[0m\u001b[0;34m(\u001b[0m\u001b[0mself\u001b[0m\u001b[0;34m,\u001b[0m \u001b[0mname\u001b[0m\u001b[0;34m:\u001b[0m \u001b[0mstr\u001b[0m\u001b[0;34m,\u001b[0m \u001b[0mvalue\u001b[0m\u001b[0;34m)\u001b[0m \u001b[0;34m->\u001b[0m \u001b[0;32mNone\u001b[0m\u001b[0;34m:\u001b[0m\u001b[0;34m\u001b[0m\u001b[0;34m\u001b[0m\u001b[0m\n",
      "\u001b[0;31mAttributeError\u001b[0m: 'Series' object has no attribute 'query'"
     ]
    }
   ],
   "source": [
    "model_metadata.query(\"run_id=='2021_08_05_16_17_12'\")"
   ]
  },
  {
   "cell_type": "code",
   "execution_count": 126,
   "id": "dfdfc27a",
   "metadata": {},
   "outputs": [
    {
     "data": {
      "text/html": [
       "<div>\n",
       "<style scoped>\n",
       "    .dataframe tbody tr th:only-of-type {\n",
       "        vertical-align: middle;\n",
       "    }\n",
       "\n",
       "    .dataframe tbody tr th {\n",
       "        vertical-align: top;\n",
       "    }\n",
       "\n",
       "    .dataframe thead th {\n",
       "        text-align: right;\n",
       "    }\n",
       "</style>\n",
       "<table border=\"1\" class=\"dataframe\">\n",
       "  <thead>\n",
       "    <tr style=\"text-align: right;\">\n",
       "      <th></th>\n",
       "      <th>model_name</th>\n",
       "      <th>run_id</th>\n",
       "    </tr>\n",
       "    <tr>\n",
       "      <th>model_id</th>\n",
       "      <th></th>\n",
       "      <th></th>\n",
       "    </tr>\n",
       "  </thead>\n",
       "  <tbody>\n",
       "    <tr>\n",
       "      <th>2.5</th>\n",
       "      <td>v2.5_stunting</td>\n",
       "      <td>2021_08_05_16_17_12</td>\n",
       "    </tr>\n",
       "    <tr>\n",
       "      <th>2.5</th>\n",
       "      <td>v2.5_stunting</td>\n",
       "      <td>2021_08_07_14_10_05</td>\n",
       "    </tr>\n",
       "  </tbody>\n",
       "</table>\n",
       "</div>"
      ],
      "text/plain": [
       "             model_name               run_id\n",
       "model_id                                    \n",
       "2.5       v2.5_stunting  2021_08_05_16_17_12\n",
       "2.5       v2.5_stunting  2021_08_07_14_10_05"
      ]
     },
     "execution_count": 126,
     "metadata": {},
     "output_type": "execute_result"
    }
   ],
   "source": [
    "fake_model_metadata"
   ]
  },
  {
   "cell_type": "code",
   "execution_count": 127,
   "id": "b814ea4f",
   "metadata": {},
   "outputs": [
    {
     "data": {
      "text/plain": [
       "run_id    2021_08_05_16_17_12\n",
       "Name: 2.5, dtype: object"
      ]
     },
     "execution_count": 127,
     "metadata": {},
     "output_type": "execute_result"
    }
   ],
   "source": [
    "model_metadata[['run_id']]"
   ]
  },
  {
   "cell_type": "code",
   "execution_count": 128,
   "id": "4d02add5",
   "metadata": {},
   "outputs": [
    {
     "data": {
      "text/html": [
       "<div>\n",
       "<style scoped>\n",
       "    .dataframe tbody tr th:only-of-type {\n",
       "        vertical-align: middle;\n",
       "    }\n",
       "\n",
       "    .dataframe tbody tr th {\n",
       "        vertical-align: top;\n",
       "    }\n",
       "\n",
       "    .dataframe thead th {\n",
       "        text-align: right;\n",
       "    }\n",
       "</style>\n",
       "<table border=\"1\" class=\"dataframe\">\n",
       "  <thead>\n",
       "    <tr style=\"text-align: right;\">\n",
       "      <th></th>\n",
       "      <th>run_id</th>\n",
       "    </tr>\n",
       "    <tr>\n",
       "      <th>model_id</th>\n",
       "      <th></th>\n",
       "    </tr>\n",
       "  </thead>\n",
       "  <tbody>\n",
       "    <tr>\n",
       "      <th>2.5</th>\n",
       "      <td>2021_08_05_16_17_12</td>\n",
       "    </tr>\n",
       "    <tr>\n",
       "      <th>2.5</th>\n",
       "      <td>2021_08_07_14_10_05</td>\n",
       "    </tr>\n",
       "  </tbody>\n",
       "</table>\n",
       "</div>"
      ],
      "text/plain": [
       "                       run_id\n",
       "model_id                     \n",
       "2.5       2021_08_05_16_17_12\n",
       "2.5       2021_08_07_14_10_05"
      ]
     },
     "execution_count": 128,
     "metadata": {},
     "output_type": "execute_result"
    }
   ],
   "source": [
    "fake_model_metadata[['run_id']]"
   ]
  },
  {
   "cell_type": "code",
   "execution_count": 129,
   "id": "cc15bf33",
   "metadata": {},
   "outputs": [
    {
     "data": {
      "text/plain": [
       "model_id\n",
       "2.5    2021_08_05_16_17_12\n",
       "2.5    2021_08_07_14_10_05\n",
       "Name: run_id, dtype: object"
      ]
     },
     "execution_count": 129,
     "metadata": {},
     "output_type": "execute_result"
    }
   ],
   "source": [
    "fake_model_metadata['run_id']"
   ]
  },
  {
   "cell_type": "markdown",
   "id": "c218e19d",
   "metadata": {},
   "source": [
    "# Write and test function to to get the results directory for a specified model number"
   ]
  },
  {
   "cell_type": "code",
   "execution_count": 207,
   "id": "e8ed056b",
   "metadata": {},
   "outputs": [
    {
     "name": "stdout",
     "output_type": "stream",
     "text": [
      "True\n"
     ]
    },
    {
     "data": {
      "text/plain": [
       "'/ihme/costeffectiveness/results/vivarium_ciff_sam/v2.5_stunting/ciff_sam/2021_08_05_16_17_12/count_data/'"
      ]
     },
     "execution_count": 207,
     "metadata": {},
     "output_type": "execute_result"
    }
   ],
   "source": [
    "project_results_dir = '/ihme/costeffectiveness/results/vivarium_ciff_sam'\n",
    "\n",
    "def get_count_data_path1(model_id, run_id=None, models_df=None):\n",
    "    if models_df is None:\n",
    "        models_df = models\n",
    "    model_metadata = models_df.set_index('model_id').loc[model_id]\n",
    "    if run_id is None:\n",
    "        if len(model_metadata[['run_id']]) > 1:\n",
    "            raise ValueError(\n",
    "                f\"You must specify the run_id for model_id {model_id} because\"\n",
    "                f\" there is more than one run_id:\\n{model_metadata['run_id']}\"\n",
    "            )\n",
    "        model_name, run_id = model_metadata.loc[['model_name', 'run_id']]\n",
    "    else:\n",
    "        matching_run = model_metadata['run_id']==run_id\n",
    "        if type(matching_run) is bool:\n",
    "            # There was only one row corresponding to this model, and model_metadata is a Series\n",
    "            if not matching_run:\n",
    "                raise ValueError(\n",
    "                    f\"No run_id {run_id} for model_id {model_id}:\\n\"\n",
    "                    f\"{model_metadata}\"\n",
    "                )\n",
    "        else:\n",
    "            if len(model_metadata.loc[matching_run]) == 0:\n",
    "                raise ValueError(\n",
    "                    f\"No run_id {run_id} for model_id {model_id}:\\n\"\n",
    "                    f\"{model_metadata}\"\n",
    "                )\n",
    "            else:\n",
    "                # There was more than one row, model_metadata is a DataFrame, and type(matching_run) is Series\n",
    "                model_metadata = model_metadata.loc[matching_run].squeeze()\n",
    "        model_name = model_metadata['model_name']\n",
    "        print(model_metadata, len(model_metadata), model_name,'\\n',run_id)\n",
    "    model_count_data_path = f'{project_results_dir}/{model_name}/ciff_sam/{run_id}/count_data/'\n",
    "    return model_count_data_path\n",
    "\n",
    "def get_count_data_path(model_id, run_id=None, models_df=models):\n",
    "    model_metadata = models_df.set_index('model_id').loc[model_id]\n",
    "    if run_id is None:\n",
    "        if len(model_metadata[['run_id']]) > 1:\n",
    "            raise ValueError(\n",
    "                f\"You must specify the run_id for model_id {model_id} because\"\n",
    "                f\" there is more than one run_id:\\n{model_metadata}\"\n",
    "            )\n",
    "        model_name, run_id = model_metadata.loc[['model_name', 'run_id']]\n",
    "    else:\n",
    "        matching_run = model_metadata['run_id']==run_id\n",
    "        if isinstance(matching_run, bool) and matching_run:\n",
    "            # There was only one row corresponding to this model, and model_metadata is a Series\n",
    "            pass\n",
    "        elif isinstance(matching_run, pd.Series) and len(model_metadata.loc[matching_run]) > 0:\n",
    "            # There was more than one row, so model_metadata is a DataFrame and matching_run is a Series\n",
    "            # Filter to metadata for the requested run_id and convert to a Series:\n",
    "                model_metadata = model_metadata.loc[matching_run].squeeze()\n",
    "        else:\n",
    "            raise ValueError(\n",
    "                    f\"No run_id {run_id} for model_id {model_id}:\\n\"\n",
    "                    f\"{model_metadata}\"\n",
    "                )\n",
    "        model_name = model_metadata['model_name']\n",
    "#         print(model_metadata, len(model_metadata), model_name,'\\n',run_id)\n",
    "    model_count_data_path = f'{project_results_dir}/{model_name}/ciff_sam/{run_id}/count_data/'\n",
    "    return model_count_data_path\n",
    "\n",
    "print(get_count_data_path(2.5) == get_count_data_path(2.5, '2021_08_05_16_17_12'))\n",
    "get_count_data_path(2.5)"
   ]
  },
  {
   "cell_type": "code",
   "execution_count": 211,
   "id": "dd908efb",
   "metadata": {},
   "outputs": [
    {
     "ename": "ValueError",
     "evalue": "You must specify the run_id for model_id 2.5 because there is more than one run_id:\n             model_name               run_id\nmodel_id                                    \n2.5       v2.5_stunting  2021_08_05_16_17_12\n2.5       v2.5_stunting  2021_08_07_14_10_05",
     "output_type": "error",
     "traceback": [
      "\u001b[0;31m---------------------------------------------------------------------------\u001b[0m",
      "\u001b[0;31mValueError\u001b[0m                                Traceback (most recent call last)",
      "\u001b[0;32m/tmp/ipykernel_39388/2137952915.py\u001b[0m in \u001b[0;36m<module>\u001b[0;34m\u001b[0m\n\u001b[0;32m----> 1\u001b[0;31m \u001b[0mcsr\u001b[0m\u001b[0;34m.\u001b[0m\u001b[0mget_count_data_path\u001b[0m\u001b[0;34m(\u001b[0m\u001b[0;36m2.5\u001b[0m\u001b[0;34m,\u001b[0m \u001b[0;32mNone\u001b[0m\u001b[0;34m,\u001b[0m \u001b[0mfake_models\u001b[0m\u001b[0;34m)\u001b[0m\u001b[0;34m\u001b[0m\u001b[0;34m\u001b[0m\u001b[0m\n\u001b[0m",
      "\u001b[0;32m~/vivarium_research_ciff_sam/model_validation/ciff_sam_results.py\u001b[0m in \u001b[0;36mget_count_data_path\u001b[0;34m(model_id, run_id, models_df)\u001b[0m\n\u001b[1;32m     28\u001b[0m     \u001b[0;32mif\u001b[0m \u001b[0mrun_id\u001b[0m \u001b[0;32mis\u001b[0m \u001b[0;32mNone\u001b[0m\u001b[0;34m:\u001b[0m\u001b[0;34m\u001b[0m\u001b[0;34m\u001b[0m\u001b[0m\n\u001b[1;32m     29\u001b[0m         \u001b[0;32mif\u001b[0m \u001b[0mlen\u001b[0m\u001b[0;34m(\u001b[0m\u001b[0mmodel_metadata\u001b[0m\u001b[0;34m[\u001b[0m\u001b[0;34m[\u001b[0m\u001b[0;34m'run_id'\u001b[0m\u001b[0;34m]\u001b[0m\u001b[0;34m]\u001b[0m\u001b[0;34m)\u001b[0m \u001b[0;34m>\u001b[0m \u001b[0;36m1\u001b[0m\u001b[0;34m:\u001b[0m\u001b[0;34m\u001b[0m\u001b[0;34m\u001b[0m\u001b[0m\n\u001b[0;32m---> 30\u001b[0;31m             raise ValueError(\n\u001b[0m\u001b[1;32m     31\u001b[0m                 \u001b[0;34mf\"You must specify the run_id for model_id {model_id} because\"\u001b[0m\u001b[0;34m\u001b[0m\u001b[0;34m\u001b[0m\u001b[0m\n\u001b[1;32m     32\u001b[0m                 \u001b[0;34mf\" there is more than one run_id:\\n{model_metadata}\"\u001b[0m\u001b[0;34m\u001b[0m\u001b[0;34m\u001b[0m\u001b[0m\n",
      "\u001b[0;31mValueError\u001b[0m: You must specify the run_id for model_id 2.5 because there is more than one run_id:\n             model_name               run_id\nmodel_id                                    \n2.5       v2.5_stunting  2021_08_05_16_17_12\n2.5       v2.5_stunting  2021_08_07_14_10_05"
     ]
    }
   ],
   "source": [
    "csr.get_count_data_path(2.5, None, fake_models)"
   ]
  },
  {
   "cell_type": "code",
   "execution_count": 212,
   "id": "ebc2f7d3",
   "metadata": {},
   "outputs": [
    {
     "data": {
      "text/plain": [
       "'/ihme/costeffectiveness/results/vivarium_ciff_sam/v2.5_stunting/ciff_sam/2021_08_05_16_17_12/count_data/'"
      ]
     },
     "execution_count": 212,
     "metadata": {},
     "output_type": "execute_result"
    }
   ],
   "source": [
    "csr.get_count_data_path(2.5, '2021_08_05_16_17_12', fake_models)"
   ]
  },
  {
   "cell_type": "code",
   "execution_count": 213,
   "id": "46904b8b",
   "metadata": {},
   "outputs": [
    {
     "data": {
      "text/plain": [
       "True"
      ]
     },
     "execution_count": 213,
     "metadata": {},
     "output_type": "execute_result"
    }
   ],
   "source": [
    "csr.get_count_data_path(2.5, '2021_08_05_16_17_12', fake_models) == get_count_data_path(2.5)"
   ]
  },
  {
   "cell_type": "code",
   "execution_count": 214,
   "id": "f040fa56",
   "metadata": {},
   "outputs": [
    {
     "ename": "ValueError",
     "evalue": "No run_id 45559 for model_id 2.5:\nmodel_name          v2.5_stunting\nrun_id        2021_08_05_16_17_12\nName: 2.5, dtype: object",
     "output_type": "error",
     "traceback": [
      "\u001b[0;31m---------------------------------------------------------------------------\u001b[0m",
      "\u001b[0;31mValueError\u001b[0m                                Traceback (most recent call last)",
      "\u001b[0;32m/tmp/ipykernel_39388/3992573434.py\u001b[0m in \u001b[0;36m<module>\u001b[0;34m\u001b[0m\n\u001b[0;32m----> 1\u001b[0;31m \u001b[0mcsr\u001b[0m\u001b[0;34m.\u001b[0m\u001b[0mget_count_data_path\u001b[0m\u001b[0;34m(\u001b[0m\u001b[0;36m2.5\u001b[0m\u001b[0;34m,\u001b[0m \u001b[0;34m'45559'\u001b[0m\u001b[0;34m)\u001b[0m\u001b[0;34m\u001b[0m\u001b[0;34m\u001b[0m\u001b[0m\n\u001b[0m",
      "\u001b[0;32m~/vivarium_research_ciff_sam/model_validation/ciff_sam_results.py\u001b[0m in \u001b[0;36mget_count_data_path\u001b[0;34m(model_id, run_id, models_df)\u001b[0m\n\u001b[1;32m     43\u001b[0m                 \u001b[0mmodel_metadata\u001b[0m \u001b[0;34m=\u001b[0m \u001b[0mmodel_metadata\u001b[0m\u001b[0;34m.\u001b[0m\u001b[0mloc\u001b[0m\u001b[0;34m[\u001b[0m\u001b[0mmatching_run\u001b[0m\u001b[0;34m]\u001b[0m\u001b[0;34m.\u001b[0m\u001b[0msqueeze\u001b[0m\u001b[0;34m(\u001b[0m\u001b[0;34m)\u001b[0m\u001b[0;34m\u001b[0m\u001b[0;34m\u001b[0m\u001b[0m\n\u001b[1;32m     44\u001b[0m         \u001b[0;32melse\u001b[0m\u001b[0;34m:\u001b[0m\u001b[0;34m\u001b[0m\u001b[0;34m\u001b[0m\u001b[0m\n\u001b[0;32m---> 45\u001b[0;31m             \u001b[0;32mraise\u001b[0m \u001b[0mValueError\u001b[0m\u001b[0;34m(\u001b[0m\u001b[0;34mf\"No run_id {run_id} for model_id {model_id}:\\n{model_metadata}\"\u001b[0m\u001b[0;34m)\u001b[0m\u001b[0;34m\u001b[0m\u001b[0;34m\u001b[0m\u001b[0m\n\u001b[0m\u001b[1;32m     46\u001b[0m         \u001b[0mmodel_name\u001b[0m \u001b[0;34m=\u001b[0m \u001b[0mmodel_metadata\u001b[0m\u001b[0;34m[\u001b[0m\u001b[0;34m'model_name'\u001b[0m\u001b[0;34m]\u001b[0m\u001b[0;34m\u001b[0m\u001b[0;34m\u001b[0m\u001b[0m\n\u001b[1;32m     47\u001b[0m \u001b[0;31m#         print(model_metadata, len(model_metadata), model_name,'\\n',run_id)\u001b[0m\u001b[0;34m\u001b[0m\u001b[0;34m\u001b[0m\u001b[0;34m\u001b[0m\u001b[0m\n",
      "\u001b[0;31mValueError\u001b[0m: No run_id 45559 for model_id 2.5:\nmodel_name          v2.5_stunting\nrun_id        2021_08_05_16_17_12\nName: 2.5, dtype: object"
     ]
    }
   ],
   "source": [
    "csr.get_count_data_path(2.5, '45559')"
   ]
  },
  {
   "cell_type": "code",
   "execution_count": 215,
   "id": "9404bcc7",
   "metadata": {},
   "outputs": [
    {
     "ename": "ValueError",
     "evalue": "No run_id 45559 for model_id 2.5:\n             model_name               run_id\nmodel_id                                    \n2.5       v2.5_stunting  2021_08_05_16_17_12\n2.5       v2.5_stunting  2021_08_07_14_10_05",
     "output_type": "error",
     "traceback": [
      "\u001b[0;31m---------------------------------------------------------------------------\u001b[0m",
      "\u001b[0;31mValueError\u001b[0m                                Traceback (most recent call last)",
      "\u001b[0;32m/tmp/ipykernel_39388/1132943395.py\u001b[0m in \u001b[0;36m<module>\u001b[0;34m\u001b[0m\n\u001b[0;32m----> 1\u001b[0;31m \u001b[0mcsr\u001b[0m\u001b[0;34m.\u001b[0m\u001b[0mget_count_data_path\u001b[0m\u001b[0;34m(\u001b[0m\u001b[0;36m2.5\u001b[0m\u001b[0;34m,\u001b[0m \u001b[0;34m'45559'\u001b[0m\u001b[0;34m,\u001b[0m \u001b[0mfake_models\u001b[0m\u001b[0;34m)\u001b[0m\u001b[0;34m\u001b[0m\u001b[0;34m\u001b[0m\u001b[0m\n\u001b[0m",
      "\u001b[0;32m~/vivarium_research_ciff_sam/model_validation/ciff_sam_results.py\u001b[0m in \u001b[0;36mget_count_data_path\u001b[0;34m(model_id, run_id, models_df)\u001b[0m\n\u001b[1;32m     43\u001b[0m                 \u001b[0mmodel_metadata\u001b[0m \u001b[0;34m=\u001b[0m \u001b[0mmodel_metadata\u001b[0m\u001b[0;34m.\u001b[0m\u001b[0mloc\u001b[0m\u001b[0;34m[\u001b[0m\u001b[0mmatching_run\u001b[0m\u001b[0;34m]\u001b[0m\u001b[0;34m.\u001b[0m\u001b[0msqueeze\u001b[0m\u001b[0;34m(\u001b[0m\u001b[0;34m)\u001b[0m\u001b[0;34m\u001b[0m\u001b[0;34m\u001b[0m\u001b[0m\n\u001b[1;32m     44\u001b[0m         \u001b[0;32melse\u001b[0m\u001b[0;34m:\u001b[0m\u001b[0;34m\u001b[0m\u001b[0;34m\u001b[0m\u001b[0m\n\u001b[0;32m---> 45\u001b[0;31m             \u001b[0;32mraise\u001b[0m \u001b[0mValueError\u001b[0m\u001b[0;34m(\u001b[0m\u001b[0;34mf\"No run_id {run_id} for model_id {model_id}:\\n{model_metadata}\"\u001b[0m\u001b[0;34m)\u001b[0m\u001b[0;34m\u001b[0m\u001b[0;34m\u001b[0m\u001b[0m\n\u001b[0m\u001b[1;32m     46\u001b[0m         \u001b[0mmodel_name\u001b[0m \u001b[0;34m=\u001b[0m \u001b[0mmodel_metadata\u001b[0m\u001b[0;34m[\u001b[0m\u001b[0;34m'model_name'\u001b[0m\u001b[0;34m]\u001b[0m\u001b[0;34m\u001b[0m\u001b[0;34m\u001b[0m\u001b[0m\n\u001b[1;32m     47\u001b[0m \u001b[0;31m#         print(model_metadata, len(model_metadata), model_name,'\\n',run_id)\u001b[0m\u001b[0;34m\u001b[0m\u001b[0;34m\u001b[0m\u001b[0;34m\u001b[0m\u001b[0m\n",
      "\u001b[0;31mValueError\u001b[0m: No run_id 45559 for model_id 2.5:\n             model_name               run_id\nmodel_id                                    \n2.5       v2.5_stunting  2021_08_05_16_17_12\n2.5       v2.5_stunting  2021_08_07_14_10_05"
     ]
    }
   ],
   "source": [
    "csr.get_count_data_path(2.5, '45559', fake_models)"
   ]
  },
  {
   "cell_type": "code",
   "execution_count": 216,
   "id": "baa07e90",
   "metadata": {},
   "outputs": [
    {
     "data": {
      "text/plain": [
       "True"
      ]
     },
     "execution_count": 216,
     "metadata": {},
     "output_type": "execute_result"
    }
   ],
   "source": [
    "csr.get_count_data_path(2.5) == csr.get_count_data_path(2.5, '2021_08_05_16_17_12')"
   ]
  },
  {
   "cell_type": "code",
   "execution_count": 200,
   "id": "f09d5849",
   "metadata": {},
   "outputs": [
    {
     "data": {
      "text/plain": [
       "True"
      ]
     },
     "execution_count": 200,
     "metadata": {},
     "output_type": "execute_result"
    }
   ],
   "source": [
    "isinstance(True, bool)"
   ]
  },
  {
   "cell_type": "markdown",
   "id": "938ba835",
   "metadata": {},
   "source": [
    "# Test VivariumMeasures class"
   ]
  },
  {
   "cell_type": "code",
   "execution_count": 76,
   "id": "00316dfe",
   "metadata": {},
   "outputs": [
    {
     "data": {
      "text/plain": [
       "'/ihme/costeffectiveness/results/vivarium_ciff_sam/v2.5_stunting/ciff_sam/2021_08_05_16_17_12/count_data/'"
      ]
     },
     "execution_count": 76,
     "metadata": {},
     "output_type": "execute_result"
    }
   ],
   "source": [
    "path25 = get_count_data_path(2.5)\n",
    "path25"
   ]
  },
  {
   "cell_type": "code",
   "execution_count": 77,
   "id": "d3150123",
   "metadata": {},
   "outputs": [
    {
     "data": {
      "text/plain": [
       "['wasting_transition_count',\n",
       " 'wasting_state_person_time',\n",
       " 'deaths',\n",
       " 'population',\n",
       " 'ylls',\n",
       " 'ylds',\n",
       " 'disease_state_person_time',\n",
       " 'disease_transition_count']"
      ]
     },
     "execution_count": 77,
     "metadata": {},
     "output_type": "execute_result"
    }
   ],
   "source": [
    "data = csr.VivariumMeasures.from_directory(path25)\n",
    "data.table_names()"
   ]
  },
  {
   "cell_type": "code",
   "execution_count": 78,
   "id": "05920e38",
   "metadata": {},
   "outputs": [
    {
     "data": {
      "text/plain": [
       "model_validation.ciff_sam_results.VivariumMeasures"
      ]
     },
     "execution_count": 78,
     "metadata": {},
     "output_type": "execute_result"
    }
   ],
   "source": [
    "type(data)"
   ]
  },
  {
   "cell_type": "code",
   "execution_count": 114,
   "id": "03742705",
   "metadata": {},
   "outputs": [
    {
     "data": {
      "text/plain": [
       "['wasting_transition_count',\n",
       " 'wasting_state_person_time',\n",
       " 'deaths',\n",
       " 'population',\n",
       " 'ylls',\n",
       " 'ylds',\n",
       " 'disease_state_person_time',\n",
       " 'disease_transition_count']"
      ]
     },
     "execution_count": 114,
     "metadata": {},
     "output_type": "execute_result"
    }
   ],
   "source": [
    "orig_data = vto.VivariumTransformedOutput.from_directory(path25)\n",
    "orig_data.table_names()"
   ]
  },
  {
   "cell_type": "code",
   "execution_count": 115,
   "id": "ef314ae1",
   "metadata": {},
   "outputs": [
    {
     "data": {
      "text/plain": [
       "['wasting_transition_count',\n",
       " 'wasting_state_person_time',\n",
       " 'deaths',\n",
       " 'population',\n",
       " 'ylls',\n",
       " 'ylds',\n",
       " 'disease_state_person_time',\n",
       " 'disease_transition_count']"
      ]
     },
     "execution_count": 115,
     "metadata": {},
     "output_type": "execute_result"
    }
   ],
   "source": [
    "data2 = csr.VivariumMeasures(orig_data)\n",
    "data2.table_names()"
   ]
  },
  {
   "cell_type": "markdown",
   "id": "cb695901",
   "metadata": {},
   "source": [
    "## Test mixin method `__eq__`...\n",
    "\n",
    "It doesn't work because it uses `==` for dataframes instead of `.equals()`"
   ]
  },
  {
   "cell_type": "code",
   "execution_count": 116,
   "id": "1d27377d",
   "metadata": {},
   "outputs": [
    {
     "ename": "ValueError",
     "evalue": "The truth value of a DataFrame is ambiguous. Use a.empty, a.bool(), a.item(), a.any() or a.all().",
     "output_type": "error",
     "traceback": [
      "\u001b[0;31m---------------------------------------------------------------------------\u001b[0m",
      "\u001b[0;31mValueError\u001b[0m                                Traceback (most recent call last)",
      "\u001b[0;32m/tmp/ipykernel_39388/3284603262.py\u001b[0m in \u001b[0;36m<module>\u001b[0;34m\u001b[0m\n\u001b[0;32m----> 1\u001b[0;31m \u001b[0mdata2\u001b[0m \u001b[0;34m==\u001b[0m \u001b[0mdata\u001b[0m\u001b[0;34m\u001b[0m\u001b[0;34m\u001b[0m\u001b[0m\n\u001b[0m",
      "\u001b[0;32m~/miniconda3/envs/ciff-sam-38/lib/python3.8/_collections_abc.py\u001b[0m in \u001b[0;36m__eq__\u001b[0;34m(self, other)\u001b[0m\n\u001b[1;32m    685\u001b[0m         \u001b[0;32mif\u001b[0m \u001b[0;32mnot\u001b[0m \u001b[0misinstance\u001b[0m\u001b[0;34m(\u001b[0m\u001b[0mother\u001b[0m\u001b[0;34m,\u001b[0m \u001b[0mMapping\u001b[0m\u001b[0;34m)\u001b[0m\u001b[0;34m:\u001b[0m\u001b[0;34m\u001b[0m\u001b[0;34m\u001b[0m\u001b[0m\n\u001b[1;32m    686\u001b[0m             \u001b[0;32mreturn\u001b[0m \u001b[0mNotImplemented\u001b[0m\u001b[0;34m\u001b[0m\u001b[0;34m\u001b[0m\u001b[0m\n\u001b[0;32m--> 687\u001b[0;31m         \u001b[0;32mreturn\u001b[0m \u001b[0mdict\u001b[0m\u001b[0;34m(\u001b[0m\u001b[0mself\u001b[0m\u001b[0;34m.\u001b[0m\u001b[0mitems\u001b[0m\u001b[0;34m(\u001b[0m\u001b[0;34m)\u001b[0m\u001b[0;34m)\u001b[0m \u001b[0;34m==\u001b[0m \u001b[0mdict\u001b[0m\u001b[0;34m(\u001b[0m\u001b[0mother\u001b[0m\u001b[0;34m.\u001b[0m\u001b[0mitems\u001b[0m\u001b[0;34m(\u001b[0m\u001b[0;34m)\u001b[0m\u001b[0;34m)\u001b[0m\u001b[0;34m\u001b[0m\u001b[0;34m\u001b[0m\u001b[0m\n\u001b[0m\u001b[1;32m    688\u001b[0m \u001b[0;34m\u001b[0m\u001b[0m\n\u001b[1;32m    689\u001b[0m     \u001b[0m__reversed__\u001b[0m \u001b[0;34m=\u001b[0m \u001b[0;32mNone\u001b[0m\u001b[0;34m\u001b[0m\u001b[0;34m\u001b[0m\u001b[0m\n",
      "\u001b[0;32m~/miniconda3/envs/ciff-sam-38/lib/python3.8/site-packages/pandas/core/generic.py\u001b[0m in \u001b[0;36m__nonzero__\u001b[0;34m(self)\u001b[0m\n\u001b[1;32m   1532\u001b[0m     \u001b[0;34m@\u001b[0m\u001b[0mfinal\u001b[0m\u001b[0;34m\u001b[0m\u001b[0;34m\u001b[0m\u001b[0m\n\u001b[1;32m   1533\u001b[0m     \u001b[0;32mdef\u001b[0m \u001b[0m__nonzero__\u001b[0m\u001b[0;34m(\u001b[0m\u001b[0mself\u001b[0m\u001b[0;34m)\u001b[0m\u001b[0;34m:\u001b[0m\u001b[0;34m\u001b[0m\u001b[0;34m\u001b[0m\u001b[0m\n\u001b[0;32m-> 1534\u001b[0;31m         raise ValueError(\n\u001b[0m\u001b[1;32m   1535\u001b[0m             \u001b[0;34mf\"The truth value of a {type(self).__name__} is ambiguous. \"\u001b[0m\u001b[0;34m\u001b[0m\u001b[0;34m\u001b[0m\u001b[0m\n\u001b[1;32m   1536\u001b[0m             \u001b[0;34m\"Use a.empty, a.bool(), a.item(), a.any() or a.all().\"\u001b[0m\u001b[0;34m\u001b[0m\u001b[0;34m\u001b[0m\u001b[0m\n",
      "\u001b[0;31mValueError\u001b[0m: The truth value of a DataFrame is ambiguous. Use a.empty, a.bool(), a.item(), a.any() or a.all()."
     ]
    }
   ],
   "source": [
    "data2 == data"
   ]
  },
  {
   "cell_type": "markdown",
   "id": "b248607e",
   "metadata": {},
   "source": [
    "# Test classmethod `from_model_spec`"
   ]
  },
  {
   "cell_type": "code",
   "execution_count": 217,
   "id": "cde9cea4",
   "metadata": {},
   "outputs": [
    {
     "data": {
      "text/plain": [
       "['wasting_transition_count',\n",
       " 'wasting_state_person_time',\n",
       " 'deaths',\n",
       " 'population',\n",
       " 'ylls',\n",
       " 'ylds',\n",
       " 'disease_state_person_time',\n",
       " 'disease_transition_count']"
      ]
     },
     "execution_count": 217,
     "metadata": {},
     "output_type": "execute_result"
    }
   ],
   "source": [
    "data24 = csr.VivariumMeasures.from_model_spec(2.4)\n",
    "data24.table_names()"
   ]
  },
  {
   "cell_type": "code",
   "execution_count": 218,
   "id": "a744ca4d",
   "metadata": {},
   "outputs": [
    {
     "data": {
      "text/html": [
       "<div>\n",
       "<style scoped>\n",
       "    .dataframe tbody tr th:only-of-type {\n",
       "        vertical-align: middle;\n",
       "    }\n",
       "\n",
       "    .dataframe tbody tr th {\n",
       "        vertical-align: top;\n",
       "    }\n",
       "\n",
       "    .dataframe thead th {\n",
       "        text-align: right;\n",
       "    }\n",
       "</style>\n",
       "<table border=\"1\" class=\"dataframe\">\n",
       "  <thead>\n",
       "    <tr style=\"text-align: right;\">\n",
       "      <th></th>\n",
       "      <th>sex</th>\n",
       "      <th>year</th>\n",
       "      <th>cause</th>\n",
       "      <th>measure</th>\n",
       "      <th>input_draw</th>\n",
       "      <th>scenario</th>\n",
       "      <th>value</th>\n",
       "      <th>wasting_state</th>\n",
       "      <th>age</th>\n",
       "    </tr>\n",
       "  </thead>\n",
       "  <tbody>\n",
       "    <tr>\n",
       "      <th>0</th>\n",
       "      <td>female</td>\n",
       "      <td>2022</td>\n",
       "      <td>diarrheal_diseases</td>\n",
       "      <td>death</td>\n",
       "      <td>29</td>\n",
       "      <td>baseline</td>\n",
       "      <td>22.0</td>\n",
       "      <td>susceptible_to_child_wasting</td>\n",
       "      <td>early_neonatal</td>\n",
       "    </tr>\n",
       "    <tr>\n",
       "      <th>1</th>\n",
       "      <td>female</td>\n",
       "      <td>2022</td>\n",
       "      <td>diarrheal_diseases</td>\n",
       "      <td>death</td>\n",
       "      <td>29</td>\n",
       "      <td>baseline</td>\n",
       "      <td>6.0</td>\n",
       "      <td>mild_child_wasting</td>\n",
       "      <td>early_neonatal</td>\n",
       "    </tr>\n",
       "    <tr>\n",
       "      <th>2</th>\n",
       "      <td>female</td>\n",
       "      <td>2022</td>\n",
       "      <td>diarrheal_diseases</td>\n",
       "      <td>death</td>\n",
       "      <td>29</td>\n",
       "      <td>baseline</td>\n",
       "      <td>3.0</td>\n",
       "      <td>moderate_acute_malnutrition</td>\n",
       "      <td>early_neonatal</td>\n",
       "    </tr>\n",
       "    <tr>\n",
       "      <th>3</th>\n",
       "      <td>female</td>\n",
       "      <td>2022</td>\n",
       "      <td>diarrheal_diseases</td>\n",
       "      <td>death</td>\n",
       "      <td>29</td>\n",
       "      <td>baseline</td>\n",
       "      <td>0.0</td>\n",
       "      <td>severe_acute_malnutrition</td>\n",
       "      <td>early_neonatal</td>\n",
       "    </tr>\n",
       "    <tr>\n",
       "      <th>...</th>\n",
       "      <td>...</td>\n",
       "      <td>...</td>\n",
       "      <td>...</td>\n",
       "      <td>...</td>\n",
       "      <td>...</td>\n",
       "      <td>...</td>\n",
       "      <td>...</td>\n",
       "      <td>...</td>\n",
       "      <td>...</td>\n",
       "    </tr>\n",
       "    <tr>\n",
       "      <th>17276</th>\n",
       "      <td>male</td>\n",
       "      <td>2026</td>\n",
       "      <td>severe_acute_malnutrition</td>\n",
       "      <td>death</td>\n",
       "      <td>946</td>\n",
       "      <td>baseline</td>\n",
       "      <td>0.0</td>\n",
       "      <td>susceptible_to_child_wasting</td>\n",
       "      <td>2_to_4</td>\n",
       "    </tr>\n",
       "    <tr>\n",
       "      <th>17277</th>\n",
       "      <td>male</td>\n",
       "      <td>2026</td>\n",
       "      <td>severe_acute_malnutrition</td>\n",
       "      <td>death</td>\n",
       "      <td>946</td>\n",
       "      <td>baseline</td>\n",
       "      <td>0.0</td>\n",
       "      <td>mild_child_wasting</td>\n",
       "      <td>2_to_4</td>\n",
       "    </tr>\n",
       "    <tr>\n",
       "      <th>17278</th>\n",
       "      <td>male</td>\n",
       "      <td>2026</td>\n",
       "      <td>severe_acute_malnutrition</td>\n",
       "      <td>death</td>\n",
       "      <td>946</td>\n",
       "      <td>baseline</td>\n",
       "      <td>0.0</td>\n",
       "      <td>moderate_acute_malnutrition</td>\n",
       "      <td>2_to_4</td>\n",
       "    </tr>\n",
       "    <tr>\n",
       "      <th>17279</th>\n",
       "      <td>male</td>\n",
       "      <td>2026</td>\n",
       "      <td>severe_acute_malnutrition</td>\n",
       "      <td>death</td>\n",
       "      <td>946</td>\n",
       "      <td>baseline</td>\n",
       "      <td>4.0</td>\n",
       "      <td>severe_acute_malnutrition</td>\n",
       "      <td>2_to_4</td>\n",
       "    </tr>\n",
       "  </tbody>\n",
       "</table>\n",
       "<p>17280 rows × 9 columns</p>\n",
       "</div>"
      ],
      "text/plain": [
       "          sex  year                      cause measure  input_draw  scenario  \\\n",
       "0      female  2022         diarrheal_diseases   death          29  baseline   \n",
       "1      female  2022         diarrheal_diseases   death          29  baseline   \n",
       "2      female  2022         diarrheal_diseases   death          29  baseline   \n",
       "3      female  2022         diarrheal_diseases   death          29  baseline   \n",
       "...       ...   ...                        ...     ...         ...       ...   \n",
       "17276    male  2026  severe_acute_malnutrition   death         946  baseline   \n",
       "17277    male  2026  severe_acute_malnutrition   death         946  baseline   \n",
       "17278    male  2026  severe_acute_malnutrition   death         946  baseline   \n",
       "17279    male  2026  severe_acute_malnutrition   death         946  baseline   \n",
       "\n",
       "       value                 wasting_state             age  \n",
       "0       22.0  susceptible_to_child_wasting  early_neonatal  \n",
       "1        6.0            mild_child_wasting  early_neonatal  \n",
       "2        3.0   moderate_acute_malnutrition  early_neonatal  \n",
       "3        0.0     severe_acute_malnutrition  early_neonatal  \n",
       "...      ...                           ...             ...  \n",
       "17276    0.0  susceptible_to_child_wasting          2_to_4  \n",
       "17277    0.0            mild_child_wasting          2_to_4  \n",
       "17278    0.0   moderate_acute_malnutrition          2_to_4  \n",
       "17279    4.0     severe_acute_malnutrition          2_to_4  \n",
       "\n",
       "[17280 rows x 9 columns]"
      ]
     },
     "execution_count": 218,
     "metadata": {},
     "output_type": "execute_result"
    }
   ],
   "source": [
    "data24.deaths"
   ]
  },
  {
   "cell_type": "code",
   "execution_count": 219,
   "id": "0137abb3",
   "metadata": {},
   "outputs": [
    {
     "data": {
      "text/plain": [
       "model_validation.ciff_sam_results.VivariumMeasures"
      ]
     },
     "execution_count": 219,
     "metadata": {},
     "output_type": "execute_result"
    }
   ],
   "source": [
    "type(data24)"
   ]
  },
  {
   "cell_type": "code",
   "execution_count": 221,
   "id": "78801a20",
   "metadata": {},
   "outputs": [
    {
     "data": {
      "text/plain": [
       "['stunting_state_person_time']"
      ]
     },
     "execution_count": 221,
     "metadata": {},
     "output_type": "execute_result"
    }
   ],
   "source": [
    "data30 = csr.VivariumMeasures.from_model_spec(3.0)\n",
    "data30.table_names()"
   ]
  },
  {
   "cell_type": "code",
   "execution_count": 222,
   "id": "27b3e018",
   "metadata": {},
   "outputs": [
    {
     "data": {
      "text/html": [
       "<div>\n",
       "<style scoped>\n",
       "    .dataframe tbody tr th:only-of-type {\n",
       "        vertical-align: middle;\n",
       "    }\n",
       "\n",
       "    .dataframe tbody tr th {\n",
       "        vertical-align: top;\n",
       "    }\n",
       "\n",
       "    .dataframe thead th {\n",
       "        text-align: right;\n",
       "    }\n",
       "</style>\n",
       "<table border=\"1\" class=\"dataframe\">\n",
       "  <thead>\n",
       "    <tr style=\"text-align: right;\">\n",
       "      <th></th>\n",
       "      <th>cause</th>\n",
       "      <th>measure</th>\n",
       "      <th>input_draw</th>\n",
       "      <th>scenario</th>\n",
       "      <th>value</th>\n",
       "      <th>sq_lns</th>\n",
       "    </tr>\n",
       "  </thead>\n",
       "  <tbody>\n",
       "    <tr>\n",
       "      <th>0</th>\n",
       "      <td></td>\n",
       "      <td>state_person_time</td>\n",
       "      <td>29</td>\n",
       "      <td>baseline</td>\n",
       "      <td>0.000000e+00</td>\n",
       "      <td>covered</td>\n",
       "    </tr>\n",
       "    <tr>\n",
       "      <th>1</th>\n",
       "      <td></td>\n",
       "      <td>state_person_time</td>\n",
       "      <td>29</td>\n",
       "      <td>baseline</td>\n",
       "      <td>1.204420e+06</td>\n",
       "      <td>uncovered</td>\n",
       "    </tr>\n",
       "    <tr>\n",
       "      <th>2</th>\n",
       "      <td></td>\n",
       "      <td>state_person_time</td>\n",
       "      <td>29</td>\n",
       "      <td>baseline</td>\n",
       "      <td>0.000000e+00</td>\n",
       "      <td>covered</td>\n",
       "    </tr>\n",
       "    <tr>\n",
       "      <th>3</th>\n",
       "      <td></td>\n",
       "      <td>state_person_time</td>\n",
       "      <td>29</td>\n",
       "      <td>baseline</td>\n",
       "      <td>5.181539e+05</td>\n",
       "      <td>uncovered</td>\n",
       "    </tr>\n",
       "    <tr>\n",
       "      <th>...</th>\n",
       "      <td>...</td>\n",
       "      <td>...</td>\n",
       "      <td>...</td>\n",
       "      <td>...</td>\n",
       "      <td>...</td>\n",
       "      <td>...</td>\n",
       "    </tr>\n",
       "    <tr>\n",
       "      <th>188</th>\n",
       "      <td></td>\n",
       "      <td>state_person_time</td>\n",
       "      <td>946</td>\n",
       "      <td>treatment_and_prevention</td>\n",
       "      <td>3.078697e+05</td>\n",
       "      <td>covered</td>\n",
       "    </tr>\n",
       "    <tr>\n",
       "      <th>189</th>\n",
       "      <td></td>\n",
       "      <td>state_person_time</td>\n",
       "      <td>946</td>\n",
       "      <td>treatment_and_prevention</td>\n",
       "      <td>1.515505e+05</td>\n",
       "      <td>uncovered</td>\n",
       "    </tr>\n",
       "    <tr>\n",
       "      <th>190</th>\n",
       "      <td></td>\n",
       "      <td>state_person_time</td>\n",
       "      <td>946</td>\n",
       "      <td>treatment_and_prevention</td>\n",
       "      <td>2.579365e+05</td>\n",
       "      <td>covered</td>\n",
       "    </tr>\n",
       "    <tr>\n",
       "      <th>191</th>\n",
       "      <td></td>\n",
       "      <td>state_person_time</td>\n",
       "      <td>946</td>\n",
       "      <td>treatment_and_prevention</td>\n",
       "      <td>1.271639e+05</td>\n",
       "      <td>uncovered</td>\n",
       "    </tr>\n",
       "  </tbody>\n",
       "</table>\n",
       "<p>192 rows × 6 columns</p>\n",
       "</div>"
      ],
      "text/plain": [
       "    cause            measure  input_draw                  scenario  \\\n",
       "0          state_person_time          29                  baseline   \n",
       "1          state_person_time          29                  baseline   \n",
       "2          state_person_time          29                  baseline   \n",
       "3          state_person_time          29                  baseline   \n",
       "..    ...                ...         ...                       ...   \n",
       "188        state_person_time         946  treatment_and_prevention   \n",
       "189        state_person_time         946  treatment_and_prevention   \n",
       "190        state_person_time         946  treatment_and_prevention   \n",
       "191        state_person_time         946  treatment_and_prevention   \n",
       "\n",
       "            value     sq_lns  \n",
       "0    0.000000e+00    covered  \n",
       "1    1.204420e+06  uncovered  \n",
       "2    0.000000e+00    covered  \n",
       "3    5.181539e+05  uncovered  \n",
       "..            ...        ...  \n",
       "188  3.078697e+05    covered  \n",
       "189  1.515505e+05  uncovered  \n",
       "190  2.579365e+05    covered  \n",
       "191  1.271639e+05  uncovered  \n",
       "\n",
       "[192 rows x 6 columns]"
      ]
     },
     "execution_count": 222,
     "metadata": {},
     "output_type": "execute_result"
    }
   ],
   "source": [
    "data30.stunting_state_person_time"
   ]
  },
  {
   "cell_type": "markdown",
   "id": "96a6247d",
   "metadata": {},
   "source": [
    "# Test `clean_transformed_data` function"
   ]
  },
  {
   "cell_type": "code",
   "execution_count": 226,
   "id": "ca589f69",
   "metadata": {},
   "outputs": [
    {
     "data": {
      "text/plain": [
       "['wasting_transition_count', 'disease_transition_count']"
      ]
     },
     "execution_count": 226,
     "metadata": {},
     "output_type": "execute_result"
    }
   ],
   "source": [
    "[x for x in data24 if x.endswith('transition_count')]"
   ]
  },
  {
   "cell_type": "code",
   "execution_count": 227,
   "id": "88a30b43",
   "metadata": {},
   "outputs": [
    {
     "data": {
      "text/html": [
       "<div>\n",
       "<style scoped>\n",
       "    .dataframe tbody tr th:only-of-type {\n",
       "        vertical-align: middle;\n",
       "    }\n",
       "\n",
       "    .dataframe tbody tr th {\n",
       "        vertical-align: top;\n",
       "    }\n",
       "\n",
       "    .dataframe thead th {\n",
       "        text-align: right;\n",
       "    }\n",
       "</style>\n",
       "<table border=\"1\" class=\"dataframe\">\n",
       "  <thead>\n",
       "    <tr style=\"text-align: right;\">\n",
       "      <th></th>\n",
       "      <th>sex</th>\n",
       "      <th>year</th>\n",
       "      <th>measure</th>\n",
       "      <th>input_draw</th>\n",
       "      <th>scenario</th>\n",
       "      <th>value</th>\n",
       "      <th>age</th>\n",
       "    </tr>\n",
       "  </thead>\n",
       "  <tbody>\n",
       "    <tr>\n",
       "      <th>0</th>\n",
       "      <td>female</td>\n",
       "      <td>2022</td>\n",
       "      <td>mild_child_wasting_to_moderate_acute_malnutrit...</td>\n",
       "      <td>29</td>\n",
       "      <td>baseline</td>\n",
       "      <td>1245.0</td>\n",
       "      <td>early_neonatal</td>\n",
       "    </tr>\n",
       "    <tr>\n",
       "      <th>1</th>\n",
       "      <td>female</td>\n",
       "      <td>2022</td>\n",
       "      <td>mild_child_wasting_to_moderate_acute_malnutrit...</td>\n",
       "      <td>29</td>\n",
       "      <td>baseline</td>\n",
       "      <td>3803.0</td>\n",
       "      <td>late_neonatal</td>\n",
       "    </tr>\n",
       "    <tr>\n",
       "      <th>2</th>\n",
       "      <td>female</td>\n",
       "      <td>2022</td>\n",
       "      <td>mild_child_wasting_to_moderate_acute_malnutrit...</td>\n",
       "      <td>29</td>\n",
       "      <td>baseline</td>\n",
       "      <td>29178.0</td>\n",
       "      <td>1-5_months</td>\n",
       "    </tr>\n",
       "    <tr>\n",
       "      <th>3</th>\n",
       "      <td>female</td>\n",
       "      <td>2022</td>\n",
       "      <td>mild_child_wasting_to_moderate_acute_malnutrit...</td>\n",
       "      <td>29</td>\n",
       "      <td>baseline</td>\n",
       "      <td>34038.0</td>\n",
       "      <td>6-11_months</td>\n",
       "    </tr>\n",
       "    <tr>\n",
       "      <th>...</th>\n",
       "      <td>...</td>\n",
       "      <td>...</td>\n",
       "      <td>...</td>\n",
       "      <td>...</td>\n",
       "      <td>...</td>\n",
       "      <td>...</td>\n",
       "      <td>...</td>\n",
       "    </tr>\n",
       "    <tr>\n",
       "      <th>5036</th>\n",
       "      <td>male</td>\n",
       "      <td>2026</td>\n",
       "      <td>susceptible_to_child_wasting_to_mild_child_was...</td>\n",
       "      <td>946</td>\n",
       "      <td>baseline</td>\n",
       "      <td>3330.0</td>\n",
       "      <td>1-5_months</td>\n",
       "    </tr>\n",
       "    <tr>\n",
       "      <th>5037</th>\n",
       "      <td>male</td>\n",
       "      <td>2026</td>\n",
       "      <td>susceptible_to_child_wasting_to_mild_child_was...</td>\n",
       "      <td>946</td>\n",
       "      <td>baseline</td>\n",
       "      <td>4391.0</td>\n",
       "      <td>6-11_months</td>\n",
       "    </tr>\n",
       "    <tr>\n",
       "      <th>5038</th>\n",
       "      <td>male</td>\n",
       "      <td>2026</td>\n",
       "      <td>susceptible_to_child_wasting_to_mild_child_was...</td>\n",
       "      <td>946</td>\n",
       "      <td>baseline</td>\n",
       "      <td>8691.0</td>\n",
       "      <td>12_to_23_months</td>\n",
       "    </tr>\n",
       "    <tr>\n",
       "      <th>5039</th>\n",
       "      <td>male</td>\n",
       "      <td>2026</td>\n",
       "      <td>susceptible_to_child_wasting_to_mild_child_was...</td>\n",
       "      <td>946</td>\n",
       "      <td>baseline</td>\n",
       "      <td>23097.0</td>\n",
       "      <td>2_to_4</td>\n",
       "    </tr>\n",
       "  </tbody>\n",
       "</table>\n",
       "<p>5040 rows × 7 columns</p>\n",
       "</div>"
      ],
      "text/plain": [
       "         sex  year                                            measure  \\\n",
       "0     female  2022  mild_child_wasting_to_moderate_acute_malnutrit...   \n",
       "1     female  2022  mild_child_wasting_to_moderate_acute_malnutrit...   \n",
       "2     female  2022  mild_child_wasting_to_moderate_acute_malnutrit...   \n",
       "3     female  2022  mild_child_wasting_to_moderate_acute_malnutrit...   \n",
       "...      ...   ...                                                ...   \n",
       "5036    male  2026  susceptible_to_child_wasting_to_mild_child_was...   \n",
       "5037    male  2026  susceptible_to_child_wasting_to_mild_child_was...   \n",
       "5038    male  2026  susceptible_to_child_wasting_to_mild_child_was...   \n",
       "5039    male  2026  susceptible_to_child_wasting_to_mild_child_was...   \n",
       "\n",
       "      input_draw  scenario    value              age  \n",
       "0             29  baseline   1245.0   early_neonatal  \n",
       "1             29  baseline   3803.0    late_neonatal  \n",
       "2             29  baseline  29178.0       1-5_months  \n",
       "3             29  baseline  34038.0      6-11_months  \n",
       "...          ...       ...      ...              ...  \n",
       "5036         946  baseline   3330.0       1-5_months  \n",
       "5037         946  baseline   4391.0      6-11_months  \n",
       "5038         946  baseline   8691.0  12_to_23_months  \n",
       "5039         946  baseline  23097.0           2_to_4  \n",
       "\n",
       "[5040 rows x 7 columns]"
      ]
     },
     "execution_count": 227,
     "metadata": {},
     "output_type": "execute_result"
    }
   ],
   "source": [
    "data.wasting_transition_count"
   ]
  },
  {
   "cell_type": "code",
   "execution_count": 231,
   "id": "ade06aed",
   "metadata": {},
   "outputs": [
    {
     "data": {
      "text/html": [
       "<div>\n",
       "<style scoped>\n",
       "    .dataframe tbody tr th:only-of-type {\n",
       "        vertical-align: middle;\n",
       "    }\n",
       "\n",
       "    .dataframe tbody tr th {\n",
       "        vertical-align: top;\n",
       "    }\n",
       "\n",
       "    .dataframe thead th {\n",
       "        text-align: right;\n",
       "    }\n",
       "</style>\n",
       "<table border=\"1\" class=\"dataframe\">\n",
       "  <thead>\n",
       "    <tr style=\"text-align: right;\">\n",
       "      <th></th>\n",
       "      <th>sex</th>\n",
       "      <th>year</th>\n",
       "      <th>measure</th>\n",
       "      <th>input_draw</th>\n",
       "      <th>scenario</th>\n",
       "      <th>value</th>\n",
       "      <th>age</th>\n",
       "      <th>transition</th>\n",
       "    </tr>\n",
       "  </thead>\n",
       "  <tbody>\n",
       "    <tr>\n",
       "      <th>0</th>\n",
       "      <td>female</td>\n",
       "      <td>2022</td>\n",
       "      <td>transition_count</td>\n",
       "      <td>29</td>\n",
       "      <td>baseline</td>\n",
       "      <td>1245.0</td>\n",
       "      <td>early_neonatal</td>\n",
       "      <td>mild_child_wasting_to_moderate_acute_malnutrition</td>\n",
       "    </tr>\n",
       "    <tr>\n",
       "      <th>1</th>\n",
       "      <td>female</td>\n",
       "      <td>2022</td>\n",
       "      <td>transition_count</td>\n",
       "      <td>29</td>\n",
       "      <td>baseline</td>\n",
       "      <td>3803.0</td>\n",
       "      <td>late_neonatal</td>\n",
       "      <td>mild_child_wasting_to_moderate_acute_malnutrition</td>\n",
       "    </tr>\n",
       "    <tr>\n",
       "      <th>2</th>\n",
       "      <td>female</td>\n",
       "      <td>2022</td>\n",
       "      <td>transition_count</td>\n",
       "      <td>29</td>\n",
       "      <td>baseline</td>\n",
       "      <td>29178.0</td>\n",
       "      <td>1-5_months</td>\n",
       "      <td>mild_child_wasting_to_moderate_acute_malnutrition</td>\n",
       "    </tr>\n",
       "    <tr>\n",
       "      <th>3</th>\n",
       "      <td>female</td>\n",
       "      <td>2022</td>\n",
       "      <td>transition_count</td>\n",
       "      <td>29</td>\n",
       "      <td>baseline</td>\n",
       "      <td>34038.0</td>\n",
       "      <td>6-11_months</td>\n",
       "      <td>mild_child_wasting_to_moderate_acute_malnutrition</td>\n",
       "    </tr>\n",
       "    <tr>\n",
       "      <th>...</th>\n",
       "      <td>...</td>\n",
       "      <td>...</td>\n",
       "      <td>...</td>\n",
       "      <td>...</td>\n",
       "      <td>...</td>\n",
       "      <td>...</td>\n",
       "      <td>...</td>\n",
       "      <td>...</td>\n",
       "    </tr>\n",
       "    <tr>\n",
       "      <th>5036</th>\n",
       "      <td>male</td>\n",
       "      <td>2026</td>\n",
       "      <td>transition_count</td>\n",
       "      <td>946</td>\n",
       "      <td>baseline</td>\n",
       "      <td>3330.0</td>\n",
       "      <td>1-5_months</td>\n",
       "      <td>susceptible_to_child_wasting_to_mild_child_was...</td>\n",
       "    </tr>\n",
       "    <tr>\n",
       "      <th>5037</th>\n",
       "      <td>male</td>\n",
       "      <td>2026</td>\n",
       "      <td>transition_count</td>\n",
       "      <td>946</td>\n",
       "      <td>baseline</td>\n",
       "      <td>4391.0</td>\n",
       "      <td>6-11_months</td>\n",
       "      <td>susceptible_to_child_wasting_to_mild_child_was...</td>\n",
       "    </tr>\n",
       "    <tr>\n",
       "      <th>5038</th>\n",
       "      <td>male</td>\n",
       "      <td>2026</td>\n",
       "      <td>transition_count</td>\n",
       "      <td>946</td>\n",
       "      <td>baseline</td>\n",
       "      <td>8691.0</td>\n",
       "      <td>12_to_23_months</td>\n",
       "      <td>susceptible_to_child_wasting_to_mild_child_was...</td>\n",
       "    </tr>\n",
       "    <tr>\n",
       "      <th>5039</th>\n",
       "      <td>male</td>\n",
       "      <td>2026</td>\n",
       "      <td>transition_count</td>\n",
       "      <td>946</td>\n",
       "      <td>baseline</td>\n",
       "      <td>23097.0</td>\n",
       "      <td>2_to_4</td>\n",
       "      <td>susceptible_to_child_wasting_to_mild_child_was...</td>\n",
       "    </tr>\n",
       "  </tbody>\n",
       "</table>\n",
       "<p>5040 rows × 8 columns</p>\n",
       "</div>"
      ],
      "text/plain": [
       "         sex  year           measure  input_draw  scenario    value  \\\n",
       "0     female  2022  transition_count          29  baseline   1245.0   \n",
       "1     female  2022  transition_count          29  baseline   3803.0   \n",
       "2     female  2022  transition_count          29  baseline  29178.0   \n",
       "3     female  2022  transition_count          29  baseline  34038.0   \n",
       "...      ...   ...               ...         ...       ...      ...   \n",
       "5036    male  2026  transition_count         946  baseline   3330.0   \n",
       "5037    male  2026  transition_count         946  baseline   4391.0   \n",
       "5038    male  2026  transition_count         946  baseline   8691.0   \n",
       "5039    male  2026  transition_count         946  baseline  23097.0   \n",
       "\n",
       "                  age                                         transition  \n",
       "0      early_neonatal  mild_child_wasting_to_moderate_acute_malnutrition  \n",
       "1       late_neonatal  mild_child_wasting_to_moderate_acute_malnutrition  \n",
       "2          1-5_months  mild_child_wasting_to_moderate_acute_malnutrition  \n",
       "3         6-11_months  mild_child_wasting_to_moderate_acute_malnutrition  \n",
       "...               ...                                                ...  \n",
       "5036       1-5_months  susceptible_to_child_wasting_to_mild_child_was...  \n",
       "5037      6-11_months  susceptible_to_child_wasting_to_mild_child_was...  \n",
       "5038  12_to_23_months  susceptible_to_child_wasting_to_mild_child_was...  \n",
       "5039           2_to_4  susceptible_to_child_wasting_to_mild_child_was...  \n",
       "\n",
       "[5040 rows x 8 columns]"
      ]
     },
     "execution_count": 231,
     "metadata": {},
     "output_type": "execute_result"
    }
   ],
   "source": [
    "clean_data = csr.clean_transformed_data(data)\n",
    "clean_data.wasting_transition_count"
   ]
  },
  {
   "cell_type": "code",
   "execution_count": 232,
   "id": "952fb2ed",
   "metadata": {},
   "outputs": [
    {
     "data": {
      "text/html": [
       "<div>\n",
       "<style scoped>\n",
       "    .dataframe tbody tr th:only-of-type {\n",
       "        vertical-align: middle;\n",
       "    }\n",
       "\n",
       "    .dataframe tbody tr th {\n",
       "        vertical-align: top;\n",
       "    }\n",
       "\n",
       "    .dataframe thead th {\n",
       "        text-align: right;\n",
       "    }\n",
       "</style>\n",
       "<table border=\"1\" class=\"dataframe\">\n",
       "  <thead>\n",
       "    <tr style=\"text-align: right;\">\n",
       "      <th></th>\n",
       "      <th>sex</th>\n",
       "      <th>year</th>\n",
       "      <th>wasting_state</th>\n",
       "      <th>measure</th>\n",
       "      <th>input_draw</th>\n",
       "      <th>scenario</th>\n",
       "      <th>value</th>\n",
       "      <th>age</th>\n",
       "    </tr>\n",
       "  </thead>\n",
       "  <tbody>\n",
       "    <tr>\n",
       "      <th>0</th>\n",
       "      <td>female</td>\n",
       "      <td>2022</td>\n",
       "      <td>mild_child_wasting</td>\n",
       "      <td>state_person_time</td>\n",
       "      <td>29</td>\n",
       "      <td>baseline</td>\n",
       "      <td>414.090349</td>\n",
       "      <td>early_neonatal</td>\n",
       "    </tr>\n",
       "    <tr>\n",
       "      <th>1</th>\n",
       "      <td>female</td>\n",
       "      <td>2022</td>\n",
       "      <td>mild_child_wasting</td>\n",
       "      <td>state_person_time</td>\n",
       "      <td>29</td>\n",
       "      <td>baseline</td>\n",
       "      <td>1234.535250</td>\n",
       "      <td>late_neonatal</td>\n",
       "    </tr>\n",
       "    <tr>\n",
       "      <th>2</th>\n",
       "      <td>female</td>\n",
       "      <td>2022</td>\n",
       "      <td>mild_child_wasting</td>\n",
       "      <td>state_person_time</td>\n",
       "      <td>29</td>\n",
       "      <td>baseline</td>\n",
       "      <td>8926.954141</td>\n",
       "      <td>1-5_months</td>\n",
       "    </tr>\n",
       "    <tr>\n",
       "      <th>3</th>\n",
       "      <td>female</td>\n",
       "      <td>2022</td>\n",
       "      <td>mild_child_wasting</td>\n",
       "      <td>state_person_time</td>\n",
       "      <td>29</td>\n",
       "      <td>baseline</td>\n",
       "      <td>10434.387406</td>\n",
       "      <td>6-11_months</td>\n",
       "    </tr>\n",
       "    <tr>\n",
       "      <th>...</th>\n",
       "      <td>...</td>\n",
       "      <td>...</td>\n",
       "      <td>...</td>\n",
       "      <td>...</td>\n",
       "      <td>...</td>\n",
       "      <td>...</td>\n",
       "      <td>...</td>\n",
       "      <td>...</td>\n",
       "    </tr>\n",
       "    <tr>\n",
       "      <th>2876</th>\n",
       "      <td>male</td>\n",
       "      <td>2026</td>\n",
       "      <td>susceptible_to_child_wasting</td>\n",
       "      <td>state_person_time</td>\n",
       "      <td>946</td>\n",
       "      <td>baseline</td>\n",
       "      <td>30258.041068</td>\n",
       "      <td>1-5_months</td>\n",
       "    </tr>\n",
       "    <tr>\n",
       "      <th>2877</th>\n",
       "      <td>male</td>\n",
       "      <td>2026</td>\n",
       "      <td>susceptible_to_child_wasting</td>\n",
       "      <td>state_person_time</td>\n",
       "      <td>946</td>\n",
       "      <td>baseline</td>\n",
       "      <td>35695.241615</td>\n",
       "      <td>6-11_months</td>\n",
       "    </tr>\n",
       "    <tr>\n",
       "      <th>2878</th>\n",
       "      <td>male</td>\n",
       "      <td>2026</td>\n",
       "      <td>susceptible_to_child_wasting</td>\n",
       "      <td>state_person_time</td>\n",
       "      <td>946</td>\n",
       "      <td>baseline</td>\n",
       "      <td>70879.949350</td>\n",
       "      <td>12_to_23_months</td>\n",
       "    </tr>\n",
       "    <tr>\n",
       "      <th>2879</th>\n",
       "      <td>male</td>\n",
       "      <td>2026</td>\n",
       "      <td>susceptible_to_child_wasting</td>\n",
       "      <td>state_person_time</td>\n",
       "      <td>946</td>\n",
       "      <td>baseline</td>\n",
       "      <td>215444.187543</td>\n",
       "      <td>2_to_4</td>\n",
       "    </tr>\n",
       "  </tbody>\n",
       "</table>\n",
       "<p>2880 rows × 8 columns</p>\n",
       "</div>"
      ],
      "text/plain": [
       "         sex  year                 wasting_state            measure  \\\n",
       "0     female  2022            mild_child_wasting  state_person_time   \n",
       "1     female  2022            mild_child_wasting  state_person_time   \n",
       "2     female  2022            mild_child_wasting  state_person_time   \n",
       "3     female  2022            mild_child_wasting  state_person_time   \n",
       "...      ...   ...                           ...                ...   \n",
       "2876    male  2026  susceptible_to_child_wasting  state_person_time   \n",
       "2877    male  2026  susceptible_to_child_wasting  state_person_time   \n",
       "2878    male  2026  susceptible_to_child_wasting  state_person_time   \n",
       "2879    male  2026  susceptible_to_child_wasting  state_person_time   \n",
       "\n",
       "      input_draw  scenario          value              age  \n",
       "0             29  baseline     414.090349   early_neonatal  \n",
       "1             29  baseline    1234.535250    late_neonatal  \n",
       "2             29  baseline    8926.954141       1-5_months  \n",
       "3             29  baseline   10434.387406      6-11_months  \n",
       "...          ...       ...            ...              ...  \n",
       "2876         946  baseline   30258.041068       1-5_months  \n",
       "2877         946  baseline   35695.241615      6-11_months  \n",
       "2878         946  baseline   70879.949350  12_to_23_months  \n",
       "2879         946  baseline  215444.187543           2_to_4  \n",
       "\n",
       "[2880 rows x 8 columns]"
      ]
     },
     "execution_count": 232,
     "metadata": {},
     "output_type": "execute_result"
    }
   ],
   "source": [
    "clean_data.wasting_state_person_time"
   ]
  },
  {
   "cell_type": "code",
   "execution_count": 230,
   "id": "f27d7c9a",
   "metadata": {},
   "outputs": [
    {
     "data": {
      "text/html": [
       "<div>\n",
       "<style scoped>\n",
       "    .dataframe tbody tr th:only-of-type {\n",
       "        vertical-align: middle;\n",
       "    }\n",
       "\n",
       "    .dataframe tbody tr th {\n",
       "        vertical-align: top;\n",
       "    }\n",
       "\n",
       "    .dataframe thead th {\n",
       "        text-align: right;\n",
       "    }\n",
       "</style>\n",
       "<table border=\"1\" class=\"dataframe\">\n",
       "  <thead>\n",
       "    <tr style=\"text-align: right;\">\n",
       "      <th></th>\n",
       "      <th>sex</th>\n",
       "      <th>year</th>\n",
       "      <th>cause_state</th>\n",
       "      <th>measure</th>\n",
       "      <th>input_draw</th>\n",
       "      <th>scenario</th>\n",
       "      <th>value</th>\n",
       "      <th>stunting_state</th>\n",
       "      <th>age</th>\n",
       "      <th>cause</th>\n",
       "    </tr>\n",
       "  </thead>\n",
       "  <tbody>\n",
       "    <tr>\n",
       "      <th>0</th>\n",
       "      <td>female</td>\n",
       "      <td>2022</td>\n",
       "      <td>diarrheal_diseases</td>\n",
       "      <td>state_person_time</td>\n",
       "      <td>29</td>\n",
       "      <td>baseline</td>\n",
       "      <td>43.489391</td>\n",
       "      <td>cat4</td>\n",
       "      <td>early_neonatal</td>\n",
       "      <td>diarrheal_diseases</td>\n",
       "    </tr>\n",
       "    <tr>\n",
       "      <th>1</th>\n",
       "      <td>female</td>\n",
       "      <td>2022</td>\n",
       "      <td>diarrheal_diseases</td>\n",
       "      <td>state_person_time</td>\n",
       "      <td>29</td>\n",
       "      <td>baseline</td>\n",
       "      <td>0.000000</td>\n",
       "      <td>cat3</td>\n",
       "      <td>early_neonatal</td>\n",
       "      <td>diarrheal_diseases</td>\n",
       "    </tr>\n",
       "    <tr>\n",
       "      <th>2</th>\n",
       "      <td>female</td>\n",
       "      <td>2022</td>\n",
       "      <td>diarrheal_diseases</td>\n",
       "      <td>state_person_time</td>\n",
       "      <td>29</td>\n",
       "      <td>baseline</td>\n",
       "      <td>0.000000</td>\n",
       "      <td>cat2</td>\n",
       "      <td>early_neonatal</td>\n",
       "      <td>diarrheal_diseases</td>\n",
       "    </tr>\n",
       "    <tr>\n",
       "      <th>3</th>\n",
       "      <td>female</td>\n",
       "      <td>2022</td>\n",
       "      <td>diarrheal_diseases</td>\n",
       "      <td>state_person_time</td>\n",
       "      <td>29</td>\n",
       "      <td>baseline</td>\n",
       "      <td>0.000000</td>\n",
       "      <td>cat1</td>\n",
       "      <td>early_neonatal</td>\n",
       "      <td>diarrheal_diseases</td>\n",
       "    </tr>\n",
       "    <tr>\n",
       "      <th>...</th>\n",
       "      <td>...</td>\n",
       "      <td>...</td>\n",
       "      <td>...</td>\n",
       "      <td>...</td>\n",
       "      <td>...</td>\n",
       "      <td>...</td>\n",
       "      <td>...</td>\n",
       "      <td>...</td>\n",
       "      <td>...</td>\n",
       "      <td>...</td>\n",
       "    </tr>\n",
       "    <tr>\n",
       "      <th>17276</th>\n",
       "      <td>male</td>\n",
       "      <td>2026</td>\n",
       "      <td>susceptible_to_measles</td>\n",
       "      <td>state_person_time</td>\n",
       "      <td>946</td>\n",
       "      <td>baseline</td>\n",
       "      <td>121118.023272</td>\n",
       "      <td>cat4</td>\n",
       "      <td>2_to_4</td>\n",
       "      <td>measles</td>\n",
       "    </tr>\n",
       "    <tr>\n",
       "      <th>17277</th>\n",
       "      <td>male</td>\n",
       "      <td>2026</td>\n",
       "      <td>susceptible_to_measles</td>\n",
       "      <td>state_person_time</td>\n",
       "      <td>946</td>\n",
       "      <td>baseline</td>\n",
       "      <td>67325.987680</td>\n",
       "      <td>cat3</td>\n",
       "      <td>2_to_4</td>\n",
       "      <td>measles</td>\n",
       "    </tr>\n",
       "    <tr>\n",
       "      <th>17278</th>\n",
       "      <td>male</td>\n",
       "      <td>2026</td>\n",
       "      <td>susceptible_to_measles</td>\n",
       "      <td>state_person_time</td>\n",
       "      <td>946</td>\n",
       "      <td>baseline</td>\n",
       "      <td>66608.265572</td>\n",
       "      <td>cat2</td>\n",
       "      <td>2_to_4</td>\n",
       "      <td>measles</td>\n",
       "    </tr>\n",
       "    <tr>\n",
       "      <th>17279</th>\n",
       "      <td>male</td>\n",
       "      <td>2026</td>\n",
       "      <td>susceptible_to_measles</td>\n",
       "      <td>state_person_time</td>\n",
       "      <td>946</td>\n",
       "      <td>baseline</td>\n",
       "      <td>63010.346338</td>\n",
       "      <td>cat1</td>\n",
       "      <td>2_to_4</td>\n",
       "      <td>measles</td>\n",
       "    </tr>\n",
       "  </tbody>\n",
       "</table>\n",
       "<p>17280 rows × 10 columns</p>\n",
       "</div>"
      ],
      "text/plain": [
       "          sex  year             cause_state            measure  input_draw  \\\n",
       "0      female  2022      diarrheal_diseases  state_person_time          29   \n",
       "1      female  2022      diarrheal_diseases  state_person_time          29   \n",
       "2      female  2022      diarrheal_diseases  state_person_time          29   \n",
       "3      female  2022      diarrheal_diseases  state_person_time          29   \n",
       "...       ...   ...                     ...                ...         ...   \n",
       "17276    male  2026  susceptible_to_measles  state_person_time         946   \n",
       "17277    male  2026  susceptible_to_measles  state_person_time         946   \n",
       "17278    male  2026  susceptible_to_measles  state_person_time         946   \n",
       "17279    male  2026  susceptible_to_measles  state_person_time         946   \n",
       "\n",
       "       scenario          value stunting_state             age  \\\n",
       "0      baseline      43.489391           cat4  early_neonatal   \n",
       "1      baseline       0.000000           cat3  early_neonatal   \n",
       "2      baseline       0.000000           cat2  early_neonatal   \n",
       "3      baseline       0.000000           cat1  early_neonatal   \n",
       "...         ...            ...            ...             ...   \n",
       "17276  baseline  121118.023272           cat4          2_to_4   \n",
       "17277  baseline   67325.987680           cat3          2_to_4   \n",
       "17278  baseline   66608.265572           cat2          2_to_4   \n",
       "17279  baseline   63010.346338           cat1          2_to_4   \n",
       "\n",
       "                    cause  \n",
       "0      diarrheal_diseases  \n",
       "1      diarrheal_diseases  \n",
       "2      diarrheal_diseases  \n",
       "3      diarrheal_diseases  \n",
       "...                   ...  \n",
       "17276             measles  \n",
       "17277             measles  \n",
       "17278             measles  \n",
       "17279             measles  \n",
       "\n",
       "[17280 rows x 10 columns]"
      ]
     },
     "execution_count": 230,
     "metadata": {},
     "output_type": "execute_result"
    }
   ],
   "source": [
    "clean_data.disease_state_person_time"
   ]
  },
  {
   "cell_type": "code",
   "execution_count": 242,
   "id": "4adeacb7",
   "metadata": {},
   "outputs": [
    {
     "data": {
      "text/html": [
       "<div>\n",
       "<style scoped>\n",
       "    .dataframe tbody tr th:only-of-type {\n",
       "        vertical-align: middle;\n",
       "    }\n",
       "\n",
       "    .dataframe tbody tr th {\n",
       "        vertical-align: top;\n",
       "    }\n",
       "\n",
       "    .dataframe thead th {\n",
       "        text-align: right;\n",
       "    }\n",
       "</style>\n",
       "<table border=\"1\" class=\"dataframe\">\n",
       "  <thead>\n",
       "    <tr style=\"text-align: right;\">\n",
       "      <th></th>\n",
       "      <th>cause</th>\n",
       "      <th>measure</th>\n",
       "      <th>input_draw</th>\n",
       "      <th>scenario</th>\n",
       "      <th>value</th>\n",
       "      <th>sq_lns</th>\n",
       "    </tr>\n",
       "  </thead>\n",
       "  <tbody>\n",
       "    <tr>\n",
       "      <th>0</th>\n",
       "      <td></td>\n",
       "      <td>state_person_time</td>\n",
       "      <td>29</td>\n",
       "      <td>baseline</td>\n",
       "      <td>0.000000e+00</td>\n",
       "      <td>covered</td>\n",
       "    </tr>\n",
       "    <tr>\n",
       "      <th>1</th>\n",
       "      <td></td>\n",
       "      <td>state_person_time</td>\n",
       "      <td>29</td>\n",
       "      <td>baseline</td>\n",
       "      <td>1.204420e+06</td>\n",
       "      <td>uncovered</td>\n",
       "    </tr>\n",
       "    <tr>\n",
       "      <th>2</th>\n",
       "      <td></td>\n",
       "      <td>state_person_time</td>\n",
       "      <td>29</td>\n",
       "      <td>baseline</td>\n",
       "      <td>0.000000e+00</td>\n",
       "      <td>covered</td>\n",
       "    </tr>\n",
       "    <tr>\n",
       "      <th>3</th>\n",
       "      <td></td>\n",
       "      <td>state_person_time</td>\n",
       "      <td>29</td>\n",
       "      <td>baseline</td>\n",
       "      <td>5.181539e+05</td>\n",
       "      <td>uncovered</td>\n",
       "    </tr>\n",
       "    <tr>\n",
       "      <th>...</th>\n",
       "      <td>...</td>\n",
       "      <td>...</td>\n",
       "      <td>...</td>\n",
       "      <td>...</td>\n",
       "      <td>...</td>\n",
       "      <td>...</td>\n",
       "    </tr>\n",
       "    <tr>\n",
       "      <th>188</th>\n",
       "      <td></td>\n",
       "      <td>state_person_time</td>\n",
       "      <td>946</td>\n",
       "      <td>treatment_and_prevention</td>\n",
       "      <td>3.078697e+05</td>\n",
       "      <td>covered</td>\n",
       "    </tr>\n",
       "    <tr>\n",
       "      <th>189</th>\n",
       "      <td></td>\n",
       "      <td>state_person_time</td>\n",
       "      <td>946</td>\n",
       "      <td>treatment_and_prevention</td>\n",
       "      <td>1.515505e+05</td>\n",
       "      <td>uncovered</td>\n",
       "    </tr>\n",
       "    <tr>\n",
       "      <th>190</th>\n",
       "      <td></td>\n",
       "      <td>state_person_time</td>\n",
       "      <td>946</td>\n",
       "      <td>treatment_and_prevention</td>\n",
       "      <td>2.579365e+05</td>\n",
       "      <td>covered</td>\n",
       "    </tr>\n",
       "    <tr>\n",
       "      <th>191</th>\n",
       "      <td></td>\n",
       "      <td>state_person_time</td>\n",
       "      <td>946</td>\n",
       "      <td>treatment_and_prevention</td>\n",
       "      <td>1.271639e+05</td>\n",
       "      <td>uncovered</td>\n",
       "    </tr>\n",
       "  </tbody>\n",
       "</table>\n",
       "<p>192 rows × 6 columns</p>\n",
       "</div>"
      ],
      "text/plain": [
       "    cause            measure  input_draw                  scenario  \\\n",
       "0          state_person_time          29                  baseline   \n",
       "1          state_person_time          29                  baseline   \n",
       "2          state_person_time          29                  baseline   \n",
       "3          state_person_time          29                  baseline   \n",
       "..    ...                ...         ...                       ...   \n",
       "188        state_person_time         946  treatment_and_prevention   \n",
       "189        state_person_time         946  treatment_and_prevention   \n",
       "190        state_person_time         946  treatment_and_prevention   \n",
       "191        state_person_time         946  treatment_and_prevention   \n",
       "\n",
       "            value     sq_lns  \n",
       "0    0.000000e+00    covered  \n",
       "1    1.204420e+06  uncovered  \n",
       "2    0.000000e+00    covered  \n",
       "3    5.181539e+05  uncovered  \n",
       "..            ...        ...  \n",
       "188  3.078697e+05    covered  \n",
       "189  1.515505e+05  uncovered  \n",
       "190  2.579365e+05    covered  \n",
       "191  1.271639e+05  uncovered  \n",
       "\n",
       "[192 rows x 6 columns]"
      ]
     },
     "execution_count": 242,
     "metadata": {},
     "output_type": "execute_result"
    }
   ],
   "source": [
    "csr.clean_transformed_data(data30).stunting_state_person_time"
   ]
  },
  {
   "cell_type": "markdown",
   "id": "506b359d",
   "metadata": {},
   "source": [
    "# Test `cleaned_from_model_spec` class method"
   ]
  },
  {
   "cell_type": "code",
   "execution_count": 246,
   "id": "50121df2",
   "metadata": {},
   "outputs": [
    {
     "data": {
      "text/plain": [
       "['wasting_transition_count',\n",
       " 'wasting_state_person_time',\n",
       " 'deaths',\n",
       " 'population',\n",
       " 'ylls',\n",
       " 'ylds',\n",
       " 'disease_state_person_time',\n",
       " 'disease_transition_count']"
      ]
     },
     "execution_count": 246,
     "metadata": {},
     "output_type": "execute_result"
    }
   ],
   "source": [
    "clean_data25 = csr.VivariumMeasures.cleaned_from_model_spec(2.5)\n",
    "clean_data25.table_names()"
   ]
  },
  {
   "cell_type": "code",
   "execution_count": 247,
   "id": "15971140",
   "metadata": {},
   "outputs": [
    {
     "data": {
      "text/html": [
       "<div>\n",
       "<style scoped>\n",
       "    .dataframe tbody tr th:only-of-type {\n",
       "        vertical-align: middle;\n",
       "    }\n",
       "\n",
       "    .dataframe tbody tr th {\n",
       "        vertical-align: top;\n",
       "    }\n",
       "\n",
       "    .dataframe thead th {\n",
       "        text-align: right;\n",
       "    }\n",
       "</style>\n",
       "<table border=\"1\" class=\"dataframe\">\n",
       "  <thead>\n",
       "    <tr style=\"text-align: right;\">\n",
       "      <th></th>\n",
       "      <th>sex</th>\n",
       "      <th>year</th>\n",
       "      <th>wasting_state</th>\n",
       "      <th>measure</th>\n",
       "      <th>input_draw</th>\n",
       "      <th>scenario</th>\n",
       "      <th>value</th>\n",
       "      <th>age</th>\n",
       "    </tr>\n",
       "  </thead>\n",
       "  <tbody>\n",
       "    <tr>\n",
       "      <th>0</th>\n",
       "      <td>female</td>\n",
       "      <td>2022</td>\n",
       "      <td>mild_child_wasting</td>\n",
       "      <td>state_person_time</td>\n",
       "      <td>29</td>\n",
       "      <td>baseline</td>\n",
       "      <td>414.090349</td>\n",
       "      <td>early_neonatal</td>\n",
       "    </tr>\n",
       "    <tr>\n",
       "      <th>1</th>\n",
       "      <td>female</td>\n",
       "      <td>2022</td>\n",
       "      <td>mild_child_wasting</td>\n",
       "      <td>state_person_time</td>\n",
       "      <td>29</td>\n",
       "      <td>baseline</td>\n",
       "      <td>1234.535250</td>\n",
       "      <td>late_neonatal</td>\n",
       "    </tr>\n",
       "    <tr>\n",
       "      <th>2</th>\n",
       "      <td>female</td>\n",
       "      <td>2022</td>\n",
       "      <td>mild_child_wasting</td>\n",
       "      <td>state_person_time</td>\n",
       "      <td>29</td>\n",
       "      <td>baseline</td>\n",
       "      <td>8926.954141</td>\n",
       "      <td>1-5_months</td>\n",
       "    </tr>\n",
       "    <tr>\n",
       "      <th>3</th>\n",
       "      <td>female</td>\n",
       "      <td>2022</td>\n",
       "      <td>mild_child_wasting</td>\n",
       "      <td>state_person_time</td>\n",
       "      <td>29</td>\n",
       "      <td>baseline</td>\n",
       "      <td>10434.387406</td>\n",
       "      <td>6-11_months</td>\n",
       "    </tr>\n",
       "    <tr>\n",
       "      <th>...</th>\n",
       "      <td>...</td>\n",
       "      <td>...</td>\n",
       "      <td>...</td>\n",
       "      <td>...</td>\n",
       "      <td>...</td>\n",
       "      <td>...</td>\n",
       "      <td>...</td>\n",
       "      <td>...</td>\n",
       "    </tr>\n",
       "    <tr>\n",
       "      <th>2876</th>\n",
       "      <td>male</td>\n",
       "      <td>2026</td>\n",
       "      <td>susceptible_to_child_wasting</td>\n",
       "      <td>state_person_time</td>\n",
       "      <td>946</td>\n",
       "      <td>baseline</td>\n",
       "      <td>30258.041068</td>\n",
       "      <td>1-5_months</td>\n",
       "    </tr>\n",
       "    <tr>\n",
       "      <th>2877</th>\n",
       "      <td>male</td>\n",
       "      <td>2026</td>\n",
       "      <td>susceptible_to_child_wasting</td>\n",
       "      <td>state_person_time</td>\n",
       "      <td>946</td>\n",
       "      <td>baseline</td>\n",
       "      <td>35695.241615</td>\n",
       "      <td>6-11_months</td>\n",
       "    </tr>\n",
       "    <tr>\n",
       "      <th>2878</th>\n",
       "      <td>male</td>\n",
       "      <td>2026</td>\n",
       "      <td>susceptible_to_child_wasting</td>\n",
       "      <td>state_person_time</td>\n",
       "      <td>946</td>\n",
       "      <td>baseline</td>\n",
       "      <td>70879.949350</td>\n",
       "      <td>12_to_23_months</td>\n",
       "    </tr>\n",
       "    <tr>\n",
       "      <th>2879</th>\n",
       "      <td>male</td>\n",
       "      <td>2026</td>\n",
       "      <td>susceptible_to_child_wasting</td>\n",
       "      <td>state_person_time</td>\n",
       "      <td>946</td>\n",
       "      <td>baseline</td>\n",
       "      <td>215444.187543</td>\n",
       "      <td>2_to_4</td>\n",
       "    </tr>\n",
       "  </tbody>\n",
       "</table>\n",
       "<p>2880 rows × 8 columns</p>\n",
       "</div>"
      ],
      "text/plain": [
       "         sex  year                 wasting_state            measure  \\\n",
       "0     female  2022            mild_child_wasting  state_person_time   \n",
       "1     female  2022            mild_child_wasting  state_person_time   \n",
       "2     female  2022            mild_child_wasting  state_person_time   \n",
       "3     female  2022            mild_child_wasting  state_person_time   \n",
       "...      ...   ...                           ...                ...   \n",
       "2876    male  2026  susceptible_to_child_wasting  state_person_time   \n",
       "2877    male  2026  susceptible_to_child_wasting  state_person_time   \n",
       "2878    male  2026  susceptible_to_child_wasting  state_person_time   \n",
       "2879    male  2026  susceptible_to_child_wasting  state_person_time   \n",
       "\n",
       "      input_draw  scenario          value              age  \n",
       "0             29  baseline     414.090349   early_neonatal  \n",
       "1             29  baseline    1234.535250    late_neonatal  \n",
       "2             29  baseline    8926.954141       1-5_months  \n",
       "3             29  baseline   10434.387406      6-11_months  \n",
       "...          ...       ...            ...              ...  \n",
       "2876         946  baseline   30258.041068       1-5_months  \n",
       "2877         946  baseline   35695.241615      6-11_months  \n",
       "2878         946  baseline   70879.949350  12_to_23_months  \n",
       "2879         946  baseline  215444.187543           2_to_4  \n",
       "\n",
       "[2880 rows x 8 columns]"
      ]
     },
     "execution_count": 247,
     "metadata": {},
     "output_type": "execute_result"
    }
   ],
   "source": [
    "clean_data25.wasting_state_person_time"
   ]
  },
  {
   "cell_type": "code",
   "execution_count": 245,
   "id": "f95d5726",
   "metadata": {},
   "outputs": [
    {
     "data": {
      "text/html": [
       "<div>\n",
       "<style scoped>\n",
       "    .dataframe tbody tr th:only-of-type {\n",
       "        vertical-align: middle;\n",
       "    }\n",
       "\n",
       "    .dataframe tbody tr th {\n",
       "        vertical-align: top;\n",
       "    }\n",
       "\n",
       "    .dataframe thead th {\n",
       "        text-align: right;\n",
       "    }\n",
       "</style>\n",
       "<table border=\"1\" class=\"dataframe\">\n",
       "  <thead>\n",
       "    <tr style=\"text-align: right;\">\n",
       "      <th></th>\n",
       "      <th>sex</th>\n",
       "      <th>year</th>\n",
       "      <th>measure</th>\n",
       "      <th>input_draw</th>\n",
       "      <th>scenario</th>\n",
       "      <th>value</th>\n",
       "      <th>stunting_state</th>\n",
       "      <th>age</th>\n",
       "      <th>transition</th>\n",
       "    </tr>\n",
       "  </thead>\n",
       "  <tbody>\n",
       "    <tr>\n",
       "      <th>0</th>\n",
       "      <td>female</td>\n",
       "      <td>2022</td>\n",
       "      <td>transition_count</td>\n",
       "      <td>29</td>\n",
       "      <td>baseline</td>\n",
       "      <td>2475.0</td>\n",
       "      <td>cat4</td>\n",
       "      <td>early_neonatal</td>\n",
       "      <td>diarrheal_diseases_to_susceptible_to_diarrheal...</td>\n",
       "    </tr>\n",
       "    <tr>\n",
       "      <th>1</th>\n",
       "      <td>female</td>\n",
       "      <td>2022</td>\n",
       "      <td>transition_count</td>\n",
       "      <td>29</td>\n",
       "      <td>baseline</td>\n",
       "      <td>0.0</td>\n",
       "      <td>cat3</td>\n",
       "      <td>early_neonatal</td>\n",
       "      <td>diarrheal_diseases_to_susceptible_to_diarrheal...</td>\n",
       "    </tr>\n",
       "    <tr>\n",
       "      <th>2</th>\n",
       "      <td>female</td>\n",
       "      <td>2022</td>\n",
       "      <td>transition_count</td>\n",
       "      <td>29</td>\n",
       "      <td>baseline</td>\n",
       "      <td>0.0</td>\n",
       "      <td>cat2</td>\n",
       "      <td>early_neonatal</td>\n",
       "      <td>diarrheal_diseases_to_susceptible_to_diarrheal...</td>\n",
       "    </tr>\n",
       "    <tr>\n",
       "      <th>3</th>\n",
       "      <td>female</td>\n",
       "      <td>2022</td>\n",
       "      <td>transition_count</td>\n",
       "      <td>29</td>\n",
       "      <td>baseline</td>\n",
       "      <td>0.0</td>\n",
       "      <td>cat1</td>\n",
       "      <td>early_neonatal</td>\n",
       "      <td>diarrheal_diseases_to_susceptible_to_diarrheal...</td>\n",
       "    </tr>\n",
       "    <tr>\n",
       "      <th>...</th>\n",
       "      <td>...</td>\n",
       "      <td>...</td>\n",
       "      <td>...</td>\n",
       "      <td>...</td>\n",
       "      <td>...</td>\n",
       "      <td>...</td>\n",
       "      <td>...</td>\n",
       "      <td>...</td>\n",
       "      <td>...</td>\n",
       "    </tr>\n",
       "    <tr>\n",
       "      <th>17276</th>\n",
       "      <td>male</td>\n",
       "      <td>2026</td>\n",
       "      <td>transition_count</td>\n",
       "      <td>946</td>\n",
       "      <td>baseline</td>\n",
       "      <td>447.0</td>\n",
       "      <td>cat4</td>\n",
       "      <td>2_to_4</td>\n",
       "      <td>susceptible_to_measles_to_measles</td>\n",
       "    </tr>\n",
       "    <tr>\n",
       "      <th>17277</th>\n",
       "      <td>male</td>\n",
       "      <td>2026</td>\n",
       "      <td>transition_count</td>\n",
       "      <td>946</td>\n",
       "      <td>baseline</td>\n",
       "      <td>243.0</td>\n",
       "      <td>cat3</td>\n",
       "      <td>2_to_4</td>\n",
       "      <td>susceptible_to_measles_to_measles</td>\n",
       "    </tr>\n",
       "    <tr>\n",
       "      <th>17278</th>\n",
       "      <td>male</td>\n",
       "      <td>2026</td>\n",
       "      <td>transition_count</td>\n",
       "      <td>946</td>\n",
       "      <td>baseline</td>\n",
       "      <td>368.0</td>\n",
       "      <td>cat2</td>\n",
       "      <td>2_to_4</td>\n",
       "      <td>susceptible_to_measles_to_measles</td>\n",
       "    </tr>\n",
       "    <tr>\n",
       "      <th>17279</th>\n",
       "      <td>male</td>\n",
       "      <td>2026</td>\n",
       "      <td>transition_count</td>\n",
       "      <td>946</td>\n",
       "      <td>baseline</td>\n",
       "      <td>642.0</td>\n",
       "      <td>cat1</td>\n",
       "      <td>2_to_4</td>\n",
       "      <td>susceptible_to_measles_to_measles</td>\n",
       "    </tr>\n",
       "  </tbody>\n",
       "</table>\n",
       "<p>17280 rows × 9 columns</p>\n",
       "</div>"
      ],
      "text/plain": [
       "          sex  year           measure  input_draw  scenario   value  \\\n",
       "0      female  2022  transition_count          29  baseline  2475.0   \n",
       "1      female  2022  transition_count          29  baseline     0.0   \n",
       "2      female  2022  transition_count          29  baseline     0.0   \n",
       "3      female  2022  transition_count          29  baseline     0.0   \n",
       "...       ...   ...               ...         ...       ...     ...   \n",
       "17276    male  2026  transition_count         946  baseline   447.0   \n",
       "17277    male  2026  transition_count         946  baseline   243.0   \n",
       "17278    male  2026  transition_count         946  baseline   368.0   \n",
       "17279    male  2026  transition_count         946  baseline   642.0   \n",
       "\n",
       "      stunting_state             age  \\\n",
       "0               cat4  early_neonatal   \n",
       "1               cat3  early_neonatal   \n",
       "2               cat2  early_neonatal   \n",
       "3               cat1  early_neonatal   \n",
       "...              ...             ...   \n",
       "17276           cat4          2_to_4   \n",
       "17277           cat3          2_to_4   \n",
       "17278           cat2          2_to_4   \n",
       "17279           cat1          2_to_4   \n",
       "\n",
       "                                              transition  \n",
       "0      diarrheal_diseases_to_susceptible_to_diarrheal...  \n",
       "1      diarrheal_diseases_to_susceptible_to_diarrheal...  \n",
       "2      diarrheal_diseases_to_susceptible_to_diarrheal...  \n",
       "3      diarrheal_diseases_to_susceptible_to_diarrheal...  \n",
       "...                                                  ...  \n",
       "17276                  susceptible_to_measles_to_measles  \n",
       "17277                  susceptible_to_measles_to_measles  \n",
       "17278                  susceptible_to_measles_to_measles  \n",
       "17279                  susceptible_to_measles_to_measles  \n",
       "\n",
       "[17280 rows x 9 columns]"
      ]
     },
     "execution_count": 245,
     "metadata": {},
     "output_type": "execute_result"
    }
   ],
   "source": [
    "clean_data25.disease_transition_count"
   ]
  },
  {
   "cell_type": "code",
   "execution_count": null,
   "id": "5f835f72",
   "metadata": {},
   "outputs": [],
   "source": []
  }
 ],
 "metadata": {
  "kernelspec": {
   "display_name": "Python 3 (ipykernel)",
   "language": "python",
   "name": "python3"
  },
  "language_info": {
   "codemirror_mode": {
    "name": "ipython",
    "version": 3
   },
   "file_extension": ".py",
   "mimetype": "text/x-python",
   "name": "python",
   "nbconvert_exporter": "python",
   "pygments_lexer": "ipython3",
   "version": "3.8.10"
  }
 },
 "nbformat": 4,
 "nbformat_minor": 5
}
