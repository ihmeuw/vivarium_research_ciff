{
 "cells": [
  {
   "cell_type": "code",
   "execution_count": 1,
   "id": "d5292d90",
   "metadata": {},
   "outputs": [
    {
     "data": {
      "text/html": [
       "<style>.container { width:100% !important; }</style>"
      ],
      "text/plain": [
       "<IPython.core.display.HTML object>"
      ]
     },
     "metadata": {},
     "output_type": "display_data"
    }
   ],
   "source": [
    "from IPython.core.display import display, HTML\n",
    "#makes the display bars longer and spread out 100% across the screen width\n",
    "display(HTML(\"<style>.container { width:100% !important; }</style>\"))"
   ]
  },
  {
   "cell_type": "code",
   "execution_count": 3,
   "id": "43484b7a",
   "metadata": {},
   "outputs": [
    {
     "name": "stdout",
     "output_type": "stream",
     "text": [
      "/ihme/homes/ndbs/vivarium_research_ciff_sam/nathaniel/scratch__gitignore__\n",
      "ndbs\n",
      "Tue Aug  3 19:04:19 PDT 2021\n"
     ]
    }
   ],
   "source": [
    "%matplotlib inline\n",
    "import matplotlib.pyplot as plt\n",
    "import numpy as np\n",
    "import pandas as pd\n",
    "pd.set_option('display.max_rows', 8)\n",
    "\n",
    "import collections\n",
    "\n",
    "import warnings\n",
    "warnings.filterwarnings('ignore')\n",
    "from matplotlib.backends.backend_pdf import PdfPages\n",
    "\n",
    "import db_queries as db\n",
    "import vivarium_helpers.id_helper as idh\n",
    "\n",
    "# Add the repo directory vivarium_research_ciff_sam/ to sys.path\n",
    "import os, sys\n",
    "repo_path = os.path.abspath('../..')\n",
    "sys.path.append(repo_path)\n",
    "# Assumes vivarium_research_ciff_sam/ is in sys.path\n",
    "import model_validation.vivarium_transformed_output as vto\n",
    "import model_validation.vivarium_raw_output as vro\n",
    "\n",
    "!pwd\n",
    "!whoami\n",
    "!date"
   ]
  },
  {
   "cell_type": "code",
   "execution_count": 4,
   "id": "77c6105f",
   "metadata": {},
   "outputs": [],
   "source": [
    "%load_ext autoreload\n",
    "%autoreload 2"
   ]
  },
  {
   "cell_type": "code",
   "execution_count": 79,
   "id": "b6685c20",
   "metadata": {},
   "outputs": [],
   "source": [
    "import re"
   ]
  },
  {
   "cell_type": "markdown",
   "id": "60dfe170",
   "metadata": {},
   "source": [
    "# Define directories"
   ]
  },
  {
   "cell_type": "code",
   "execution_count": 5,
   "id": "a2214913",
   "metadata": {},
   "outputs": [],
   "source": [
    "# sim results path:\n",
    "# /ihme/costeffectiveness/results/vivarium_ciff_sam/v2.3_wasting_birth_prevalence/ciff_sam/2021_07_26_17_14_31/count_data\n",
    "\n",
    "project_results_dir = '/ihme/costeffectiveness/results/vivarium_ciff_sam'\n",
    "model_name = 'v2.3_wasting_birth_prevalence'\n",
    "model_timestamp = '2021_07_26_17_14_31'\n",
    "\n",
    "model_count_data_dir = f'{project_results_dir}/{model_name}/ciff_sam/{model_timestamp}/count_data/'\n",
    "\n",
    "project_vv_directory_name = 'ciff_malnutrition/verification_and_validation'\n",
    "username = 'ndbs'\n",
    "\n",
    "output_dir = f'/ihme/homes/{username}/vivarium_results/{project_vv_directory_name}/{model_name}'\n",
    "\n",
    "share_output_dir = f'/share/scratch/users/ndbs/vivarium_results/{project_vv_directory_name}/{model_name}'\n",
    "j_output_dir = f'/home/j/Project/simulation_science/{project_vv_directory_name}/{model_name}'"
   ]
  },
  {
   "cell_type": "code",
   "execution_count": 93,
   "id": "911b945e",
   "metadata": {},
   "outputs": [
    {
     "data": {
      "text/plain": [
       "['wasting_transition_count',\n",
       " 'wasting_state_person_time',\n",
       " 'deaths',\n",
       " 'population',\n",
       " 'ylls',\n",
       " 'ylds',\n",
       " 'disease_state_person_time',\n",
       " 'disease_transition_count']"
      ]
     },
     "execution_count": 93,
     "metadata": {},
     "output_type": "execute_result"
    }
   ],
   "source": [
    "data = vto.VivariumTransformedOutput.from_directory(model_count_data_dir)\n",
    "data.table_names()"
   ]
  },
  {
   "cell_type": "code",
   "execution_count": 94,
   "id": "bf67cddd",
   "metadata": {},
   "outputs": [
    {
     "data": {
      "text/html": [
       "<div>\n",
       "<style scoped>\n",
       "    .dataframe tbody tr th:only-of-type {\n",
       "        vertical-align: middle;\n",
       "    }\n",
       "\n",
       "    .dataframe tbody tr th {\n",
       "        vertical-align: top;\n",
       "    }\n",
       "\n",
       "    .dataframe thead th {\n",
       "        text-align: right;\n",
       "    }\n",
       "</style>\n",
       "<table border=\"1\" class=\"dataframe\">\n",
       "  <thead>\n",
       "    <tr style=\"text-align: right;\">\n",
       "      <th></th>\n",
       "      <th>sex</th>\n",
       "      <th>year</th>\n",
       "      <th>cause</th>\n",
       "      <th>measure</th>\n",
       "      <th>input_draw</th>\n",
       "      <th>scenario</th>\n",
       "      <th>value</th>\n",
       "      <th>wasting_state</th>\n",
       "      <th>age</th>\n",
       "    </tr>\n",
       "  </thead>\n",
       "  <tbody>\n",
       "    <tr>\n",
       "      <th>0</th>\n",
       "      <td>female</td>\n",
       "      <td>2022</td>\n",
       "      <td>diarrheal_diseases</td>\n",
       "      <td>death</td>\n",
       "      <td>29</td>\n",
       "      <td>baseline</td>\n",
       "      <td>1.0</td>\n",
       "      <td>susceptible_to_child_wasting</td>\n",
       "      <td>early_neonatal</td>\n",
       "    </tr>\n",
       "    <tr>\n",
       "      <th>1</th>\n",
       "      <td>female</td>\n",
       "      <td>2022</td>\n",
       "      <td>diarrheal_diseases</td>\n",
       "      <td>death</td>\n",
       "      <td>29</td>\n",
       "      <td>baseline</td>\n",
       "      <td>0.0</td>\n",
       "      <td>mild_child_wasting</td>\n",
       "      <td>early_neonatal</td>\n",
       "    </tr>\n",
       "    <tr>\n",
       "      <th>2</th>\n",
       "      <td>female</td>\n",
       "      <td>2022</td>\n",
       "      <td>diarrheal_diseases</td>\n",
       "      <td>death</td>\n",
       "      <td>29</td>\n",
       "      <td>baseline</td>\n",
       "      <td>0.0</td>\n",
       "      <td>moderate_acute_malnutrition</td>\n",
       "      <td>early_neonatal</td>\n",
       "    </tr>\n",
       "    <tr>\n",
       "      <th>3</th>\n",
       "      <td>female</td>\n",
       "      <td>2022</td>\n",
       "      <td>diarrheal_diseases</td>\n",
       "      <td>death</td>\n",
       "      <td>29</td>\n",
       "      <td>baseline</td>\n",
       "      <td>0.0</td>\n",
       "      <td>severe_acute_malnutrition</td>\n",
       "      <td>early_neonatal</td>\n",
       "    </tr>\n",
       "    <tr>\n",
       "      <th>...</th>\n",
       "      <td>...</td>\n",
       "      <td>...</td>\n",
       "      <td>...</td>\n",
       "      <td>...</td>\n",
       "      <td>...</td>\n",
       "      <td>...</td>\n",
       "      <td>...</td>\n",
       "      <td>...</td>\n",
       "      <td>...</td>\n",
       "    </tr>\n",
       "    <tr>\n",
       "      <th>17276</th>\n",
       "      <td>male</td>\n",
       "      <td>2026</td>\n",
       "      <td>severe_acute_malnutrition</td>\n",
       "      <td>death</td>\n",
       "      <td>946</td>\n",
       "      <td>baseline</td>\n",
       "      <td>0.0</td>\n",
       "      <td>susceptible_to_child_wasting</td>\n",
       "      <td>2_to_4</td>\n",
       "    </tr>\n",
       "    <tr>\n",
       "      <th>17277</th>\n",
       "      <td>male</td>\n",
       "      <td>2026</td>\n",
       "      <td>severe_acute_malnutrition</td>\n",
       "      <td>death</td>\n",
       "      <td>946</td>\n",
       "      <td>baseline</td>\n",
       "      <td>0.0</td>\n",
       "      <td>mild_child_wasting</td>\n",
       "      <td>2_to_4</td>\n",
       "    </tr>\n",
       "    <tr>\n",
       "      <th>17278</th>\n",
       "      <td>male</td>\n",
       "      <td>2026</td>\n",
       "      <td>severe_acute_malnutrition</td>\n",
       "      <td>death</td>\n",
       "      <td>946</td>\n",
       "      <td>baseline</td>\n",
       "      <td>0.0</td>\n",
       "      <td>moderate_acute_malnutrition</td>\n",
       "      <td>2_to_4</td>\n",
       "    </tr>\n",
       "    <tr>\n",
       "      <th>17279</th>\n",
       "      <td>male</td>\n",
       "      <td>2026</td>\n",
       "      <td>severe_acute_malnutrition</td>\n",
       "      <td>death</td>\n",
       "      <td>946</td>\n",
       "      <td>baseline</td>\n",
       "      <td>0.0</td>\n",
       "      <td>severe_acute_malnutrition</td>\n",
       "      <td>2_to_4</td>\n",
       "    </tr>\n",
       "  </tbody>\n",
       "</table>\n",
       "<p>17280 rows × 9 columns</p>\n",
       "</div>"
      ],
      "text/plain": [
       "          sex  year                      cause measure  input_draw  scenario  \\\n",
       "0      female  2022         diarrheal_diseases   death          29  baseline   \n",
       "1      female  2022         diarrheal_diseases   death          29  baseline   \n",
       "2      female  2022         diarrheal_diseases   death          29  baseline   \n",
       "3      female  2022         diarrheal_diseases   death          29  baseline   \n",
       "...       ...   ...                        ...     ...         ...       ...   \n",
       "17276    male  2026  severe_acute_malnutrition   death         946  baseline   \n",
       "17277    male  2026  severe_acute_malnutrition   death         946  baseline   \n",
       "17278    male  2026  severe_acute_malnutrition   death         946  baseline   \n",
       "17279    male  2026  severe_acute_malnutrition   death         946  baseline   \n",
       "\n",
       "       value                 wasting_state             age  \n",
       "0        1.0  susceptible_to_child_wasting  early_neonatal  \n",
       "1        0.0            mild_child_wasting  early_neonatal  \n",
       "2        0.0   moderate_acute_malnutrition  early_neonatal  \n",
       "3        0.0     severe_acute_malnutrition  early_neonatal  \n",
       "...      ...                           ...             ...  \n",
       "17276    0.0  susceptible_to_child_wasting          2_to_4  \n",
       "17277    0.0            mild_child_wasting          2_to_4  \n",
       "17278    0.0   moderate_acute_malnutrition          2_to_4  \n",
       "17279    0.0     severe_acute_malnutrition          2_to_4  \n",
       "\n",
       "[17280 rows x 9 columns]"
      ]
     },
     "execution_count": 94,
     "metadata": {},
     "output_type": "execute_result"
    }
   ],
   "source": [
    "data.deaths"
   ]
  },
  {
   "cell_type": "code",
   "execution_count": 8,
   "id": "6a052057",
   "metadata": {},
   "outputs": [
    {
     "data": {
      "text/html": [
       "<div>\n",
       "<style scoped>\n",
       "    .dataframe tbody tr th:only-of-type {\n",
       "        vertical-align: middle;\n",
       "    }\n",
       "\n",
       "    .dataframe tbody tr th {\n",
       "        vertical-align: top;\n",
       "    }\n",
       "\n",
       "    .dataframe thead th {\n",
       "        text-align: right;\n",
       "    }\n",
       "</style>\n",
       "<table border=\"1\" class=\"dataframe\">\n",
       "  <thead>\n",
       "    <tr style=\"text-align: right;\">\n",
       "      <th></th>\n",
       "      <th>sex</th>\n",
       "      <th>year</th>\n",
       "      <th>cause</th>\n",
       "      <th>measure</th>\n",
       "      <th>input_draw</th>\n",
       "      <th>scenario</th>\n",
       "      <th>value</th>\n",
       "      <th>wasting_state</th>\n",
       "      <th>age</th>\n",
       "    </tr>\n",
       "  </thead>\n",
       "  <tbody>\n",
       "    <tr>\n",
       "      <th>0</th>\n",
       "      <td>female</td>\n",
       "      <td>2022</td>\n",
       "      <td>diarrheal_diseases</td>\n",
       "      <td>death</td>\n",
       "      <td>29</td>\n",
       "      <td>baseline</td>\n",
       "      <td>1.0</td>\n",
       "      <td>susceptible_to_child_wasting</td>\n",
       "      <td>early_neonatal</td>\n",
       "    </tr>\n",
       "    <tr>\n",
       "      <th>1</th>\n",
       "      <td>female</td>\n",
       "      <td>2022</td>\n",
       "      <td>diarrheal_diseases</td>\n",
       "      <td>death</td>\n",
       "      <td>29</td>\n",
       "      <td>baseline</td>\n",
       "      <td>0.0</td>\n",
       "      <td>mild_child_wasting</td>\n",
       "      <td>early_neonatal</td>\n",
       "    </tr>\n",
       "    <tr>\n",
       "      <th>2</th>\n",
       "      <td>female</td>\n",
       "      <td>2022</td>\n",
       "      <td>diarrheal_diseases</td>\n",
       "      <td>death</td>\n",
       "      <td>29</td>\n",
       "      <td>baseline</td>\n",
       "      <td>0.0</td>\n",
       "      <td>moderate_acute_malnutrition</td>\n",
       "      <td>early_neonatal</td>\n",
       "    </tr>\n",
       "    <tr>\n",
       "      <th>3</th>\n",
       "      <td>female</td>\n",
       "      <td>2022</td>\n",
       "      <td>diarrheal_diseases</td>\n",
       "      <td>death</td>\n",
       "      <td>29</td>\n",
       "      <td>baseline</td>\n",
       "      <td>0.0</td>\n",
       "      <td>severe_acute_malnutrition</td>\n",
       "      <td>early_neonatal</td>\n",
       "    </tr>\n",
       "    <tr>\n",
       "      <th>...</th>\n",
       "      <td>...</td>\n",
       "      <td>...</td>\n",
       "      <td>...</td>\n",
       "      <td>...</td>\n",
       "      <td>...</td>\n",
       "      <td>...</td>\n",
       "      <td>...</td>\n",
       "      <td>...</td>\n",
       "      <td>...</td>\n",
       "    </tr>\n",
       "    <tr>\n",
       "      <th>17276</th>\n",
       "      <td>male</td>\n",
       "      <td>2026</td>\n",
       "      <td>severe_acute_malnutrition</td>\n",
       "      <td>death</td>\n",
       "      <td>946</td>\n",
       "      <td>baseline</td>\n",
       "      <td>0.0</td>\n",
       "      <td>susceptible_to_child_wasting</td>\n",
       "      <td>2_to_4</td>\n",
       "    </tr>\n",
       "    <tr>\n",
       "      <th>17277</th>\n",
       "      <td>male</td>\n",
       "      <td>2026</td>\n",
       "      <td>severe_acute_malnutrition</td>\n",
       "      <td>death</td>\n",
       "      <td>946</td>\n",
       "      <td>baseline</td>\n",
       "      <td>0.0</td>\n",
       "      <td>mild_child_wasting</td>\n",
       "      <td>2_to_4</td>\n",
       "    </tr>\n",
       "    <tr>\n",
       "      <th>17278</th>\n",
       "      <td>male</td>\n",
       "      <td>2026</td>\n",
       "      <td>severe_acute_malnutrition</td>\n",
       "      <td>death</td>\n",
       "      <td>946</td>\n",
       "      <td>baseline</td>\n",
       "      <td>0.0</td>\n",
       "      <td>moderate_acute_malnutrition</td>\n",
       "      <td>2_to_4</td>\n",
       "    </tr>\n",
       "    <tr>\n",
       "      <th>17279</th>\n",
       "      <td>male</td>\n",
       "      <td>2026</td>\n",
       "      <td>severe_acute_malnutrition</td>\n",
       "      <td>death</td>\n",
       "      <td>946</td>\n",
       "      <td>baseline</td>\n",
       "      <td>0.0</td>\n",
       "      <td>severe_acute_malnutrition</td>\n",
       "      <td>2_to_4</td>\n",
       "    </tr>\n",
       "  </tbody>\n",
       "</table>\n",
       "<p>17280 rows × 9 columns</p>\n",
       "</div>"
      ],
      "text/plain": [
       "          sex  year                      cause measure  input_draw  scenario  \\\n",
       "0      female  2022         diarrheal_diseases   death          29  baseline   \n",
       "1      female  2022         diarrheal_diseases   death          29  baseline   \n",
       "2      female  2022         diarrheal_diseases   death          29  baseline   \n",
       "3      female  2022         diarrheal_diseases   death          29  baseline   \n",
       "...       ...   ...                        ...     ...         ...       ...   \n",
       "17276    male  2026  severe_acute_malnutrition   death         946  baseline   \n",
       "17277    male  2026  severe_acute_malnutrition   death         946  baseline   \n",
       "17278    male  2026  severe_acute_malnutrition   death         946  baseline   \n",
       "17279    male  2026  severe_acute_malnutrition   death         946  baseline   \n",
       "\n",
       "       value                 wasting_state             age  \n",
       "0        1.0  susceptible_to_child_wasting  early_neonatal  \n",
       "1        0.0            mild_child_wasting  early_neonatal  \n",
       "2        0.0   moderate_acute_malnutrition  early_neonatal  \n",
       "3        0.0     severe_acute_malnutrition  early_neonatal  \n",
       "...      ...                           ...             ...  \n",
       "17276    0.0  susceptible_to_child_wasting          2_to_4  \n",
       "17277    0.0            mild_child_wasting          2_to_4  \n",
       "17278    0.0   moderate_acute_malnutrition          2_to_4  \n",
       "17279    0.0     severe_acute_malnutrition          2_to_4  \n",
       "\n",
       "[17280 rows x 9 columns]"
      ]
     },
     "execution_count": 8,
     "metadata": {},
     "output_type": "execute_result"
    }
   ],
   "source": [
    "data['deaths']"
   ]
  },
  {
   "cell_type": "code",
   "execution_count": 9,
   "id": "596dc484",
   "metadata": {},
   "outputs": [
    {
     "ename": "TypeError",
     "evalue": "'VivariumTransformedOutput' object does not support item assignment",
     "output_type": "error",
     "traceback": [
      "\u001b[0;31m---------------------------------------------------------------------------\u001b[0m",
      "\u001b[0;31mTypeError\u001b[0m                                 Traceback (most recent call last)",
      "\u001b[0;32m/tmp/ipykernel_2671657/4218517198.py\u001b[0m in \u001b[0;36m<module>\u001b[0;34m\u001b[0m\n\u001b[0;32m----> 1\u001b[0;31m \u001b[0mdata\u001b[0m\u001b[0;34m[\u001b[0m\u001b[0;34m'yak'\u001b[0m\u001b[0;34m]\u001b[0m \u001b[0;34m=\u001b[0m \u001b[0;34m'4'\u001b[0m\u001b[0;34m\u001b[0m\u001b[0;34m\u001b[0m\u001b[0m\n\u001b[0m",
      "\u001b[0;31mTypeError\u001b[0m: 'VivariumTransformedOutput' object does not support item assignment"
     ]
    }
   ],
   "source": [
    "data['yak'] = '4'"
   ]
  },
  {
   "cell_type": "code",
   "execution_count": 10,
   "id": "1056d5de",
   "metadata": {},
   "outputs": [],
   "source": [
    "data.yak = pd.DataFrame(range(4))"
   ]
  },
  {
   "cell_type": "code",
   "execution_count": 11,
   "id": "5213d4c6",
   "metadata": {},
   "outputs": [
    {
     "data": {
      "text/plain": [
       "['wasting_transition_count',\n",
       " 'wasting_state_person_time',\n",
       " 'deaths',\n",
       " 'population',\n",
       " 'ylls',\n",
       " 'ylds',\n",
       " 'disease_state_person_time',\n",
       " 'disease_transition_count',\n",
       " 'yak']"
      ]
     },
     "execution_count": 11,
     "metadata": {},
     "output_type": "execute_result"
    }
   ],
   "source": [
    "data.table_names()"
   ]
  },
  {
   "cell_type": "code",
   "execution_count": 12,
   "id": "ca465e3c",
   "metadata": {},
   "outputs": [
    {
     "data": {
      "text/html": [
       "<div>\n",
       "<style scoped>\n",
       "    .dataframe tbody tr th:only-of-type {\n",
       "        vertical-align: middle;\n",
       "    }\n",
       "\n",
       "    .dataframe tbody tr th {\n",
       "        vertical-align: top;\n",
       "    }\n",
       "\n",
       "    .dataframe thead th {\n",
       "        text-align: right;\n",
       "    }\n",
       "</style>\n",
       "<table border=\"1\" class=\"dataframe\">\n",
       "  <thead>\n",
       "    <tr style=\"text-align: right;\">\n",
       "      <th></th>\n",
       "      <th>0</th>\n",
       "    </tr>\n",
       "  </thead>\n",
       "  <tbody>\n",
       "    <tr>\n",
       "      <th>0</th>\n",
       "      <td>0</td>\n",
       "    </tr>\n",
       "    <tr>\n",
       "      <th>1</th>\n",
       "      <td>1</td>\n",
       "    </tr>\n",
       "    <tr>\n",
       "      <th>2</th>\n",
       "      <td>2</td>\n",
       "    </tr>\n",
       "    <tr>\n",
       "      <th>3</th>\n",
       "      <td>3</td>\n",
       "    </tr>\n",
       "  </tbody>\n",
       "</table>\n",
       "</div>"
      ],
      "text/plain": [
       "   0\n",
       "0  0\n",
       "1  1\n",
       "2  2\n",
       "3  3"
      ]
     },
     "execution_count": 12,
     "metadata": {},
     "output_type": "execute_result"
    }
   ],
   "source": [
    "data['yak']"
   ]
  },
  {
   "cell_type": "code",
   "execution_count": 13,
   "id": "7ceb1849",
   "metadata": {},
   "outputs": [],
   "source": [
    "del data.yak"
   ]
  },
  {
   "cell_type": "code",
   "execution_count": 14,
   "id": "0074041c",
   "metadata": {},
   "outputs": [
    {
     "data": {
      "text/plain": [
       "['wasting_transition_count',\n",
       " 'wasting_state_person_time',\n",
       " 'deaths',\n",
       " 'population',\n",
       " 'ylls',\n",
       " 'ylds',\n",
       " 'disease_state_person_time',\n",
       " 'disease_transition_count']"
      ]
     },
     "execution_count": 14,
     "metadata": {},
     "output_type": "execute_result"
    }
   ],
   "source": [
    "data.table_names()"
   ]
  },
  {
   "cell_type": "code",
   "execution_count": 15,
   "id": "51a39ba2",
   "metadata": {},
   "outputs": [
    {
     "data": {
      "text/plain": [
       "True"
      ]
     },
     "execution_count": 15,
     "metadata": {},
     "output_type": "execute_result"
    }
   ],
   "source": [
    "'value' in data.deaths"
   ]
  },
  {
   "cell_type": "code",
   "execution_count": 16,
   "id": "81b41e00",
   "metadata": {},
   "outputs": [
    {
     "data": {
      "text/plain": [
       "Index(['sex', 'year', 'cause', 'measure', 'input_draw', 'scenario', 'value',\n",
       "       'wasting_state', 'age'],\n",
       "      dtype='object')"
      ]
     },
     "execution_count": 16,
     "metadata": {},
     "output_type": "execute_result"
    }
   ],
   "source": [
    "data.deaths.columns"
   ]
  },
  {
   "cell_type": "code",
   "execution_count": 17,
   "id": "0bc7a767",
   "metadata": {},
   "outputs": [
    {
     "ename": "TypeError",
     "evalue": "unhashable type: 'list'",
     "output_type": "error",
     "traceback": [
      "\u001b[0;31m---------------------------------------------------------------------------\u001b[0m",
      "\u001b[0;31mTypeError\u001b[0m                                 Traceback (most recent call last)",
      "\u001b[0;32m/tmp/ipykernel_2671657/1865652325.py\u001b[0m in \u001b[0;36m<module>\u001b[0;34m\u001b[0m\n\u001b[0;32m----> 1\u001b[0;31m \u001b[0;34m[\u001b[0m\u001b[0;34m'value'\u001b[0m\u001b[0;34m]\u001b[0m \u001b[0;32min\u001b[0m \u001b[0mdata\u001b[0m\u001b[0;34m.\u001b[0m\u001b[0mdeaths\u001b[0m\u001b[0;34m\u001b[0m\u001b[0;34m\u001b[0m\u001b[0m\n\u001b[0m",
      "\u001b[0;32m~/miniconda3/envs/ciff-sam-38/lib/python3.8/site-packages/pandas/core/generic.py\u001b[0m in \u001b[0;36m__contains__\u001b[0;34m(self, key)\u001b[0m\n\u001b[1;32m   1928\u001b[0m     \u001b[0;32mdef\u001b[0m \u001b[0m__contains__\u001b[0m\u001b[0;34m(\u001b[0m\u001b[0mself\u001b[0m\u001b[0;34m,\u001b[0m \u001b[0mkey\u001b[0m\u001b[0;34m)\u001b[0m \u001b[0;34m->\u001b[0m \u001b[0mbool_t\u001b[0m\u001b[0;34m:\u001b[0m\u001b[0;34m\u001b[0m\u001b[0;34m\u001b[0m\u001b[0m\n\u001b[1;32m   1929\u001b[0m         \u001b[0;34m\"\"\"True if the key is in the info axis\"\"\"\u001b[0m\u001b[0;34m\u001b[0m\u001b[0;34m\u001b[0m\u001b[0m\n\u001b[0;32m-> 1930\u001b[0;31m         \u001b[0;32mreturn\u001b[0m \u001b[0mkey\u001b[0m \u001b[0;32min\u001b[0m \u001b[0mself\u001b[0m\u001b[0;34m.\u001b[0m\u001b[0m_info_axis\u001b[0m\u001b[0;34m\u001b[0m\u001b[0;34m\u001b[0m\u001b[0m\n\u001b[0m\u001b[1;32m   1931\u001b[0m \u001b[0;34m\u001b[0m\u001b[0m\n\u001b[1;32m   1932\u001b[0m     \u001b[0;34m@\u001b[0m\u001b[0mproperty\u001b[0m\u001b[0;34m\u001b[0m\u001b[0;34m\u001b[0m\u001b[0m\n",
      "\u001b[0;32m~/miniconda3/envs/ciff-sam-38/lib/python3.8/site-packages/pandas/core/indexes/base.py\u001b[0m in \u001b[0;36m__contains__\u001b[0;34m(self, key)\u001b[0m\n\u001b[1;32m   4570\u001b[0m         \u001b[0;32mFalse\u001b[0m\u001b[0;34m\u001b[0m\u001b[0;34m\u001b[0m\u001b[0m\n\u001b[1;32m   4571\u001b[0m         \"\"\"\n\u001b[0;32m-> 4572\u001b[0;31m         \u001b[0mhash\u001b[0m\u001b[0;34m(\u001b[0m\u001b[0mkey\u001b[0m\u001b[0;34m)\u001b[0m\u001b[0;34m\u001b[0m\u001b[0;34m\u001b[0m\u001b[0m\n\u001b[0m\u001b[1;32m   4573\u001b[0m         \u001b[0;32mtry\u001b[0m\u001b[0;34m:\u001b[0m\u001b[0;34m\u001b[0m\u001b[0;34m\u001b[0m\u001b[0m\n\u001b[1;32m   4574\u001b[0m             \u001b[0;32mreturn\u001b[0m \u001b[0mkey\u001b[0m \u001b[0;32min\u001b[0m \u001b[0mself\u001b[0m\u001b[0;34m.\u001b[0m\u001b[0m_engine\u001b[0m\u001b[0;34m\u001b[0m\u001b[0;34m\u001b[0m\u001b[0m\n",
      "\u001b[0;31mTypeError\u001b[0m: unhashable type: 'list'"
     ]
    }
   ],
   "source": [
    "['value'] in data.deaths"
   ]
  },
  {
   "cell_type": "code",
   "execution_count": 19,
   "id": "2d09ab63",
   "metadata": {},
   "outputs": [
    {
     "data": {
      "text/plain": [
       "False"
      ]
     },
     "execution_count": 19,
     "metadata": {},
     "output_type": "execute_result"
    }
   ],
   "source": [
    "isinstance(['value'], collections.Hashable)"
   ]
  },
  {
   "cell_type": "code",
   "execution_count": 20,
   "id": "b376f336",
   "metadata": {},
   "outputs": [
    {
     "data": {
      "text/plain": [
       "True"
      ]
     },
     "execution_count": 20,
     "metadata": {},
     "output_type": "execute_result"
    }
   ],
   "source": [
    "isinstance('value', collections.Hashable)"
   ]
  },
  {
   "cell_type": "code",
   "execution_count": 77,
   "id": "97973ae8",
   "metadata": {},
   "outputs": [],
   "source": [
    "def method1(colnames, df):\n",
    "    if isinstance(colnames, collections.Hashable):\n",
    "        if colnames in df: # assume colnames is a single column name in df\n",
    "            colnames = [colnames]\n",
    "#         elif isinstance(colnames, str): # Assume colnames is supposed to be a single column name\n",
    "#             raise KeyError(f\"string {colnames} not in the DataFrame\")\n",
    "    elif isinstance(colnames, collections.Iterable): # assume colname is an iterable of column names\n",
    "        colnames = colnames # Note - this will not catch strings that are bad column names\n",
    "    else:\n",
    "        raise ValueError(f\"colnames must be a single column name in df or an iterable of column names\")\n",
    "        \n",
    "def method2(colnames, df):\n",
    "    # Assume that if colnames is hashable it represents a single column name,\n",
    "    # and otherwise it must be an iterable of column names\n",
    "    if isinstance(colnames, collections.Hashable):\n",
    "        # This line could still raise an 'unhashable type' TypeError if e.g. colnames is a tuple that contains an unhashable type\n",
    "        if colnames in df: # assume colnames is a single column name in df\n",
    "            colnames = [colnames]\n",
    "        else: # Assume colnames is supposed to be a single column name\n",
    "            raise KeyError(f\"Key {colnames=} not in the DataFrame\")\n",
    "    elif not isinstance(colnames, collections.Iterable): # assume colname is an iterable of column names\n",
    "        raise ValueError(f\"{colnames=} must be a single column name in df or an iterable of column names\")"
   ]
  },
  {
   "cell_type": "code",
   "execution_count": 22,
   "id": "79e2e1b4",
   "metadata": {},
   "outputs": [
    {
     "data": {
      "text/plain": [
       "array([0, 1, 2, 3])"
      ]
     },
     "execution_count": 22,
     "metadata": {},
     "output_type": "execute_result"
    }
   ],
   "source": [
    "a = np.array(range(4))\n",
    "a"
   ]
  },
  {
   "cell_type": "code",
   "execution_count": 23,
   "id": "23c286e8",
   "metadata": {},
   "outputs": [
    {
     "data": {
      "text/plain": [
       "False"
      ]
     },
     "execution_count": 23,
     "metadata": {},
     "output_type": "execute_result"
    }
   ],
   "source": [
    "isinstance(a, collections.Hashable)"
   ]
  },
  {
   "cell_type": "code",
   "execution_count": 24,
   "id": "6bdbfc07",
   "metadata": {},
   "outputs": [
    {
     "data": {
      "text/plain": [
       "True"
      ]
     },
     "execution_count": 24,
     "metadata": {},
     "output_type": "execute_result"
    }
   ],
   "source": [
    "isinstance(a, collections.Iterable)"
   ]
  },
  {
   "cell_type": "code",
   "execution_count": 25,
   "id": "8a3eccae",
   "metadata": {},
   "outputs": [],
   "source": [
    "class TestCollection(collections.abc.Mapping):\n",
    "    def __init__(self, table_dict):\n",
    "        self.__dict__ = dict(table_dict)\n",
    "\n",
    "    def __getitem__(self, table_name):\n",
    "        return self.__dict__[table_name]\n",
    "    \n",
    "    def __iter__(self):\n",
    "        return iter(self.__dict__)\n",
    "\n",
    "# # What happens if we don't implement something we're supposed to? Then we can't instantiate the class.\n",
    "#     def __len__(self):\n",
    "#         return len(self.__dict__)\n",
    "\n",
    "    def to_dict(self):\n",
    "        return dict(self.__dict__)\n",
    "\n",
    "    def table_names(self):\n",
    "        return list(self.keys())"
   ]
  },
  {
   "cell_type": "code",
   "execution_count": 26,
   "id": "cafcf840",
   "metadata": {},
   "outputs": [
    {
     "ename": "TypeError",
     "evalue": "Can't instantiate abstract class TestCollection with abstract methods __len__",
     "output_type": "error",
     "traceback": [
      "\u001b[0;31m---------------------------------------------------------------------------\u001b[0m",
      "\u001b[0;31mTypeError\u001b[0m                                 Traceback (most recent call last)",
      "\u001b[0;32m/tmp/ipykernel_2671657/11036827.py\u001b[0m in \u001b[0;36m<module>\u001b[0;34m\u001b[0m\n\u001b[0;32m----> 1\u001b[0;31m \u001b[0mtc\u001b[0m \u001b[0;34m=\u001b[0m \u001b[0mTestCollection\u001b[0m\u001b[0;34m(\u001b[0m\u001b[0mdata\u001b[0m\u001b[0;34m)\u001b[0m\u001b[0;34m\u001b[0m\u001b[0;34m\u001b[0m\u001b[0m\n\u001b[0m",
      "\u001b[0;31mTypeError\u001b[0m: Can't instantiate abstract class TestCollection with abstract methods __len__"
     ]
    }
   ],
   "source": [
    "tc = TestCollection(data)"
   ]
  },
  {
   "cell_type": "code",
   "execution_count": 27,
   "id": "517583fa",
   "metadata": {},
   "outputs": [
    {
     "data": {
      "text/plain": [
       "['wasting_transition_count',\n",
       " 'wasting_state_person_time',\n",
       " 'deaths',\n",
       " 'population',\n",
       " 'ylls',\n",
       " 'ylds',\n",
       " 'disease_state_person_time',\n",
       " 'disease_transition_count']"
      ]
     },
     "execution_count": 27,
     "metadata": {},
     "output_type": "execute_result"
    }
   ],
   "source": [
    "data2 = vto.VivariumTransformedOutput(data)\n",
    "data2.table_names()"
   ]
  },
  {
   "cell_type": "code",
   "execution_count": null,
   "id": "95a15e17",
   "metadata": {},
   "outputs": [],
   "source": []
  },
  {
   "cell_type": "code",
   "execution_count": 29,
   "id": "5204420a",
   "metadata": {},
   "outputs": [
    {
     "data": {
      "text/plain": [
       "dict_keys(['Ethiopia', 'Fake_location'])"
      ]
     },
     "execution_count": 29,
     "metadata": {},
     "output_type": "execute_result"
    }
   ],
   "source": [
    "locations_paths = {\n",
    "    'Ethiopia': model_count_data_dir,\n",
    "    'Fake_location': model_count_data_dir,\n",
    "}\n",
    "d = vto.load_count_data_by_location(locations_paths, '')\n",
    "d.keys()"
   ]
  },
  {
   "cell_type": "code",
   "execution_count": 31,
   "id": "51277406",
   "metadata": {},
   "outputs": [
    {
     "data": {
      "text/plain": [
       "dict_keys(['wasting_transition_count', 'wasting_state_person_time', 'deaths', 'population', 'ylls', 'ylds', 'disease_state_person_time', 'disease_transition_count'])"
      ]
     },
     "execution_count": 31,
     "metadata": {},
     "output_type": "execute_result"
    }
   ],
   "source": [
    "d['Ethiopia'].keys()"
   ]
  },
  {
   "cell_type": "code",
   "execution_count": 33,
   "id": "f193015d",
   "metadata": {},
   "outputs": [
    {
     "data": {
      "text/plain": [
       "KeysView(<model_validation.vivarium_transformed_output.VivariumTransformedOutput object at 0x2b8e6ff46b50>)"
      ]
     },
     "execution_count": 33,
     "metadata": {},
     "output_type": "execute_result"
    }
   ],
   "source": [
    "d2 = vto.VivariumTransformedOutput.from_locations_paths(locations_paths, '')\n",
    "d2.keys()"
   ]
  },
  {
   "cell_type": "code",
   "execution_count": 34,
   "id": "02a3ec59",
   "metadata": {},
   "outputs": [
    {
     "data": {
      "text/plain": [
       "<model_validation.vivarium_transformed_output.VivariumTransformedOutput at 0x2b8e6ff46b50>"
      ]
     },
     "execution_count": 34,
     "metadata": {},
     "output_type": "execute_result"
    }
   ],
   "source": [
    "d2"
   ]
  },
  {
   "cell_type": "code",
   "execution_count": 36,
   "id": "09d6d2ca",
   "metadata": {},
   "outputs": [
    {
     "data": {
      "text/plain": [
       "['ethiopia', 'fake_location']"
      ]
     },
     "execution_count": 36,
     "metadata": {},
     "output_type": "execute_result"
    }
   ],
   "source": [
    "d2.table_names()"
   ]
  },
  {
   "cell_type": "code",
   "execution_count": 37,
   "id": "490fbf4a",
   "metadata": {},
   "outputs": [
    {
     "data": {
      "text/plain": [
       "['wasting_transition_count',\n",
       " 'wasting_state_person_time',\n",
       " 'deaths',\n",
       " 'population',\n",
       " 'ylls',\n",
       " 'ylds',\n",
       " 'disease_state_person_time',\n",
       " 'disease_transition_count']"
      ]
     },
     "execution_count": 37,
     "metadata": {},
     "output_type": "execute_result"
    }
   ],
   "source": [
    "d2.ethiopia.table_names()"
   ]
  },
  {
   "cell_type": "code",
   "execution_count": 38,
   "id": "d359498c",
   "metadata": {},
   "outputs": [
    {
     "data": {
      "text/plain": [
       "['wasting_transition_count',\n",
       " 'wasting_state_person_time',\n",
       " 'deaths',\n",
       " 'population',\n",
       " 'ylls',\n",
       " 'ylds',\n",
       " 'disease_state_person_time',\n",
       " 'disease_transition_count']"
      ]
     },
     "execution_count": 38,
     "metadata": {},
     "output_type": "execute_result"
    }
   ],
   "source": [
    "d2.fake_location.table_names()"
   ]
  },
  {
   "cell_type": "code",
   "execution_count": 43,
   "id": "d4d4b829",
   "metadata": {},
   "outputs": [
    {
     "data": {
      "text/html": [
       "<div>\n",
       "<style scoped>\n",
       "    .dataframe tbody tr th:only-of-type {\n",
       "        vertical-align: middle;\n",
       "    }\n",
       "\n",
       "    .dataframe tbody tr th {\n",
       "        vertical-align: top;\n",
       "    }\n",
       "\n",
       "    .dataframe thead th {\n",
       "        text-align: right;\n",
       "    }\n",
       "</style>\n",
       "<table border=\"1\" class=\"dataframe\">\n",
       "  <thead>\n",
       "    <tr style=\"text-align: right;\">\n",
       "      <th></th>\n",
       "      <th>sex</th>\n",
       "      <th>year</th>\n",
       "      <th>cause</th>\n",
       "      <th>measure</th>\n",
       "      <th>input_draw</th>\n",
       "      <th>scenario</th>\n",
       "      <th>value</th>\n",
       "      <th>age</th>\n",
       "    </tr>\n",
       "  </thead>\n",
       "  <tbody>\n",
       "    <tr>\n",
       "      <th>0</th>\n",
       "      <td>female</td>\n",
       "      <td>2022</td>\n",
       "      <td>mild_child_wasting</td>\n",
       "      <td>state_person_time</td>\n",
       "      <td>29</td>\n",
       "      <td>baseline</td>\n",
       "      <td>67.629021</td>\n",
       "      <td>early_neonatal</td>\n",
       "    </tr>\n",
       "    <tr>\n",
       "      <th>1</th>\n",
       "      <td>female</td>\n",
       "      <td>2022</td>\n",
       "      <td>mild_child_wasting</td>\n",
       "      <td>state_person_time</td>\n",
       "      <td>29</td>\n",
       "      <td>baseline</td>\n",
       "      <td>242.324435</td>\n",
       "      <td>late_neonatal</td>\n",
       "    </tr>\n",
       "    <tr>\n",
       "      <th>2</th>\n",
       "      <td>female</td>\n",
       "      <td>2022</td>\n",
       "      <td>mild_child_wasting</td>\n",
       "      <td>state_person_time</td>\n",
       "      <td>29</td>\n",
       "      <td>baseline</td>\n",
       "      <td>3526.287474</td>\n",
       "      <td>1-5_months</td>\n",
       "    </tr>\n",
       "    <tr>\n",
       "      <th>3</th>\n",
       "      <td>female</td>\n",
       "      <td>2022</td>\n",
       "      <td>mild_child_wasting</td>\n",
       "      <td>state_person_time</td>\n",
       "      <td>29</td>\n",
       "      <td>baseline</td>\n",
       "      <td>8192.839151</td>\n",
       "      <td>6-11_months</td>\n",
       "    </tr>\n",
       "    <tr>\n",
       "      <th>...</th>\n",
       "      <td>...</td>\n",
       "      <td>...</td>\n",
       "      <td>...</td>\n",
       "      <td>...</td>\n",
       "      <td>...</td>\n",
       "      <td>...</td>\n",
       "      <td>...</td>\n",
       "      <td>...</td>\n",
       "    </tr>\n",
       "    <tr>\n",
       "      <th>2876</th>\n",
       "      <td>male</td>\n",
       "      <td>2026</td>\n",
       "      <td>susceptible_to_child_wasting</td>\n",
       "      <td>state_person_time</td>\n",
       "      <td>946</td>\n",
       "      <td>baseline</td>\n",
       "      <td>4633.670089</td>\n",
       "      <td>1-5_months</td>\n",
       "    </tr>\n",
       "    <tr>\n",
       "      <th>2877</th>\n",
       "      <td>male</td>\n",
       "      <td>2026</td>\n",
       "      <td>susceptible_to_child_wasting</td>\n",
       "      <td>state_person_time</td>\n",
       "      <td>946</td>\n",
       "      <td>baseline</td>\n",
       "      <td>5516.294319</td>\n",
       "      <td>6-11_months</td>\n",
       "    </tr>\n",
       "    <tr>\n",
       "      <th>2878</th>\n",
       "      <td>male</td>\n",
       "      <td>2026</td>\n",
       "      <td>susceptible_to_child_wasting</td>\n",
       "      <td>state_person_time</td>\n",
       "      <td>946</td>\n",
       "      <td>baseline</td>\n",
       "      <td>11032.581793</td>\n",
       "      <td>12_to_23_months</td>\n",
       "    </tr>\n",
       "    <tr>\n",
       "      <th>2879</th>\n",
       "      <td>male</td>\n",
       "      <td>2026</td>\n",
       "      <td>susceptible_to_child_wasting</td>\n",
       "      <td>state_person_time</td>\n",
       "      <td>946</td>\n",
       "      <td>baseline</td>\n",
       "      <td>63806.663929</td>\n",
       "      <td>2_to_4</td>\n",
       "    </tr>\n",
       "  </tbody>\n",
       "</table>\n",
       "<p>2880 rows × 8 columns</p>\n",
       "</div>"
      ],
      "text/plain": [
       "         sex  year                         cause            measure  \\\n",
       "0     female  2022            mild_child_wasting  state_person_time   \n",
       "1     female  2022            mild_child_wasting  state_person_time   \n",
       "2     female  2022            mild_child_wasting  state_person_time   \n",
       "3     female  2022            mild_child_wasting  state_person_time   \n",
       "...      ...   ...                           ...                ...   \n",
       "2876    male  2026  susceptible_to_child_wasting  state_person_time   \n",
       "2877    male  2026  susceptible_to_child_wasting  state_person_time   \n",
       "2878    male  2026  susceptible_to_child_wasting  state_person_time   \n",
       "2879    male  2026  susceptible_to_child_wasting  state_person_time   \n",
       "\n",
       "      input_draw  scenario         value              age  \n",
       "0             29  baseline     67.629021   early_neonatal  \n",
       "1             29  baseline    242.324435    late_neonatal  \n",
       "2             29  baseline   3526.287474       1-5_months  \n",
       "3             29  baseline   8192.839151      6-11_months  \n",
       "...          ...       ...           ...              ...  \n",
       "2876         946  baseline   4633.670089       1-5_months  \n",
       "2877         946  baseline   5516.294319      6-11_months  \n",
       "2878         946  baseline  11032.581793  12_to_23_months  \n",
       "2879         946  baseline  63806.663929           2_to_4  \n",
       "\n",
       "[2880 rows x 8 columns]"
      ]
     },
     "execution_count": 43,
     "metadata": {},
     "output_type": "execute_result"
    }
   ],
   "source": [
    "d2.fake_location.wasting_state_person_time"
   ]
  },
  {
   "cell_type": "code",
   "execution_count": 41,
   "id": "033ac9d8",
   "metadata": {},
   "outputs": [
    {
     "data": {
      "text/plain": [
       "['wasting_transition_count',\n",
       " 'wasting_state_person_time',\n",
       " 'deaths',\n",
       " 'population',\n",
       " 'ylls',\n",
       " 'ylds',\n",
       " 'disease_state_person_time',\n",
       " 'disease_transition_count']"
      ]
     },
     "execution_count": 41,
     "metadata": {},
     "output_type": "execute_result"
    }
   ],
   "source": [
    "d3 = vto.VivariumTransformedOutput(vto.merge_location_count_data(d2))\n",
    "d3.table_names()"
   ]
  },
  {
   "cell_type": "code",
   "execution_count": 42,
   "id": "1dc00def",
   "metadata": {},
   "outputs": [
    {
     "data": {
      "text/html": [
       "<div>\n",
       "<style scoped>\n",
       "    .dataframe tbody tr th:only-of-type {\n",
       "        vertical-align: middle;\n",
       "    }\n",
       "\n",
       "    .dataframe tbody tr th {\n",
       "        vertical-align: top;\n",
       "    }\n",
       "\n",
       "    .dataframe thead th {\n",
       "        text-align: right;\n",
       "    }\n",
       "</style>\n",
       "<table border=\"1\" class=\"dataframe\">\n",
       "  <thead>\n",
       "    <tr style=\"text-align: right;\">\n",
       "      <th></th>\n",
       "      <th>location</th>\n",
       "      <th>sex</th>\n",
       "      <th>year</th>\n",
       "      <th>cause</th>\n",
       "      <th>measure</th>\n",
       "      <th>input_draw</th>\n",
       "      <th>scenario</th>\n",
       "      <th>value</th>\n",
       "      <th>age</th>\n",
       "    </tr>\n",
       "  </thead>\n",
       "  <tbody>\n",
       "    <tr>\n",
       "      <th>0</th>\n",
       "      <td>ethiopia</td>\n",
       "      <td>female</td>\n",
       "      <td>2022</td>\n",
       "      <td>mild_child_wasting</td>\n",
       "      <td>state_person_time</td>\n",
       "      <td>29</td>\n",
       "      <td>baseline</td>\n",
       "      <td>67.629021</td>\n",
       "      <td>early_neonatal</td>\n",
       "    </tr>\n",
       "    <tr>\n",
       "      <th>1</th>\n",
       "      <td>ethiopia</td>\n",
       "      <td>female</td>\n",
       "      <td>2022</td>\n",
       "      <td>mild_child_wasting</td>\n",
       "      <td>state_person_time</td>\n",
       "      <td>29</td>\n",
       "      <td>baseline</td>\n",
       "      <td>242.324435</td>\n",
       "      <td>late_neonatal</td>\n",
       "    </tr>\n",
       "    <tr>\n",
       "      <th>2</th>\n",
       "      <td>ethiopia</td>\n",
       "      <td>female</td>\n",
       "      <td>2022</td>\n",
       "      <td>mild_child_wasting</td>\n",
       "      <td>state_person_time</td>\n",
       "      <td>29</td>\n",
       "      <td>baseline</td>\n",
       "      <td>3526.287474</td>\n",
       "      <td>1-5_months</td>\n",
       "    </tr>\n",
       "    <tr>\n",
       "      <th>3</th>\n",
       "      <td>ethiopia</td>\n",
       "      <td>female</td>\n",
       "      <td>2022</td>\n",
       "      <td>mild_child_wasting</td>\n",
       "      <td>state_person_time</td>\n",
       "      <td>29</td>\n",
       "      <td>baseline</td>\n",
       "      <td>8192.839151</td>\n",
       "      <td>6-11_months</td>\n",
       "    </tr>\n",
       "    <tr>\n",
       "      <th>...</th>\n",
       "      <td>...</td>\n",
       "      <td>...</td>\n",
       "      <td>...</td>\n",
       "      <td>...</td>\n",
       "      <td>...</td>\n",
       "      <td>...</td>\n",
       "      <td>...</td>\n",
       "      <td>...</td>\n",
       "      <td>...</td>\n",
       "    </tr>\n",
       "    <tr>\n",
       "      <th>2876</th>\n",
       "      <td>fake_location</td>\n",
       "      <td>male</td>\n",
       "      <td>2026</td>\n",
       "      <td>susceptible_to_child_wasting</td>\n",
       "      <td>state_person_time</td>\n",
       "      <td>946</td>\n",
       "      <td>baseline</td>\n",
       "      <td>4633.670089</td>\n",
       "      <td>1-5_months</td>\n",
       "    </tr>\n",
       "    <tr>\n",
       "      <th>2877</th>\n",
       "      <td>fake_location</td>\n",
       "      <td>male</td>\n",
       "      <td>2026</td>\n",
       "      <td>susceptible_to_child_wasting</td>\n",
       "      <td>state_person_time</td>\n",
       "      <td>946</td>\n",
       "      <td>baseline</td>\n",
       "      <td>5516.294319</td>\n",
       "      <td>6-11_months</td>\n",
       "    </tr>\n",
       "    <tr>\n",
       "      <th>2878</th>\n",
       "      <td>fake_location</td>\n",
       "      <td>male</td>\n",
       "      <td>2026</td>\n",
       "      <td>susceptible_to_child_wasting</td>\n",
       "      <td>state_person_time</td>\n",
       "      <td>946</td>\n",
       "      <td>baseline</td>\n",
       "      <td>11032.581793</td>\n",
       "      <td>12_to_23_months</td>\n",
       "    </tr>\n",
       "    <tr>\n",
       "      <th>2879</th>\n",
       "      <td>fake_location</td>\n",
       "      <td>male</td>\n",
       "      <td>2026</td>\n",
       "      <td>susceptible_to_child_wasting</td>\n",
       "      <td>state_person_time</td>\n",
       "      <td>946</td>\n",
       "      <td>baseline</td>\n",
       "      <td>63806.663929</td>\n",
       "      <td>2_to_4</td>\n",
       "    </tr>\n",
       "  </tbody>\n",
       "</table>\n",
       "<p>5760 rows × 9 columns</p>\n",
       "</div>"
      ],
      "text/plain": [
       "           location     sex  year                         cause  \\\n",
       "0          ethiopia  female  2022            mild_child_wasting   \n",
       "1          ethiopia  female  2022            mild_child_wasting   \n",
       "2          ethiopia  female  2022            mild_child_wasting   \n",
       "3          ethiopia  female  2022            mild_child_wasting   \n",
       "...             ...     ...   ...                           ...   \n",
       "2876  fake_location    male  2026  susceptible_to_child_wasting   \n",
       "2877  fake_location    male  2026  susceptible_to_child_wasting   \n",
       "2878  fake_location    male  2026  susceptible_to_child_wasting   \n",
       "2879  fake_location    male  2026  susceptible_to_child_wasting   \n",
       "\n",
       "                measure  input_draw  scenario         value              age  \n",
       "0     state_person_time          29  baseline     67.629021   early_neonatal  \n",
       "1     state_person_time          29  baseline    242.324435    late_neonatal  \n",
       "2     state_person_time          29  baseline   3526.287474       1-5_months  \n",
       "3     state_person_time          29  baseline   8192.839151      6-11_months  \n",
       "...                 ...         ...       ...           ...              ...  \n",
       "2876  state_person_time         946  baseline   4633.670089       1-5_months  \n",
       "2877  state_person_time         946  baseline   5516.294319      6-11_months  \n",
       "2878  state_person_time         946  baseline  11032.581793  12_to_23_months  \n",
       "2879  state_person_time         946  baseline  63806.663929           2_to_4  \n",
       "\n",
       "[5760 rows x 9 columns]"
      ]
     },
     "execution_count": 42,
     "metadata": {},
     "output_type": "execute_result"
    }
   ],
   "source": [
    "d3.wasting_state_person_time"
   ]
  },
  {
   "cell_type": "code",
   "execution_count": 44,
   "id": "073e1101",
   "metadata": {},
   "outputs": [
    {
     "data": {
      "text/plain": [
       "['yak', 'bad variable']"
      ]
     },
     "execution_count": 44,
     "metadata": {},
     "output_type": "execute_result"
    }
   ],
   "source": [
    "test = vto.VivariumTransformedOutput({'yak': 3, 'bad variable': 4})\n",
    "test.table_names()"
   ]
  },
  {
   "cell_type": "code",
   "execution_count": 45,
   "id": "63fdb748",
   "metadata": {},
   "outputs": [
    {
     "ename": "SyntaxError",
     "evalue": "invalid syntax (3398138285.py, line 1)",
     "output_type": "error",
     "traceback": [
      "\u001b[0;36m  File \u001b[0;32m\"/tmp/ipykernel_2671657/3398138285.py\"\u001b[0;36m, line \u001b[0;32m1\u001b[0m\n\u001b[0;31m    test.bad variable\u001b[0m\n\u001b[0m             ^\u001b[0m\n\u001b[0;31mSyntaxError\u001b[0m\u001b[0;31m:\u001b[0m invalid syntax\n"
     ]
    }
   ],
   "source": [
    "test.bad variable"
   ]
  },
  {
   "cell_type": "code",
   "execution_count": 46,
   "id": "b033ba61",
   "metadata": {},
   "outputs": [
    {
     "data": {
      "text/plain": [
       "3"
      ]
     },
     "execution_count": 46,
     "metadata": {},
     "output_type": "execute_result"
    }
   ],
   "source": [
    "test.yak"
   ]
  },
  {
   "cell_type": "code",
   "execution_count": 47,
   "id": "75b3fd03",
   "metadata": {},
   "outputs": [
    {
     "data": {
      "text/plain": [
       "4"
      ]
     },
     "execution_count": 47,
     "metadata": {},
     "output_type": "execute_result"
    }
   ],
   "source": [
    "test['bad variable']"
   ]
  },
  {
   "cell_type": "code",
   "execution_count": 48,
   "id": "a3a79111",
   "metadata": {},
   "outputs": [
    {
     "data": {
      "text/plain": [
       "['yak', 'bad variable', 'goat']"
      ]
     },
     "execution_count": 48,
     "metadata": {},
     "output_type": "execute_result"
    }
   ],
   "source": [
    "setattr(test, 'goat', 5)\n",
    "test.table_names()"
   ]
  },
  {
   "cell_type": "code",
   "execution_count": 49,
   "id": "f8f67173",
   "metadata": {},
   "outputs": [
    {
     "data": {
      "text/plain": [
       "5"
      ]
     },
     "execution_count": 49,
     "metadata": {},
     "output_type": "execute_result"
    }
   ],
   "source": [
    "test.goat"
   ]
  },
  {
   "cell_type": "code",
   "execution_count": 50,
   "id": "fa835cae",
   "metadata": {},
   "outputs": [
    {
     "data": {
      "text/plain": [
       "['yak', 'bad variable', 'goat', 'uh oh']"
      ]
     },
     "execution_count": 50,
     "metadata": {},
     "output_type": "execute_result"
    }
   ],
   "source": [
    "setattr(test, 'uh oh', 6)\n",
    "test.table_names()"
   ]
  },
  {
   "cell_type": "code",
   "execution_count": 52,
   "id": "0e9fe987",
   "metadata": {},
   "outputs": [
    {
     "ename": "SyntaxError",
     "evalue": "invalid syntax (3240682433.py, line 1)",
     "output_type": "error",
     "traceback": [
      "\u001b[0;36m  File \u001b[0;32m\"/tmp/ipykernel_2671657/3240682433.py\"\u001b[0;36m, line \u001b[0;32m1\u001b[0m\n\u001b[0;31m    test.uh oh\u001b[0m\n\u001b[0m            ^\u001b[0m\n\u001b[0;31mSyntaxError\u001b[0m\u001b[0;31m:\u001b[0m invalid syntax\n"
     ]
    }
   ],
   "source": [
    "test.uh oh"
   ]
  },
  {
   "cell_type": "code",
   "execution_count": 54,
   "id": "eaedcdcd",
   "metadata": {},
   "outputs": [
    {
     "data": {
      "text/plain": [
       "['wasting_transition_count',\n",
       " 'wasting_state_person_time',\n",
       " 'deaths',\n",
       " 'population',\n",
       " 'ylls',\n",
       " 'ylds',\n",
       " 'disease_state_person_time',\n",
       " 'disease_transition_count']"
      ]
     },
     "execution_count": 54,
     "metadata": {},
     "output_type": "execute_result"
    }
   ],
   "source": [
    "d4 = vto.VivariumTransformedOutput.merged_from_locations_paths(locations_paths, '')\n",
    "d4.table_names()"
   ]
  },
  {
   "cell_type": "code",
   "execution_count": 55,
   "id": "97d91d35",
   "metadata": {},
   "outputs": [
    {
     "data": {
      "text/html": [
       "<div>\n",
       "<style scoped>\n",
       "    .dataframe tbody tr th:only-of-type {\n",
       "        vertical-align: middle;\n",
       "    }\n",
       "\n",
       "    .dataframe tbody tr th {\n",
       "        vertical-align: top;\n",
       "    }\n",
       "\n",
       "    .dataframe thead th {\n",
       "        text-align: right;\n",
       "    }\n",
       "</style>\n",
       "<table border=\"1\" class=\"dataframe\">\n",
       "  <thead>\n",
       "    <tr style=\"text-align: right;\">\n",
       "      <th></th>\n",
       "      <th>location</th>\n",
       "      <th>sex</th>\n",
       "      <th>year</th>\n",
       "      <th>cause</th>\n",
       "      <th>measure</th>\n",
       "      <th>input_draw</th>\n",
       "      <th>scenario</th>\n",
       "      <th>value</th>\n",
       "      <th>wasting_state</th>\n",
       "      <th>age</th>\n",
       "    </tr>\n",
       "  </thead>\n",
       "  <tbody>\n",
       "    <tr>\n",
       "      <th>0</th>\n",
       "      <td>Ethiopia</td>\n",
       "      <td>female</td>\n",
       "      <td>2022</td>\n",
       "      <td>diarrheal_diseases</td>\n",
       "      <td>death</td>\n",
       "      <td>29</td>\n",
       "      <td>baseline</td>\n",
       "      <td>1.0</td>\n",
       "      <td>susceptible_to_child_wasting</td>\n",
       "      <td>early_neonatal</td>\n",
       "    </tr>\n",
       "    <tr>\n",
       "      <th>1</th>\n",
       "      <td>Ethiopia</td>\n",
       "      <td>female</td>\n",
       "      <td>2022</td>\n",
       "      <td>diarrheal_diseases</td>\n",
       "      <td>death</td>\n",
       "      <td>29</td>\n",
       "      <td>baseline</td>\n",
       "      <td>0.0</td>\n",
       "      <td>mild_child_wasting</td>\n",
       "      <td>early_neonatal</td>\n",
       "    </tr>\n",
       "    <tr>\n",
       "      <th>2</th>\n",
       "      <td>Ethiopia</td>\n",
       "      <td>female</td>\n",
       "      <td>2022</td>\n",
       "      <td>diarrheal_diseases</td>\n",
       "      <td>death</td>\n",
       "      <td>29</td>\n",
       "      <td>baseline</td>\n",
       "      <td>0.0</td>\n",
       "      <td>moderate_acute_malnutrition</td>\n",
       "      <td>early_neonatal</td>\n",
       "    </tr>\n",
       "    <tr>\n",
       "      <th>3</th>\n",
       "      <td>Ethiopia</td>\n",
       "      <td>female</td>\n",
       "      <td>2022</td>\n",
       "      <td>diarrheal_diseases</td>\n",
       "      <td>death</td>\n",
       "      <td>29</td>\n",
       "      <td>baseline</td>\n",
       "      <td>0.0</td>\n",
       "      <td>severe_acute_malnutrition</td>\n",
       "      <td>early_neonatal</td>\n",
       "    </tr>\n",
       "    <tr>\n",
       "      <th>...</th>\n",
       "      <td>...</td>\n",
       "      <td>...</td>\n",
       "      <td>...</td>\n",
       "      <td>...</td>\n",
       "      <td>...</td>\n",
       "      <td>...</td>\n",
       "      <td>...</td>\n",
       "      <td>...</td>\n",
       "      <td>...</td>\n",
       "      <td>...</td>\n",
       "    </tr>\n",
       "    <tr>\n",
       "      <th>17276</th>\n",
       "      <td>Fake_location</td>\n",
       "      <td>male</td>\n",
       "      <td>2026</td>\n",
       "      <td>severe_acute_malnutrition</td>\n",
       "      <td>death</td>\n",
       "      <td>946</td>\n",
       "      <td>baseline</td>\n",
       "      <td>0.0</td>\n",
       "      <td>susceptible_to_child_wasting</td>\n",
       "      <td>2_to_4</td>\n",
       "    </tr>\n",
       "    <tr>\n",
       "      <th>17277</th>\n",
       "      <td>Fake_location</td>\n",
       "      <td>male</td>\n",
       "      <td>2026</td>\n",
       "      <td>severe_acute_malnutrition</td>\n",
       "      <td>death</td>\n",
       "      <td>946</td>\n",
       "      <td>baseline</td>\n",
       "      <td>0.0</td>\n",
       "      <td>mild_child_wasting</td>\n",
       "      <td>2_to_4</td>\n",
       "    </tr>\n",
       "    <tr>\n",
       "      <th>17278</th>\n",
       "      <td>Fake_location</td>\n",
       "      <td>male</td>\n",
       "      <td>2026</td>\n",
       "      <td>severe_acute_malnutrition</td>\n",
       "      <td>death</td>\n",
       "      <td>946</td>\n",
       "      <td>baseline</td>\n",
       "      <td>0.0</td>\n",
       "      <td>moderate_acute_malnutrition</td>\n",
       "      <td>2_to_4</td>\n",
       "    </tr>\n",
       "    <tr>\n",
       "      <th>17279</th>\n",
       "      <td>Fake_location</td>\n",
       "      <td>male</td>\n",
       "      <td>2026</td>\n",
       "      <td>severe_acute_malnutrition</td>\n",
       "      <td>death</td>\n",
       "      <td>946</td>\n",
       "      <td>baseline</td>\n",
       "      <td>0.0</td>\n",
       "      <td>severe_acute_malnutrition</td>\n",
       "      <td>2_to_4</td>\n",
       "    </tr>\n",
       "  </tbody>\n",
       "</table>\n",
       "<p>34560 rows × 10 columns</p>\n",
       "</div>"
      ],
      "text/plain": [
       "            location     sex  year                      cause measure  \\\n",
       "0           Ethiopia  female  2022         diarrheal_diseases   death   \n",
       "1           Ethiopia  female  2022         diarrheal_diseases   death   \n",
       "2           Ethiopia  female  2022         diarrheal_diseases   death   \n",
       "3           Ethiopia  female  2022         diarrheal_diseases   death   \n",
       "...              ...     ...   ...                        ...     ...   \n",
       "17276  Fake_location    male  2026  severe_acute_malnutrition   death   \n",
       "17277  Fake_location    male  2026  severe_acute_malnutrition   death   \n",
       "17278  Fake_location    male  2026  severe_acute_malnutrition   death   \n",
       "17279  Fake_location    male  2026  severe_acute_malnutrition   death   \n",
       "\n",
       "       input_draw  scenario  value                 wasting_state  \\\n",
       "0              29  baseline    1.0  susceptible_to_child_wasting   \n",
       "1              29  baseline    0.0            mild_child_wasting   \n",
       "2              29  baseline    0.0   moderate_acute_malnutrition   \n",
       "3              29  baseline    0.0     severe_acute_malnutrition   \n",
       "...           ...       ...    ...                           ...   \n",
       "17276         946  baseline    0.0  susceptible_to_child_wasting   \n",
       "17277         946  baseline    0.0            mild_child_wasting   \n",
       "17278         946  baseline    0.0   moderate_acute_malnutrition   \n",
       "17279         946  baseline    0.0     severe_acute_malnutrition   \n",
       "\n",
       "                  age  \n",
       "0      early_neonatal  \n",
       "1      early_neonatal  \n",
       "2      early_neonatal  \n",
       "3      early_neonatal  \n",
       "...               ...  \n",
       "17276          2_to_4  \n",
       "17277          2_to_4  \n",
       "17278          2_to_4  \n",
       "17279          2_to_4  \n",
       "\n",
       "[34560 rows x 10 columns]"
      ]
     },
     "execution_count": 55,
     "metadata": {},
     "output_type": "execute_result"
    }
   ],
   "source": [
    "d4.deaths"
   ]
  },
  {
   "cell_type": "code",
   "execution_count": 56,
   "id": "d353c512",
   "metadata": {},
   "outputs": [],
   "source": [
    "import db_queries as db\n",
    "import vivarium_helpers.id_helper as idh"
   ]
  },
  {
   "cell_type": "code",
   "execution_count": 57,
   "id": "21eede9a",
   "metadata": {},
   "outputs": [
    {
     "data": {
      "text/html": [
       "<div>\n",
       "<style scoped>\n",
       "    .dataframe tbody tr th:only-of-type {\n",
       "        vertical-align: middle;\n",
       "    }\n",
       "\n",
       "    .dataframe tbody tr th {\n",
       "        vertical-align: top;\n",
       "    }\n",
       "\n",
       "    .dataframe thead th {\n",
       "        text-align: right;\n",
       "    }\n",
       "</style>\n",
       "<table border=\"1\" class=\"dataframe\">\n",
       "  <thead>\n",
       "    <tr style=\"text-align: right;\">\n",
       "      <th></th>\n",
       "      <th>location_id</th>\n",
       "      <th>location_name</th>\n",
       "      <th>location_type</th>\n",
       "      <th>location_description</th>\n",
       "    </tr>\n",
       "  </thead>\n",
       "  <tbody>\n",
       "    <tr>\n",
       "      <th>174</th>\n",
       "      <td>205</td>\n",
       "      <td>Côte d'Ivoire</td>\n",
       "      <td>admin0</td>\n",
       "      <td>admin0</td>\n",
       "    </tr>\n",
       "  </tbody>\n",
       "</table>\n",
       "</div>"
      ],
      "text/plain": [
       "     location_id  location_name location_type location_description\n",
       "174          205  Côte d'Ivoire        admin0               admin0"
      ]
     },
     "execution_count": 57,
     "metadata": {},
     "output_type": "execute_result"
    }
   ],
   "source": [
    "idh.search_id_table('location', 'ivoire', case=False)"
   ]
  },
  {
   "cell_type": "code",
   "execution_count": 59,
   "id": "197114fd",
   "metadata": {},
   "outputs": [
    {
     "data": {
      "text/plain": [
       "\"Côte d'Ivoire\""
      ]
     },
     "execution_count": 59,
     "metadata": {},
     "output_type": "execute_result"
    }
   ],
   "source": [
    "cote_divoire = idh.search_id_table('location', 'ivoire', case=False)['location_name'].iloc[0]\n",
    "cote_divoire"
   ]
  },
  {
   "cell_type": "code",
   "execution_count": 60,
   "id": "06366092",
   "metadata": {},
   "outputs": [
    {
     "data": {
      "text/plain": [
       "{'Ethiopia': '/ihme/costeffectiveness/results/vivarium_ciff_sam/v2.3_wasting_birth_prevalence/ciff_sam/2021_07_26_17_14_31/count_data/',\n",
       " 'Fake_location': '/ihme/costeffectiveness/results/vivarium_ciff_sam/v2.3_wasting_birth_prevalence/ciff_sam/2021_07_26_17_14_31/count_data/',\n",
       " \"Côte d'Ivoire\": '/ihme/costeffectiveness/results/vivarium_ciff_sam/v2.3_wasting_birth_prevalence/ciff_sam/2021_07_26_17_14_31/count_data/'}"
      ]
     },
     "execution_count": 60,
     "metadata": {},
     "output_type": "execute_result"
    }
   ],
   "source": [
    "locations_paths2 = dict(locations_paths)\n",
    "locations_paths2[cote_divoire] = locations_paths['Ethiopia']\n",
    "locations_paths2"
   ]
  },
  {
   "cell_type": "code",
   "execution_count": 62,
   "id": "6d362c26",
   "metadata": {},
   "outputs": [
    {
     "data": {
      "text/plain": [
       "['ethiopia', 'fake_location', \"côte_d'ivoire\"]"
      ]
     },
     "execution_count": 62,
     "metadata": {},
     "output_type": "execute_result"
    }
   ],
   "source": [
    "test2 = vto.VivariumTransformedOutput.from_locations_paths(locations_paths2, '')\n",
    "test2.table_names()"
   ]
  },
  {
   "cell_type": "code",
   "execution_count": 63,
   "id": "93aa034a",
   "metadata": {},
   "outputs": [
    {
     "ename": "SyntaxError",
     "evalue": "EOL while scanning string literal (4267570992.py, line 1)",
     "output_type": "error",
     "traceback": [
      "\u001b[0;36m  File \u001b[0;32m\"/tmp/ipykernel_2671657/4267570992.py\"\u001b[0;36m, line \u001b[0;32m1\u001b[0m\n\u001b[0;31m    test2.côte_d'ivoire\u001b[0m\n\u001b[0m                       ^\u001b[0m\n\u001b[0;31mSyntaxError\u001b[0m\u001b[0;31m:\u001b[0m EOL while scanning string literal\n"
     ]
    }
   ],
   "source": [
    "test2.côte_d'ivoire"
   ]
  },
  {
   "cell_type": "code",
   "execution_count": 95,
   "id": "5b082ebe",
   "metadata": {},
   "outputs": [
    {
     "data": {
      "text/plain": [
       "['ethiopia', 'fake_location', 'côte_d_ivoire']"
      ]
     },
     "execution_count": 95,
     "metadata": {},
     "output_type": "execute_result"
    }
   ],
   "source": [
    "test3 = vto.VivariumTransformedOutput.from_locations_paths(locations_paths2, '')\n",
    "test3.table_names()"
   ]
  },
  {
   "cell_type": "code",
   "execution_count": 96,
   "id": "0f4fbb12",
   "metadata": {},
   "outputs": [
    {
     "data": {
      "text/plain": [
       "<model_validation.vivarium_transformed_output.VivariumTransformedOutput at 0x2b8e880a1160>"
      ]
     },
     "execution_count": 96,
     "metadata": {},
     "output_type": "execute_result"
    }
   ],
   "source": [
    "test3.côte_d_ivoire"
   ]
  },
  {
   "cell_type": "code",
   "execution_count": 97,
   "id": "f3a942e3",
   "metadata": {},
   "outputs": [
    {
     "data": {
      "text/html": [
       "<div>\n",
       "<style scoped>\n",
       "    .dataframe tbody tr th:only-of-type {\n",
       "        vertical-align: middle;\n",
       "    }\n",
       "\n",
       "    .dataframe tbody tr th {\n",
       "        vertical-align: top;\n",
       "    }\n",
       "\n",
       "    .dataframe thead th {\n",
       "        text-align: right;\n",
       "    }\n",
       "</style>\n",
       "<table border=\"1\" class=\"dataframe\">\n",
       "  <thead>\n",
       "    <tr style=\"text-align: right;\">\n",
       "      <th></th>\n",
       "      <th>sex</th>\n",
       "      <th>year</th>\n",
       "      <th>cause</th>\n",
       "      <th>measure</th>\n",
       "      <th>input_draw</th>\n",
       "      <th>scenario</th>\n",
       "      <th>value</th>\n",
       "      <th>wasting_state</th>\n",
       "      <th>age</th>\n",
       "    </tr>\n",
       "  </thead>\n",
       "  <tbody>\n",
       "    <tr>\n",
       "      <th>0</th>\n",
       "      <td>female</td>\n",
       "      <td>2022</td>\n",
       "      <td>diarrheal_diseases</td>\n",
       "      <td>death</td>\n",
       "      <td>29</td>\n",
       "      <td>baseline</td>\n",
       "      <td>1.0</td>\n",
       "      <td>susceptible_to_child_wasting</td>\n",
       "      <td>early_neonatal</td>\n",
       "    </tr>\n",
       "    <tr>\n",
       "      <th>1</th>\n",
       "      <td>female</td>\n",
       "      <td>2022</td>\n",
       "      <td>diarrheal_diseases</td>\n",
       "      <td>death</td>\n",
       "      <td>29</td>\n",
       "      <td>baseline</td>\n",
       "      <td>0.0</td>\n",
       "      <td>mild_child_wasting</td>\n",
       "      <td>early_neonatal</td>\n",
       "    </tr>\n",
       "    <tr>\n",
       "      <th>2</th>\n",
       "      <td>female</td>\n",
       "      <td>2022</td>\n",
       "      <td>diarrheal_diseases</td>\n",
       "      <td>death</td>\n",
       "      <td>29</td>\n",
       "      <td>baseline</td>\n",
       "      <td>0.0</td>\n",
       "      <td>moderate_acute_malnutrition</td>\n",
       "      <td>early_neonatal</td>\n",
       "    </tr>\n",
       "    <tr>\n",
       "      <th>3</th>\n",
       "      <td>female</td>\n",
       "      <td>2022</td>\n",
       "      <td>diarrheal_diseases</td>\n",
       "      <td>death</td>\n",
       "      <td>29</td>\n",
       "      <td>baseline</td>\n",
       "      <td>0.0</td>\n",
       "      <td>severe_acute_malnutrition</td>\n",
       "      <td>early_neonatal</td>\n",
       "    </tr>\n",
       "    <tr>\n",
       "      <th>...</th>\n",
       "      <td>...</td>\n",
       "      <td>...</td>\n",
       "      <td>...</td>\n",
       "      <td>...</td>\n",
       "      <td>...</td>\n",
       "      <td>...</td>\n",
       "      <td>...</td>\n",
       "      <td>...</td>\n",
       "      <td>...</td>\n",
       "    </tr>\n",
       "    <tr>\n",
       "      <th>17276</th>\n",
       "      <td>male</td>\n",
       "      <td>2026</td>\n",
       "      <td>severe_acute_malnutrition</td>\n",
       "      <td>death</td>\n",
       "      <td>946</td>\n",
       "      <td>baseline</td>\n",
       "      <td>0.0</td>\n",
       "      <td>susceptible_to_child_wasting</td>\n",
       "      <td>2_to_4</td>\n",
       "    </tr>\n",
       "    <tr>\n",
       "      <th>17277</th>\n",
       "      <td>male</td>\n",
       "      <td>2026</td>\n",
       "      <td>severe_acute_malnutrition</td>\n",
       "      <td>death</td>\n",
       "      <td>946</td>\n",
       "      <td>baseline</td>\n",
       "      <td>0.0</td>\n",
       "      <td>mild_child_wasting</td>\n",
       "      <td>2_to_4</td>\n",
       "    </tr>\n",
       "    <tr>\n",
       "      <th>17278</th>\n",
       "      <td>male</td>\n",
       "      <td>2026</td>\n",
       "      <td>severe_acute_malnutrition</td>\n",
       "      <td>death</td>\n",
       "      <td>946</td>\n",
       "      <td>baseline</td>\n",
       "      <td>0.0</td>\n",
       "      <td>moderate_acute_malnutrition</td>\n",
       "      <td>2_to_4</td>\n",
       "    </tr>\n",
       "    <tr>\n",
       "      <th>17279</th>\n",
       "      <td>male</td>\n",
       "      <td>2026</td>\n",
       "      <td>severe_acute_malnutrition</td>\n",
       "      <td>death</td>\n",
       "      <td>946</td>\n",
       "      <td>baseline</td>\n",
       "      <td>0.0</td>\n",
       "      <td>severe_acute_malnutrition</td>\n",
       "      <td>2_to_4</td>\n",
       "    </tr>\n",
       "  </tbody>\n",
       "</table>\n",
       "<p>17280 rows × 9 columns</p>\n",
       "</div>"
      ],
      "text/plain": [
       "          sex  year                      cause measure  input_draw  scenario  \\\n",
       "0      female  2022         diarrheal_diseases   death          29  baseline   \n",
       "1      female  2022         diarrheal_diseases   death          29  baseline   \n",
       "2      female  2022         diarrheal_diseases   death          29  baseline   \n",
       "3      female  2022         diarrheal_diseases   death          29  baseline   \n",
       "...       ...   ...                        ...     ...         ...       ...   \n",
       "17276    male  2026  severe_acute_malnutrition   death         946  baseline   \n",
       "17277    male  2026  severe_acute_malnutrition   death         946  baseline   \n",
       "17278    male  2026  severe_acute_malnutrition   death         946  baseline   \n",
       "17279    male  2026  severe_acute_malnutrition   death         946  baseline   \n",
       "\n",
       "       value                 wasting_state             age  \n",
       "0        1.0  susceptible_to_child_wasting  early_neonatal  \n",
       "1        0.0            mild_child_wasting  early_neonatal  \n",
       "2        0.0   moderate_acute_malnutrition  early_neonatal  \n",
       "3        0.0     severe_acute_malnutrition  early_neonatal  \n",
       "...      ...                           ...             ...  \n",
       "17276    0.0  susceptible_to_child_wasting          2_to_4  \n",
       "17277    0.0            mild_child_wasting          2_to_4  \n",
       "17278    0.0   moderate_acute_malnutrition          2_to_4  \n",
       "17279    0.0     severe_acute_malnutrition          2_to_4  \n",
       "\n",
       "[17280 rows x 9 columns]"
      ]
     },
     "execution_count": 97,
     "metadata": {},
     "output_type": "execute_result"
    }
   ],
   "source": [
    "test3.côte_d_ivoire.deaths"
   ]
  },
  {
   "cell_type": "code",
   "execution_count": 68,
   "id": "ce21fb6b",
   "metadata": {},
   "outputs": [
    {
     "data": {
      "text/plain": [
       "True"
      ]
     },
     "execution_count": 68,
     "metadata": {},
     "output_type": "execute_result"
    }
   ],
   "source": [
    "isinstance((1,(2,3)), collections.Hashable)"
   ]
  },
  {
   "cell_type": "code",
   "execution_count": 69,
   "id": "4e4db7be",
   "metadata": {},
   "outputs": [
    {
     "data": {
      "text/plain": [
       "True"
      ]
     },
     "execution_count": 69,
     "metadata": {},
     "output_type": "execute_result"
    }
   ],
   "source": [
    "isinstance((1,[2,3]), collections.Hashable)"
   ]
  },
  {
   "cell_type": "code",
   "execution_count": 70,
   "id": "b10fa297",
   "metadata": {},
   "outputs": [
    {
     "data": {
      "text/plain": [
       "True"
      ]
     },
     "execution_count": 70,
     "metadata": {},
     "output_type": "execute_result"
    }
   ],
   "source": [
    "isinstance((1,a), collections.Hashable)"
   ]
  },
  {
   "cell_type": "code",
   "execution_count": 72,
   "id": "55e7cc03",
   "metadata": {},
   "outputs": [
    {
     "ename": "TypeError",
     "evalue": "unhashable type: 'numpy.ndarray'",
     "output_type": "error",
     "traceback": [
      "\u001b[0;31m---------------------------------------------------------------------------\u001b[0m",
      "\u001b[0;31mTypeError\u001b[0m                                 Traceback (most recent call last)",
      "\u001b[0;32m/tmp/ipykernel_2671657/2191746394.py\u001b[0m in \u001b[0;36m<module>\u001b[0;34m\u001b[0m\n\u001b[0;32m----> 1\u001b[0;31m \u001b[0;34m(\u001b[0m\u001b[0;36m1\u001b[0m\u001b[0;34m,\u001b[0m\u001b[0ma\u001b[0m\u001b[0;34m)\u001b[0m \u001b[0;32min\u001b[0m \u001b[0mtest3\u001b[0m\u001b[0;34m.\u001b[0m\u001b[0mcôte_d_ivoire\u001b[0m\u001b[0;34m.\u001b[0m\u001b[0mdeaths\u001b[0m\u001b[0;34m\u001b[0m\u001b[0;34m\u001b[0m\u001b[0m\n\u001b[0m",
      "\u001b[0;32m~/miniconda3/envs/ciff-sam-38/lib/python3.8/site-packages/pandas/core/generic.py\u001b[0m in \u001b[0;36m__contains__\u001b[0;34m(self, key)\u001b[0m\n\u001b[1;32m   1928\u001b[0m     \u001b[0;32mdef\u001b[0m \u001b[0m__contains__\u001b[0m\u001b[0;34m(\u001b[0m\u001b[0mself\u001b[0m\u001b[0;34m,\u001b[0m \u001b[0mkey\u001b[0m\u001b[0;34m)\u001b[0m \u001b[0;34m->\u001b[0m \u001b[0mbool_t\u001b[0m\u001b[0;34m:\u001b[0m\u001b[0;34m\u001b[0m\u001b[0;34m\u001b[0m\u001b[0m\n\u001b[1;32m   1929\u001b[0m         \u001b[0;34m\"\"\"True if the key is in the info axis\"\"\"\u001b[0m\u001b[0;34m\u001b[0m\u001b[0;34m\u001b[0m\u001b[0m\n\u001b[0;32m-> 1930\u001b[0;31m         \u001b[0;32mreturn\u001b[0m \u001b[0mkey\u001b[0m \u001b[0;32min\u001b[0m \u001b[0mself\u001b[0m\u001b[0;34m.\u001b[0m\u001b[0m_info_axis\u001b[0m\u001b[0;34m\u001b[0m\u001b[0;34m\u001b[0m\u001b[0m\n\u001b[0m\u001b[1;32m   1931\u001b[0m \u001b[0;34m\u001b[0m\u001b[0m\n\u001b[1;32m   1932\u001b[0m     \u001b[0;34m@\u001b[0m\u001b[0mproperty\u001b[0m\u001b[0;34m\u001b[0m\u001b[0;34m\u001b[0m\u001b[0m\n",
      "\u001b[0;32m~/miniconda3/envs/ciff-sam-38/lib/python3.8/site-packages/pandas/core/indexes/base.py\u001b[0m in \u001b[0;36m__contains__\u001b[0;34m(self, key)\u001b[0m\n\u001b[1;32m   4570\u001b[0m         \u001b[0;32mFalse\u001b[0m\u001b[0;34m\u001b[0m\u001b[0;34m\u001b[0m\u001b[0m\n\u001b[1;32m   4571\u001b[0m         \"\"\"\n\u001b[0;32m-> 4572\u001b[0;31m         \u001b[0mhash\u001b[0m\u001b[0;34m(\u001b[0m\u001b[0mkey\u001b[0m\u001b[0;34m)\u001b[0m\u001b[0;34m\u001b[0m\u001b[0;34m\u001b[0m\u001b[0m\n\u001b[0m\u001b[1;32m   4573\u001b[0m         \u001b[0;32mtry\u001b[0m\u001b[0;34m:\u001b[0m\u001b[0;34m\u001b[0m\u001b[0;34m\u001b[0m\u001b[0m\n\u001b[1;32m   4574\u001b[0m             \u001b[0;32mreturn\u001b[0m \u001b[0mkey\u001b[0m \u001b[0;32min\u001b[0m \u001b[0mself\u001b[0m\u001b[0;34m.\u001b[0m\u001b[0m_engine\u001b[0m\u001b[0;34m\u001b[0m\u001b[0;34m\u001b[0m\u001b[0m\n",
      "\u001b[0;31mTypeError\u001b[0m: unhashable type: 'numpy.ndarray'"
     ]
    }
   ],
   "source": [
    "(1,a) in test3.côte_d_ivoire.deaths"
   ]
  },
  {
   "cell_type": "code",
   "execution_count": 73,
   "id": "2e36ae21",
   "metadata": {},
   "outputs": [
    {
     "data": {
      "text/plain": [
       "RangeIndex(start=0, stop=5, step=1)"
      ]
     },
     "execution_count": 73,
     "metadata": {},
     "output_type": "execute_result"
    }
   ],
   "source": [
    "anindex = pd.Index(range(5))\n",
    "anindex"
   ]
  },
  {
   "cell_type": "code",
   "execution_count": 74,
   "id": "43e14538",
   "metadata": {},
   "outputs": [
    {
     "data": {
      "text/plain": [
       "False"
      ]
     },
     "execution_count": 74,
     "metadata": {},
     "output_type": "execute_result"
    }
   ],
   "source": [
    "isinstance(anindex, collections.Hashable)"
   ]
  },
  {
   "cell_type": "code",
   "execution_count": 75,
   "id": "23befd79",
   "metadata": {},
   "outputs": [
    {
     "data": {
      "text/plain": [
       "False"
      ]
     },
     "execution_count": 75,
     "metadata": {},
     "output_type": "execute_result"
    }
   ],
   "source": [
    "isinstance(pd.Index((1,2,3)), collections.Hashable)"
   ]
  },
  {
   "cell_type": "code",
   "execution_count": 76,
   "id": "74ff9875",
   "metadata": {},
   "outputs": [
    {
     "data": {
      "text/plain": [
       "Int64Index([1, 2, 3], dtype='int64')"
      ]
     },
     "execution_count": 76,
     "metadata": {},
     "output_type": "execute_result"
    }
   ],
   "source": [
    "pd.Index((1,2,3))"
   ]
  },
  {
   "cell_type": "code",
   "execution_count": 88,
   "id": "62e4df9d",
   "metadata": {},
   "outputs": [
    {
     "data": {
      "text/plain": [
       "['_123abc', 'ac', 'abc_def_g__hi', '_4_yak_yak_yak_grunt', 'a_b_c_d_456_789']"
      ]
     },
     "execution_count": 88,
     "metadata": {},
     "output_type": "execute_result"
    }
   ],
   "source": [
    "def make_variable_name(string): return re.sub('\\W+|^(?=\\d)','_', string)\n",
    "\n",
    "list(map(make_variable_name, ['123abc', 'ac', \"abc'def_g__hi\", \"4 yak''''yak. yak   grunt\", 'a.b.c.d 456 789']))"
   ]
  },
  {
   "cell_type": "code",
   "execution_count": 80,
   "id": "e679d3c5",
   "metadata": {},
   "outputs": [
    {
     "data": {
      "text/plain": [
       "[]"
      ]
     },
     "execution_count": 80,
     "metadata": {},
     "output_type": "execute_result"
    }
   ],
   "source": [
    "# re.sub('\\W+|^(?=\\d)','_', string)\n",
    "re.findall('\\W+|^(?=\\d)', 'abc123')"
   ]
  },
  {
   "cell_type": "code",
   "execution_count": 81,
   "id": "81e9c549",
   "metadata": {},
   "outputs": [
    {
     "data": {
      "text/plain": [
       "['']"
      ]
     },
     "execution_count": 81,
     "metadata": {},
     "output_type": "execute_result"
    }
   ],
   "source": [
    "re.findall('\\W+|^(?=\\d)', '3abc123')"
   ]
  },
  {
   "cell_type": "code",
   "execution_count": 89,
   "id": "7e2e1a0f",
   "metadata": {},
   "outputs": [],
   "source": [
    "côte_d_ivoire = cote_divoire # apparently you can have unicode characters in variable names... woo hoo!"
   ]
  },
  {
   "cell_type": "code",
   "execution_count": 90,
   "id": "9439a769",
   "metadata": {},
   "outputs": [
    {
     "data": {
      "text/plain": [
       "\"Côte d'Ivoire\""
      ]
     },
     "execution_count": 90,
     "metadata": {},
     "output_type": "execute_result"
    }
   ],
   "source": [
    "côte_d_ivoire"
   ]
  },
  {
   "cell_type": "code",
   "execution_count": null,
   "id": "62fa266a",
   "metadata": {},
   "outputs": [],
   "source": []
  }
 ],
 "metadata": {
  "kernelspec": {
   "display_name": "Python 3 (ipykernel)",
   "language": "python",
   "name": "python3"
  },
  "language_info": {
   "codemirror_mode": {
    "name": "ipython",
    "version": 3
   },
   "file_extension": ".py",
   "mimetype": "text/x-python",
   "name": "python",
   "nbconvert_exporter": "python",
   "pygments_lexer": "ipython3",
   "version": "3.8.10"
  }
 },
 "nbformat": 4,
 "nbformat_minor": 5
}
