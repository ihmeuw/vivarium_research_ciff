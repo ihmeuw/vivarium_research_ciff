{
 "cells": [
  {
   "cell_type": "code",
   "execution_count": 1,
   "metadata": {},
   "outputs": [
    {
     "name": "stdout",
     "output_type": "stream",
     "text": [
      "nicoly\n",
      "Mon Jun  7 02:48:37 PDT 2021\n"
     ]
    }
   ],
   "source": [
    "!whoami\n",
    "!date"
   ]
  },
  {
   "cell_type": "code",
   "execution_count": 4,
   "metadata": {},
   "outputs": [],
   "source": [
    "import pandas as pd, numpy as np, matplotlib.pyplot as plt"
   ]
  },
  {
   "cell_type": "markdown",
   "metadata": {},
   "source": [
    "# This is to calculate the PAF we need to get the wasting category specific incidences of the cause\n",
    "\n",
    "## Population attributable risk fraction (PAF) that we need: the proportion of all cases (diarrhea or measles or lri) in the population (exposed and unexposed) that may be attributed to the wasting exposure, assuming a causal association."
   ]
  },
  {
   "attachments": {
    "image.png": {
     "image/png": "[encoded data removed]"
    }
   },
   "cell_type": "markdown",
   "metadata": {},
   "source": [
    "![image.png](attachment:image.png)"
   ]
  },
  {
   "cell_type": "code",
   "execution_count": null,
   "metadata": {},
   "outputs": [],
   "source": [
    "# we can get 8 linearly independent equations to solve a-h"
   ]
  },
  {
   "cell_type": "markdown",
   "metadata": {},
   "source": [
    "#  matrix\n",
    "\n",
    "\n",
    "|equation|a|b|c|d|e|f|g|h|\n",
    "|:---:|:---:|:---:|:---:|:---:|:---:|:---:|:---:|:---:|\n",
    "|1|1|1|0|0|0|0|0|0|\n",
    "|2|0|0|1|1|0|0|0|0|\n",
    "|3|0|0|0|0|1|1|0|0|\n",
    "|4|0|0|0|0|0|0|1|1|\n",
    "|5|1|0|1|0|1|0|1|0|\n",
    "|6|624|0|0|0|0|0|-5830|0|\n",
    "|7|0|0|624|0|0|0|-2599|0|\n",
    "|8|0|0|0|0|624|0|-1456|0|\n",
    "\n"
   ]
  },
  {
   "cell_type": "code",
   "execution_count": 8,
   "metadata": {},
   "outputs": [],
   "source": [
    "a = np.array([[1,1,0,0,0,0,0,0], #equation 1\n",
    "              [0,0,1,1,0,0,0,0], #equation 2\n",
    "              [0,0,0,0,1,1,0,0], #equation 3\n",
    "              [0,0,0,0,0,0,1,1], #equation 4\n",
    "              [1,0,1,0,1,0,1,0], #equation 5\n",
    "              [624,0,0,0,0,0,-5830,0], #equation 6\n",
    "              [0,0,624,0,0,0,-2599,0], #equation 7\n",
    "              [0,0,0,0,624,0,-1456,0]])#equation 8 "
   ]
  },
  {
   "cell_type": "code",
   "execution_count": 9,
   "metadata": {},
   "outputs": [],
   "source": [
    "b =np.array([[55], #equation 1\n",
    "[113], #equation 2\n",
    "[208], #equation 3\n",
    "[624], #equation 4\n",
    "[26],  #equation 5 #prevalence of diarrhea age-specific (1-4)\n",
    "[0],  #equation 6\n",
    "[0],  #equation 7\n",
    "[0]]) #equation 8"
   ]
  },
  {
   "cell_type": "code",
   "execution_count": 10,
   "metadata": {},
   "outputs": [
    {
     "data": {
      "text/plain": [
       "array([[ 14.4238272 ],\n",
       "       [ 40.5761728 ],\n",
       "       [  6.43010753],\n",
       "       [106.56989247],\n",
       "       [  3.60224569],\n",
       "       [204.39775431],\n",
       "       [  1.54381958],\n",
       "       [622.45618042]])"
      ]
     },
     "execution_count": 10,
     "metadata": {},
     "output_type": "execute_result"
    }
   ],
   "source": [
    "x = np.linalg.solve(a,b)\n",
    "x"
   ]
  },
  {
   "cell_type": "code",
   "execution_count": 11,
   "metadata": {
    "scrolled": true
   },
   "outputs": [
    {
     "data": {
      "text/plain": [
       "True"
      ]
     },
     "execution_count": 11,
     "metadata": {},
     "output_type": "execute_result"
    }
   ],
   "source": [
    "np.allclose(np.dot(a,x),b)"
   ]
  },
  {
   "cell_type": "code",
   "execution_count": 13,
   "metadata": {},
   "outputs": [
    {
     "name": "stdout",
     "output_type": "stream",
     "text": [
      "{'a': [14.423827195736989], 'b': [14.423827195736989], 'c': [14.423827195736989], 'd': [14.423827195736989], 'e': [14.423827195736989], 'f': [14.423827195736989], 'g': [14.423827195736989], 'h': [14.423827195736989]}\n"
     ]
    }
   ],
   "source": [
    "params = ['a', 'b', 'c', 'd', 'e', 'f', 'g', 'h']\n",
    "ParamDic = {}\n",
    "for key in params:\n",
    "    for value in x.tolist():\n",
    "        ParamDic[key] = value\n",
    "#         test_values.remove(value)b\n",
    "        break  \n",
    "\n",
    "# for i,j in params,x:\n",
    "#     ParamDic\n",
    "\n",
    "# ParamDic = zip(params, x)\n",
    "print((ParamDic))"
   ]
  },
  {
   "cell_type": "code",
   "execution_count": 15,
   "metadata": {},
   "outputs": [
    {
     "name": "stdout",
     "output_type": "stream",
     "text": [
      "1.5438195832143877\n"
     ]
    }
   ],
   "source": [
    "a = x[0][0]\n",
    "b = x[1][0]\n",
    "c = x[2][0]\n",
    "d = x[3][0]\n",
    "e = x[4][0]\n",
    "f = x[5][0]\n",
    "g = x[6][0]\n",
    "h = x[7][0]\n",
    "\n",
    "\n",
    "print(g)"
   ]
  },
  {
   "cell_type": "code",
   "execution_count": 20,
   "metadata": {},
   "outputs": [
    {
     "data": {
      "text/plain": [
       "26.289893617021274"
      ]
     },
     "execution_count": 20,
     "metadata": {},
     "output_type": "execute_result"
    }
   ],
   "source": [
    "# RR of non-tmrel  \n",
    "risk_exposed = (a+c+e)/(a+b+c+d+e+f)\n",
    "risk_unexposed = g/(g+h)\n",
    "rr_wasting = risk_exposed/risk_unexposed\n",
    "rr_wasting"
   ]
  },
  {
   "cell_type": "code",
   "execution_count": 30,
   "metadata": {
    "scrolled": true
   },
   "outputs": [
    {
     "name": "stdout",
     "output_type": "stream",
     "text": [
      "0.376\n",
      "PAF = 0.9048434675040441\n"
     ]
    }
   ],
   "source": [
    "# Proportion of cases (eg. diarrhea) attributed to wasting exposure \n",
    "\n",
    "exposed = (a+b+c+d+e+f)/1000\n",
    "print(exposed)\n",
    "PAF_A = (exposed * (rr_wasting - 1))/(exposed * (rr_wasting - 1) + 1)\n",
    "print('PAF = ' + str(PAF_A))"
   ]
  },
  {
   "cell_type": "markdown",
   "metadata": {},
   "source": [
    "$$ \\frac{Pe\\times(RR-1)}{Pe\\times(RR-1)+1} = PAF \\ $$"
   ]
  },
  {
   "cell_type": "markdown",
   "metadata": {},
   "source": [
    "# Try getting PAF with another equation"
   ]
  },
  {
   "cell_type": "markdown",
   "metadata": {},
   "source": [
    "$$ \\frac{\\sum(Pcat)\\times(RRcat)-1}{\\sum(Pcat)\\times(RRcat)} = PAF \\ $$"
   ]
  },
  {
   "cell_type": "code",
   "execution_count": 33,
   "metadata": {
    "scrolled": true
   },
   "outputs": [
    {
     "data": {
      "text/plain": [
       "0.9048434675040442"
      ]
     },
     "execution_count": 33,
     "metadata": {},
     "output_type": "execute_result"
    }
   ],
   "source": [
    "p_cat1 = (a+b)/(1000)\n",
    "p_cat2 = (c+d)/(1000)\n",
    "p_cat3 = (e+f)/(1000)\n",
    "p_cat4 = (g+h)/(1000)\n",
    "\n",
    "rr_1 = 106\n",
    "rr_2 = 23\n",
    "rr_3 = 7\n",
    "rr_4 = 1\n",
    "\n",
    "PAF_B = (p_cat1*rr_1 + p_cat2*rr_2 + p_cat3*rr_3 + p_cat4*rr_4 - 1)/(p_cat1*rr_1 + p_cat2*rr_2 + p_cat3*rr_3 + p_cat4*rr_4)\n",
    "PAF_B"
   ]
  },
  {
   "cell_type": "markdown",
   "metadata": {},
   "source": [
    "NOTE: These PAFs we calculated for incidence, should be the same as the PAF for death or YLLs because the cause duration across wasting categories is the same and the cause emrs across wasting categories are also the same. Therefore the PAF for incidence should be the same as the PAF for death/YLLS. "
   ]
  },
  {
   "cell_type": "markdown",
   "metadata": {},
   "source": [
    "TO DO: as a sanity check, we can compute the PAFs (draw level first, then mean) to see if they match those from GBD for death/ylls. "
   ]
  }
 ],
 "metadata": {
  "kernelspec": {
   "display_name": "Python 3",
   "language": "python",
   "name": "python3"
  },
  "language_info": {
   "codemirror_mode": {
    "name": "ipython",
    "version": 3
   },
   "file_extension": ".py",
   "mimetype": "text/x-python",
   "name": "python",
   "nbconvert_exporter": "python",
   "pygments_lexer": "ipython3",
   "version": "3.6.10"
  }
 },
 "nbformat": 4,
 "nbformat_minor": 4
}
