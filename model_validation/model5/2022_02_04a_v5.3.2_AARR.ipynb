{
 "cells": [
  {
   "cell_type": "code",
   "execution_count": 1,
   "id": "54ed5e18",
   "metadata": {},
   "outputs": [
    {
     "name": "stdout",
     "output_type": "stream",
     "text": [
      "/ihme/homes/ndbs/vivarium_research_ciff_sam/model_validation/model5\n",
      "ndbs\n",
      "Fri Feb  4 16:43:27 PST 2022\n"
     ]
    }
   ],
   "source": [
    "import matplotlib.pyplot as plt\n",
    "import numpy as np\n",
    "import pandas as pd\n",
    "pd.set_option('display.max_rows', 8)\n",
    "\n",
    "import statsmodels.api as sm\n",
    "import statsmodels.formula.api as smf\n",
    "from scipy import stats\n",
    "import collections\n",
    "\n",
    "import warnings\n",
    "# warnings.filterwarnings('ignore')\n",
    "from matplotlib.backends.backend_pdf import PdfPages\n",
    "\n",
    "from pathlib import Path\n",
    "import yaml\n",
    "import re\n",
    "\n",
    "import db_queries as db\n",
    "import vivarium_helpers.id_helper as idh\n",
    "import gbd_mapping\n",
    "from vivarium import Artifact\n",
    "\n",
    "# Add the repo directory vivarium_research_ciff_sam/ to sys.path\n",
    "import os, sys\n",
    "repo_path = os.path.abspath('../..')\n",
    "sys.path.append(repo_path)\n",
    "# Assumes vivarium_research_ciff_sam/ is in sys.path\n",
    "# import model_validation.vivarium_transformed_output as vto\n",
    "# import model_validation.vivarium_raw_output as vro\n",
    "import model_validation.vivarium_output_processing as vp\n",
    "import model_validation.ciff_sam_results as csr\n",
    "import model_validation.ciff_sam_plots as csp\n",
    "\n",
    "%load_ext autoreload\n",
    "%autoreload 2\n",
    "\n",
    "!pwd\n",
    "!whoami\n",
    "!date"
   ]
  },
  {
   "cell_type": "markdown",
   "id": "6d3c2c8b",
   "metadata": {},
   "source": [
    "# Goal: Compute annual average rate of reduction (AARR) for wasting and stunting, in each scenario"
   ]
  },
  {
   "cell_type": "markdown",
   "id": "3abbf0ed",
   "metadata": {},
   "source": [
    "# Load results"
   ]
  },
  {
   "cell_type": "code",
   "execution_count": 2,
   "id": "900cb226",
   "metadata": {},
   "outputs": [
    {
     "data": {
      "text/plain": [
       "['wasting_transition_count',\n",
       " 'wasting_state_person_time',\n",
       " 'deaths',\n",
       " 'stunting_state_person_time',\n",
       " 'population',\n",
       " 'ylls',\n",
       " 'ylds',\n",
       " 'births',\n",
       " 'person_time',\n",
       " 'cause_state_person_time',\n",
       " 'cause_transition_count']"
      ]
     },
     "execution_count": 2,
     "metadata": {},
     "output_type": "execute_result"
    }
   ],
   "source": [
    "results = csr.VivariumResults.cleaned_from_model_spec('5.3.2')\n",
    "results.table_names()"
   ]
  },
  {
   "cell_type": "code",
   "execution_count": 3,
   "id": "941c30d5",
   "metadata": {},
   "outputs": [
    {
     "data": {
      "text/plain": [
       "array(['baseline', 'lbwsg_interventions', 'sqlns', 'wasting_treatment'],\n",
       "      dtype=object)"
      ]
     },
     "execution_count": 3,
     "metadata": {},
     "output_type": "execute_result"
    }
   ],
   "source": [
    "results.wasting_state_person_time.scenario.unique()"
   ]
  },
  {
   "cell_type": "markdown",
   "id": "ab826f52",
   "metadata": {},
   "source": [
    "# Compute wasting and stunting prevalence"
   ]
  },
  {
   "cell_type": "code",
   "execution_count": 4,
   "id": "fd847c6f",
   "metadata": {},
   "outputs": [
    {
     "data": {
      "text/html": [
       "<div>\n",
       "<style scoped>\n",
       "    .dataframe tbody tr th:only-of-type {\n",
       "        vertical-align: middle;\n",
       "    }\n",
       "\n",
       "    .dataframe tbody tr th {\n",
       "        vertical-align: top;\n",
       "    }\n",
       "\n",
       "    .dataframe thead th {\n",
       "        text-align: right;\n",
       "    }\n",
       "</style>\n",
       "<table border=\"1\" class=\"dataframe\">\n",
       "  <thead>\n",
       "    <tr style=\"text-align: right;\">\n",
       "      <th></th>\n",
       "      <th>year</th>\n",
       "      <th>input_draw</th>\n",
       "      <th>scenario</th>\n",
       "      <th>wasting_state</th>\n",
       "      <th>value</th>\n",
       "      <th>numerator_measure</th>\n",
       "      <th>denominator_measure</th>\n",
       "      <th>multiplier</th>\n",
       "      <th>measure</th>\n",
       "    </tr>\n",
       "  </thead>\n",
       "  <tbody>\n",
       "    <tr>\n",
       "      <th>0</th>\n",
       "      <td>2022</td>\n",
       "      <td>29</td>\n",
       "      <td>baseline</td>\n",
       "      <td>mild_child_wasting</td>\n",
       "      <td>20.639356</td>\n",
       "      <td>state_person_time</td>\n",
       "      <td>state_person_time</td>\n",
       "      <td>100</td>\n",
       "      <td>prevalence</td>\n",
       "    </tr>\n",
       "    <tr>\n",
       "      <th>1</th>\n",
       "      <td>2022</td>\n",
       "      <td>29</td>\n",
       "      <td>baseline</td>\n",
       "      <td>moderate_acute_malnutrition</td>\n",
       "      <td>7.477660</td>\n",
       "      <td>state_person_time</td>\n",
       "      <td>state_person_time</td>\n",
       "      <td>100</td>\n",
       "      <td>prevalence</td>\n",
       "    </tr>\n",
       "    <tr>\n",
       "      <th>2</th>\n",
       "      <td>2022</td>\n",
       "      <td>29</td>\n",
       "      <td>baseline</td>\n",
       "      <td>severe_acute_malnutrition</td>\n",
       "      <td>1.873702</td>\n",
       "      <td>state_person_time</td>\n",
       "      <td>state_person_time</td>\n",
       "      <td>100</td>\n",
       "      <td>prevalence</td>\n",
       "    </tr>\n",
       "    <tr>\n",
       "      <th>3</th>\n",
       "      <td>2022</td>\n",
       "      <td>29</td>\n",
       "      <td>baseline</td>\n",
       "      <td>susceptible_to_child_wasting</td>\n",
       "      <td>70.009281</td>\n",
       "      <td>state_person_time</td>\n",
       "      <td>state_person_time</td>\n",
       "      <td>100</td>\n",
       "      <td>prevalence</td>\n",
       "    </tr>\n",
       "    <tr>\n",
       "      <th>...</th>\n",
       "      <td>...</td>\n",
       "      <td>...</td>\n",
       "      <td>...</td>\n",
       "      <td>...</td>\n",
       "      <td>...</td>\n",
       "      <td>...</td>\n",
       "      <td>...</td>\n",
       "      <td>...</td>\n",
       "      <td>...</td>\n",
       "    </tr>\n",
       "    <tr>\n",
       "      <th>1436</th>\n",
       "      <td>2023</td>\n",
       "      <td>946</td>\n",
       "      <td>wasting_treatment</td>\n",
       "      <td>no_acute_malnutrition</td>\n",
       "      <td>91.091144</td>\n",
       "      <td>state_person_time</td>\n",
       "      <td>state_person_time</td>\n",
       "      <td>100</td>\n",
       "      <td>prevalence</td>\n",
       "    </tr>\n",
       "    <tr>\n",
       "      <th>1437</th>\n",
       "      <td>2024</td>\n",
       "      <td>946</td>\n",
       "      <td>wasting_treatment</td>\n",
       "      <td>no_acute_malnutrition</td>\n",
       "      <td>91.624449</td>\n",
       "      <td>state_person_time</td>\n",
       "      <td>state_person_time</td>\n",
       "      <td>100</td>\n",
       "      <td>prevalence</td>\n",
       "    </tr>\n",
       "    <tr>\n",
       "      <th>1438</th>\n",
       "      <td>2025</td>\n",
       "      <td>946</td>\n",
       "      <td>wasting_treatment</td>\n",
       "      <td>no_acute_malnutrition</td>\n",
       "      <td>92.074019</td>\n",
       "      <td>state_person_time</td>\n",
       "      <td>state_person_time</td>\n",
       "      <td>100</td>\n",
       "      <td>prevalence</td>\n",
       "    </tr>\n",
       "    <tr>\n",
       "      <th>1439</th>\n",
       "      <td>2026</td>\n",
       "      <td>946</td>\n",
       "      <td>wasting_treatment</td>\n",
       "      <td>no_acute_malnutrition</td>\n",
       "      <td>92.373875</td>\n",
       "      <td>state_person_time</td>\n",
       "      <td>state_person_time</td>\n",
       "      <td>100</td>\n",
       "      <td>prevalence</td>\n",
       "    </tr>\n",
       "  </tbody>\n",
       "</table>\n",
       "<p>1440 rows × 9 columns</p>\n",
       "</div>"
      ],
      "text/plain": [
       "      year  input_draw           scenario                 wasting_state  \\\n",
       "0     2022          29           baseline            mild_child_wasting   \n",
       "1     2022          29           baseline   moderate_acute_malnutrition   \n",
       "2     2022          29           baseline     severe_acute_malnutrition   \n",
       "3     2022          29           baseline  susceptible_to_child_wasting   \n",
       "...    ...         ...                ...                           ...   \n",
       "1436  2023         946  wasting_treatment         no_acute_malnutrition   \n",
       "1437  2024         946  wasting_treatment         no_acute_malnutrition   \n",
       "1438  2025         946  wasting_treatment         no_acute_malnutrition   \n",
       "1439  2026         946  wasting_treatment         no_acute_malnutrition   \n",
       "\n",
       "          value  numerator_measure denominator_measure  multiplier     measure  \n",
       "0     20.639356  state_person_time   state_person_time         100  prevalence  \n",
       "1      7.477660  state_person_time   state_person_time         100  prevalence  \n",
       "2      1.873702  state_person_time   state_person_time         100  prevalence  \n",
       "3     70.009281  state_person_time   state_person_time         100  prevalence  \n",
       "...         ...                ...                 ...         ...         ...  \n",
       "1436  91.091144  state_person_time   state_person_time         100  prevalence  \n",
       "1437  91.624449  state_person_time   state_person_time         100  prevalence  \n",
       "1438  92.074019  state_person_time   state_person_time         100  prevalence  \n",
       "1439  92.373875  state_person_time   state_person_time         100  prevalence  \n",
       "\n",
       "[1440 rows x 9 columns]"
      ]
     },
     "execution_count": 4,
     "metadata": {},
     "output_type": "execute_result"
    }
   ],
   "source": [
    "wasting_prevalence = (\n",
    "    csr.get_prevalence(results, 'wasting_state', ['year'], multiplier=100)\n",
    "    .pipe(vp.aggregate_categories, 'wasting_state', csr.wasting_states_by_superstate, append=True)\n",
    ")\n",
    "wasting_prevalence"
   ]
  },
  {
   "cell_type": "code",
   "execution_count": 5,
   "id": "9fd6d786",
   "metadata": {},
   "outputs": [
    {
     "data": {
      "text/html": [
       "<div>\n",
       "<style scoped>\n",
       "    .dataframe tbody tr th:only-of-type {\n",
       "        vertical-align: middle;\n",
       "    }\n",
       "\n",
       "    .dataframe tbody tr th {\n",
       "        vertical-align: top;\n",
       "    }\n",
       "\n",
       "    .dataframe thead th {\n",
       "        text-align: right;\n",
       "    }\n",
       "</style>\n",
       "<table border=\"1\" class=\"dataframe\">\n",
       "  <thead>\n",
       "    <tr style=\"text-align: right;\">\n",
       "      <th></th>\n",
       "      <th>year</th>\n",
       "      <th>input_draw</th>\n",
       "      <th>scenario</th>\n",
       "      <th>stunting_state</th>\n",
       "      <th>value</th>\n",
       "      <th>numerator_measure</th>\n",
       "      <th>denominator_measure</th>\n",
       "      <th>multiplier</th>\n",
       "      <th>measure</th>\n",
       "    </tr>\n",
       "  </thead>\n",
       "  <tbody>\n",
       "    <tr>\n",
       "      <th>0</th>\n",
       "      <td>2022</td>\n",
       "      <td>29</td>\n",
       "      <td>baseline</td>\n",
       "      <td>cat1</td>\n",
       "      <td>16.890041</td>\n",
       "      <td>state_person_time</td>\n",
       "      <td>state_person_time</td>\n",
       "      <td>100</td>\n",
       "      <td>prevalence</td>\n",
       "    </tr>\n",
       "    <tr>\n",
       "      <th>1</th>\n",
       "      <td>2022</td>\n",
       "      <td>29</td>\n",
       "      <td>baseline</td>\n",
       "      <td>cat2</td>\n",
       "      <td>17.604816</td>\n",
       "      <td>state_person_time</td>\n",
       "      <td>state_person_time</td>\n",
       "      <td>100</td>\n",
       "      <td>prevalence</td>\n",
       "    </tr>\n",
       "    <tr>\n",
       "      <th>2</th>\n",
       "      <td>2022</td>\n",
       "      <td>29</td>\n",
       "      <td>baseline</td>\n",
       "      <td>cat3</td>\n",
       "      <td>19.781513</td>\n",
       "      <td>state_person_time</td>\n",
       "      <td>state_person_time</td>\n",
       "      <td>100</td>\n",
       "      <td>prevalence</td>\n",
       "    </tr>\n",
       "    <tr>\n",
       "      <th>3</th>\n",
       "      <td>2022</td>\n",
       "      <td>29</td>\n",
       "      <td>baseline</td>\n",
       "      <td>cat4</td>\n",
       "      <td>45.723630</td>\n",
       "      <td>state_person_time</td>\n",
       "      <td>state_person_time</td>\n",
       "      <td>100</td>\n",
       "      <td>prevalence</td>\n",
       "    </tr>\n",
       "    <tr>\n",
       "      <th>...</th>\n",
       "      <td>...</td>\n",
       "      <td>...</td>\n",
       "      <td>...</td>\n",
       "      <td>...</td>\n",
       "      <td>...</td>\n",
       "      <td>...</td>\n",
       "      <td>...</td>\n",
       "      <td>...</td>\n",
       "      <td>...</td>\n",
       "    </tr>\n",
       "    <tr>\n",
       "      <th>1436</th>\n",
       "      <td>2023</td>\n",
       "      <td>946</td>\n",
       "      <td>wasting_treatment</td>\n",
       "      <td>stunted</td>\n",
       "      <td>34.663156</td>\n",
       "      <td>state_person_time</td>\n",
       "      <td>state_person_time</td>\n",
       "      <td>100</td>\n",
       "      <td>prevalence</td>\n",
       "    </tr>\n",
       "    <tr>\n",
       "      <th>1437</th>\n",
       "      <td>2024</td>\n",
       "      <td>946</td>\n",
       "      <td>wasting_treatment</td>\n",
       "      <td>stunted</td>\n",
       "      <td>34.778292</td>\n",
       "      <td>state_person_time</td>\n",
       "      <td>state_person_time</td>\n",
       "      <td>100</td>\n",
       "      <td>prevalence</td>\n",
       "    </tr>\n",
       "    <tr>\n",
       "      <th>1438</th>\n",
       "      <td>2025</td>\n",
       "      <td>946</td>\n",
       "      <td>wasting_treatment</td>\n",
       "      <td>stunted</td>\n",
       "      <td>34.743118</td>\n",
       "      <td>state_person_time</td>\n",
       "      <td>state_person_time</td>\n",
       "      <td>100</td>\n",
       "      <td>prevalence</td>\n",
       "    </tr>\n",
       "    <tr>\n",
       "      <th>1439</th>\n",
       "      <td>2026</td>\n",
       "      <td>946</td>\n",
       "      <td>wasting_treatment</td>\n",
       "      <td>stunted</td>\n",
       "      <td>34.829221</td>\n",
       "      <td>state_person_time</td>\n",
       "      <td>state_person_time</td>\n",
       "      <td>100</td>\n",
       "      <td>prevalence</td>\n",
       "    </tr>\n",
       "  </tbody>\n",
       "</table>\n",
       "<p>1440 rows × 9 columns</p>\n",
       "</div>"
      ],
      "text/plain": [
       "      year  input_draw           scenario stunting_state      value  \\\n",
       "0     2022          29           baseline           cat1  16.890041   \n",
       "1     2022          29           baseline           cat2  17.604816   \n",
       "2     2022          29           baseline           cat3  19.781513   \n",
       "3     2022          29           baseline           cat4  45.723630   \n",
       "...    ...         ...                ...            ...        ...   \n",
       "1436  2023         946  wasting_treatment        stunted  34.663156   \n",
       "1437  2024         946  wasting_treatment        stunted  34.778292   \n",
       "1438  2025         946  wasting_treatment        stunted  34.743118   \n",
       "1439  2026         946  wasting_treatment        stunted  34.829221   \n",
       "\n",
       "      numerator_measure denominator_measure  multiplier     measure  \n",
       "0     state_person_time   state_person_time         100  prevalence  \n",
       "1     state_person_time   state_person_time         100  prevalence  \n",
       "2     state_person_time   state_person_time         100  prevalence  \n",
       "3     state_person_time   state_person_time         100  prevalence  \n",
       "...                 ...                 ...         ...         ...  \n",
       "1436  state_person_time   state_person_time         100  prevalence  \n",
       "1437  state_person_time   state_person_time         100  prevalence  \n",
       "1438  state_person_time   state_person_time         100  prevalence  \n",
       "1439  state_person_time   state_person_time         100  prevalence  \n",
       "\n",
       "[1440 rows x 9 columns]"
      ]
     },
     "execution_count": 5,
     "metadata": {},
     "output_type": "execute_result"
    }
   ],
   "source": [
    "stunting_prevalence = (\n",
    "    csr.get_prevalence(results, 'stunting_state', 'year', multiplier=100)\n",
    "    .pipe(vp.aggregate_categories, 'stunting_state', csr.stunting_states_by_superstate, append=True)\n",
    ")\n",
    "stunting_prevalence"
   ]
  },
  {
   "cell_type": "markdown",
   "id": "2a7f513b",
   "metadata": {},
   "source": [
    "# Filter to total wasting and total stunting from 2023-2026"
   ]
  },
  {
   "cell_type": "code",
   "execution_count": 214,
   "id": "28abb4b8",
   "metadata": {},
   "outputs": [
    {
     "data": {
      "text/html": [
       "<div>\n",
       "<style scoped>\n",
       "    .dataframe tbody tr th:only-of-type {\n",
       "        vertical-align: middle;\n",
       "    }\n",
       "\n",
       "    .dataframe tbody tr th {\n",
       "        vertical-align: top;\n",
       "    }\n",
       "\n",
       "    .dataframe thead th {\n",
       "        text-align: right;\n",
       "    }\n",
       "</style>\n",
       "<table border=\"1\" class=\"dataframe\">\n",
       "  <thead>\n",
       "    <tr style=\"text-align: right;\">\n",
       "      <th></th>\n",
       "      <th>year</th>\n",
       "      <th>input_draw</th>\n",
       "      <th>scenario</th>\n",
       "      <th>wasting_state</th>\n",
       "      <th>value</th>\n",
       "      <th>numerator_measure</th>\n",
       "      <th>denominator_measure</th>\n",
       "      <th>multiplier</th>\n",
       "      <th>measure</th>\n",
       "    </tr>\n",
       "  </thead>\n",
       "  <tbody>\n",
       "    <tr>\n",
       "      <th>961</th>\n",
       "      <td>2023</td>\n",
       "      <td>29</td>\n",
       "      <td>baseline</td>\n",
       "      <td>global_acute_malnutrition</td>\n",
       "      <td>8.988464</td>\n",
       "      <td>state_person_time</td>\n",
       "      <td>state_person_time</td>\n",
       "      <td>100</td>\n",
       "      <td>prevalence</td>\n",
       "    </tr>\n",
       "    <tr>\n",
       "      <th>962</th>\n",
       "      <td>2024</td>\n",
       "      <td>29</td>\n",
       "      <td>baseline</td>\n",
       "      <td>global_acute_malnutrition</td>\n",
       "      <td>8.964807</td>\n",
       "      <td>state_person_time</td>\n",
       "      <td>state_person_time</td>\n",
       "      <td>100</td>\n",
       "      <td>prevalence</td>\n",
       "    </tr>\n",
       "    <tr>\n",
       "      <th>963</th>\n",
       "      <td>2025</td>\n",
       "      <td>29</td>\n",
       "      <td>baseline</td>\n",
       "      <td>global_acute_malnutrition</td>\n",
       "      <td>8.811893</td>\n",
       "      <td>state_person_time</td>\n",
       "      <td>state_person_time</td>\n",
       "      <td>100</td>\n",
       "      <td>prevalence</td>\n",
       "    </tr>\n",
       "    <tr>\n",
       "      <th>964</th>\n",
       "      <td>2026</td>\n",
       "      <td>29</td>\n",
       "      <td>baseline</td>\n",
       "      <td>global_acute_malnutrition</td>\n",
       "      <td>8.867149</td>\n",
       "      <td>state_person_time</td>\n",
       "      <td>state_person_time</td>\n",
       "      <td>100</td>\n",
       "      <td>prevalence</td>\n",
       "    </tr>\n",
       "    <tr>\n",
       "      <th>...</th>\n",
       "      <td>...</td>\n",
       "      <td>...</td>\n",
       "      <td>...</td>\n",
       "      <td>...</td>\n",
       "      <td>...</td>\n",
       "      <td>...</td>\n",
       "      <td>...</td>\n",
       "      <td>...</td>\n",
       "      <td>...</td>\n",
       "    </tr>\n",
       "    <tr>\n",
       "      <th>1431</th>\n",
       "      <td>2023</td>\n",
       "      <td>946</td>\n",
       "      <td>wasting_treatment</td>\n",
       "      <td>global_acute_malnutrition</td>\n",
       "      <td>8.908856</td>\n",
       "      <td>state_person_time</td>\n",
       "      <td>state_person_time</td>\n",
       "      <td>100</td>\n",
       "      <td>prevalence</td>\n",
       "    </tr>\n",
       "    <tr>\n",
       "      <th>1432</th>\n",
       "      <td>2024</td>\n",
       "      <td>946</td>\n",
       "      <td>wasting_treatment</td>\n",
       "      <td>global_acute_malnutrition</td>\n",
       "      <td>8.375551</td>\n",
       "      <td>state_person_time</td>\n",
       "      <td>state_person_time</td>\n",
       "      <td>100</td>\n",
       "      <td>prevalence</td>\n",
       "    </tr>\n",
       "    <tr>\n",
       "      <th>1433</th>\n",
       "      <td>2025</td>\n",
       "      <td>946</td>\n",
       "      <td>wasting_treatment</td>\n",
       "      <td>global_acute_malnutrition</td>\n",
       "      <td>7.925981</td>\n",
       "      <td>state_person_time</td>\n",
       "      <td>state_person_time</td>\n",
       "      <td>100</td>\n",
       "      <td>prevalence</td>\n",
       "    </tr>\n",
       "    <tr>\n",
       "      <th>1434</th>\n",
       "      <td>2026</td>\n",
       "      <td>946</td>\n",
       "      <td>wasting_treatment</td>\n",
       "      <td>global_acute_malnutrition</td>\n",
       "      <td>7.626125</td>\n",
       "      <td>state_person_time</td>\n",
       "      <td>state_person_time</td>\n",
       "      <td>100</td>\n",
       "      <td>prevalence</td>\n",
       "    </tr>\n",
       "  </tbody>\n",
       "</table>\n",
       "<p>192 rows × 9 columns</p>\n",
       "</div>"
      ],
      "text/plain": [
       "      year  input_draw           scenario              wasting_state  \\\n",
       "961   2023          29           baseline  global_acute_malnutrition   \n",
       "962   2024          29           baseline  global_acute_malnutrition   \n",
       "963   2025          29           baseline  global_acute_malnutrition   \n",
       "964   2026          29           baseline  global_acute_malnutrition   \n",
       "...    ...         ...                ...                        ...   \n",
       "1431  2023         946  wasting_treatment  global_acute_malnutrition   \n",
       "1432  2024         946  wasting_treatment  global_acute_malnutrition   \n",
       "1433  2025         946  wasting_treatment  global_acute_malnutrition   \n",
       "1434  2026         946  wasting_treatment  global_acute_malnutrition   \n",
       "\n",
       "         value  numerator_measure denominator_measure  multiplier     measure  \n",
       "961   8.988464  state_person_time   state_person_time         100  prevalence  \n",
       "962   8.964807  state_person_time   state_person_time         100  prevalence  \n",
       "963   8.811893  state_person_time   state_person_time         100  prevalence  \n",
       "964   8.867149  state_person_time   state_person_time         100  prevalence  \n",
       "...        ...                ...                 ...         ...         ...  \n",
       "1431  8.908856  state_person_time   state_person_time         100  prevalence  \n",
       "1432  8.375551  state_person_time   state_person_time         100  prevalence  \n",
       "1433  7.925981  state_person_time   state_person_time         100  prevalence  \n",
       "1434  7.626125  state_person_time   state_person_time         100  prevalence  \n",
       "\n",
       "[192 rows x 9 columns]"
      ]
     },
     "execution_count": 214,
     "metadata": {},
     "output_type": "execute_result"
    }
   ],
   "source": [
    "start_year = '2023' # Start at 2023 for now since 2022 has a burn-in period\n",
    "gam_prevalence = wasting_prevalence.query(\"wasting_state == 'global_acute_malnutrition' and year >= @start_year\")\n",
    "stunted_prevalence = stunting_prevalence.query(\"stunting_state == 'stunted' and year >= @start_year\")\n",
    "gam_prevalence"
   ]
  },
  {
   "cell_type": "markdown",
   "id": "f861d2e2",
   "metadata": {},
   "source": [
    "# Filter to single scenario and draw to make sure we have one value per year"
   ]
  },
  {
   "cell_type": "code",
   "execution_count": 14,
   "id": "7b52c6ab",
   "metadata": {},
   "outputs": [
    {
     "data": {
      "text/html": [
       "<div>\n",
       "<style scoped>\n",
       "    .dataframe tbody tr th:only-of-type {\n",
       "        vertical-align: middle;\n",
       "    }\n",
       "\n",
       "    .dataframe tbody tr th {\n",
       "        vertical-align: top;\n",
       "    }\n",
       "\n",
       "    .dataframe thead th {\n",
       "        text-align: right;\n",
       "    }\n",
       "</style>\n",
       "<table border=\"1\" class=\"dataframe\">\n",
       "  <thead>\n",
       "    <tr style=\"text-align: right;\">\n",
       "      <th></th>\n",
       "      <th>year</th>\n",
       "      <th>input_draw</th>\n",
       "      <th>scenario</th>\n",
       "      <th>wasting_state</th>\n",
       "      <th>value</th>\n",
       "      <th>numerator_measure</th>\n",
       "      <th>denominator_measure</th>\n",
       "      <th>multiplier</th>\n",
       "      <th>measure</th>\n",
       "    </tr>\n",
       "  </thead>\n",
       "  <tbody>\n",
       "    <tr>\n",
       "      <th>991</th>\n",
       "      <td>2023</td>\n",
       "      <td>29</td>\n",
       "      <td>wasting_treatment</td>\n",
       "      <td>global_acute_malnutrition</td>\n",
       "      <td>8.843505</td>\n",
       "      <td>state_person_time</td>\n",
       "      <td>state_person_time</td>\n",
       "      <td>100</td>\n",
       "      <td>prevalence</td>\n",
       "    </tr>\n",
       "    <tr>\n",
       "      <th>992</th>\n",
       "      <td>2024</td>\n",
       "      <td>29</td>\n",
       "      <td>wasting_treatment</td>\n",
       "      <td>global_acute_malnutrition</td>\n",
       "      <td>8.375669</td>\n",
       "      <td>state_person_time</td>\n",
       "      <td>state_person_time</td>\n",
       "      <td>100</td>\n",
       "      <td>prevalence</td>\n",
       "    </tr>\n",
       "    <tr>\n",
       "      <th>993</th>\n",
       "      <td>2025</td>\n",
       "      <td>29</td>\n",
       "      <td>wasting_treatment</td>\n",
       "      <td>global_acute_malnutrition</td>\n",
       "      <td>7.757446</td>\n",
       "      <td>state_person_time</td>\n",
       "      <td>state_person_time</td>\n",
       "      <td>100</td>\n",
       "      <td>prevalence</td>\n",
       "    </tr>\n",
       "    <tr>\n",
       "      <th>994</th>\n",
       "      <td>2026</td>\n",
       "      <td>29</td>\n",
       "      <td>wasting_treatment</td>\n",
       "      <td>global_acute_malnutrition</td>\n",
       "      <td>7.523279</td>\n",
       "      <td>state_person_time</td>\n",
       "      <td>state_person_time</td>\n",
       "      <td>100</td>\n",
       "      <td>prevalence</td>\n",
       "    </tr>\n",
       "  </tbody>\n",
       "</table>\n",
       "</div>"
      ],
      "text/plain": [
       "     year  input_draw           scenario              wasting_state     value  \\\n",
       "991  2023          29  wasting_treatment  global_acute_malnutrition  8.843505   \n",
       "992  2024          29  wasting_treatment  global_acute_malnutrition  8.375669   \n",
       "993  2025          29  wasting_treatment  global_acute_malnutrition  7.757446   \n",
       "994  2026          29  wasting_treatment  global_acute_malnutrition  7.523279   \n",
       "\n",
       "     numerator_measure denominator_measure  multiplier     measure  \n",
       "991  state_person_time   state_person_time         100  prevalence  \n",
       "992  state_person_time   state_person_time         100  prevalence  \n",
       "993  state_person_time   state_person_time         100  prevalence  \n",
       "994  state_person_time   state_person_time         100  prevalence  "
      ]
     },
     "execution_count": 14,
     "metadata": {},
     "output_type": "execute_result"
    }
   ],
   "source": [
    "scenario = 'wasting_treatment'\n",
    "input_draw = 29\n",
    "gam_prevalence.query(\"scenario==@scenario and input_draw==@input_draw\")"
   ]
  },
  {
   "cell_type": "markdown",
   "id": "cc93d214",
   "metadata": {},
   "source": [
    "# Try doing a regression using statsmodels, for a single scenario and draw\n",
    "\n",
    "Statsmodels documentation: https://www.statsmodels.org/stable/index.html\n",
    "\n",
    "Patsy documentation: https://patsy.readthedocs.io/en/latest/\n",
    "\n",
    "R formula mini-language: https://cran.r-project.org/doc/manuals/R-intro.html#Formulae-for-statistical-models\n",
    "\n",
    "Comparison of Patsy formulas with R formulas: https://patsy.readthedocs.io/en/latest/R-comparison.html"
   ]
  },
  {
   "cell_type": "code",
   "execution_count": 21,
   "id": "18edf559",
   "metadata": {},
   "outputs": [
    {
     "name": "stdout",
     "output_type": "stream",
     "text": [
      "                            OLS Regression Results                            \n",
      "==============================================================================\n",
      "Dep. Variable:          np.log(value)   R-squared:                       0.977\n",
      "Model:                            OLS   Adj. R-squared:                  0.965\n",
      "Method:                 Least Squares   F-statistic:                     84.36\n",
      "Date:                Fri, 04 Feb 2022   Prob (F-statistic):             0.0116\n",
      "Time:                        17:03:08   Log-Likelihood:                 12.879\n",
      "No. Observations:                   4   AIC:                            -21.76\n",
      "Df Residuals:                       2   BIC:                            -22.99\n",
      "Df Model:                           1                                         \n",
      "Covariance Type:            nonrobust                                         \n",
      "==============================================================================\n",
      "                 coef    std err          t      P>|t|      [0.025      0.975]\n",
      "------------------------------------------------------------------------------\n",
      "Intercept    115.8135     12.382      9.354      0.011      62.540     169.087\n",
      "year          -0.0562      0.006     -9.185      0.012      -0.082      -0.030\n",
      "==============================================================================\n",
      "Omnibus:                          nan   Durbin-Watson:                   2.874\n",
      "Prob(Omnibus):                    nan   Jarque-Bera (JB):                0.672\n",
      "Skew:                          -0.918   Prob(JB):                        0.714\n",
      "Kurtosis:                       2.188   Cond. No.                     3.67e+06\n",
      "==============================================================================\n",
      "\n",
      "Notes:\n",
      "[1] Standard Errors assume that the covariance matrix of the errors is correctly specified.\n",
      "[2] The condition number is large, 3.67e+06. This might indicate that there are\n",
      "strong multicollinearity or other numerical problems.\n"
     ]
    },
    {
     "name": "stderr",
     "output_type": "stream",
     "text": [
      "/ihme/homes/ndbs/miniconda3/envs/ciff-sam-38/lib/python3.8/site-packages/statsmodels/stats/stattools.py:74: ValueWarning: omni_normtest is not valid with less than 8 observations; 4 samples were given.\n",
      "  warn(\"omni_normtest is not valid with less than 8 observations; %i \"\n"
     ]
    }
   ],
   "source": [
    "df = gam_prevalence.query(\"scenario==@scenario and input_draw==@input_draw\").astype({'year': int})\n",
    "regression = smf.ols('np.log(value) ~ year', data=df).fit()\n",
    "print(regression.summary())"
   ]
  },
  {
   "cell_type": "code",
   "execution_count": 28,
   "id": "8b577c76",
   "metadata": {},
   "outputs": [
    {
     "data": {
      "text/plain": [
       "Intercept    115.813461\n",
       "year          -0.056172\n",
       "dtype: float64"
      ]
     },
     "execution_count": 28,
     "metadata": {},
     "output_type": "execute_result"
    }
   ],
   "source": [
    "# The beta coefficient for 'year' is what we need for the AARR\n",
    "regression.params"
   ]
  },
  {
   "cell_type": "code",
   "execution_count": 30,
   "id": "7e0c30da",
   "metadata": {},
   "outputs": [
    {
     "data": {
      "text/plain": [
       "0.054623636651973784"
      ]
     },
     "execution_count": 30,
     "metadata": {},
     "output_type": "execute_result"
    }
   ],
   "source": [
    "# This is the AARR\n",
    "1-np.exp(regression.params['year'])"
   ]
  },
  {
   "cell_type": "markdown",
   "id": "3227752e",
   "metadata": {},
   "source": [
    "# Compare predicted wasting prevalence vs. actual prevalence from sim"
   ]
  },
  {
   "cell_type": "code",
   "execution_count": 205,
   "id": "c7345aab",
   "metadata": {},
   "outputs": [
    {
     "data": {
      "text/html": [
       "<div>\n",
       "<style scoped>\n",
       "    .dataframe tbody tr th:only-of-type {\n",
       "        vertical-align: middle;\n",
       "    }\n",
       "\n",
       "    .dataframe tbody tr th {\n",
       "        vertical-align: top;\n",
       "    }\n",
       "\n",
       "    .dataframe thead th {\n",
       "        text-align: right;\n",
       "    }\n",
       "</style>\n",
       "<table border=\"1\" class=\"dataframe\">\n",
       "  <thead>\n",
       "    <tr style=\"text-align: right;\">\n",
       "      <th></th>\n",
       "      <th>year</th>\n",
       "      <th>input_draw</th>\n",
       "      <th>scenario</th>\n",
       "      <th>wasting_state</th>\n",
       "      <th>value</th>\n",
       "      <th>numerator_measure</th>\n",
       "      <th>denominator_measure</th>\n",
       "      <th>multiplier</th>\n",
       "      <th>measure</th>\n",
       "    </tr>\n",
       "  </thead>\n",
       "  <tbody>\n",
       "    <tr>\n",
       "      <th>991</th>\n",
       "      <td>2023</td>\n",
       "      <td>29</td>\n",
       "      <td>wasting_treatment</td>\n",
       "      <td>global_acute_malnutrition</td>\n",
       "      <td>8.843505</td>\n",
       "      <td>state_person_time</td>\n",
       "      <td>state_person_time</td>\n",
       "      <td>100</td>\n",
       "      <td>prevalence</td>\n",
       "    </tr>\n",
       "    <tr>\n",
       "      <th>992</th>\n",
       "      <td>2024</td>\n",
       "      <td>29</td>\n",
       "      <td>wasting_treatment</td>\n",
       "      <td>global_acute_malnutrition</td>\n",
       "      <td>8.375669</td>\n",
       "      <td>state_person_time</td>\n",
       "      <td>state_person_time</td>\n",
       "      <td>100</td>\n",
       "      <td>prevalence</td>\n",
       "    </tr>\n",
       "    <tr>\n",
       "      <th>993</th>\n",
       "      <td>2025</td>\n",
       "      <td>29</td>\n",
       "      <td>wasting_treatment</td>\n",
       "      <td>global_acute_malnutrition</td>\n",
       "      <td>7.757446</td>\n",
       "      <td>state_person_time</td>\n",
       "      <td>state_person_time</td>\n",
       "      <td>100</td>\n",
       "      <td>prevalence</td>\n",
       "    </tr>\n",
       "    <tr>\n",
       "      <th>994</th>\n",
       "      <td>2026</td>\n",
       "      <td>29</td>\n",
       "      <td>wasting_treatment</td>\n",
       "      <td>global_acute_malnutrition</td>\n",
       "      <td>7.523279</td>\n",
       "      <td>state_person_time</td>\n",
       "      <td>state_person_time</td>\n",
       "      <td>100</td>\n",
       "      <td>prevalence</td>\n",
       "    </tr>\n",
       "  </tbody>\n",
       "</table>\n",
       "</div>"
      ],
      "text/plain": [
       "     year  input_draw           scenario              wasting_state     value  \\\n",
       "991  2023          29  wasting_treatment  global_acute_malnutrition  8.843505   \n",
       "992  2024          29  wasting_treatment  global_acute_malnutrition  8.375669   \n",
       "993  2025          29  wasting_treatment  global_acute_malnutrition  7.757446   \n",
       "994  2026          29  wasting_treatment  global_acute_malnutrition  7.523279   \n",
       "\n",
       "     numerator_measure denominator_measure  multiplier     measure  \n",
       "991  state_person_time   state_person_time         100  prevalence  \n",
       "992  state_person_time   state_person_time         100  prevalence  \n",
       "993  state_person_time   state_person_time         100  prevalence  \n",
       "994  state_person_time   state_person_time         100  prevalence  "
      ]
     },
     "execution_count": 205,
     "metadata": {},
     "output_type": "execute_result"
    }
   ],
   "source": [
    "# Actual wasting prevalence values from sim\n",
    "df"
   ]
  },
  {
   "cell_type": "code",
   "execution_count": 61,
   "id": "389beb90",
   "metadata": {},
   "outputs": [
    {
     "data": {
      "text/html": [
       "<div>\n",
       "<style scoped>\n",
       "    .dataframe tbody tr th:only-of-type {\n",
       "        vertical-align: middle;\n",
       "    }\n",
       "\n",
       "    .dataframe tbody tr th {\n",
       "        vertical-align: top;\n",
       "    }\n",
       "\n",
       "    .dataframe thead th {\n",
       "        text-align: right;\n",
       "    }\n",
       "</style>\n",
       "<table border=\"1\" class=\"dataframe\">\n",
       "  <thead>\n",
       "    <tr style=\"text-align: right;\">\n",
       "      <th></th>\n",
       "      <th>mean</th>\n",
       "      <th>mean_se</th>\n",
       "      <th>mean_ci_lower</th>\n",
       "      <th>mean_ci_upper</th>\n",
       "      <th>obs_ci_lower</th>\n",
       "      <th>obs_ci_upper</th>\n",
       "    </tr>\n",
       "  </thead>\n",
       "  <tbody>\n",
       "    <tr>\n",
       "      <th>0</th>\n",
       "      <td>8.821356</td>\n",
       "      <td>1.011507</td>\n",
       "      <td>8.397599</td>\n",
       "      <td>9.266497</td>\n",
       "      <td>8.169899</td>\n",
       "      <td>9.524760</td>\n",
       "    </tr>\n",
       "    <tr>\n",
       "      <th>1</th>\n",
       "      <td>8.339502</td>\n",
       "      <td>1.007518</td>\n",
       "      <td>8.075017</td>\n",
       "      <td>8.612649</td>\n",
       "      <td>7.798369</td>\n",
       "      <td>8.918184</td>\n",
       "    </tr>\n",
       "    <tr>\n",
       "      <th>2</th>\n",
       "      <td>7.883968</td>\n",
       "      <td>1.007518</td>\n",
       "      <td>7.633931</td>\n",
       "      <td>8.142195</td>\n",
       "      <td>7.372394</td>\n",
       "      <td>8.431041</td>\n",
       "    </tr>\n",
       "    <tr>\n",
       "      <th>3</th>\n",
       "      <td>7.453317</td>\n",
       "      <td>1.011507</td>\n",
       "      <td>7.095277</td>\n",
       "      <td>7.829424</td>\n",
       "      <td>6.902889</td>\n",
       "      <td>8.047635</td>\n",
       "    </tr>\n",
       "  </tbody>\n",
       "</table>\n",
       "</div>"
      ],
      "text/plain": [
       "       mean   mean_se  mean_ci_lower  mean_ci_upper  obs_ci_lower  \\\n",
       "0  8.821356  1.011507       8.397599       9.266497      8.169899   \n",
       "1  8.339502  1.007518       8.075017       8.612649      7.798369   \n",
       "2  7.883968  1.007518       7.633931       8.142195      7.372394   \n",
       "3  7.453317  1.011507       7.095277       7.829424      6.902889   \n",
       "\n",
       "   obs_ci_upper  \n",
       "0      9.524760  \n",
       "1      8.918184  \n",
       "2      8.431041  \n",
       "3      8.047635  "
      ]
     },
     "execution_count": 61,
     "metadata": {},
     "output_type": "execute_result"
    }
   ],
   "source": [
    "# Predicted prevalence values from linear regression on log(prevalence)\n",
    "np.exp((regression.get_prediction(df['year'])).summary_frame())"
   ]
  },
  {
   "cell_type": "code",
   "execution_count": 266,
   "id": "5d0996dc",
   "metadata": {},
   "outputs": [
    {
     "data": {
      "image/png": "[encoded data removed]",
      "text/plain": [
       "<Figure size 432x288 with 1 Axes>"
      ]
     },
     "metadata": {
      "needs_background": "light"
     },
     "output_type": "display_data"
    }
   ],
   "source": [
    "# Plot actual vs. predicted wasting prevalence\n",
    "plt.plot('year', 'value', data=df, label='actual')\n",
    "plt.plot(df.year, np.exp(regression.params['Intercept']+regression.params['year']*(df.year)), label=\"predicted\")\n",
    "plt.title(\n",
    "    \"Wasting prevalence vs. time\"\n",
    "    f\"\\n{scenario=}, {input_draw=}\"\n",
    ")\n",
    "plt.ylabel(\"Prevalence (%)\")\n",
    "plt.xlabel(\"year\")\n",
    "plt.legend()\n",
    "plt.show()"
   ]
  },
  {
   "cell_type": "code",
   "execution_count": 265,
   "id": "5c65a5a1",
   "metadata": {},
   "outputs": [
    {
     "data": {
      "image/png": "[encoded data removed]",
      "text/plain": [
       "<Figure size 432x288 with 1 Axes>"
      ]
     },
     "metadata": {
      "needs_background": "light"
     },
     "output_type": "display_data"
    }
   ],
   "source": [
    "# Plot regression results in log space using built-in statsmodels graphics.plot_fit function\n",
    "def plot_results(regression, regressor):\n",
    "    fig, ax = plt.subplots()\n",
    "    sm.graphics.plot_fit(regression, regressor, ax=ax)\n",
    "    ax.set_ylabel(\"log(100 * prevalence)\")\n",
    "    ax.set_xlabel(regressor)\n",
    "    ax.set_title(\"Linear Regression Results\")\n",
    "    plt.show()\n",
    "plot_results(regression, 'year')"
   ]
  },
  {
   "cell_type": "code",
   "execution_count": 262,
   "id": "18931135",
   "metadata": {},
   "outputs": [
    {
     "data": {
      "text/html": [
       "<div>\n",
       "<style scoped>\n",
       "    .dataframe tbody tr th:only-of-type {\n",
       "        vertical-align: middle;\n",
       "    }\n",
       "\n",
       "    .dataframe tbody tr th {\n",
       "        vertical-align: top;\n",
       "    }\n",
       "\n",
       "    .dataframe thead th {\n",
       "        text-align: right;\n",
       "    }\n",
       "</style>\n",
       "<table border=\"1\" class=\"dataframe\">\n",
       "  <thead>\n",
       "    <tr style=\"text-align: right;\">\n",
       "      <th></th>\n",
       "      <th>year</th>\n",
       "      <th>fraction_of_initial_predicted</th>\n",
       "    </tr>\n",
       "  </thead>\n",
       "  <tbody>\n",
       "    <tr>\n",
       "      <th>991</th>\n",
       "      <td>2023</td>\n",
       "      <td>1.000000</td>\n",
       "    </tr>\n",
       "    <tr>\n",
       "      <th>992</th>\n",
       "      <td>2024</td>\n",
       "      <td>0.945376</td>\n",
       "    </tr>\n",
       "    <tr>\n",
       "      <th>993</th>\n",
       "      <td>2025</td>\n",
       "      <td>0.893736</td>\n",
       "    </tr>\n",
       "    <tr>\n",
       "      <th>994</th>\n",
       "      <td>2026</td>\n",
       "      <td>0.844917</td>\n",
       "    </tr>\n",
       "  </tbody>\n",
       "</table>\n",
       "</div>"
      ],
      "text/plain": [
       "     year  fraction_of_initial_predicted\n",
       "991  2023                       1.000000\n",
       "992  2024                       0.945376\n",
       "993  2025                       0.893736\n",
       "994  2026                       0.844917"
      ]
     },
     "execution_count": 262,
     "metadata": {},
     "output_type": "execute_result"
    }
   ],
   "source": [
    "# Predicted fraction of predicted initial prevalence\n",
    "df[['year']].join(\n",
    "    np.exp(regression.params['year']*(df.year-2023))\n",
    "    .rename('fraction_of_initial_predicted')\n",
    ")"
   ]
  },
  {
   "cell_type": "code",
   "execution_count": 261,
   "id": "a481e547",
   "metadata": {},
   "outputs": [
    {
     "data": {
      "text/html": [
       "<div>\n",
       "<style scoped>\n",
       "    .dataframe tbody tr th:only-of-type {\n",
       "        vertical-align: middle;\n",
       "    }\n",
       "\n",
       "    .dataframe tbody tr th {\n",
       "        vertical-align: top;\n",
       "    }\n",
       "\n",
       "    .dataframe thead th {\n",
       "        text-align: right;\n",
       "    }\n",
       "</style>\n",
       "<table border=\"1\" class=\"dataframe\">\n",
       "  <thead>\n",
       "    <tr style=\"text-align: right;\">\n",
       "      <th></th>\n",
       "      <th>year</th>\n",
       "      <th>fraction_of_initial_actual</th>\n",
       "    </tr>\n",
       "  </thead>\n",
       "  <tbody>\n",
       "    <tr>\n",
       "      <th>991</th>\n",
       "      <td>2023</td>\n",
       "      <td>1.000000</td>\n",
       "    </tr>\n",
       "    <tr>\n",
       "      <th>992</th>\n",
       "      <td>2024</td>\n",
       "      <td>0.947098</td>\n",
       "    </tr>\n",
       "    <tr>\n",
       "      <th>993</th>\n",
       "      <td>2025</td>\n",
       "      <td>0.877191</td>\n",
       "    </tr>\n",
       "    <tr>\n",
       "      <th>994</th>\n",
       "      <td>2026</td>\n",
       "      <td>0.850712</td>\n",
       "    </tr>\n",
       "  </tbody>\n",
       "</table>\n",
       "</div>"
      ],
      "text/plain": [
       "     year  fraction_of_initial_actual\n",
       "991  2023                    1.000000\n",
       "992  2024                    0.947098\n",
       "993  2025                    0.877191\n",
       "994  2026                    0.850712"
      ]
     },
     "execution_count": 261,
     "metadata": {},
     "output_type": "execute_result"
    }
   ],
   "source": [
    "# Actual fraction of actual initial prevalence\n",
    "df[['year']].join(\n",
    "    (df['value'] / df.loc[df.year==2023, 'value'].iloc[0])\n",
    "    .rename('fraction_of_initial_actual')\n",
    ")"
   ]
  },
  {
   "cell_type": "code",
   "execution_count": 253,
   "id": "3e805a9c",
   "metadata": {},
   "outputs": [
    {
     "data": {
      "text/plain": [
       "8.84350539797395"
      ]
     },
     "execution_count": 253,
     "metadata": {},
     "output_type": "execute_result"
    }
   ],
   "source": [
    "df.loc[df.year==2023, 'value'].iloc[0]"
   ]
  },
  {
   "cell_type": "markdown",
   "id": "f3715b42",
   "metadata": {},
   "source": [
    "# Estimate AARR by taking a simple mean of relative reductions"
   ]
  },
  {
   "cell_type": "code",
   "execution_count": 264,
   "id": "06729e25",
   "metadata": {},
   "outputs": [
    {
     "data": {
      "text/plain": [
       "991    8.843505\n",
       "992    8.375669\n",
       "993    7.757446\n",
       "994    7.523279\n",
       "Name: value, dtype: float64"
      ]
     },
     "execution_count": 264,
     "metadata": {},
     "output_type": "execute_result"
    }
   ],
   "source": [
    "df['value']"
   ]
  },
  {
   "cell_type": "code",
   "execution_count": 120,
   "id": "54c523c5",
   "metadata": {},
   "outputs": [
    {
     "data": {
      "text/plain": [
       "0.05290164928950683"
      ]
     },
     "execution_count": 120,
     "metadata": {},
     "output_type": "execute_result"
    }
   ],
   "source": [
    "# Relative reduction over first year\n",
    "(8.843505 - 8.375669)/8.843505"
   ]
  },
  {
   "cell_type": "code",
   "execution_count": 118,
   "id": "58b36524",
   "metadata": {},
   "outputs": [
    {
     "data": {
      "text/plain": [
       "array([0.05290166, 0.07381178, 0.03018614])"
      ]
     },
     "execution_count": 118,
     "metadata": {},
     "output_type": "execute_result"
    }
   ],
   "source": [
    "# Compute relative reduction year-by-year\n",
    "# The AARR is a kind of average of these numbers\n",
    "v = df['value'].to_numpy()\n",
    "relative_reductions = (v[:-1]-v[1:])/v[:-1]\n",
    "relative_reductions"
   ]
  },
  {
   "cell_type": "code",
   "execution_count": 119,
   "id": "c1e41ac1",
   "metadata": {},
   "outputs": [
    {
     "data": {
      "text/plain": [
       "0.05229986069160989"
      ]
     },
     "execution_count": 119,
     "metadata": {},
     "output_type": "execute_result"
    }
   ],
   "source": [
    "# We should expect the AARR to be somewhat close to this\n",
    "relative_reductions.mean()"
   ]
  },
  {
   "cell_type": "code",
   "execution_count": 30,
   "id": "ad8d6414",
   "metadata": {},
   "outputs": [
    {
     "data": {
      "text/plain": [
       "0.054623636651973784"
      ]
     },
     "execution_count": 30,
     "metadata": {},
     "output_type": "execute_result"
    }
   ],
   "source": [
    "# This is the AARR we got from regression\n",
    "1-np.exp(regression.params['year'])"
   ]
  },
  {
   "cell_type": "markdown",
   "id": "3c79aab1",
   "metadata": {},
   "source": [
    "# Write a function to do a regression for each scenario and draw"
   ]
  },
  {
   "cell_type": "code",
   "execution_count": 66,
   "id": "ddcc5305",
   "metadata": {},
   "outputs": [
    {
     "data": {
      "text/plain": [
       "array(['baseline', 'lbwsg_interventions', 'sqlns', 'wasting_treatment'],\n",
       "      dtype=object)"
      ]
     },
     "execution_count": 66,
     "metadata": {},
     "output_type": "execute_result"
    }
   ],
   "source": [
    "gam_prevalence.scenario.unique()"
   ]
  },
  {
   "cell_type": "code",
   "execution_count": 82,
   "id": "69c6f455",
   "metadata": {},
   "outputs": [
    {
     "name": "stdout",
     "output_type": "stream",
     "text": [
      "CPU times: user 444 ms, sys: 0 ns, total: 444 ms\n",
      "Wall time: 442 ms\n"
     ]
    },
    {
     "data": {
      "text/plain": [
       "scenario           input_draw\n",
       "baseline           29            <statsmodels.regression.linear_model.Regressio...\n",
       "                   223           <statsmodels.regression.linear_model.Regressio...\n",
       "                   232           <statsmodels.regression.linear_model.Regressio...\n",
       "                   357           <statsmodels.regression.linear_model.Regressio...\n",
       "                                                       ...                        \n",
       "wasting_treatment  650           <statsmodels.regression.linear_model.Regressio...\n",
       "                   680           <statsmodels.regression.linear_model.Regressio...\n",
       "                   829           <statsmodels.regression.linear_model.Regressio...\n",
       "                   946           <statsmodels.regression.linear_model.Regressio...\n",
       "Name: aarr_regression, Length: 48, dtype: object"
      ]
     },
     "execution_count": 82,
     "metadata": {},
     "output_type": "execute_result"
    }
   ],
   "source": [
    "%%time\n",
    "def perform_aarr_regessions(prevalence_df):\n",
    "    possible_worlds = pd.MultiIndex.from_product(\n",
    "        [prevalence_df.scenario.unique(), prevalence_df.input_draw.unique()],\n",
    "        names=['scenario', 'input_draw']\n",
    "    )\n",
    "    regressions = []\n",
    "    for scenario, input_draw in possible_worlds:\n",
    "        data = prevalence_df.query(\"scenario==@scenario and input_draw==@input_draw\").astype({'year': int})\n",
    "        regressions.append(smf.ols('np.log(value) ~ year', data=data).fit())\n",
    "    return pd.Series(regressions, index=possible_worlds, name='aarr_regression')\n",
    "\n",
    "regressions = perform_aarr_regessions(gam_prevalence)\n",
    "regressions"
   ]
  },
  {
   "cell_type": "code",
   "execution_count": 75,
   "id": "25d3da14",
   "metadata": {},
   "outputs": [
    {
     "data": {
      "text/plain": [
       "statsmodels.regression.linear_model.RegressionResultsWrapper"
      ]
     },
     "execution_count": 75,
     "metadata": {},
     "output_type": "execute_result"
    }
   ],
   "source": [
    "type(regression)"
   ]
  },
  {
   "cell_type": "code",
   "execution_count": 125,
   "id": "93b3cc95",
   "metadata": {},
   "outputs": [
    {
     "data": {
      "text/html": [
       "<div>\n",
       "<style scoped>\n",
       "    .dataframe tbody tr th:only-of-type {\n",
       "        vertical-align: middle;\n",
       "    }\n",
       "\n",
       "    .dataframe tbody tr th {\n",
       "        vertical-align: top;\n",
       "    }\n",
       "\n",
       "    .dataframe thead th {\n",
       "        text-align: right;\n",
       "    }\n",
       "</style>\n",
       "<table border=\"1\" class=\"dataframe\">\n",
       "  <thead>\n",
       "    <tr style=\"text-align: right;\">\n",
       "      <th></th>\n",
       "      <th>scenario</th>\n",
       "      <th>input_draw</th>\n",
       "      <th>beta_coef</th>\n",
       "      <th>value</th>\n",
       "      <th>multiplier</th>\n",
       "      <th>measure</th>\n",
       "    </tr>\n",
       "  </thead>\n",
       "  <tbody>\n",
       "    <tr>\n",
       "      <th>0</th>\n",
       "      <td>baseline</td>\n",
       "      <td>29</td>\n",
       "      <td>-0.005797</td>\n",
       "      <td>0.578027</td>\n",
       "      <td>100</td>\n",
       "      <td>aarr</td>\n",
       "    </tr>\n",
       "    <tr>\n",
       "      <th>1</th>\n",
       "      <td>baseline</td>\n",
       "      <td>223</td>\n",
       "      <td>-0.000481</td>\n",
       "      <td>0.048099</td>\n",
       "      <td>100</td>\n",
       "      <td>aarr</td>\n",
       "    </tr>\n",
       "    <tr>\n",
       "      <th>2</th>\n",
       "      <td>baseline</td>\n",
       "      <td>232</td>\n",
       "      <td>0.001370</td>\n",
       "      <td>-0.137097</td>\n",
       "      <td>100</td>\n",
       "      <td>aarr</td>\n",
       "    </tr>\n",
       "    <tr>\n",
       "      <th>3</th>\n",
       "      <td>baseline</td>\n",
       "      <td>357</td>\n",
       "      <td>-0.001074</td>\n",
       "      <td>0.107392</td>\n",
       "      <td>100</td>\n",
       "      <td>aarr</td>\n",
       "    </tr>\n",
       "    <tr>\n",
       "      <th>...</th>\n",
       "      <td>...</td>\n",
       "      <td>...</td>\n",
       "      <td>...</td>\n",
       "      <td>...</td>\n",
       "      <td>...</td>\n",
       "      <td>...</td>\n",
       "    </tr>\n",
       "    <tr>\n",
       "      <th>44</th>\n",
       "      <td>wasting_treatment</td>\n",
       "      <td>650</td>\n",
       "      <td>-0.061192</td>\n",
       "      <td>5.935714</td>\n",
       "      <td>100</td>\n",
       "      <td>aarr</td>\n",
       "    </tr>\n",
       "    <tr>\n",
       "      <th>45</th>\n",
       "      <td>wasting_treatment</td>\n",
       "      <td>680</td>\n",
       "      <td>-0.048065</td>\n",
       "      <td>4.692806</td>\n",
       "      <td>100</td>\n",
       "      <td>aarr</td>\n",
       "    </tr>\n",
       "    <tr>\n",
       "      <th>46</th>\n",
       "      <td>wasting_treatment</td>\n",
       "      <td>829</td>\n",
       "      <td>-0.044746</td>\n",
       "      <td>4.375936</td>\n",
       "      <td>100</td>\n",
       "      <td>aarr</td>\n",
       "    </tr>\n",
       "    <tr>\n",
       "      <th>47</th>\n",
       "      <td>wasting_treatment</td>\n",
       "      <td>946</td>\n",
       "      <td>-0.052157</td>\n",
       "      <td>5.082006</td>\n",
       "      <td>100</td>\n",
       "      <td>aarr</td>\n",
       "    </tr>\n",
       "  </tbody>\n",
       "</table>\n",
       "<p>48 rows × 6 columns</p>\n",
       "</div>"
      ],
      "text/plain": [
       "             scenario  input_draw  beta_coef     value  multiplier measure\n",
       "0            baseline          29  -0.005797  0.578027         100    aarr\n",
       "1            baseline         223  -0.000481  0.048099         100    aarr\n",
       "2            baseline         232   0.001370 -0.137097         100    aarr\n",
       "3            baseline         357  -0.001074  0.107392         100    aarr\n",
       "..                ...         ...        ...       ...         ...     ...\n",
       "44  wasting_treatment         650  -0.061192  5.935714         100    aarr\n",
       "45  wasting_treatment         680  -0.048065  4.692806         100    aarr\n",
       "46  wasting_treatment         829  -0.044746  4.375936         100    aarr\n",
       "47  wasting_treatment         946  -0.052157  5.082006         100    aarr\n",
       "\n",
       "[48 rows x 6 columns]"
      ]
     },
     "execution_count": 125,
     "metadata": {},
     "output_type": "execute_result"
    }
   ],
   "source": [
    "def get_beta_and_aarr(regressions, multiplier=1):\n",
    "    beta = regressions.map(lambda regression: regression.params['year']).rename('beta_coef')\n",
    "    aarr = multiplier*(1-np.exp(beta)).rename('value')\n",
    "    aarr_df = (\n",
    "        pd.concat([beta, aarr], axis=1).reset_index()\n",
    "        .assign(multiplier=multiplier, measure='aarr')\n",
    "    )\n",
    "    return aarr_df\n",
    "\n",
    "aarr_df = get_beta_and_aarr(regressions, 100)\n",
    "aarr_df"
   ]
  },
  {
   "cell_type": "markdown",
   "id": "2879b4e0",
   "metadata": {},
   "source": [
    "# Write a function to plot a bar chart showing the AARRs for each scenario"
   ]
  },
  {
   "cell_type": "code",
   "execution_count": 226,
   "id": "ebcda6b9",
   "metadata": {},
   "outputs": [
    {
     "data": {
      "text/html": [
       "<div>\n",
       "<style scoped>\n",
       "    .dataframe tbody tr th:only-of-type {\n",
       "        vertical-align: middle;\n",
       "    }\n",
       "\n",
       "    .dataframe tbody tr th {\n",
       "        vertical-align: top;\n",
       "    }\n",
       "\n",
       "    .dataframe thead th {\n",
       "        text-align: right;\n",
       "    }\n",
       "</style>\n",
       "<table border=\"1\" class=\"dataframe\">\n",
       "  <thead>\n",
       "    <tr style=\"text-align: right;\">\n",
       "      <th></th>\n",
       "      <th>count</th>\n",
       "      <th>mean</th>\n",
       "      <th>std</th>\n",
       "      <th>min</th>\n",
       "      <th>2.5%</th>\n",
       "      <th>50%</th>\n",
       "      <th>97.5%</th>\n",
       "      <th>max</th>\n",
       "    </tr>\n",
       "    <tr>\n",
       "      <th>scenario</th>\n",
       "      <th></th>\n",
       "      <th></th>\n",
       "      <th></th>\n",
       "      <th></th>\n",
       "      <th></th>\n",
       "      <th></th>\n",
       "      <th></th>\n",
       "      <th></th>\n",
       "    </tr>\n",
       "  </thead>\n",
       "  <tbody>\n",
       "    <tr>\n",
       "      <th>baseline</th>\n",
       "      <td>12.0</td>\n",
       "      <td>0.267728</td>\n",
       "      <td>0.314993</td>\n",
       "      <td>-0.158046</td>\n",
       "      <td>-0.152285</td>\n",
       "      <td>0.221576</td>\n",
       "      <td>0.711611</td>\n",
       "      <td>0.725027</td>\n",
       "    </tr>\n",
       "    <tr>\n",
       "      <th>wasting_treatment</th>\n",
       "      <td>12.0</td>\n",
       "      <td>4.890069</td>\n",
       "      <td>0.710478</td>\n",
       "      <td>3.731712</td>\n",
       "      <td>3.821064</td>\n",
       "      <td>4.994505</td>\n",
       "      <td>5.921090</td>\n",
       "      <td>5.935714</td>\n",
       "    </tr>\n",
       "    <tr>\n",
       "      <th>sqlns</th>\n",
       "      <td>12.0</td>\n",
       "      <td>8.333320</td>\n",
       "      <td>0.915420</td>\n",
       "      <td>6.822889</td>\n",
       "      <td>6.873753</td>\n",
       "      <td>8.275765</td>\n",
       "      <td>9.534692</td>\n",
       "      <td>9.549148</td>\n",
       "    </tr>\n",
       "    <tr>\n",
       "      <th>lbwsg_interventions</th>\n",
       "      <td>12.0</td>\n",
       "      <td>8.322998</td>\n",
       "      <td>0.913500</td>\n",
       "      <td>6.822454</td>\n",
       "      <td>6.870325</td>\n",
       "      <td>8.267630</td>\n",
       "      <td>9.522669</td>\n",
       "      <td>9.533849</td>\n",
       "    </tr>\n",
       "  </tbody>\n",
       "</table>\n",
       "</div>"
      ],
      "text/plain": [
       "                     count      mean       std       min      2.5%       50%  \\\n",
       "scenario                                                                       \n",
       "baseline              12.0  0.267728  0.314993 -0.158046 -0.152285  0.221576   \n",
       "wasting_treatment     12.0  4.890069  0.710478  3.731712  3.821064  4.994505   \n",
       "sqlns                 12.0  8.333320  0.915420  6.822889  6.873753  8.275765   \n",
       "lbwsg_interventions   12.0  8.322998  0.913500  6.822454  6.870325  8.267630   \n",
       "\n",
       "                        97.5%       max  \n",
       "scenario                                 \n",
       "baseline             0.711611  0.725027  \n",
       "wasting_treatment    5.921090  5.935714  \n",
       "sqlns                9.534692  9.549148  \n",
       "lbwsg_interventions  9.522669  9.533849  "
      ]
     },
     "execution_count": 226,
     "metadata": {},
     "output_type": "execute_result"
    },
    {
     "data": {
      "image/png": "[encoded data removed]",
      "text/plain": [
       "<Figure size 720x432 with 1 Axes>"
      ]
     },
     "metadata": {
      "needs_background": "light"
     },
     "output_type": "display_data"
    }
   ],
   "source": [
    "fig, ax = plt.subplots(figsize=(10,6))\n",
    "def aarr_bar_chart(aarr_df, ylabel='', title='', ax=None):\n",
    "    if ax is None:\n",
    "        ax = plt.gca()\n",
    "    aarr_df = csr.to_ordered_categoricals(aarr_df)\n",
    "    summary_df = aarr_df.groupby('scenario')['value'].describe(percentiles=[.025, .975])\n",
    "    scenarios = summary_df.index\n",
    "    x = np.arange(len(scenarios))\n",
    "    ax.bar(\n",
    "        x, summary_df['mean'], tick_label=scenarios,\n",
    "        yerr=np.abs(summary_df[['2.5%', '97.5%']].T - summary_df['mean']).to_numpy()\n",
    "    )\n",
    "    ax.set_ylabel(ylabel)\n",
    "    ax.set_title(title)\n",
    "    return summary_df\n",
    "\n",
    "summary = aarr_bar_chart(\n",
    "    aarr_df,\n",
    "    ylabel=\"Average annual percent reduction\",\n",
    "    title=(\"Annual average rate of reduction (AARR) of wasting by scenario\"\n",
    "    f\", {gam_prevalence.year.min()}-{gam_prevalence.year.max()}\")\n",
    ")\n",
    "summary"
   ]
  },
  {
   "cell_type": "code",
   "execution_count": 101,
   "id": "c0ec62a4",
   "metadata": {},
   "outputs": [
    {
     "data": {
      "text/html": [
       "<div>\n",
       "<style scoped>\n",
       "    .dataframe tbody tr th:only-of-type {\n",
       "        vertical-align: middle;\n",
       "    }\n",
       "\n",
       "    .dataframe tbody tr th {\n",
       "        vertical-align: top;\n",
       "    }\n",
       "\n",
       "    .dataframe thead th {\n",
       "        text-align: right;\n",
       "    }\n",
       "</style>\n",
       "<table border=\"1\" class=\"dataframe\">\n",
       "  <thead>\n",
       "    <tr style=\"text-align: right;\">\n",
       "      <th>scenario</th>\n",
       "      <th>baseline</th>\n",
       "      <th>wasting_treatment</th>\n",
       "      <th>sqlns</th>\n",
       "      <th>lbwsg_interventions</th>\n",
       "    </tr>\n",
       "  </thead>\n",
       "  <tbody>\n",
       "    <tr>\n",
       "      <th>2.5%</th>\n",
       "      <td>-0.152285</td>\n",
       "      <td>3.821064</td>\n",
       "      <td>6.873753</td>\n",
       "      <td>6.870325</td>\n",
       "    </tr>\n",
       "    <tr>\n",
       "      <th>97.5%</th>\n",
       "      <td>0.711611</td>\n",
       "      <td>5.921090</td>\n",
       "      <td>9.534692</td>\n",
       "      <td>9.522669</td>\n",
       "    </tr>\n",
       "  </tbody>\n",
       "</table>\n",
       "</div>"
      ],
      "text/plain": [
       "scenario  baseline  wasting_treatment     sqlns  lbwsg_interventions\n",
       "2.5%     -0.152285           3.821064  6.873753             6.870325\n",
       "97.5%     0.711611           5.921090  9.534692             9.522669"
      ]
     },
     "execution_count": 101,
     "metadata": {},
     "output_type": "execute_result"
    }
   ],
   "source": [
    "summary[['2.5%', '97.5%']].T"
   ]
  },
  {
   "cell_type": "code",
   "execution_count": 176,
   "id": "ef2e6628",
   "metadata": {},
   "outputs": [
    {
     "data": {
      "text/html": [
       "<div>\n",
       "<style scoped>\n",
       "    .dataframe tbody tr th:only-of-type {\n",
       "        vertical-align: middle;\n",
       "    }\n",
       "\n",
       "    .dataframe tbody tr th {\n",
       "        vertical-align: top;\n",
       "    }\n",
       "\n",
       "    .dataframe thead th {\n",
       "        text-align: right;\n",
       "    }\n",
       "</style>\n",
       "<table border=\"1\" class=\"dataframe\">\n",
       "  <thead>\n",
       "    <tr style=\"text-align: right;\">\n",
       "      <th>scenario</th>\n",
       "      <th>baseline</th>\n",
       "      <th>wasting_treatment</th>\n",
       "      <th>sqlns</th>\n",
       "      <th>lbwsg_interventions</th>\n",
       "    </tr>\n",
       "  </thead>\n",
       "  <tbody>\n",
       "    <tr>\n",
       "      <th>2.5%</th>\n",
       "      <td>0.420013</td>\n",
       "      <td>1.069005</td>\n",
       "      <td>1.459567</td>\n",
       "      <td>1.452673</td>\n",
       "    </tr>\n",
       "    <tr>\n",
       "      <th>97.5%</th>\n",
       "      <td>0.443883</td>\n",
       "      <td>1.031021</td>\n",
       "      <td>1.201373</td>\n",
       "      <td>1.199671</td>\n",
       "    </tr>\n",
       "  </tbody>\n",
       "</table>\n",
       "</div>"
      ],
      "text/plain": [
       "scenario  baseline  wasting_treatment     sqlns  lbwsg_interventions\n",
       "2.5%      0.420013           1.069005  1.459567             1.452673\n",
       "97.5%     0.443883           1.031021  1.201373             1.199671"
      ]
     },
     "execution_count": 176,
     "metadata": {},
     "output_type": "execute_result"
    }
   ],
   "source": [
    "np.abs(summary[['2.5%', '97.5%']].T - summary['mean'])"
   ]
  },
  {
   "cell_type": "markdown",
   "id": "d482109e",
   "metadata": {},
   "source": [
    "# Do computations for stunting"
   ]
  },
  {
   "cell_type": "code",
   "execution_count": 127,
   "id": "eecce3d9",
   "metadata": {},
   "outputs": [
    {
     "data": {
      "text/html": [
       "<div>\n",
       "<style scoped>\n",
       "    .dataframe tbody tr th:only-of-type {\n",
       "        vertical-align: middle;\n",
       "    }\n",
       "\n",
       "    .dataframe tbody tr th {\n",
       "        vertical-align: top;\n",
       "    }\n",
       "\n",
       "    .dataframe thead th {\n",
       "        text-align: right;\n",
       "    }\n",
       "</style>\n",
       "<table border=\"1\" class=\"dataframe\">\n",
       "  <thead>\n",
       "    <tr style=\"text-align: right;\">\n",
       "      <th></th>\n",
       "      <th>scenario</th>\n",
       "      <th>input_draw</th>\n",
       "      <th>beta_coef</th>\n",
       "      <th>value</th>\n",
       "      <th>multiplier</th>\n",
       "      <th>measure</th>\n",
       "    </tr>\n",
       "  </thead>\n",
       "  <tbody>\n",
       "    <tr>\n",
       "      <th>0</th>\n",
       "      <td>baseline</td>\n",
       "      <td>29</td>\n",
       "      <td>0.001431</td>\n",
       "      <td>-0.143244</td>\n",
       "      <td>100</td>\n",
       "      <td>aarr</td>\n",
       "    </tr>\n",
       "    <tr>\n",
       "      <th>1</th>\n",
       "      <td>baseline</td>\n",
       "      <td>223</td>\n",
       "      <td>-0.000233</td>\n",
       "      <td>0.023315</td>\n",
       "      <td>100</td>\n",
       "      <td>aarr</td>\n",
       "    </tr>\n",
       "    <tr>\n",
       "      <th>2</th>\n",
       "      <td>baseline</td>\n",
       "      <td>232</td>\n",
       "      <td>-0.000516</td>\n",
       "      <td>0.051615</td>\n",
       "      <td>100</td>\n",
       "      <td>aarr</td>\n",
       "    </tr>\n",
       "    <tr>\n",
       "      <th>3</th>\n",
       "      <td>baseline</td>\n",
       "      <td>357</td>\n",
       "      <td>0.001515</td>\n",
       "      <td>-0.151663</td>\n",
       "      <td>100</td>\n",
       "      <td>aarr</td>\n",
       "    </tr>\n",
       "    <tr>\n",
       "      <th>...</th>\n",
       "      <td>...</td>\n",
       "      <td>...</td>\n",
       "      <td>...</td>\n",
       "      <td>...</td>\n",
       "      <td>...</td>\n",
       "      <td>...</td>\n",
       "    </tr>\n",
       "    <tr>\n",
       "      <th>44</th>\n",
       "      <td>wasting_treatment</td>\n",
       "      <td>650</td>\n",
       "      <td>0.001518</td>\n",
       "      <td>-0.151896</td>\n",
       "      <td>100</td>\n",
       "      <td>aarr</td>\n",
       "    </tr>\n",
       "    <tr>\n",
       "      <th>45</th>\n",
       "      <td>wasting_treatment</td>\n",
       "      <td>680</td>\n",
       "      <td>-0.001363</td>\n",
       "      <td>0.136248</td>\n",
       "      <td>100</td>\n",
       "      <td>aarr</td>\n",
       "    </tr>\n",
       "    <tr>\n",
       "      <th>46</th>\n",
       "      <td>wasting_treatment</td>\n",
       "      <td>829</td>\n",
       "      <td>0.002693</td>\n",
       "      <td>-0.269634</td>\n",
       "      <td>100</td>\n",
       "      <td>aarr</td>\n",
       "    </tr>\n",
       "    <tr>\n",
       "      <th>47</th>\n",
       "      <td>wasting_treatment</td>\n",
       "      <td>946</td>\n",
       "      <td>0.001333</td>\n",
       "      <td>-0.133351</td>\n",
       "      <td>100</td>\n",
       "      <td>aarr</td>\n",
       "    </tr>\n",
       "  </tbody>\n",
       "</table>\n",
       "<p>48 rows × 6 columns</p>\n",
       "</div>"
      ],
      "text/plain": [
       "             scenario  input_draw  beta_coef     value  multiplier measure\n",
       "0            baseline          29   0.001431 -0.143244         100    aarr\n",
       "1            baseline         223  -0.000233  0.023315         100    aarr\n",
       "2            baseline         232  -0.000516  0.051615         100    aarr\n",
       "3            baseline         357   0.001515 -0.151663         100    aarr\n",
       "..                ...         ...        ...       ...         ...     ...\n",
       "44  wasting_treatment         650   0.001518 -0.151896         100    aarr\n",
       "45  wasting_treatment         680  -0.001363  0.136248         100    aarr\n",
       "46  wasting_treatment         829   0.002693 -0.269634         100    aarr\n",
       "47  wasting_treatment         946   0.001333 -0.133351         100    aarr\n",
       "\n",
       "[48 rows x 6 columns]"
      ]
     },
     "execution_count": 127,
     "metadata": {},
     "output_type": "execute_result"
    }
   ],
   "source": [
    "stunting_regressions = perform_aarr_regessions(stunted_prevalence)\n",
    "stunting_aarr_df = get_beta_and_aarr(stunting_regressions, multiplier=100)\n",
    "stunting_aarr_df"
   ]
  },
  {
   "cell_type": "code",
   "execution_count": 227,
   "id": "afd6660b",
   "metadata": {},
   "outputs": [
    {
     "data": {
      "text/html": [
       "<div>\n",
       "<style scoped>\n",
       "    .dataframe tbody tr th:only-of-type {\n",
       "        vertical-align: middle;\n",
       "    }\n",
       "\n",
       "    .dataframe tbody tr th {\n",
       "        vertical-align: top;\n",
       "    }\n",
       "\n",
       "    .dataframe thead th {\n",
       "        text-align: right;\n",
       "    }\n",
       "</style>\n",
       "<table border=\"1\" class=\"dataframe\">\n",
       "  <thead>\n",
       "    <tr style=\"text-align: right;\">\n",
       "      <th></th>\n",
       "      <th>count</th>\n",
       "      <th>mean</th>\n",
       "      <th>std</th>\n",
       "      <th>min</th>\n",
       "      <th>2.5%</th>\n",
       "      <th>50%</th>\n",
       "      <th>97.5%</th>\n",
       "      <th>max</th>\n",
       "    </tr>\n",
       "    <tr>\n",
       "      <th>scenario</th>\n",
       "      <th></th>\n",
       "      <th></th>\n",
       "      <th></th>\n",
       "      <th></th>\n",
       "      <th></th>\n",
       "      <th></th>\n",
       "      <th></th>\n",
       "      <th></th>\n",
       "    </tr>\n",
       "  </thead>\n",
       "  <tbody>\n",
       "    <tr>\n",
       "      <th>baseline</th>\n",
       "      <td>12.0</td>\n",
       "      <td>-0.102920</td>\n",
       "      <td>0.115467</td>\n",
       "      <td>-0.268221</td>\n",
       "      <td>-0.251358</td>\n",
       "      <td>-0.138846</td>\n",
       "      <td>0.113278</td>\n",
       "      <td>0.136667</td>\n",
       "    </tr>\n",
       "    <tr>\n",
       "      <th>wasting_treatment</th>\n",
       "      <td>12.0</td>\n",
       "      <td>-0.103551</td>\n",
       "      <td>0.115795</td>\n",
       "      <td>-0.269634</td>\n",
       "      <td>-0.252349</td>\n",
       "      <td>-0.139389</td>\n",
       "      <td>0.112811</td>\n",
       "      <td>0.136248</td>\n",
       "    </tr>\n",
       "    <tr>\n",
       "      <th>sqlns</th>\n",
       "      <td>12.0</td>\n",
       "      <td>2.893398</td>\n",
       "      <td>0.887666</td>\n",
       "      <td>1.731696</td>\n",
       "      <td>1.744431</td>\n",
       "      <td>2.979163</td>\n",
       "      <td>4.284140</td>\n",
       "      <td>4.460175</td>\n",
       "    </tr>\n",
       "    <tr>\n",
       "      <th>lbwsg_interventions</th>\n",
       "      <td>12.0</td>\n",
       "      <td>2.895045</td>\n",
       "      <td>0.887294</td>\n",
       "      <td>1.734308</td>\n",
       "      <td>1.747918</td>\n",
       "      <td>2.981415</td>\n",
       "      <td>4.287764</td>\n",
       "      <td>4.464892</td>\n",
       "    </tr>\n",
       "  </tbody>\n",
       "</table>\n",
       "</div>"
      ],
      "text/plain": [
       "                     count      mean       std       min      2.5%       50%  \\\n",
       "scenario                                                                       \n",
       "baseline              12.0 -0.102920  0.115467 -0.268221 -0.251358 -0.138846   \n",
       "wasting_treatment     12.0 -0.103551  0.115795 -0.269634 -0.252349 -0.139389   \n",
       "sqlns                 12.0  2.893398  0.887666  1.731696  1.744431  2.979163   \n",
       "lbwsg_interventions   12.0  2.895045  0.887294  1.734308  1.747918  2.981415   \n",
       "\n",
       "                        97.5%       max  \n",
       "scenario                                 \n",
       "baseline             0.113278  0.136667  \n",
       "wasting_treatment    0.112811  0.136248  \n",
       "sqlns                4.284140  4.460175  \n",
       "lbwsg_interventions  4.287764  4.464892  "
      ]
     },
     "execution_count": 227,
     "metadata": {},
     "output_type": "execute_result"
    },
    {
     "data": {
      "image/png": "[encoded data removed]",
      "text/plain": [
       "<Figure size 720x432 with 1 Axes>"
      ]
     },
     "metadata": {
      "needs_background": "light"
     },
     "output_type": "display_data"
    }
   ],
   "source": [
    "fig, ax = plt.subplots(figsize=(10,6))\n",
    "aarr_bar_chart(\n",
    "    stunting_aarr_df,\n",
    "    ylabel=\"Average annual percent reduction\",\n",
    "    title=(\"Annual average rate of reduction (AARR) of stunting by scenario\"\n",
    "    f\", {stunted_prevalence.year.min()}-{stunted_prevalence.year.max()}\"),\n",
    "    ax=ax\n",
    ")"
   ]
  },
  {
   "cell_type": "markdown",
   "id": "b49aa421",
   "metadata": {},
   "source": [
    "# Try a scatter plot to better see the uncertainty"
   ]
  },
  {
   "cell_type": "code",
   "execution_count": 129,
   "id": "17302a7d",
   "metadata": {},
   "outputs": [
    {
     "data": {
      "text/html": [
       "<div>\n",
       "<style scoped>\n",
       "    .dataframe tbody tr th:only-of-type {\n",
       "        vertical-align: middle;\n",
       "    }\n",
       "\n",
       "    .dataframe tbody tr th {\n",
       "        vertical-align: top;\n",
       "    }\n",
       "\n",
       "    .dataframe thead th {\n",
       "        text-align: right;\n",
       "    }\n",
       "</style>\n",
       "<table border=\"1\" class=\"dataframe\">\n",
       "  <thead>\n",
       "    <tr style=\"text-align: right;\">\n",
       "      <th></th>\n",
       "      <th>scenario</th>\n",
       "      <th>input_draw</th>\n",
       "      <th>beta_coef</th>\n",
       "      <th>value</th>\n",
       "      <th>multiplier</th>\n",
       "      <th>measure</th>\n",
       "    </tr>\n",
       "  </thead>\n",
       "  <tbody>\n",
       "    <tr>\n",
       "      <th>0</th>\n",
       "      <td>baseline</td>\n",
       "      <td>29</td>\n",
       "      <td>-0.005797</td>\n",
       "      <td>0.578027</td>\n",
       "      <td>100</td>\n",
       "      <td>aarr</td>\n",
       "    </tr>\n",
       "    <tr>\n",
       "      <th>1</th>\n",
       "      <td>baseline</td>\n",
       "      <td>223</td>\n",
       "      <td>-0.000481</td>\n",
       "      <td>0.048099</td>\n",
       "      <td>100</td>\n",
       "      <td>aarr</td>\n",
       "    </tr>\n",
       "    <tr>\n",
       "      <th>2</th>\n",
       "      <td>baseline</td>\n",
       "      <td>232</td>\n",
       "      <td>0.001370</td>\n",
       "      <td>-0.137097</td>\n",
       "      <td>100</td>\n",
       "      <td>aarr</td>\n",
       "    </tr>\n",
       "    <tr>\n",
       "      <th>3</th>\n",
       "      <td>baseline</td>\n",
       "      <td>357</td>\n",
       "      <td>-0.001074</td>\n",
       "      <td>0.107392</td>\n",
       "      <td>100</td>\n",
       "      <td>aarr</td>\n",
       "    </tr>\n",
       "    <tr>\n",
       "      <th>...</th>\n",
       "      <td>...</td>\n",
       "      <td>...</td>\n",
       "      <td>...</td>\n",
       "      <td>...</td>\n",
       "      <td>...</td>\n",
       "      <td>...</td>\n",
       "    </tr>\n",
       "    <tr>\n",
       "      <th>44</th>\n",
       "      <td>wasting_treatment</td>\n",
       "      <td>650</td>\n",
       "      <td>-0.061192</td>\n",
       "      <td>5.935714</td>\n",
       "      <td>100</td>\n",
       "      <td>aarr</td>\n",
       "    </tr>\n",
       "    <tr>\n",
       "      <th>45</th>\n",
       "      <td>wasting_treatment</td>\n",
       "      <td>680</td>\n",
       "      <td>-0.048065</td>\n",
       "      <td>4.692806</td>\n",
       "      <td>100</td>\n",
       "      <td>aarr</td>\n",
       "    </tr>\n",
       "    <tr>\n",
       "      <th>46</th>\n",
       "      <td>wasting_treatment</td>\n",
       "      <td>829</td>\n",
       "      <td>-0.044746</td>\n",
       "      <td>4.375936</td>\n",
       "      <td>100</td>\n",
       "      <td>aarr</td>\n",
       "    </tr>\n",
       "    <tr>\n",
       "      <th>47</th>\n",
       "      <td>wasting_treatment</td>\n",
       "      <td>946</td>\n",
       "      <td>-0.052157</td>\n",
       "      <td>5.082006</td>\n",
       "      <td>100</td>\n",
       "      <td>aarr</td>\n",
       "    </tr>\n",
       "  </tbody>\n",
       "</table>\n",
       "<p>48 rows × 6 columns</p>\n",
       "</div>"
      ],
      "text/plain": [
       "             scenario  input_draw  beta_coef     value  multiplier measure\n",
       "0            baseline          29  -0.005797  0.578027         100    aarr\n",
       "1            baseline         223  -0.000481  0.048099         100    aarr\n",
       "2            baseline         232   0.001370 -0.137097         100    aarr\n",
       "3            baseline         357  -0.001074  0.107392         100    aarr\n",
       "..                ...         ...        ...       ...         ...     ...\n",
       "44  wasting_treatment         650  -0.061192  5.935714         100    aarr\n",
       "45  wasting_treatment         680  -0.048065  4.692806         100    aarr\n",
       "46  wasting_treatment         829  -0.044746  4.375936         100    aarr\n",
       "47  wasting_treatment         946  -0.052157  5.082006         100    aarr\n",
       "\n",
       "[48 rows x 6 columns]"
      ]
     },
     "execution_count": 129,
     "metadata": {},
     "output_type": "execute_result"
    }
   ],
   "source": [
    "aarr_df"
   ]
  },
  {
   "cell_type": "code",
   "execution_count": 132,
   "id": "601b3e09",
   "metadata": {},
   "outputs": [
    {
     "data": {
      "text/plain": [
       "array(['baseline', 'lbwsg_interventions', 'sqlns', 'wasting_treatment'],\n",
       "      dtype=object)"
      ]
     },
     "execution_count": 132,
     "metadata": {},
     "output_type": "execute_result"
    }
   ],
   "source": [
    "scenarios = aarr_df.scenario.unique()\n",
    "draws = aarr_df.input_draw.unique()\n",
    "scenarios"
   ]
  },
  {
   "cell_type": "code",
   "execution_count": 267,
   "id": "925ca343",
   "metadata": {},
   "outputs": [
    {
     "data": {
      "text/plain": [
       "[(0, 'baseline'),\n",
       " (1, 'lbwsg_interventions'),\n",
       " (2, 'sqlns'),\n",
       " (3, 'wasting_treatment')]"
      ]
     },
     "execution_count": 267,
     "metadata": {},
     "output_type": "execute_result"
    }
   ],
   "source": [
    "list(enumerate(scenarios))"
   ]
  },
  {
   "cell_type": "code",
   "execution_count": 135,
   "id": "c2925297",
   "metadata": {},
   "outputs": [
    {
     "data": {
      "text/plain": [
       "array([0, 1, 2, 3])"
      ]
     },
     "execution_count": 135,
     "metadata": {},
     "output_type": "execute_result"
    }
   ],
   "source": [
    "np.arange(len(scenarios))"
   ]
  },
  {
   "cell_type": "code",
   "execution_count": 140,
   "id": "f79efe91",
   "metadata": {},
   "outputs": [
    {
     "data": {
      "text/plain": [
       "[(0, 1, 2, 3),\n",
       " ('baseline', 'lbwsg_interventions', 'sqlns', 'wasting_treatment')]"
      ]
     },
     "execution_count": 140,
     "metadata": {},
     "output_type": "execute_result"
    }
   ],
   "source": [
    "list(zip(*enumerate(scenarios)))"
   ]
  },
  {
   "cell_type": "code",
   "execution_count": 167,
   "id": "f34df3e3",
   "metadata": {},
   "outputs": [
    {
     "name": "stdout",
     "output_type": "stream",
     "text": [
      "(0, 1, 2, 3) ('baseline', 'lbwsg_interventions', 'sqlns', 'wasting_treatment')\n"
     ]
    }
   ],
   "source": [
    "print(*zip(*enumerate(scenarios)))"
   ]
  },
  {
   "cell_type": "code",
   "execution_count": 181,
   "id": "aa6a9b3e",
   "metadata": {},
   "outputs": [
    {
     "data": {
      "text/plain": [
       "[[0, 1, 2, 3],\n",
       " ['baseline', 'lbwsg_interventions', 'sqlns', 'wasting_treatment']]"
      ]
     },
     "execution_count": 181,
     "metadata": {},
     "output_type": "execute_result"
    }
   ],
   "source": [
    "list(map(list, zip(*enumerate(scenarios))))"
   ]
  },
  {
   "cell_type": "code",
   "execution_count": 141,
   "id": "73dafdcb",
   "metadata": {},
   "outputs": [
    {
     "data": {
      "text/plain": [
       "0     0\n",
       "1     0\n",
       "2     0\n",
       "3     0\n",
       "     ..\n",
       "44    3\n",
       "45    3\n",
       "46    3\n",
       "47    3\n",
       "Name: scenario, Length: 48, dtype: int64"
      ]
     },
     "execution_count": 141,
     "metadata": {},
     "output_type": "execute_result"
    }
   ],
   "source": [
    "aarr_df.scenario.map({scenario: i for i, scenario in enumerate(scenarios)})"
   ]
  },
  {
   "cell_type": "code",
   "execution_count": 232,
   "id": "26f61532",
   "metadata": {},
   "outputs": [
    {
     "data": {
      "image/png": "[encoded data removed]",
      "text/plain": [
       "<Figure size 720x432 with 1 Axes>"
      ]
     },
     "metadata": {
      "needs_background": "light"
     },
     "output_type": "display_data"
    }
   ],
   "source": [
    "fig, ax = plt.subplots(figsize=(10,6))\n",
    "def aarr_bar_scatter(df, ylabel='', title='', seed=8421, ax=None):\n",
    "    if ax is None:\n",
    "        ax = plt.gca()\n",
    "    rng = np.random.default_rng(seed)\n",
    "    df = csr.to_ordered_categoricals(df)\n",
    "    scenarios = df.scenario.unique().sort_values()\n",
    "#     print(scenarios)\n",
    "    x = df.scenario.map({scenario: i for i, scenario in enumerate(scenarios)}).astype(int)\n",
    "#     print(x)\n",
    "    width=0.05\n",
    "    jitter = rng.uniform(-width/2, width/2, len(x))\n",
    "#     print(jitter)\n",
    "    ax.plot(x+jitter, df['value'], 'o')\n",
    "    xticks, xtick_labels = zip(*enumerate(scenarios))\n",
    "    ax.set_xticks(xticks)\n",
    "    ax.set_xticklabels(xtick_labels)\n",
    "    ax.set_ylabel(ylabel)\n",
    "    ax.set_title(title)\n",
    "\n",
    "aarr_bar_scatter(\n",
    "    aarr_df,\n",
    "    ylabel=\"Average annual percent reduction\",\n",
    "    title=(\"Draws of Annual Average Rate of Reduction (AARR) of wasting by scenario\"\n",
    "    f\", {gam_prevalence.year.min()}-{gam_prevalence.year.max()}\"),\n",
    "    ax=ax\n",
    ")"
   ]
  },
  {
   "cell_type": "code",
   "execution_count": 235,
   "id": "8a8c8b5d",
   "metadata": {},
   "outputs": [
    {
     "data": {
      "image/png": "[encoded data removed]",
      "text/plain": [
       "<Figure size 720x432 with 1 Axes>"
      ]
     },
     "metadata": {
      "needs_background": "light"
     },
     "output_type": "display_data"
    }
   ],
   "source": [
    "fig, ax = plt.subplots(figsize=(10,6))\n",
    "aarr_bar_scatter(\n",
    "    stunting_aarr_df,\n",
    "    ylabel=\"Average annual percent reduction\",\n",
    "    title=(\"Draws of Annual Average Rate of Reduction (AARR) of stunting by scenario\"\n",
    "    f\", {stunted_prevalence.year.min()}-{stunted_prevalence.year.max()}\"),\n",
    ")"
   ]
  },
  {
   "cell_type": "markdown",
   "id": "798a654a",
   "metadata": {},
   "source": [
    "# Test some pandas stuff\n",
    "\n",
    "Apparently pandas broadcasting works over rows but not columns."
   ]
  },
  {
   "cell_type": "code",
   "execution_count": 239,
   "id": "1a3c9ac6",
   "metadata": {},
   "outputs": [
    {
     "data": {
      "text/html": [
       "<div>\n",
       "<style scoped>\n",
       "    .dataframe tbody tr th:only-of-type {\n",
       "        vertical-align: middle;\n",
       "    }\n",
       "\n",
       "    .dataframe tbody tr th {\n",
       "        vertical-align: top;\n",
       "    }\n",
       "\n",
       "    .dataframe thead th {\n",
       "        text-align: right;\n",
       "    }\n",
       "</style>\n",
       "<table border=\"1\" class=\"dataframe\">\n",
       "  <thead>\n",
       "    <tr style=\"text-align: right;\">\n",
       "      <th></th>\n",
       "      <th>a</th>\n",
       "      <th>b</th>\n",
       "      <th>c</th>\n",
       "    </tr>\n",
       "  </thead>\n",
       "  <tbody>\n",
       "    <tr>\n",
       "      <th>0</th>\n",
       "      <td>1</td>\n",
       "      <td>4</td>\n",
       "      <td>7</td>\n",
       "    </tr>\n",
       "    <tr>\n",
       "      <th>1</th>\n",
       "      <td>2</td>\n",
       "      <td>5</td>\n",
       "      <td>8</td>\n",
       "    </tr>\n",
       "    <tr>\n",
       "      <th>2</th>\n",
       "      <td>3</td>\n",
       "      <td>6</td>\n",
       "      <td>9</td>\n",
       "    </tr>\n",
       "  </tbody>\n",
       "</table>\n",
       "</div>"
      ],
      "text/plain": [
       "   a  b  c\n",
       "0  1  4  7\n",
       "1  2  5  8\n",
       "2  3  6  9"
      ]
     },
     "execution_count": 239,
     "metadata": {},
     "output_type": "execute_result"
    }
   ],
   "source": [
    "d = pd.DataFrame(\n",
    "    {'a': [1,2,3],\n",
    "     'b': [4,5,6],\n",
    "     'c': [7,8,9],\n",
    "    }\n",
    ")\n",
    "d"
   ]
  },
  {
   "cell_type": "code",
   "execution_count": 241,
   "id": "86d75d1c",
   "metadata": {},
   "outputs": [
    {
     "data": {
      "text/html": [
       "<div>\n",
       "<style scoped>\n",
       "    .dataframe tbody tr th:only-of-type {\n",
       "        vertical-align: middle;\n",
       "    }\n",
       "\n",
       "    .dataframe tbody tr th {\n",
       "        vertical-align: top;\n",
       "    }\n",
       "\n",
       "    .dataframe thead th {\n",
       "        text-align: right;\n",
       "    }\n",
       "</style>\n",
       "<table border=\"1\" class=\"dataframe\">\n",
       "  <thead>\n",
       "    <tr style=\"text-align: right;\">\n",
       "      <th></th>\n",
       "      <th>a</th>\n",
       "      <th>b</th>\n",
       "    </tr>\n",
       "  </thead>\n",
       "  <tbody>\n",
       "    <tr>\n",
       "      <th>0</th>\n",
       "      <td>1</td>\n",
       "      <td>4</td>\n",
       "    </tr>\n",
       "    <tr>\n",
       "      <th>1</th>\n",
       "      <td>2</td>\n",
       "      <td>5</td>\n",
       "    </tr>\n",
       "    <tr>\n",
       "      <th>2</th>\n",
       "      <td>3</td>\n",
       "      <td>6</td>\n",
       "    </tr>\n",
       "  </tbody>\n",
       "</table>\n",
       "</div>"
      ],
      "text/plain": [
       "   a  b\n",
       "0  1  4\n",
       "1  2  5\n",
       "2  3  6"
      ]
     },
     "execution_count": 241,
     "metadata": {},
     "output_type": "execute_result"
    }
   ],
   "source": [
    "d[['a', 'b']]"
   ]
  },
  {
   "cell_type": "code",
   "execution_count": 245,
   "id": "4ee07c1a",
   "metadata": {},
   "outputs": [
    {
     "data": {
      "text/html": [
       "<div>\n",
       "<style scoped>\n",
       "    .dataframe tbody tr th:only-of-type {\n",
       "        vertical-align: middle;\n",
       "    }\n",
       "\n",
       "    .dataframe tbody tr th {\n",
       "        vertical-align: top;\n",
       "    }\n",
       "\n",
       "    .dataframe thead th {\n",
       "        text-align: right;\n",
       "    }\n",
       "</style>\n",
       "<table border=\"1\" class=\"dataframe\">\n",
       "  <thead>\n",
       "    <tr style=\"text-align: right;\">\n",
       "      <th></th>\n",
       "      <th>0</th>\n",
       "      <th>1</th>\n",
       "      <th>2</th>\n",
       "    </tr>\n",
       "  </thead>\n",
       "  <tbody>\n",
       "    <tr>\n",
       "      <th>a</th>\n",
       "      <td>8</td>\n",
       "      <td>10</td>\n",
       "      <td>12</td>\n",
       "    </tr>\n",
       "    <tr>\n",
       "      <th>b</th>\n",
       "      <td>11</td>\n",
       "      <td>13</td>\n",
       "      <td>15</td>\n",
       "    </tr>\n",
       "  </tbody>\n",
       "</table>\n",
       "</div>"
      ],
      "text/plain": [
       "    0   1   2\n",
       "a   8  10  12\n",
       "b  11  13  15"
      ]
     },
     "execution_count": 245,
     "metadata": {},
     "output_type": "execute_result"
    }
   ],
   "source": [
    "d[['a', 'b']].T + d['c']"
   ]
  },
  {
   "cell_type": "code",
   "execution_count": 246,
   "id": "8ce487db",
   "metadata": {},
   "outputs": [
    {
     "data": {
      "text/html": [
       "<div>\n",
       "<style scoped>\n",
       "    .dataframe tbody tr th:only-of-type {\n",
       "        vertical-align: middle;\n",
       "    }\n",
       "\n",
       "    .dataframe tbody tr th {\n",
       "        vertical-align: top;\n",
       "    }\n",
       "\n",
       "    .dataframe thead th {\n",
       "        text-align: right;\n",
       "    }\n",
       "</style>\n",
       "<table border=\"1\" class=\"dataframe\">\n",
       "  <thead>\n",
       "    <tr style=\"text-align: right;\">\n",
       "      <th></th>\n",
       "      <th>a</th>\n",
       "      <th>b</th>\n",
       "      <th>0</th>\n",
       "      <th>1</th>\n",
       "      <th>2</th>\n",
       "    </tr>\n",
       "  </thead>\n",
       "  <tbody>\n",
       "    <tr>\n",
       "      <th>0</th>\n",
       "      <td>NaN</td>\n",
       "      <td>NaN</td>\n",
       "      <td>NaN</td>\n",
       "      <td>NaN</td>\n",
       "      <td>NaN</td>\n",
       "    </tr>\n",
       "    <tr>\n",
       "      <th>1</th>\n",
       "      <td>NaN</td>\n",
       "      <td>NaN</td>\n",
       "      <td>NaN</td>\n",
       "      <td>NaN</td>\n",
       "      <td>NaN</td>\n",
       "    </tr>\n",
       "    <tr>\n",
       "      <th>2</th>\n",
       "      <td>NaN</td>\n",
       "      <td>NaN</td>\n",
       "      <td>NaN</td>\n",
       "      <td>NaN</td>\n",
       "      <td>NaN</td>\n",
       "    </tr>\n",
       "  </tbody>\n",
       "</table>\n",
       "</div>"
      ],
      "text/plain": [
       "    a   b   0   1   2\n",
       "0 NaN NaN NaN NaN NaN\n",
       "1 NaN NaN NaN NaN NaN\n",
       "2 NaN NaN NaN NaN NaN"
      ]
     },
     "execution_count": 246,
     "metadata": {},
     "output_type": "execute_result"
    }
   ],
   "source": [
    "d[['a', 'b']] + d['c']"
   ]
  },
  {
   "cell_type": "code",
   "execution_count": 249,
   "id": "f613eebc",
   "metadata": {},
   "outputs": [
    {
     "data": {
      "text/html": [
       "<div>\n",
       "<style scoped>\n",
       "    .dataframe tbody tr th:only-of-type {\n",
       "        vertical-align: middle;\n",
       "    }\n",
       "\n",
       "    .dataframe tbody tr th {\n",
       "        vertical-align: top;\n",
       "    }\n",
       "\n",
       "    .dataframe thead th {\n",
       "        text-align: right;\n",
       "    }\n",
       "</style>\n",
       "<table border=\"1\" class=\"dataframe\">\n",
       "  <thead>\n",
       "    <tr style=\"text-align: right;\">\n",
       "      <th></th>\n",
       "      <th>0</th>\n",
       "      <th>1</th>\n",
       "      <th>2</th>\n",
       "    </tr>\n",
       "  </thead>\n",
       "  <tbody>\n",
       "    <tr>\n",
       "      <th>a</th>\n",
       "      <td>2</td>\n",
       "      <td>4</td>\n",
       "      <td>6</td>\n",
       "    </tr>\n",
       "    <tr>\n",
       "      <th>b</th>\n",
       "      <td>5</td>\n",
       "      <td>7</td>\n",
       "      <td>9</td>\n",
       "    </tr>\n",
       "    <tr>\n",
       "      <th>c</th>\n",
       "      <td>8</td>\n",
       "      <td>10</td>\n",
       "      <td>12</td>\n",
       "    </tr>\n",
       "  </tbody>\n",
       "</table>\n",
       "</div>"
      ],
      "text/plain": [
       "   0   1   2\n",
       "a  2   4   6\n",
       "b  5   7   9\n",
       "c  8  10  12"
      ]
     },
     "execution_count": 249,
     "metadata": {},
     "output_type": "execute_result"
    }
   ],
   "source": [
    "d.T+d['a']"
   ]
  },
  {
   "cell_type": "code",
   "execution_count": 276,
   "id": "07a66bfc",
   "metadata": {},
   "outputs": [
    {
     "data": {
      "text/html": [
       "<div>\n",
       "<style scoped>\n",
       "    .dataframe tbody tr th:only-of-type {\n",
       "        vertical-align: middle;\n",
       "    }\n",
       "\n",
       "    .dataframe tbody tr th {\n",
       "        vertical-align: top;\n",
       "    }\n",
       "\n",
       "    .dataframe thead tr th {\n",
       "        text-align: left;\n",
       "    }\n",
       "\n",
       "    .dataframe thead tr:last-of-type th {\n",
       "        text-align: right;\n",
       "    }\n",
       "</style>\n",
       "<table border=\"1\" class=\"dataframe\">\n",
       "  <thead>\n",
       "    <tr>\n",
       "      <th>letter</th>\n",
       "      <th>a</th>\n",
       "      <th>b</th>\n",
       "      <th>c</th>\n",
       "    </tr>\n",
       "    <tr>\n",
       "      <th>number</th>\n",
       "      <th>0</th>\n",
       "      <th>1</th>\n",
       "      <th>0</th>\n",
       "    </tr>\n",
       "    <tr>\n",
       "      <th>index</th>\n",
       "      <th></th>\n",
       "      <th></th>\n",
       "      <th></th>\n",
       "    </tr>\n",
       "  </thead>\n",
       "  <tbody>\n",
       "    <tr>\n",
       "      <th>0</th>\n",
       "      <td>1</td>\n",
       "      <td>4</td>\n",
       "      <td>7</td>\n",
       "    </tr>\n",
       "    <tr>\n",
       "      <th>1</th>\n",
       "      <td>2</td>\n",
       "      <td>5</td>\n",
       "      <td>8</td>\n",
       "    </tr>\n",
       "    <tr>\n",
       "      <th>2</th>\n",
       "      <td>3</td>\n",
       "      <td>6</td>\n",
       "      <td>9</td>\n",
       "    </tr>\n",
       "  </tbody>\n",
       "</table>\n",
       "</div>"
      ],
      "text/plain": [
       "letter  a  b  c\n",
       "number  0  1  0\n",
       "index          \n",
       "0       1  4  7\n",
       "1       2  5  8\n",
       "2       3  6  9"
      ]
     },
     "execution_count": 276,
     "metadata": {},
     "output_type": "execute_result"
    }
   ],
   "source": [
    "d1 = pd.DataFrame(\n",
    "    {('a', 0): [1,2,3],\n",
    "     ('b', 1): [4,5,6],\n",
    "     ('c',0): [7,8,9],\n",
    "    }\n",
    ").rename_axis(index='index', columns=('letter', 'number'))\n",
    "d1"
   ]
  },
  {
   "cell_type": "code",
   "execution_count": 277,
   "id": "1442ae69",
   "metadata": {},
   "outputs": [
    {
     "data": {
      "text/html": [
       "<div>\n",
       "<style scoped>\n",
       "    .dataframe tbody tr th:only-of-type {\n",
       "        vertical-align: middle;\n",
       "    }\n",
       "\n",
       "    .dataframe tbody tr th {\n",
       "        vertical-align: top;\n",
       "    }\n",
       "\n",
       "    .dataframe thead th {\n",
       "        text-align: right;\n",
       "    }\n",
       "</style>\n",
       "<table border=\"1\" class=\"dataframe\">\n",
       "  <thead>\n",
       "    <tr style=\"text-align: right;\">\n",
       "      <th>number</th>\n",
       "      <th>0</th>\n",
       "    </tr>\n",
       "    <tr>\n",
       "      <th>index</th>\n",
       "      <th></th>\n",
       "    </tr>\n",
       "  </thead>\n",
       "  <tbody>\n",
       "    <tr>\n",
       "      <th>0</th>\n",
       "      <td>7</td>\n",
       "    </tr>\n",
       "    <tr>\n",
       "      <th>1</th>\n",
       "      <td>8</td>\n",
       "    </tr>\n",
       "    <tr>\n",
       "      <th>2</th>\n",
       "      <td>9</td>\n",
       "    </tr>\n",
       "  </tbody>\n",
       "</table>\n",
       "</div>"
      ],
      "text/plain": [
       "number  0\n",
       "index    \n",
       "0       7\n",
       "1       8\n",
       "2       9"
      ]
     },
     "execution_count": 277,
     "metadata": {},
     "output_type": "execute_result"
    }
   ],
   "source": [
    "d1['c']"
   ]
  },
  {
   "cell_type": "code",
   "execution_count": 279,
   "id": "5e2044b9",
   "metadata": {},
   "outputs": [
    {
     "data": {
      "text/html": [
       "<div>\n",
       "<style scoped>\n",
       "    .dataframe tbody tr th:only-of-type {\n",
       "        vertical-align: middle;\n",
       "    }\n",
       "\n",
       "    .dataframe tbody tr th {\n",
       "        vertical-align: top;\n",
       "    }\n",
       "\n",
       "    .dataframe thead th {\n",
       "        text-align: right;\n",
       "    }\n",
       "</style>\n",
       "<table border=\"1\" class=\"dataframe\">\n",
       "  <thead>\n",
       "    <tr style=\"text-align: right;\">\n",
       "      <th></th>\n",
       "      <th>index</th>\n",
       "      <th>0</th>\n",
       "      <th>1</th>\n",
       "      <th>2</th>\n",
       "    </tr>\n",
       "    <tr>\n",
       "      <th>letter</th>\n",
       "      <th>number</th>\n",
       "      <th></th>\n",
       "      <th></th>\n",
       "      <th></th>\n",
       "    </tr>\n",
       "  </thead>\n",
       "  <tbody>\n",
       "    <tr>\n",
       "      <th>a</th>\n",
       "      <th>0</th>\n",
       "      <td>8</td>\n",
       "      <td>10</td>\n",
       "      <td>12</td>\n",
       "    </tr>\n",
       "    <tr>\n",
       "      <th>b</th>\n",
       "      <th>1</th>\n",
       "      <td>11</td>\n",
       "      <td>13</td>\n",
       "      <td>15</td>\n",
       "    </tr>\n",
       "  </tbody>\n",
       "</table>\n",
       "</div>"
      ],
      "text/plain": [
       "index           0   1   2\n",
       "letter number            \n",
       "a      0        8  10  12\n",
       "b      1       11  13  15"
      ]
     },
     "execution_count": 279,
     "metadata": {},
     "output_type": "execute_result"
    }
   ],
   "source": [
    "d1[['a', 'b']].T + d1[('c',0)]"
   ]
  },
  {
   "cell_type": "code",
   "execution_count": 281,
   "id": "e6198bf9",
   "metadata": {},
   "outputs": [
    {
     "data": {
      "text/html": [
       "<div>\n",
       "<style scoped>\n",
       "    .dataframe tbody tr th:only-of-type {\n",
       "        vertical-align: middle;\n",
       "    }\n",
       "\n",
       "    .dataframe tbody tr th {\n",
       "        vertical-align: top;\n",
       "    }\n",
       "\n",
       "    .dataframe thead tr th {\n",
       "        text-align: left;\n",
       "    }\n",
       "\n",
       "    .dataframe thead tr:last-of-type th {\n",
       "        text-align: right;\n",
       "    }\n",
       "</style>\n",
       "<table border=\"1\" class=\"dataframe\">\n",
       "  <thead>\n",
       "    <tr>\n",
       "      <th>letter</th>\n",
       "      <th>a</th>\n",
       "      <th>b</th>\n",
       "    </tr>\n",
       "    <tr>\n",
       "      <th>number</th>\n",
       "      <th>0</th>\n",
       "      <th>1</th>\n",
       "    </tr>\n",
       "    <tr>\n",
       "      <th>index</th>\n",
       "      <th></th>\n",
       "      <th></th>\n",
       "    </tr>\n",
       "  </thead>\n",
       "  <tbody>\n",
       "    <tr>\n",
       "      <th>0</th>\n",
       "      <td>NaN</td>\n",
       "      <td>NaN</td>\n",
       "    </tr>\n",
       "    <tr>\n",
       "      <th>1</th>\n",
       "      <td>NaN</td>\n",
       "      <td>NaN</td>\n",
       "    </tr>\n",
       "    <tr>\n",
       "      <th>2</th>\n",
       "      <td>NaN</td>\n",
       "      <td>NaN</td>\n",
       "    </tr>\n",
       "  </tbody>\n",
       "</table>\n",
       "</div>"
      ],
      "text/plain": [
       "letter   a   b\n",
       "number   0   1\n",
       "index         \n",
       "0      NaN NaN\n",
       "1      NaN NaN\n",
       "2      NaN NaN"
      ]
     },
     "execution_count": 281,
     "metadata": {},
     "output_type": "execute_result"
    }
   ],
   "source": [
    "d1[['a', 'b']] + d1[('c',0)].rename_axis(index='number')"
   ]
  },
  {
   "cell_type": "code",
   "execution_count": 282,
   "id": "73a1a4aa",
   "metadata": {},
   "outputs": [
    {
     "data": {
      "text/plain": [
       "number\n",
       "0    7\n",
       "1    8\n",
       "2    9\n",
       "Name: (c, 0), dtype: int64"
      ]
     },
     "execution_count": 282,
     "metadata": {},
     "output_type": "execute_result"
    }
   ],
   "source": [
    "d1[('c',0)].rename_axis(index='number')"
   ]
  },
  {
   "cell_type": "code",
   "execution_count": null,
   "id": "c94aebec",
   "metadata": {},
   "outputs": [],
   "source": []
  }
 ],
 "metadata": {
  "kernelspec": {
   "display_name": "Python 3 (ipykernel)",
   "language": "python",
   "name": "python3"
  },
  "language_info": {
   "codemirror_mode": {
    "name": "ipython",
    "version": 3
   },
   "file_extension": ".py",
   "mimetype": "text/x-python",
   "name": "python",
   "nbconvert_exporter": "python",
   "pygments_lexer": "ipython3",
   "version": "3.8.10"
  }
 },
 "nbformat": 4,
 "nbformat_minor": 5
}
