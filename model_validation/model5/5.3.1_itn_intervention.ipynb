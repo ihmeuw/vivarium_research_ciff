{
 "cells": [
  {
   "cell_type": "code",
   "execution_count": 1,
   "metadata": {},
   "outputs": [],
   "source": [
    "import pandas as pd, numpy as np, os\n",
    "import matplotlib.pyplot as plt\n",
    "import matplotlib.backends.backend_pdf\n",
    "from matplotlib.backends.backend_pdf import PdfPages"
   ]
  },
  {
   "cell_type": "code",
   "execution_count": 2,
   "metadata": {},
   "outputs": [],
   "source": [
    "output_dir = '/ihme/costeffectiveness/results/vivarium_ciff_sam/v5.3.1_itn/ciff_sam/2022_01_25_17_48_21/count_data/'"
   ]
  },
  {
   "cell_type": "code",
   "execution_count": 3,
   "metadata": {},
   "outputs": [],
   "source": [
    "figname = 'model_5.3.1'"
   ]
  },
  {
   "cell_type": "code",
   "execution_count": 4,
   "metadata": {},
   "outputs": [
    {
     "data": {
      "text/plain": [
       "['wasting_transition_count.hdf',\n",
       " 'wasting_transition_count.csv',\n",
       " 'wasting_state_person_time.hdf',\n",
       " 'deaths.csv',\n",
       " 'wasting_state_person_time.csv',\n",
       " 'deaths.hdf',\n",
       " 'disease_transition_count.csv',\n",
       " 'births.csv',\n",
       " 'population.csv',\n",
       " 'stunting_state_person_time.hdf',\n",
       " 'ylds.csv',\n",
       " 'ylls.csv',\n",
       " 'disease_state_person_time.csv',\n",
       " 'population.hdf',\n",
       " 'ylls.hdf',\n",
       " 'ylds.hdf',\n",
       " 'disease_state_person_time.hdf',\n",
       " 'births.hdf',\n",
       " 'disease_transition_count.hdf',\n",
       " 'stunting_state_person_time.csv']"
      ]
     },
     "execution_count": 4,
     "metadata": {},
     "output_type": "execute_result"
    }
   ],
   "source": [
    "os.listdir(output_dir)"
   ]
  },
  {
   "cell_type": "code",
   "execution_count": 5,
   "metadata": {},
   "outputs": [
    {
     "data": {
      "text/html": [
       "<div>\n",
       "<style scoped>\n",
       "    .dataframe tbody tr th:only-of-type {\n",
       "        vertical-align: middle;\n",
       "    }\n",
       "\n",
       "    .dataframe tbody tr th {\n",
       "        vertical-align: top;\n",
       "    }\n",
       "\n",
       "    .dataframe thead th {\n",
       "        text-align: right;\n",
       "    }\n",
       "</style>\n",
       "<table border=\"1\" class=\"dataframe\">\n",
       "  <thead>\n",
       "    <tr style=\"text-align: right;\">\n",
       "      <th></th>\n",
       "      <th>sex</th>\n",
       "      <th>year</th>\n",
       "      <th>measure</th>\n",
       "      <th>input_draw</th>\n",
       "      <th>scenario</th>\n",
       "      <th>value</th>\n",
       "      <th>insecticide_treated_nets</th>\n",
       "      <th>maternal_supplementation</th>\n",
       "      <th>maternal_malnutrition</th>\n",
       "    </tr>\n",
       "  </thead>\n",
       "  <tbody>\n",
       "    <tr>\n",
       "      <th>1536</th>\n",
       "      <td>female</td>\n",
       "      <td>2022</td>\n",
       "      <td>total_births</td>\n",
       "      <td>29</td>\n",
       "      <td>baseline</td>\n",
       "      <td>0.0</td>\n",
       "      <td>covered</td>\n",
       "      <td>bep</td>\n",
       "      <td>cat2</td>\n",
       "    </tr>\n",
       "    <tr>\n",
       "      <th>1537</th>\n",
       "      <td>female</td>\n",
       "      <td>2022</td>\n",
       "      <td>total_births</td>\n",
       "      <td>29</td>\n",
       "      <td>baseline</td>\n",
       "      <td>0.0</td>\n",
       "      <td>uncovered</td>\n",
       "      <td>bep</td>\n",
       "      <td>cat2</td>\n",
       "    </tr>\n",
       "    <tr>\n",
       "      <th>1538</th>\n",
       "      <td>female</td>\n",
       "      <td>2022</td>\n",
       "      <td>total_births</td>\n",
       "      <td>29</td>\n",
       "      <td>baseline</td>\n",
       "      <td>0.0</td>\n",
       "      <td>covered</td>\n",
       "      <td>mmn</td>\n",
       "      <td>cat2</td>\n",
       "    </tr>\n",
       "    <tr>\n",
       "      <th>1539</th>\n",
       "      <td>female</td>\n",
       "      <td>2022</td>\n",
       "      <td>total_births</td>\n",
       "      <td>29</td>\n",
       "      <td>baseline</td>\n",
       "      <td>0.0</td>\n",
       "      <td>uncovered</td>\n",
       "      <td>mmn</td>\n",
       "      <td>cat2</td>\n",
       "    </tr>\n",
       "    <tr>\n",
       "      <th>1540</th>\n",
       "      <td>female</td>\n",
       "      <td>2022</td>\n",
       "      <td>total_births</td>\n",
       "      <td>29</td>\n",
       "      <td>baseline</td>\n",
       "      <td>1397.0</td>\n",
       "      <td>covered</td>\n",
       "      <td>ifa</td>\n",
       "      <td>cat2</td>\n",
       "    </tr>\n",
       "  </tbody>\n",
       "</table>\n",
       "</div>"
      ],
      "text/plain": [
       "         sex  year       measure  input_draw  scenario   value  \\\n",
       "1536  female  2022  total_births          29  baseline     0.0   \n",
       "1537  female  2022  total_births          29  baseline     0.0   \n",
       "1538  female  2022  total_births          29  baseline     0.0   \n",
       "1539  female  2022  total_births          29  baseline     0.0   \n",
       "1540  female  2022  total_births          29  baseline  1397.0   \n",
       "\n",
       "     insecticide_treated_nets maternal_supplementation maternal_malnutrition  \n",
       "1536                  covered                      bep                  cat2  \n",
       "1537                uncovered                      bep                  cat2  \n",
       "1538                  covered                      mmn                  cat2  \n",
       "1539                uncovered                      mmn                  cat2  \n",
       "1540                  covered                      ifa                  cat2  "
      ]
     },
     "execution_count": 5,
     "metadata": {},
     "output_type": "execute_result"
    }
   ],
   "source": [
    "births = pd.read_csv(output_dir +'births.csv').drop(columns='Unnamed: 0')\n",
    "birth_count = births.loc[births.measure=='total_births']\n",
    "bw_sum = births.loc[births.measure=='birth_weight_sum']\n",
    "lbw_sum = births.loc[births.measure=='low_weight_births']\n",
    "birth_count.head()"
   ]
  },
  {
   "cell_type": "code",
   "execution_count": 7,
   "metadata": {},
   "outputs": [
    {
     "data": {
      "text/plain": [
       "array(['baseline', 'lbwsg_interventions', 'sqlns', 'wasting_treatment'],\n",
       "      dtype=object)"
      ]
     },
     "execution_count": 7,
     "metadata": {},
     "output_type": "execute_result"
    }
   ],
   "source": [
    "birth_count.scenario.unique()"
   ]
  },
  {
   "cell_type": "code",
   "execution_count": null,
   "metadata": {},
   "outputs": [],
   "source": []
  }
 ],
 "metadata": {
  "kernelspec": {
   "display_name": "ciff_sam_38",
   "language": "python",
   "name": "ciff_sam_38"
  },
  "language_info": {
   "codemirror_mode": {
    "name": "ipython",
    "version": 3
   },
   "file_extension": ".py",
   "mimetype": "text/x-python",
   "name": "python",
   "nbconvert_exporter": "python",
   "pygments_lexer": "ipython3",
   "version": "3.8.11"
  }
 },
 "nbformat": 4,
 "nbformat_minor": 4
}
