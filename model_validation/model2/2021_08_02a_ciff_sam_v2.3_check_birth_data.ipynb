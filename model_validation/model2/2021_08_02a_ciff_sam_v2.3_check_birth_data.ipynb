{
 "cells": [
  {
   "cell_type": "code",
   "execution_count": 1,
   "id": "e2bdd216",
   "metadata": {},
   "outputs": [
    {
     "data": {
      "text/html": [
       "<style>.container { width:100% !important; }</style>"
      ],
      "text/plain": [
       "<IPython.core.display.HTML object>"
      ]
     },
     "metadata": {},
     "output_type": "display_data"
    }
   ],
   "source": [
    "from IPython.core.display import display, HTML\n",
    "#makes the display bars longer and spread out 100% across the screen width\n",
    "display(HTML(\"<style>.container { width:100% !important; }</style>\"))"
   ]
  },
  {
   "cell_type": "code",
   "execution_count": 2,
   "id": "e455e0f5",
   "metadata": {},
   "outputs": [
    {
     "name": "stdout",
     "output_type": "stream",
     "text": [
      "/ihme/homes/ndbs/vivarium_research_ciff_sam/model_validation/model2\n",
      "ndbs\n",
      "Tue Aug  3 15:41:04 PDT 2021\n"
     ]
    }
   ],
   "source": [
    "import numpy as np, pandas as pd\n",
    "pd.set_option('display.max_rows', 8)\n",
    "\n",
    "import db_queries as db\n",
    "import vivarium_helpers.id_helper as idh\n",
    "\n",
    "from vivarium import Artifact\n",
    "\n",
    "!pwd\n",
    "!whoami\n",
    "!date"
   ]
  },
  {
   "cell_type": "markdown",
   "id": "e660a712",
   "metadata": {},
   "source": [
    "# Define file paths"
   ]
  },
  {
   "cell_type": "code",
   "execution_count": 3,
   "id": "50859614",
   "metadata": {},
   "outputs": [],
   "source": [
    "# sim results and artifact paths:\n",
    "# /ihme/costeffectiveness/results/vivarium_ciff_sam/v2.3_wasting_birth_prevalence/ciff_sam/2021_07_26_17_14_31/count_data\n",
    "# /ihme/costeffectiveness/artifacts/vivarium_ciff_sam/ethiopia.hdf\n",
    "\n",
    "artifact_path = '/ihme/costeffectiveness/artifacts/vivarium_ciff_sam/ethiopia.hdf'"
   ]
  },
  {
   "cell_type": "markdown",
   "id": "ad8989c7",
   "metadata": {},
   "source": [
    "# Load artifact and see what's in it"
   ]
  },
  {
   "cell_type": "code",
   "execution_count": 4,
   "id": "8341c9f1",
   "metadata": {},
   "outputs": [
    {
     "name": "stdout",
     "output_type": "stream",
     "text": [
      "Artifact containing the following keys:\n",
      "metadata\n",
      "\tkeyspace\n",
      "\tlocations\n",
      "population\n",
      "\tlocation\n",
      "\tstructure\n",
      "\tage_bins\n",
      "\tdemographic_dimensions\n",
      "\ttheoretical_minimum_risk_life_expectancy\n",
      "cause\n",
      "\tall_causes\n",
      "\t\tcause_specific_mortality_rate\n",
      "\tdiarrheal_diseases\n",
      "\t\tprevalence\n",
      "\t\tincidence_rate\n",
      "\t\tremission_rate\n",
      "\t\tdisability_weight\n",
      "\t\texcess_mortality_rate\n",
      "\t\tcause_specific_mortality_rate\n",
      "\t\trestrictions\n",
      "\tmeasles\n",
      "\t\tprevalence\n",
      "\t\tincidence_rate\n",
      "\t\tdisability_weight\n",
      "\t\texcess_mortality_rate\n",
      "\t\tcause_specific_mortality_rate\n",
      "\t\trestrictions\n",
      "\tlower_respiratory_infections\n",
      "\t\tprevalence\n",
      "\t\tincidence_rate\n",
      "\t\tremission_rate\n",
      "\t\tdisability_weight\n",
      "\t\texcess_mortality_rate\n",
      "\t\tcause_specific_mortality_rate\n",
      "\t\trestrictions\n",
      "\tprotein_energy_malnutrition\n",
      "\t\texcess_mortality_rate\n",
      "\t\tcause_specific_mortality_rate\n",
      "\t\trestrictions\n",
      "covariate\n",
      "\tlive_births_by_sex\n",
      "\t\testimate\n",
      "sequela\n",
      "\tmoderate_acute_malnutrition\n",
      "\t\tdisability_weight\n",
      "\tsevere_acute_malnutrition\n",
      "\t\tdisability_weight\n",
      "risk_factor\n",
      "\tchild_wasting\n",
      "\t\tdistribution\n",
      "\t\tcategories\n",
      "\t\texposure\n",
      "\t\trelative_risk\n",
      "\t\tpopulation_attributable_fraction\n",
      "alternative_risk_factor\n",
      "\tchild_wasting\n",
      "\t\tdistribution\n",
      "\n"
     ]
    }
   ],
   "source": [
    "art = Artifact(artifact_path, filter_terms=['year_start == 2019', 'age_end <= 5'])\n",
    "print(art)"
   ]
  },
  {
   "cell_type": "markdown",
   "id": "e072709a",
   "metadata": {},
   "source": [
    "# Load the \"live births by sex\" covariate estimate"
   ]
  },
  {
   "cell_type": "code",
   "execution_count": 5,
   "id": "344a3931",
   "metadata": {},
   "outputs": [
    {
     "data": {
      "text/html": [
       "<div>\n",
       "<style scoped>\n",
       "    .dataframe tbody tr th:only-of-type {\n",
       "        vertical-align: middle;\n",
       "    }\n",
       "\n",
       "    .dataframe tbody tr th {\n",
       "        vertical-align: top;\n",
       "    }\n",
       "\n",
       "    .dataframe thead th {\n",
       "        text-align: right;\n",
       "    }\n",
       "</style>\n",
       "<table border=\"1\" class=\"dataframe\">\n",
       "  <thead>\n",
       "    <tr style=\"text-align: right;\">\n",
       "      <th></th>\n",
       "      <th></th>\n",
       "      <th></th>\n",
       "      <th></th>\n",
       "      <th>value</th>\n",
       "    </tr>\n",
       "    <tr>\n",
       "      <th>sex</th>\n",
       "      <th>year_start</th>\n",
       "      <th>year_end</th>\n",
       "      <th>parameter</th>\n",
       "      <th></th>\n",
       "    </tr>\n",
       "  </thead>\n",
       "  <tbody>\n",
       "    <tr>\n",
       "      <th rowspan=\"3\" valign=\"top\">Female</th>\n",
       "      <th rowspan=\"3\" valign=\"top\">2019</th>\n",
       "      <th rowspan=\"3\" valign=\"top\">2020</th>\n",
       "      <th>lower_value</th>\n",
       "      <td>1.600650e+06</td>\n",
       "    </tr>\n",
       "    <tr>\n",
       "      <th>mean_value</th>\n",
       "      <td>1.771247e+06</td>\n",
       "    </tr>\n",
       "    <tr>\n",
       "      <th>upper_value</th>\n",
       "      <td>1.975860e+06</td>\n",
       "    </tr>\n",
       "    <tr>\n",
       "      <th rowspan=\"3\" valign=\"top\">Male</th>\n",
       "      <th rowspan=\"3\" valign=\"top\">2019</th>\n",
       "      <th rowspan=\"3\" valign=\"top\">2020</th>\n",
       "      <th>lower_value</th>\n",
       "      <td>1.688388e+06</td>\n",
       "    </tr>\n",
       "    <tr>\n",
       "      <th>mean_value</th>\n",
       "      <td>1.868336e+06</td>\n",
       "    </tr>\n",
       "    <tr>\n",
       "      <th>upper_value</th>\n",
       "      <td>2.084165e+06</td>\n",
       "    </tr>\n",
       "  </tbody>\n",
       "</table>\n",
       "</div>"
      ],
      "text/plain": [
       "                                               value\n",
       "sex    year_start year_end parameter                \n",
       "Female 2019       2020     lower_value  1.600650e+06\n",
       "                           mean_value   1.771247e+06\n",
       "                           upper_value  1.975860e+06\n",
       "Male   2019       2020     lower_value  1.688388e+06\n",
       "                           mean_value   1.868336e+06\n",
       "                           upper_value  2.084165e+06"
      ]
     },
     "execution_count": 5,
     "metadata": {},
     "output_type": "execute_result"
    }
   ],
   "source": [
    "art_live_births = art.load('covariate.live_births_by_sex.estimate')\n",
    "art_live_births"
   ]
  },
  {
   "cell_type": "markdown",
   "id": "9159516f",
   "metadata": {},
   "source": [
    "# Look up the Ethiopia live births covariate in GBD"
   ]
  },
  {
   "cell_type": "code",
   "execution_count": 6,
   "id": "40dd07da",
   "metadata": {},
   "outputs": [
    {
     "data": {
      "text/plain": [
       "['age_group',\n",
       " 'age_group_set',\n",
       " 'cause',\n",
       " 'cause_set',\n",
       " 'cause_set_version',\n",
       " 'covariate',\n",
       " 'decomp_step',\n",
       " 'gbd_round',\n",
       " 'healthstate',\n",
       " 'indicator_component',\n",
       " 'life_table_parameter',\n",
       " 'location',\n",
       " 'location_set',\n",
       " 'location_set_version',\n",
       " 'measure',\n",
       " 'metric',\n",
       " 'modelable_entity',\n",
       " 'sdg_indicator',\n",
       " 'sequela',\n",
       " 'sequela_set',\n",
       " 'sequela_set_version',\n",
       " 'sex',\n",
       " 'split',\n",
       " 'study_covariate',\n",
       " 'rei',\n",
       " 'rei_set',\n",
       " 'rei_set_version',\n",
       " 'year']"
      ]
     },
     "execution_count": 6,
     "metadata": {},
     "output_type": "execute_result"
    }
   ],
   "source": [
    "idh.get_entities()"
   ]
  },
  {
   "cell_type": "code",
   "execution_count": 7,
   "id": "6a8c7ef8",
   "metadata": {},
   "outputs": [
    {
     "data": {
      "text/html": [
       "<div>\n",
       "<style scoped>\n",
       "    .dataframe tbody tr th:only-of-type {\n",
       "        vertical-align: middle;\n",
       "    }\n",
       "\n",
       "    .dataframe tbody tr th {\n",
       "        vertical-align: top;\n",
       "    }\n",
       "\n",
       "    .dataframe thead th {\n",
       "        text-align: right;\n",
       "    }\n",
       "</style>\n",
       "<table border=\"1\" class=\"dataframe\">\n",
       "  <thead>\n",
       "    <tr style=\"text-align: right;\">\n",
       "      <th></th>\n",
       "      <th>covariate_id</th>\n",
       "      <th>covariate_name</th>\n",
       "      <th>covariate_name_short</th>\n",
       "      <th>covariate_description</th>\n",
       "    </tr>\n",
       "  </thead>\n",
       "  <tbody>\n",
       "    <tr>\n",
       "      <th>0</th>\n",
       "      <td>2</td>\n",
       "      <td>Legality of Abortion</td>\n",
       "      <td>abortion_legality</td>\n",
       "      <td>Legality of abortion, 0 to 100 index (0 = not ...</td>\n",
       "    </tr>\n",
       "    <tr>\n",
       "      <th>1</th>\n",
       "      <td>3</td>\n",
       "      <td>Absolute value of average latitude</td>\n",
       "      <td>abs_latitude</td>\n",
       "      <td>Absolute value of the latitude of the country'...</td>\n",
       "    </tr>\n",
       "    <tr>\n",
       "      <th>2</th>\n",
       "      <td>5</td>\n",
       "      <td>Adult HIV death rate</td>\n",
       "      <td>adult_hiv_death_rate</td>\n",
       "      <td>UNAIDS preferred adult HIV death rate</td>\n",
       "    </tr>\n",
       "    <tr>\n",
       "      <th>3</th>\n",
       "      <td>7</td>\n",
       "      <td>Antenatal Care (1 visit) Coverage (proportion)</td>\n",
       "      <td>ANC1_coverage_prop</td>\n",
       "      <td>Proportion of pregnant women receiving any ant...</td>\n",
       "    </tr>\n",
       "    <tr>\n",
       "      <th>...</th>\n",
       "      <td>...</td>\n",
       "      <td>...</td>\n",
       "      <td>...</td>\n",
       "      <td>...</td>\n",
       "    </tr>\n",
       "    <tr>\n",
       "      <th>887</th>\n",
       "      <td>2454</td>\n",
       "      <td>Polio3 lagged five year coverage, COVID-inclus...</td>\n",
       "      <td>lagged_polio3_coverage_prop_covid_inclusive</td>\n",
       "      <td>Five-year rolling average of Polio 3-dose cove...</td>\n",
       "    </tr>\n",
       "    <tr>\n",
       "      <th>888</th>\n",
       "      <td>2455</td>\n",
       "      <td>Sugar-sweetened beverages (g) [US R/E]</td>\n",
       "      <td>ssb_g_unadj_re</td>\n",
       "      <td>Sugar-sweetened beverages g/p/d available, una...</td>\n",
       "    </tr>\n",
       "    <tr>\n",
       "      <th>889</th>\n",
       "      <td>2456</td>\n",
       "      <td>Processed meat (g) [US R/E]</td>\n",
       "      <td>procmeat_g_unadj_re</td>\n",
       "      <td>Processed meat g/p/d available, unadjusted [US...</td>\n",
       "    </tr>\n",
       "    <tr>\n",
       "      <th>890</th>\n",
       "      <td>2503</td>\n",
       "      <td>Coverage of Postnatal Care Visit</td>\n",
       "      <td>PNC_coverage_prop</td>\n",
       "      <td>proportion of live births for which the mother...</td>\n",
       "    </tr>\n",
       "  </tbody>\n",
       "</table>\n",
       "<p>891 rows × 4 columns</p>\n",
       "</div>"
      ],
      "text/plain": [
       "     covariate_id                                     covariate_name  \\\n",
       "0               2                               Legality of Abortion   \n",
       "1               3                 Absolute value of average latitude   \n",
       "2               5                               Adult HIV death rate   \n",
       "3               7     Antenatal Care (1 visit) Coverage (proportion)   \n",
       "..            ...                                                ...   \n",
       "887          2454  Polio3 lagged five year coverage, COVID-inclus...   \n",
       "888          2455             Sugar-sweetened beverages (g) [US R/E]   \n",
       "889          2456                        Processed meat (g) [US R/E]   \n",
       "890          2503                   Coverage of Postnatal Care Visit   \n",
       "\n",
       "                            covariate_name_short  \\\n",
       "0                              abortion_legality   \n",
       "1                                   abs_latitude   \n",
       "2                           adult_hiv_death_rate   \n",
       "3                             ANC1_coverage_prop   \n",
       "..                                           ...   \n",
       "887  lagged_polio3_coverage_prop_covid_inclusive   \n",
       "888                               ssb_g_unadj_re   \n",
       "889                          procmeat_g_unadj_re   \n",
       "890                            PNC_coverage_prop   \n",
       "\n",
       "                                 covariate_description  \n",
       "0    Legality of abortion, 0 to 100 index (0 = not ...  \n",
       "1    Absolute value of the latitude of the country'...  \n",
       "2                UNAIDS preferred adult HIV death rate  \n",
       "3    Proportion of pregnant women receiving any ant...  \n",
       "..                                                 ...  \n",
       "887  Five-year rolling average of Polio 3-dose cove...  \n",
       "888  Sugar-sweetened beverages g/p/d available, una...  \n",
       "889  Processed meat g/p/d available, unadjusted [US...  \n",
       "890  proportion of live births for which the mother...  \n",
       "\n",
       "[891 rows x 4 columns]"
      ]
     },
     "execution_count": 7,
     "metadata": {},
     "output_type": "execute_result"
    }
   ],
   "source": [
    "db.get_ids('covariate')"
   ]
  },
  {
   "cell_type": "code",
   "execution_count": 8,
   "id": "4d78708c",
   "metadata": {},
   "outputs": [
    {
     "data": {
      "text/html": [
       "<div>\n",
       "<style scoped>\n",
       "    .dataframe tbody tr th:only-of-type {\n",
       "        vertical-align: middle;\n",
       "    }\n",
       "\n",
       "    .dataframe tbody tr th {\n",
       "        vertical-align: top;\n",
       "    }\n",
       "\n",
       "    .dataframe thead th {\n",
       "        text-align: right;\n",
       "    }\n",
       "</style>\n",
       "<table border=\"1\" class=\"dataframe\">\n",
       "  <thead>\n",
       "    <tr style=\"text-align: right;\">\n",
       "      <th></th>\n",
       "      <th>covariate_id</th>\n",
       "      <th>covariate_name</th>\n",
       "      <th>covariate_name_short</th>\n",
       "      <th>covariate_description</th>\n",
       "    </tr>\n",
       "  </thead>\n",
       "  <tbody>\n",
       "    <tr>\n",
       "      <th>30</th>\n",
       "      <td>60</td>\n",
       "      <td>Live Births (thousands)</td>\n",
       "      <td>live_births_thousands</td>\n",
       "      <td>Live Births (thousands)</td>\n",
       "    </tr>\n",
       "    <tr>\n",
       "      <th>37</th>\n",
       "      <td>84</td>\n",
       "      <td>Live Births 35+ (proportion)</td>\n",
       "      <td>pct_births_in_over35s</td>\n",
       "      <td>Proportion of live births by mothers age 35 an...</td>\n",
       "    </tr>\n",
       "    <tr>\n",
       "      <th>38</th>\n",
       "      <td>85</td>\n",
       "      <td>Live Births 40+ (proportion)</td>\n",
       "      <td>pct_births_in_over40s</td>\n",
       "      <td>Proportion of live births by mothers age 40 an...</td>\n",
       "    </tr>\n",
       "    <tr>\n",
       "      <th>381</th>\n",
       "      <td>1106</td>\n",
       "      <td>Live births (by sex)</td>\n",
       "      <td>live_births_by_sex</td>\n",
       "      <td>Live births (by sex)</td>\n",
       "    </tr>\n",
       "    <tr>\n",
       "      <th>756</th>\n",
       "      <td>2298</td>\n",
       "      <td>Live births (by child's sex and maternal age)</td>\n",
       "      <td>live_births_by_sex_age</td>\n",
       "      <td>Live births (by child's sex and maternal age)</td>\n",
       "    </tr>\n",
       "  </tbody>\n",
       "</table>\n",
       "</div>"
      ],
      "text/plain": [
       "     covariate_id                                 covariate_name  \\\n",
       "30             60                        Live Births (thousands)   \n",
       "37             84                   Live Births 35+ (proportion)   \n",
       "38             85                   Live Births 40+ (proportion)   \n",
       "381          1106                           Live births (by sex)   \n",
       "756          2298  Live births (by child's sex and maternal age)   \n",
       "\n",
       "       covariate_name_short                              covariate_description  \n",
       "30    live_births_thousands                            Live Births (thousands)  \n",
       "37    pct_births_in_over35s  Proportion of live births by mothers age 35 an...  \n",
       "38    pct_births_in_over40s  Proportion of live births by mothers age 40 an...  \n",
       "381      live_births_by_sex                               Live births (by sex)  \n",
       "756  live_births_by_sex_age      Live births (by child's sex and maternal age)  "
      ]
     },
     "execution_count": 8,
     "metadata": {},
     "output_type": "execute_result"
    }
   ],
   "source": [
    "idh.search_id_table('covariate', 'live births', case=False)"
   ]
  },
  {
   "cell_type": "code",
   "execution_count": 9,
   "id": "c9b5e02b",
   "metadata": {},
   "outputs": [
    {
     "data": {
      "text/plain": [
       "1106"
      ]
     },
     "execution_count": 9,
     "metadata": {},
     "output_type": "execute_result"
    }
   ],
   "source": [
    "live_births_by_sex_id = idh.list_ids('covariate', 'Live births (by sex)')\n",
    "live_births_by_sex_id"
   ]
  },
  {
   "cell_type": "code",
   "execution_count": 10,
   "id": "08a0af28",
   "metadata": {},
   "outputs": [
    {
     "data": {
      "text/plain": [
       "179"
      ]
     },
     "execution_count": 10,
     "metadata": {},
     "output_type": "execute_result"
    }
   ],
   "source": [
    "ethiopia_id = idh.list_ids('location', 'Ethiopia')\n",
    "ethiopia_id"
   ]
  },
  {
   "cell_type": "code",
   "execution_count": 11,
   "id": "84e9cadf",
   "metadata": {},
   "outputs": [
    {
     "name": "stdout",
     "output_type": "stream",
     "text": [
      "Help on function get_covariate_estimates in module db_queries.api.public:\n",
      "\n",
      "get_covariate_estimates(covariate_id: int, location_id: Union[int, str, List[int]] = 'all', location_set_id: int = 22, location_set_version_id: int = 0, year_id: Union[int, str, List[int]] = 'all', sex_id: Union[int, str, List[int]] = 'all', age_group_id: Union[int, str, List[int]] = 'all', gbd_round_id: Union[int, NoneType] = None, status: str = 'best', decomp_step: Union[str, NoneType] = None, release_id: Union[int, NoneType] = None, model_version_id: Union[int, NoneType] = None) -> pandas.core.frame.DataFrame\n",
      "    Returns a set of covariate estimates for a given covariate.\n",
      "    \n",
      "    Returns default covariate model for a given GBD round/release if no model_version_id\n",
      "    is specified. Defaults to no demographic subsetting, but specific demographics can\n",
      "    be specified.\n",
      "    \n",
      "    Args:\n",
      "        covariate_id: ID of covariate\n",
      "        location_id: Optionally subset query to only return location IDs specified.\n",
      "            Defaults to 'all', subsets based on location_set_id and\n",
      "            location_set_version_id\n",
      "        location_set_id: Location set to be queried if pulling all locations.\n",
      "            default 22, the covariate location set.\n",
      "        location_set_version_id: Location set version to be queried if\n",
      "            pulling all locations. overwrites location_set_id.\n",
      "        year_id: Optionally subset query to only return year IDs specified.\n",
      "            Defaults to 'all'\n",
      "        sex_id: Optionally subset query to only return sex IDs specified.\n",
      "            Defaults to 'all'\n",
      "        age_group_id: Optionally subset query to only return age group IDs\n",
      "            specified. Defaults to 'all'\n",
      "        gbd_round_id: ID of GBD round to pull data from. As of\n",
      "            GBD 2019, covariate estimates before GBD 2016 are no longer\n",
      "            available via this function. Required if release_id is not passed.\n",
      "            Defaults to None.\n",
      "        status: Deprecated. Previously corresponded to the status of a covariate to pull.\n",
      "            Now the best version is always pulled. Any value other than \"best\", such as\n",
      "            \"latest\" will raise an error.\n",
      "        decomp_step: Decomposition step. Allowed values are None,\n",
      "            'iterative', 'step1', 'step2', 'step3', 'step4', or 'step5'.\n",
      "            Defaults to None.\n",
      "        release_id: Release ID for which to pull model versions. Optional for any rounds prior\n",
      "            to GBD 2021, but required for GBD 2021+. Defaults to None.\n",
      "        model_version_id: The model_version_id to be retrieved. This\n",
      "            will overwrite covariate_id, but not gbd_round_id\n",
      "            and decomp_step or release_id.\n",
      "    \n",
      "    Returns:\n",
      "        A pandas dataframe of estimates\n",
      "    \n",
      "    Raises:\n",
      "        ValueError: User must pass a valid status\n",
      "        RuntimeError: No model versions found\n",
      "        ValueError: User must specify covariate_id;  User must pass a valid gbd_round_id;\n",
      "            User must pass a valid decomp_step for the given GBD round;\n",
      "            User must pass a valid release_id\n",
      "\n"
     ]
    }
   ],
   "source": [
    "help(db.get_covariate_estimates)"
   ]
  },
  {
   "cell_type": "code",
   "execution_count": 12,
   "id": "e085511f",
   "metadata": {},
   "outputs": [
    {
     "data": {
      "text/html": [
       "<div>\n",
       "<style scoped>\n",
       "    .dataframe tbody tr th:only-of-type {\n",
       "        vertical-align: middle;\n",
       "    }\n",
       "\n",
       "    .dataframe tbody tr th {\n",
       "        vertical-align: top;\n",
       "    }\n",
       "\n",
       "    .dataframe thead th {\n",
       "        text-align: right;\n",
       "    }\n",
       "</style>\n",
       "<table border=\"1\" class=\"dataframe\">\n",
       "  <thead>\n",
       "    <tr style=\"text-align: right;\">\n",
       "      <th></th>\n",
       "      <th>model_version_id</th>\n",
       "      <th>covariate_id</th>\n",
       "      <th>covariate_name_short</th>\n",
       "      <th>location_id</th>\n",
       "      <th>location_name</th>\n",
       "      <th>year_id</th>\n",
       "      <th>age_group_id</th>\n",
       "      <th>age_group_name</th>\n",
       "      <th>sex_id</th>\n",
       "      <th>sex</th>\n",
       "      <th>mean_value</th>\n",
       "      <th>lower_value</th>\n",
       "      <th>upper_value</th>\n",
       "    </tr>\n",
       "  </thead>\n",
       "  <tbody>\n",
       "    <tr>\n",
       "      <th>0</th>\n",
       "      <td>32376</td>\n",
       "      <td>1106</td>\n",
       "      <td>live_births_by_sex</td>\n",
       "      <td>179</td>\n",
       "      <td>Ethiopia</td>\n",
       "      <td>2019</td>\n",
       "      <td>22</td>\n",
       "      <td>All Ages</td>\n",
       "      <td>1</td>\n",
       "      <td>Male</td>\n",
       "      <td>1.868336e+06</td>\n",
       "      <td>1.688388e+06</td>\n",
       "      <td>2.084165e+06</td>\n",
       "    </tr>\n",
       "    <tr>\n",
       "      <th>1</th>\n",
       "      <td>32376</td>\n",
       "      <td>1106</td>\n",
       "      <td>live_births_by_sex</td>\n",
       "      <td>179</td>\n",
       "      <td>Ethiopia</td>\n",
       "      <td>2019</td>\n",
       "      <td>22</td>\n",
       "      <td>All Ages</td>\n",
       "      <td>2</td>\n",
       "      <td>Female</td>\n",
       "      <td>1.771247e+06</td>\n",
       "      <td>1.600650e+06</td>\n",
       "      <td>1.975860e+06</td>\n",
       "    </tr>\n",
       "  </tbody>\n",
       "</table>\n",
       "</div>"
      ],
      "text/plain": [
       "   model_version_id  covariate_id covariate_name_short  location_id  \\\n",
       "0             32376          1106   live_births_by_sex          179   \n",
       "1             32376          1106   live_births_by_sex          179   \n",
       "\n",
       "  location_name  year_id  age_group_id age_group_name  sex_id     sex  \\\n",
       "0      Ethiopia     2019            22       All Ages       1    Male   \n",
       "1      Ethiopia     2019            22       All Ages       2  Female   \n",
       "\n",
       "     mean_value   lower_value   upper_value  \n",
       "0  1.868336e+06  1.688388e+06  2.084165e+06  \n",
       "1  1.771247e+06  1.600650e+06  1.975860e+06  "
      ]
     },
     "execution_count": 12,
     "metadata": {},
     "output_type": "execute_result"
    }
   ],
   "source": [
    "gbd_live_births = db.get_covariate_estimates(\n",
    "    covariate_id = live_births_by_sex_id,\n",
    "    location_id = ethiopia_id,\n",
    "    year_id = 2019,\n",
    "    gbd_round_id = idh.list_ids('gbd_round', '2019'),\n",
    "    decomp_step = 'step4',\n",
    ")\n",
    "gbd_live_births"
   ]
  },
  {
   "cell_type": "markdown",
   "id": "1105a79f",
   "metadata": {},
   "source": [
    "# Check whether Artifact live births match GBD live births for Ethiopia\n",
    "\n",
    "## Yes, they match!\n",
    "\n",
    "### But is there an easier way to check this automatically than doing all these dumb data transformations??!!!"
   ]
  },
  {
   "cell_type": "code",
   "execution_count": 13,
   "id": "40944475",
   "metadata": {},
   "outputs": [
    {
     "data": {
      "text/html": [
       "<div>\n",
       "<style scoped>\n",
       "    .dataframe tbody tr th:only-of-type {\n",
       "        vertical-align: middle;\n",
       "    }\n",
       "\n",
       "    .dataframe tbody tr th {\n",
       "        vertical-align: top;\n",
       "    }\n",
       "\n",
       "    .dataframe thead th {\n",
       "        text-align: right;\n",
       "    }\n",
       "</style>\n",
       "<table border=\"1\" class=\"dataframe\">\n",
       "  <thead>\n",
       "    <tr style=\"text-align: right;\">\n",
       "      <th></th>\n",
       "      <th>parameter</th>\n",
       "      <th>lower_value</th>\n",
       "      <th>mean_value</th>\n",
       "      <th>upper_value</th>\n",
       "    </tr>\n",
       "    <tr>\n",
       "      <th>sex</th>\n",
       "      <th>year_start</th>\n",
       "      <th></th>\n",
       "      <th></th>\n",
       "      <th></th>\n",
       "    </tr>\n",
       "  </thead>\n",
       "  <tbody>\n",
       "    <tr>\n",
       "      <th>Female</th>\n",
       "      <th>2019</th>\n",
       "      <td>1.600650e+06</td>\n",
       "      <td>1.771247e+06</td>\n",
       "      <td>1.975860e+06</td>\n",
       "    </tr>\n",
       "    <tr>\n",
       "      <th>Male</th>\n",
       "      <th>2019</th>\n",
       "      <td>1.688388e+06</td>\n",
       "      <td>1.868336e+06</td>\n",
       "      <td>2.084165e+06</td>\n",
       "    </tr>\n",
       "  </tbody>\n",
       "</table>\n",
       "</div>"
      ],
      "text/plain": [
       "parameter           lower_value    mean_value   upper_value\n",
       "sex    year_start                                          \n",
       "Female 2019        1.600650e+06  1.771247e+06  1.975860e+06\n",
       "Male   2019        1.688388e+06  1.868336e+06  2.084165e+06"
      ]
     },
     "execution_count": 13,
     "metadata": {},
     "output_type": "execute_result"
    }
   ],
   "source": [
    "art_births_transformed = art_live_births.unstack('parameter')['value'].xs(2020, level='year_end')\n",
    "art_births_transformed"
   ]
  },
  {
   "cell_type": "code",
   "execution_count": 14,
   "id": "06dd7d10",
   "metadata": {},
   "outputs": [
    {
     "data": {
      "text/html": [
       "<div>\n",
       "<style scoped>\n",
       "    .dataframe tbody tr th:only-of-type {\n",
       "        vertical-align: middle;\n",
       "    }\n",
       "\n",
       "    .dataframe tbody tr th {\n",
       "        vertical-align: top;\n",
       "    }\n",
       "\n",
       "    .dataframe thead th {\n",
       "        text-align: right;\n",
       "    }\n",
       "</style>\n",
       "<table border=\"1\" class=\"dataframe\">\n",
       "  <thead>\n",
       "    <tr style=\"text-align: right;\">\n",
       "      <th></th>\n",
       "      <th></th>\n",
       "      <th>lower_value</th>\n",
       "      <th>mean_value</th>\n",
       "      <th>upper_value</th>\n",
       "    </tr>\n",
       "    <tr>\n",
       "      <th>sex</th>\n",
       "      <th>year_start</th>\n",
       "      <th></th>\n",
       "      <th></th>\n",
       "      <th></th>\n",
       "    </tr>\n",
       "  </thead>\n",
       "  <tbody>\n",
       "    <tr>\n",
       "      <th>Female</th>\n",
       "      <th>2019</th>\n",
       "      <td>1.600650e+06</td>\n",
       "      <td>1.771247e+06</td>\n",
       "      <td>1.975860e+06</td>\n",
       "    </tr>\n",
       "    <tr>\n",
       "      <th>Male</th>\n",
       "      <th>2019</th>\n",
       "      <td>1.688388e+06</td>\n",
       "      <td>1.868336e+06</td>\n",
       "      <td>2.084165e+06</td>\n",
       "    </tr>\n",
       "  </tbody>\n",
       "</table>\n",
       "</div>"
      ],
      "text/plain": [
       "                    lower_value    mean_value   upper_value\n",
       "sex    year_start                                          \n",
       "Female 2019        1.600650e+06  1.771247e+06  1.975860e+06\n",
       "Male   2019        1.688388e+06  1.868336e+06  2.084165e+06"
      ]
     },
     "execution_count": 14,
     "metadata": {},
     "output_type": "execute_result"
    }
   ],
   "source": [
    "gbd_births_transformed = (gbd_live_births\n",
    " [['sex', 'year_id', 'lower_value', 'mean_value', 'upper_value']]\n",
    " .rename(columns={'year_id': 'year_start'})\n",
    " .set_index(['sex', 'year_start'])\n",
    "#  .rename_axis(columns='parameter') # Oh, good, you can leave out the axis name and .equals() still works.\n",
    " .sort_index()\n",
    ")\n",
    "gbd_births_transformed"
   ]
  },
  {
   "cell_type": "code",
   "execution_count": 15,
   "id": "79000b11",
   "metadata": {},
   "outputs": [
    {
     "data": {
      "text/plain": [
       "True"
      ]
     },
     "execution_count": 15,
     "metadata": {},
     "output_type": "execute_result"
    }
   ],
   "source": [
    "gbd_births_transformed.equals(art_births_transformed)"
   ]
  },
  {
   "cell_type": "markdown",
   "id": "9737a6ba",
   "metadata": {},
   "source": [
    "# Check the birth rate against other sources\n",
    "\n",
    "\n",
    "Here's one source: https://www.statista.com/statistics/976887/crude-birth-rate-in-ethiopia/\n",
    "\n",
    "> Crude birth rate in Ethiopia 2010-2020\n",
    "> Published by Aaron O'Neill, Jun 30, 2021\n",
    ">\n",
    "> This statistic depicts the crude birth rate in Ethiopia from 2010 to 2020. According to the source, the \"crude birth rate indicates the number of live births occurring during the year, per 1,000 population estimated at midyear.\" In 2020, the crude birth rate in Ethiopia amounted to 31.44 live births per 1,000 inhabitants.\n",
    " \n",
    "Their estimate for 2019 is **31.9 births per 1000 inhabitants** (slightly higher than in 2020).\n",
    "\n",
    "This number agrees with the estimate from the World Bank: https://data.worldbank.org/indicator/SP.DYN.CBRT.IN?locations=ET\n",
    "\n",
    "Let's get Ethiopia's population data from GBD to compare our numbers."
   ]
  },
  {
   "cell_type": "code",
   "execution_count": 16,
   "id": "612375d6",
   "metadata": {},
   "outputs": [
    {
     "data": {
      "text/html": [
       "<div>\n",
       "<style scoped>\n",
       "    .dataframe tbody tr th:only-of-type {\n",
       "        vertical-align: middle;\n",
       "    }\n",
       "\n",
       "    .dataframe tbody tr th {\n",
       "        vertical-align: top;\n",
       "    }\n",
       "\n",
       "    .dataframe thead th {\n",
       "        text-align: right;\n",
       "    }\n",
       "</style>\n",
       "<table border=\"1\" class=\"dataframe\">\n",
       "  <thead>\n",
       "    <tr style=\"text-align: right;\">\n",
       "      <th></th>\n",
       "      <th>age_group_id</th>\n",
       "      <th>location_id</th>\n",
       "      <th>year_id</th>\n",
       "      <th>sex_id</th>\n",
       "      <th>population</th>\n",
       "      <th>run_id</th>\n",
       "    </tr>\n",
       "  </thead>\n",
       "  <tbody>\n",
       "    <tr>\n",
       "      <th>0</th>\n",
       "      <td>22</td>\n",
       "      <td>179</td>\n",
       "      <td>2019</td>\n",
       "      <td>3</td>\n",
       "      <td>1.075912e+08</td>\n",
       "      <td>192</td>\n",
       "    </tr>\n",
       "  </tbody>\n",
       "</table>\n",
       "</div>"
      ],
      "text/plain": [
       "   age_group_id  location_id  year_id  sex_id    population  run_id\n",
       "0            22          179     2019       3  1.075912e+08     192"
      ]
     },
     "execution_count": 16,
     "metadata": {},
     "output_type": "execute_result"
    }
   ],
   "source": [
    "ethiopia_pop = db.get_population(\n",
    "    location_id = ethiopia_id,\n",
    "#     sex_id = [1,2,3],\n",
    "    year_id = 2019,\n",
    "    gbd_round_id = idh.list_ids('gbd_round', '2019'),\n",
    "    decomp_step = 'step4',\n",
    ")\n",
    "ethiopia_pop"
   ]
  },
  {
   "cell_type": "code",
   "execution_count": 17,
   "id": "f9132df9",
   "metadata": {},
   "outputs": [
    {
     "data": {
      "text/plain": [
       "107591163.68341173"
      ]
     },
     "execution_count": 17,
     "metadata": {},
     "output_type": "execute_result"
    }
   ],
   "source": [
    "ethiopia_pop.at[0,'population']"
   ]
  },
  {
   "cell_type": "code",
   "execution_count": 18,
   "id": "2a463c05",
   "metadata": {},
   "outputs": [
    {
     "data": {
      "text/html": [
       "<div>\n",
       "<style scoped>\n",
       "    .dataframe tbody tr th:only-of-type {\n",
       "        vertical-align: middle;\n",
       "    }\n",
       "\n",
       "    .dataframe tbody tr th {\n",
       "        vertical-align: top;\n",
       "    }\n",
       "\n",
       "    .dataframe thead th {\n",
       "        text-align: right;\n",
       "    }\n",
       "</style>\n",
       "<table border=\"1\" class=\"dataframe\">\n",
       "  <thead>\n",
       "    <tr style=\"text-align: right;\">\n",
       "      <th></th>\n",
       "      <th>parameter</th>\n",
       "      <th>lower_value</th>\n",
       "      <th>mean_value</th>\n",
       "      <th>upper_value</th>\n",
       "    </tr>\n",
       "    <tr>\n",
       "      <th>sex</th>\n",
       "      <th>year_start</th>\n",
       "      <th></th>\n",
       "      <th></th>\n",
       "      <th></th>\n",
       "    </tr>\n",
       "  </thead>\n",
       "  <tbody>\n",
       "    <tr>\n",
       "      <th>Female</th>\n",
       "      <th>2019</th>\n",
       "      <td>14.877147</td>\n",
       "      <td>16.462752</td>\n",
       "      <td>18.364519</td>\n",
       "    </tr>\n",
       "    <tr>\n",
       "      <th>Male</th>\n",
       "      <th>2019</th>\n",
       "      <td>15.692624</td>\n",
       "      <td>17.365143</td>\n",
       "      <td>19.371153</td>\n",
       "    </tr>\n",
       "  </tbody>\n",
       "</table>\n",
       "</div>"
      ],
      "text/plain": [
       "parameter          lower_value  mean_value  upper_value\n",
       "sex    year_start                                      \n",
       "Female 2019          14.877147   16.462752    18.364519\n",
       "Male   2019          15.692624   17.365143    19.371153"
      ]
     },
     "execution_count": 18,
     "metadata": {},
     "output_type": "execute_result"
    }
   ],
   "source": [
    "crude_birth_rate_per_thousand = art_births_transformed / ethiopia_pop.at[0,'population'] * 1000\n",
    "crude_birth_rate_per_thousand"
   ]
  },
  {
   "cell_type": "markdown",
   "id": "024381bd",
   "metadata": {},
   "source": [
    "Our estimated crude birth rate from the artifact is **33.8 births per 1000 inhabitants**, which is pretty close to the 31.9 above."
   ]
  },
  {
   "cell_type": "code",
   "execution_count": 19,
   "id": "3ada37b4",
   "metadata": {},
   "outputs": [
    {
     "data": {
      "text/plain": [
       "parameter\n",
       "lower_value    30.569771\n",
       "mean_value     33.827896\n",
       "upper_value    37.735672\n",
       "dtype: float64"
      ]
     },
     "execution_count": 19,
     "metadata": {},
     "output_type": "execute_result"
    }
   ],
   "source": [
    "# Calculate total birth rate for both sexes\n",
    "crude_birth_rate_per_thousand.sum()"
   ]
  },
  {
   "cell_type": "markdown",
   "id": "6b89f7bb",
   "metadata": {},
   "source": [
    "# How does this crude birth rate compare with the birth rate in Vivarium?\n",
    "\n",
    "Rajan said we were seeing around [340 births per 10,000 simulants](https://ihme.slack.com/archives/C018BLX2JKT/p1627689329022000?thread_ts=1627688406.017600&cid=C018BLX2JKT)\n",
    "\n",
    "### This is 34 births per 1000 simulants, which matches our estimate of 33.8 births per 1000 people\n",
    "\n",
    "Or equivalently, 338 births per 10,000 people"
   ]
  },
  {
   "cell_type": "code",
   "execution_count": 20,
   "id": "bd1e236b",
   "metadata": {},
   "outputs": [
    {
     "data": {
      "text/plain": [
       "34.0"
      ]
     },
     "execution_count": 20,
     "metadata": {},
     "output_type": "execute_result"
    }
   ],
   "source": [
    "# Number of births per 1000 simulants in Vivarium, according to Rajan\n",
    "340 / 10000 * 1000"
   ]
  },
  {
   "cell_type": "code",
   "execution_count": 21,
   "id": "c1f1653d",
   "metadata": {},
   "outputs": [
    {
     "data": {
      "text/plain": [
       "parameter\n",
       "lower_value    305.697709\n",
       "mean_value     338.278955\n",
       "upper_value    377.356720\n",
       "dtype: float64"
      ]
     },
     "execution_count": 21,
     "metadata": {},
     "output_type": "execute_result"
    }
   ],
   "source": [
    "# Expected births per 10,000 people\n",
    "10*crude_birth_rate_per_thousand.sum()"
   ]
  },
  {
   "cell_type": "markdown",
   "id": "f5c6ab9c",
   "metadata": {},
   "source": [
    "## Except that our simulation is not all people, only children under 5!!\n",
    "\n",
    "# Let's calculate how many births we expect to see per 10,000 simulants under 5\n",
    "\n",
    "## Looks like we should expect to see around 2,182 births per 10,000 simulants\n",
    "\n",
    "This matches what Rajan said we need to maintain the population to account for them aging out: Since the entire population of 0-5 year-olds will be replaced every 5 years, [we need 2000 yearly births per 10,000 simulants to replace those aging out](https://ihme.slack.com/archives/C018BLX2JKT/p1627689329022000?thread_ts=1627688406.017600&cid=C018BLX2JKT).\n"
   ]
  },
  {
   "cell_type": "code",
   "execution_count": 22,
   "id": "bc8bbe84",
   "metadata": {},
   "outputs": [
    {
     "data": {
      "text/html": [
       "<div>\n",
       "<style scoped>\n",
       "    .dataframe tbody tr th:only-of-type {\n",
       "        vertical-align: middle;\n",
       "    }\n",
       "\n",
       "    .dataframe tbody tr th {\n",
       "        vertical-align: top;\n",
       "    }\n",
       "\n",
       "    .dataframe thead th {\n",
       "        text-align: right;\n",
       "    }\n",
       "</style>\n",
       "<table border=\"1\" class=\"dataframe\">\n",
       "  <thead>\n",
       "    <tr style=\"text-align: right;\">\n",
       "      <th></th>\n",
       "      <th>age_group_id</th>\n",
       "      <th>age_group_name</th>\n",
       "    </tr>\n",
       "  </thead>\n",
       "  <tbody>\n",
       "    <tr>\n",
       "      <th>0</th>\n",
       "      <td>1</td>\n",
       "      <td>Under 5</td>\n",
       "    </tr>\n",
       "    <tr>\n",
       "      <th>1</th>\n",
       "      <td>2</td>\n",
       "      <td>Early Neonatal</td>\n",
       "    </tr>\n",
       "    <tr>\n",
       "      <th>2</th>\n",
       "      <td>3</td>\n",
       "      <td>Late Neonatal</td>\n",
       "    </tr>\n",
       "    <tr>\n",
       "      <th>3</th>\n",
       "      <td>4</td>\n",
       "      <td>Post Neonatal</td>\n",
       "    </tr>\n",
       "    <tr>\n",
       "      <th>...</th>\n",
       "      <td>...</td>\n",
       "      <td>...</td>\n",
       "    </tr>\n",
       "    <tr>\n",
       "      <th>427</th>\n",
       "      <td>430</td>\n",
       "      <td>&lt; 19 years</td>\n",
       "    </tr>\n",
       "    <tr>\n",
       "      <th>428</th>\n",
       "      <td>431</td>\n",
       "      <td>5 to 64</td>\n",
       "    </tr>\n",
       "    <tr>\n",
       "      <th>429</th>\n",
       "      <td>432</td>\n",
       "      <td>6 to 8 months</td>\n",
       "    </tr>\n",
       "    <tr>\n",
       "      <th>430</th>\n",
       "      <td>433</td>\n",
       "      <td>9 to 11 months</td>\n",
       "    </tr>\n",
       "  </tbody>\n",
       "</table>\n",
       "<p>431 rows × 2 columns</p>\n",
       "</div>"
      ],
      "text/plain": [
       "     age_group_id  age_group_name\n",
       "0               1         Under 5\n",
       "1               2  Early Neonatal\n",
       "2               3   Late Neonatal\n",
       "3               4   Post Neonatal\n",
       "..            ...             ...\n",
       "427           430      < 19 years\n",
       "428           431         5 to 64\n",
       "429           432   6 to 8 months\n",
       "430           433  9 to 11 months\n",
       "\n",
       "[431 rows x 2 columns]"
      ]
     },
     "execution_count": 22,
     "metadata": {},
     "output_type": "execute_result"
    }
   ],
   "source": [
    "# Check age group id's to pull population under 5\n",
    "db.get_ids('age_group')"
   ]
  },
  {
   "cell_type": "code",
   "execution_count": 23,
   "id": "a0b5b163",
   "metadata": {},
   "outputs": [
    {
     "data": {
      "text/html": [
       "<div>\n",
       "<style scoped>\n",
       "    .dataframe tbody tr th:only-of-type {\n",
       "        vertical-align: middle;\n",
       "    }\n",
       "\n",
       "    .dataframe tbody tr th {\n",
       "        vertical-align: top;\n",
       "    }\n",
       "\n",
       "    .dataframe thead th {\n",
       "        text-align: right;\n",
       "    }\n",
       "</style>\n",
       "<table border=\"1\" class=\"dataframe\">\n",
       "  <thead>\n",
       "    <tr style=\"text-align: right;\">\n",
       "      <th></th>\n",
       "      <th>age_group_id</th>\n",
       "      <th>location_id</th>\n",
       "      <th>year_id</th>\n",
       "      <th>sex_id</th>\n",
       "      <th>population</th>\n",
       "      <th>run_id</th>\n",
       "    </tr>\n",
       "  </thead>\n",
       "  <tbody>\n",
       "    <tr>\n",
       "      <th>0</th>\n",
       "      <td>1</td>\n",
       "      <td>179</td>\n",
       "      <td>2019</td>\n",
       "      <td>3</td>\n",
       "      <td>1.667967e+07</td>\n",
       "      <td>192</td>\n",
       "    </tr>\n",
       "  </tbody>\n",
       "</table>\n",
       "</div>"
      ],
      "text/plain": [
       "   age_group_id  location_id  year_id  sex_id    population  run_id\n",
       "0             1          179     2019       3  1.667967e+07     192"
      ]
     },
     "execution_count": 23,
     "metadata": {},
     "output_type": "execute_result"
    }
   ],
   "source": [
    "ethiopia_pop_u5 = db.get_population(\n",
    "    location_id = ethiopia_id,\n",
    "#     sex_id = [1,2,3],\n",
    "    age_group_id = idh.list_ids('age_group', 'Under 5'),\n",
    "    year_id = 2019,\n",
    "    gbd_round_id = idh.list_ids('gbd_round', '2019'),\n",
    "    decomp_step = 'step4',\n",
    ")\n",
    "ethiopia_pop_u5"
   ]
  },
  {
   "cell_type": "code",
   "execution_count": 24,
   "id": "7410020f",
   "metadata": {},
   "outputs": [
    {
     "data": {
      "text/html": [
       "<div>\n",
       "<style scoped>\n",
       "    .dataframe tbody tr th:only-of-type {\n",
       "        vertical-align: middle;\n",
       "    }\n",
       "\n",
       "    .dataframe tbody tr th {\n",
       "        vertical-align: top;\n",
       "    }\n",
       "\n",
       "    .dataframe thead th {\n",
       "        text-align: right;\n",
       "    }\n",
       "</style>\n",
       "<table border=\"1\" class=\"dataframe\">\n",
       "  <thead>\n",
       "    <tr style=\"text-align: right;\">\n",
       "      <th></th>\n",
       "      <th>parameter</th>\n",
       "      <th>lower_value</th>\n",
       "      <th>mean_value</th>\n",
       "      <th>upper_value</th>\n",
       "    </tr>\n",
       "    <tr>\n",
       "      <th>sex</th>\n",
       "      <th>year_start</th>\n",
       "      <th></th>\n",
       "      <th></th>\n",
       "      <th></th>\n",
       "    </tr>\n",
       "  </thead>\n",
       "  <tbody>\n",
       "    <tr>\n",
       "      <th>Female</th>\n",
       "      <th>2019</th>\n",
       "      <td>95.964102</td>\n",
       "      <td>106.191951</td>\n",
       "      <td>118.459177</td>\n",
       "    </tr>\n",
       "    <tr>\n",
       "      <th>Male</th>\n",
       "      <th>2019</th>\n",
       "      <td>101.224286</td>\n",
       "      <td>112.012765</td>\n",
       "      <td>124.952407</td>\n",
       "    </tr>\n",
       "  </tbody>\n",
       "</table>\n",
       "</div>"
      ],
      "text/plain": [
       "parameter          lower_value  mean_value  upper_value\n",
       "sex    year_start                                      \n",
       "Female 2019          95.964102  106.191951   118.459177\n",
       "Male   2019         101.224286  112.012765   124.952407"
      ]
     },
     "execution_count": 24,
     "metadata": {},
     "output_type": "execute_result"
    }
   ],
   "source": [
    "crude_birth_rate_per_thousand_u5 = art_births_transformed / ethiopia_pop_u5.at[0,'population'] * 1000\n",
    "crude_birth_rate_per_thousand_u5"
   ]
  },
  {
   "cell_type": "code",
   "execution_count": 25,
   "id": "58b0430b",
   "metadata": {},
   "outputs": [
    {
     "data": {
      "text/plain": [
       "parameter\n",
       "lower_value    1971.883883\n",
       "mean_value     2182.047165\n",
       "upper_value    2434.115835\n",
       "dtype: float64"
      ]
     },
     "execution_count": 25,
     "metadata": {},
     "output_type": "execute_result"
    }
   ],
   "source": [
    "# Calculate expected births per 10,000 simulants\n",
    "10*crude_birth_rate_per_thousand_u5.sum()"
   ]
  },
  {
   "cell_type": "code",
   "execution_count": null,
   "id": "003c9aa7",
   "metadata": {},
   "outputs": [],
   "source": []
  }
 ],
 "metadata": {
  "kernelspec": {
   "display_name": "Python 3 (ipykernel)",
   "language": "python",
   "name": "python3"
  },
  "language_info": {
   "codemirror_mode": {
    "name": "ipython",
    "version": 3
   },
   "file_extension": ".py",
   "mimetype": "text/x-python",
   "name": "python",
   "nbconvert_exporter": "python",
   "pygments_lexer": "ipython3",
   "version": "3.8.10"
  }
 },
 "nbformat": 4,
 "nbformat_minor": 5
}
