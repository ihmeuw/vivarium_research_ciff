{
 "cells": [
  {
   "cell_type": "code",
   "execution_count": 1,
   "id": "804b6b71",
   "metadata": {},
   "outputs": [],
   "source": [
    "import pandas as pd, numpy as np"
   ]
  },
  {
   "cell_type": "code",
   "execution_count": 2,
   "id": "54c49fe2",
   "metadata": {},
   "outputs": [],
   "source": [
    "from vivarium import Artifact"
   ]
  },
  {
   "cell_type": "code",
   "execution_count": 3,
   "id": "af8b9e46",
   "metadata": {},
   "outputs": [],
   "source": [
    "art = Artifact('/ihme/costeffectiveness/artifacts/vivarium_ciff_sam/ethiopia.hdf',\n",
    "               filter_terms=['year_start==2019', f'age_start>=0.5'])"
   ]
  },
  {
   "cell_type": "markdown",
   "id": "efe1e296",
   "metadata": {},
   "source": [
    "# Define constants"
   ]
  },
  {
   "cell_type": "markdown",
   "id": "b3da3b75",
   "metadata": {},
   "source": [
    "## Artifact values"
   ]
  },
  {
   "cell_type": "code",
   "execution_count": 4,
   "id": "cc1f0684",
   "metadata": {},
   "outputs": [],
   "source": [
    "wasting_exposure = art.load('risk_factor.child_wasting.exposure').reset_index()\n",
    "wasting_paf = art.load('risk_factor.child_wasting.population_attributable_fraction').reset_index().drop(columns='affected_measure')\n",
    "wasting_rr = art.load('risk_factor.child_wasting.relative_risk').reset_index()\n",
    "wasting_rr_dd = wasting_rr.loc[wasting_rr.affected_entity=='diarrheal_diseases'].drop(columns=['affected_entity','affected_measure'])\n",
    "wasting_rr_lri = wasting_rr.loc[wasting_rr.affected_entity=='lower_respiratory_infections'].drop(columns=['affected_entity','affected_measure'])\n",
    "wasting_rr_measles = wasting_rr.loc[wasting_rr.affected_entity=='measles'].drop(columns=['affected_entity','affected_measure'])\n",
    "\n",
    "prevalence_c302 = art.load('cause.diarrheal_diseases.prevalence') \n",
    "p_1 = wasting_exposure.loc[wasting_exposure.parameter=='cat1'].set_index([c for c in wasting_exposure.columns if 'draw' not in c and c != 'parameter']).drop(columns='parameter')\n",
    "p_2 = wasting_exposure.loc[wasting_exposure.parameter=='cat2'].set_index([c for c in wasting_exposure.columns if 'draw' not in c and c != 'parameter']).drop(columns='parameter')\n",
    "p_3 = wasting_exposure.loc[wasting_exposure.parameter=='cat3'].set_index([c for c in wasting_exposure.columns if 'draw' not in c and c != 'parameter']).drop(columns='parameter')\n",
    "p_4 = wasting_exposure.loc[wasting_exposure.parameter=='cat4'].set_index([c for c in wasting_exposure.columns if 'draw' not in c and c != 'parameter']).drop(columns='parameter')\n",
    "\n",
    "ACMR = art.load('cause.all_causes.cause_specific_mortality_rate') \n",
    "csmr_c302 = art.load('cause.diarrheal_diseases.cause_specific_mortality_rate')\n",
    "emr_c302 = art.load('cause.diarrheal_diseases.excess_mortality_rate')\n",
    "csmr_pem = art.load('cause.protein_energy_malnutrition.cause_specific_mortality_rate')\n",
    "emr_pem = art.load('cause.protein_energy_malnutrition.excess_mortality_rate')\n",
    "csmr_lri = art.load('cause.lower_respiratory_infections.cause_specific_mortality_rate')\n",
    "csmr_measles = art.load('cause.measles.cause_specific_mortality_rate')\n",
    "paf_wasting_lri = wasting_paf.loc[wasting_paf.affected_entity=='lower_respiratory_infections'].set_index([c for c in wasting_paf.columns if 'draw' not in c and c != 'affected_entity']).drop(columns='affected_entity')\n",
    "paf_wasting_measles = wasting_paf.loc[wasting_paf.affected_entity=='measles'].set_index([c for c in wasting_paf.columns if 'draw' not in c and c != 'affected_entity']).drop(columns='affected_entity')\n",
    "paf_wasting_c302 = wasting_paf.loc[wasting_paf.affected_entity=='diarrheal_diseases'].set_index([c for c in wasting_paf.columns if 'draw' not in c and c != 'affected_entity']).drop(columns='affected_entity')\n",
    "incidence_c302 = art.load('cause.diarrheal_diseases.incidence_rate') \n",
    "remission_c302 = art.load('cause.diarrheal_diseases.remission_rate') \n",
    "RR_lri_1 = wasting_rr_lri.loc[wasting_rr_lri.parameter=='cat1'].set_index([c for c in wasting_rr_lri.columns if 'draw' not in c and c != 'parameter']).drop(columns='parameter')\n",
    "RR_lri_2 = wasting_rr_lri.loc[wasting_rr_lri.parameter=='cat2'].set_index([c for c in wasting_rr_lri.columns if 'draw' not in c and c != 'parameter']).drop(columns='parameter')\n",
    "RR_lri_3 = wasting_rr_lri.loc[wasting_rr_lri.parameter=='cat3'].set_index([c for c in wasting_rr_lri.columns if 'draw' not in c and c != 'parameter']).drop(columns='parameter')\n",
    "RR_measles_1 = wasting_rr_measles.loc[wasting_rr_measles.parameter=='cat1'].set_index([c for c in wasting_rr_measles.columns if 'draw' not in c and c != 'parameter']).drop(columns='parameter')\n",
    "RR_measles_2 = wasting_rr_measles.loc[wasting_rr_measles.parameter=='cat2'].set_index([c for c in wasting_rr_measles.columns if 'draw' not in c and c != 'parameter']).drop(columns='parameter')\n",
    "RR_measles_3 = wasting_rr_measles.loc[wasting_rr_measles.parameter=='cat3'].set_index([c for c in wasting_rr_measles.columns if 'draw' not in c and c != 'parameter']).drop(columns='parameter')\n",
    "RR_1 = wasting_rr_dd.loc[wasting_rr_dd.parameter=='cat1'].set_index([c for c in wasting_rr_dd.columns if 'draw' not in c and c != 'parameter']).drop(columns='parameter')\n",
    "RR_2 = wasting_rr_dd.loc[wasting_rr_dd.parameter=='cat2'].set_index([c for c in wasting_rr_dd.columns if 'draw' not in c and c != 'parameter']).drop(columns='parameter')\n",
    "RR_3 = wasting_rr_dd.loc[wasting_rr_dd.parameter=='cat3'].set_index([c for c in wasting_rr_dd.columns if 'draw' not in c and c != 'parameter']).drop(columns='parameter')\n",
    "RR_4 = wasting_rr_dd.loc[wasting_rr_dd.parameter=='cat4'].set_index([c for c in wasting_rr_dd.columns if 'draw' not in c and c != 'parameter']).drop(columns='parameter')"
   ]
  },
  {
   "cell_type": "code",
   "execution_count": 5,
   "id": "d53bc2e5",
   "metadata": {},
   "outputs": [
    {
     "data": {
      "text/html": [
       "<div>\n",
       "<style scoped>\n",
       "    .dataframe tbody tr th:only-of-type {\n",
       "        vertical-align: middle;\n",
       "    }\n",
       "\n",
       "    .dataframe tbody tr th {\n",
       "        vertical-align: top;\n",
       "    }\n",
       "\n",
       "    .dataframe thead th {\n",
       "        text-align: right;\n",
       "    }\n",
       "</style>\n",
       "<table border=\"1\" class=\"dataframe\">\n",
       "  <thead>\n",
       "    <tr style=\"text-align: right;\">\n",
       "      <th></th>\n",
       "      <th></th>\n",
       "      <th></th>\n",
       "      <th></th>\n",
       "      <th></th>\n",
       "      <th>count</th>\n",
       "      <th>mean</th>\n",
       "      <th>std</th>\n",
       "      <th>min</th>\n",
       "      <th>2.5%</th>\n",
       "      <th>50%</th>\n",
       "      <th>97.5%</th>\n",
       "      <th>max</th>\n",
       "    </tr>\n",
       "    <tr>\n",
       "      <th>sex</th>\n",
       "      <th>age_start</th>\n",
       "      <th>age_end</th>\n",
       "      <th>year_start</th>\n",
       "      <th>year_end</th>\n",
       "      <th></th>\n",
       "      <th></th>\n",
       "      <th></th>\n",
       "      <th></th>\n",
       "      <th></th>\n",
       "      <th></th>\n",
       "      <th></th>\n",
       "      <th></th>\n",
       "    </tr>\n",
       "  </thead>\n",
       "  <tbody>\n",
       "    <tr>\n",
       "      <th rowspan=\"3\" valign=\"top\">Female</th>\n",
       "      <th>0.5</th>\n",
       "      <th>1.0</th>\n",
       "      <th>2019</th>\n",
       "      <th>2020</th>\n",
       "      <td>1000.0</td>\n",
       "      <td>2.912131</td>\n",
       "      <td>0.291084</td>\n",
       "      <td>2.092265</td>\n",
       "      <td>2.366062</td>\n",
       "      <td>2.893852</td>\n",
       "      <td>3.548673</td>\n",
       "      <td>3.812014</td>\n",
       "    </tr>\n",
       "    <tr>\n",
       "      <th>1.0</th>\n",
       "      <th>2.0</th>\n",
       "      <th>2019</th>\n",
       "      <th>2020</th>\n",
       "      <td>1000.0</td>\n",
       "      <td>1.642085</td>\n",
       "      <td>0.221660</td>\n",
       "      <td>0.944368</td>\n",
       "      <td>1.252067</td>\n",
       "      <td>1.629663</td>\n",
       "      <td>2.098036</td>\n",
       "      <td>2.330801</td>\n",
       "    </tr>\n",
       "    <tr>\n",
       "      <th>2.0</th>\n",
       "      <th>5.0</th>\n",
       "      <th>2019</th>\n",
       "      <th>2020</th>\n",
       "      <td>1000.0</td>\n",
       "      <td>1.642085</td>\n",
       "      <td>0.221660</td>\n",
       "      <td>0.944368</td>\n",
       "      <td>1.252067</td>\n",
       "      <td>1.629663</td>\n",
       "      <td>2.098036</td>\n",
       "      <td>2.330801</td>\n",
       "    </tr>\n",
       "    <tr>\n",
       "      <th rowspan=\"3\" valign=\"top\">Male</th>\n",
       "      <th>0.5</th>\n",
       "      <th>1.0</th>\n",
       "      <th>2019</th>\n",
       "      <th>2020</th>\n",
       "      <td>1000.0</td>\n",
       "      <td>2.898951</td>\n",
       "      <td>0.291449</td>\n",
       "      <td>2.119631</td>\n",
       "      <td>2.351311</td>\n",
       "      <td>2.886590</td>\n",
       "      <td>3.507169</td>\n",
       "      <td>3.729021</td>\n",
       "    </tr>\n",
       "    <tr>\n",
       "      <th>1.0</th>\n",
       "      <th>2.0</th>\n",
       "      <th>2019</th>\n",
       "      <th>2020</th>\n",
       "      <td>1000.0</td>\n",
       "      <td>1.667292</td>\n",
       "      <td>0.219592</td>\n",
       "      <td>1.065674</td>\n",
       "      <td>1.294353</td>\n",
       "      <td>1.661789</td>\n",
       "      <td>2.110573</td>\n",
       "      <td>2.491325</td>\n",
       "    </tr>\n",
       "    <tr>\n",
       "      <th>2.0</th>\n",
       "      <th>5.0</th>\n",
       "      <th>2019</th>\n",
       "      <th>2020</th>\n",
       "      <td>1000.0</td>\n",
       "      <td>1.667292</td>\n",
       "      <td>0.219592</td>\n",
       "      <td>1.065674</td>\n",
       "      <td>1.294353</td>\n",
       "      <td>1.661789</td>\n",
       "      <td>2.110573</td>\n",
       "      <td>2.491325</td>\n",
       "    </tr>\n",
       "  </tbody>\n",
       "</table>\n",
       "</div>"
      ],
      "text/plain": [
       "                                               count      mean       std  \\\n",
       "sex    age_start age_end year_start year_end                               \n",
       "Female 0.5       1.0     2019       2020      1000.0  2.912131  0.291084   \n",
       "       1.0       2.0     2019       2020      1000.0  1.642085  0.221660   \n",
       "       2.0       5.0     2019       2020      1000.0  1.642085  0.221660   \n",
       "Male   0.5       1.0     2019       2020      1000.0  2.898951  0.291449   \n",
       "       1.0       2.0     2019       2020      1000.0  1.667292  0.219592   \n",
       "       2.0       5.0     2019       2020      1000.0  1.667292  0.219592   \n",
       "\n",
       "                                                   min      2.5%       50%  \\\n",
       "sex    age_start age_end year_start year_end                                 \n",
       "Female 0.5       1.0     2019       2020      2.092265  2.366062  2.893852   \n",
       "       1.0       2.0     2019       2020      0.944368  1.252067  1.629663   \n",
       "       2.0       5.0     2019       2020      0.944368  1.252067  1.629663   \n",
       "Male   0.5       1.0     2019       2020      2.119631  2.351311  2.886590   \n",
       "       1.0       2.0     2019       2020      1.065674  1.294353  1.661789   \n",
       "       2.0       5.0     2019       2020      1.065674  1.294353  1.661789   \n",
       "\n",
       "                                                 97.5%       max  \n",
       "sex    age_start age_end year_start year_end                      \n",
       "Female 0.5       1.0     2019       2020      3.548673  3.812014  \n",
       "       1.0       2.0     2019       2020      2.098036  2.330801  \n",
       "       2.0       5.0     2019       2020      2.098036  2.330801  \n",
       "Male   0.5       1.0     2019       2020      3.507169  3.729021  \n",
       "       1.0       2.0     2019       2020      2.110573  2.491325  \n",
       "       2.0       5.0     2019       2020      2.110573  2.491325  "
      ]
     },
     "execution_count": 5,
     "metadata": {},
     "output_type": "execute_result"
    }
   ],
   "source": [
    "\"\"\"NOTE: the artifact values for diarrheal disease remission is greater than \n",
    "remission after re-scaling to the total population. I have adjusted the remission \n",
    "rate to be equal to the number of incident cases in the population minus the mortality \n",
    "rate for the average disease duration (6 days) to get the model to behave correctly. \n",
    "This method ignores correlation between diarrheal diseases and other causes\"\"\"\n",
    "\n",
    "remission_c302 = incidence_c302 - (6 / 365) * (ACMR - csmr_c302 + emr_c302)\n",
    "(remission_c302).apply(pd.DataFrame.describe, percentiles=[0.025,0.975], axis=1)"
   ]
  },
  {
   "cell_type": "markdown",
   "id": "527f816e",
   "metadata": {},
   "source": [
    "## Wasting transition rates\n",
    "\n",
    "These were read-in from simulation model output rather than calculating them directly given the complexity of the calculations. This should be updated as the model is finalized. The exception is for r4 and i3 (which are currently undergoing calibration)\n"
   ]
  },
  {
   "cell_type": "code",
   "execution_count": 6,
   "id": "840bad79",
   "metadata": {},
   "outputs": [],
   "source": [
    "output_dir ='/ihme/costeffectiveness/results/vivarium_ciff_sam/v4.1_wasting_treatment/ciff_sam/2021_09_24_16_36_30/count_data/'\n",
    "wasting_transitions = pd.read_csv(output_dir + 'wasting_transition_count.csv').drop(columns='Unnamed: 0')\n",
    "wasting_transitions = (wasting_transitions\n",
    "                       .loc[wasting_transitions.scenario=='baseline']\n",
    "                       .groupby(['input_draw','sex','age','measure']).sum()\n",
    "                       .drop(columns='year')\n",
    "                       .reset_index())\n",
    "wasting_person_time = pd.read_csv(output_dir + 'wasting_state_person_time.csv').drop(columns='Unnamed: 0')\n",
    "wasting_person_time = (wasting_person_time\n",
    "                       .loc[wasting_person_time.scenario=='baseline']\n",
    "                       .groupby(['input_draw','sex','age','cause']).sum()\n",
    "                       .drop(columns='year')\n",
    "                       .reset_index())"
   ]
  },
  {
   "cell_type": "code",
   "execution_count": 7,
   "id": "b67bd6da",
   "metadata": {},
   "outputs": [],
   "source": [
    "def compute_wasting_transition_rate(transition_count_parameter, person_time_state, ages):\n",
    "    rate = (((wasting_transitions.loc[wasting_transitions.measure==f'{transition_count_parameter}']\n",
    "           .set_index(['input_draw','sex','age']).drop(columns='measure'))\n",
    "          / (wasting_person_time.loc[wasting_person_time.cause==f'{person_time_state}']\n",
    "             .set_index(['input_draw','sex','age']).drop(columns='cause')))\n",
    "          .groupby(['sex','age']).mean().reset_index())\n",
    "    rate['sex'] = rate.sex.str.capitalize()\n",
    "    rate['year_start']=2019\n",
    "    rate['year_end']=2020\n",
    "    rate = rate.loc[rate.age.isin(ages)]\n",
    "    rate['age_start'] = np.where(rate.age=='6-11_months',0.5,\n",
    "                                np.where(rate.age=='12_to_23_months', 1.0, 2.0))\n",
    "    rate['age_end'] = np.where(rate.age=='6-11_months',1.0,\n",
    "                                np.where(rate.age=='12_to_23_months', 2.0, 5.0))\n",
    "    for i in list(range(0,1000)):\n",
    "        rate[f'draw_{i}'] = rate['value']\n",
    "    return rate.drop(columns=['age','value']).set_index(['sex','age_start','age_end','year_start','year_end']).sort_index()"
   ]
  },
  {
   "cell_type": "code",
   "execution_count": 8,
   "id": "8edb8211",
   "metadata": {},
   "outputs": [],
   "source": [
    "ages = ['6-11_months','12_to_23_months','2_to_4']\n",
    "t1 = compute_wasting_transition_rate('severe_acute_malnutrition_to_mild_child_wasting_event_count', \n",
    "                                     'severe_acute_malnutrition', ages)\n",
    "r2 = compute_wasting_transition_rate('severe_acute_malnutrition_to_moderate_acute_malnutrition_event_count', \n",
    "                                     'severe_acute_malnutrition', ages)\n",
    "r3 = compute_wasting_transition_rate('moderate_acute_malnutrition_to_mild_child_wasting_event_count', \n",
    "                                     'moderate_acute_malnutrition', ages)\n",
    "r4_obs = compute_wasting_transition_rate('mild_child_wasting_to_susceptible_to_child_wasting_event_count', \n",
    "                                     'mild_child_wasting', ages)\n",
    "i1 = compute_wasting_transition_rate('moderate_acute_malnutrition_to_severe_acute_malnutrition_event_count', \n",
    "                                     'moderate_acute_malnutrition', ages)\n",
    "i2 = compute_wasting_transition_rate('mild_child_wasting_to_moderate_acute_malnutrition_event_count', \n",
    "                                     'mild_child_wasting', ages)\n",
    "i3_obs = compute_wasting_transition_rate('susceptible_to_child_wasting_to_mild_child_wasting_event_count', \n",
    "                                     'susceptible_to_child_wasting', ages)\n",
    "\n",
    "\n",
    "r4_daily = 1/50\n",
    "r4 = -np.log(1 - r4_daily) * 365\n",
    "ap0 = 1 - np.exp(-ACMR * 1 / 365)\n",
    "m_D4_daily = 1 - np.exp(-(ACMR  \n",
    "        - csmr_c302 + csmr_c302 * (1 - paf_wasting_c302)\n",
    "        - csmr_lri + csmr_lri * (1 - paf_wasting_lri)\n",
    "        - csmr_measles + csmr_measles * (1 - paf_wasting_measles)) / 365)\n",
    "\n",
    "i3_daily = ap0 * p_4 / (p_4 / (ap0+1)) + p_3 / (ap0 + 1) * r4_daily / (p_4 / (ap0+1)) - m_D4_daily\n",
    "i3 = -np.log(1 - i3_daily) * 365"
   ]
  },
  {
   "cell_type": "markdown",
   "id": "ebdf1676",
   "metadata": {},
   "source": [
    "## Prevalence ratios"
   ]
  },
  {
   "cell_type": "code",
   "execution_count": 9,
   "id": "3a9275a9",
   "metadata": {},
   "outputs": [],
   "source": [
    "PR_1=1.060416\n",
    "PR_2=1.061946\n",
    "PR_3=1.044849\n",
    "PR_4=0.990530"
   ]
  },
  {
   "cell_type": "markdown",
   "id": "b93438ff",
   "metadata": {},
   "source": [
    "# Solve for parameters"
   ]
  },
  {
   "cell_type": "markdown",
   "id": "83e72d9b",
   "metadata": {},
   "source": [
    "## State prevalence values"
   ]
  },
  {
   "cell_type": "code",
   "execution_count": 10,
   "id": "f3535f9a",
   "metadata": {},
   "outputs": [],
   "source": [
    "# prevalence values\n",
    "p_D1 = (PR_1 * p_1 * prevalence_c302) / (PR_1 * prevalence_c302 - prevalence_c302 + 1)\n",
    "p_D2 = (PR_2 * p_2 * prevalence_c302) / (PR_2 * prevalence_c302 - prevalence_c302 + 1)\n",
    "p_D3 = (PR_3 * p_3 * prevalence_c302) / (PR_3 * prevalence_c302 - prevalence_c302 + 1)\n",
    "p_S1 = (-p_1 * prevalence_c302 + p_1) / (PR_1 * prevalence_c302 - prevalence_c302 + 1)\n",
    "p_S2 = (-p_2 * prevalence_c302 + p_2) / (PR_2 * prevalence_c302 - prevalence_c302 + 1)\n",
    "p_S3 = (-p_3 * prevalence_c302 + p_3) / (PR_3 * prevalence_c302 - prevalence_c302 + 1)\n",
    "p_D4 = prevalence_c302 - p_D1 - p_D2 - p_D3\n",
    "p_S4 = (1 - prevalence_c302) - p_S1 - p_S2 - p_S3"
   ]
  },
  {
   "cell_type": "code",
   "execution_count": 11,
   "id": "8d0d0c07",
   "metadata": {},
   "outputs": [
    {
     "name": "stdout",
     "output_type": "stream",
     "text": [
      "0.0008586534064018113 0.0029456870183582466 0.007246069255888614 0.021723145785027178\n",
      "0.024237085046622014 0.08763267723950048 0.22124259485679937 0.6668876428570781\n"
     ]
    }
   ],
   "source": [
    "print(p_D1.mean().mean(),\n",
    "      p_D2.mean().mean(), \n",
    "      p_D3.mean().mean(),\n",
    "      p_D4.mean().mean())\n",
    "print((p_D1/prevalence_c302).mean().mean(),\n",
    "      (p_D2/prevalence_c302).mean().mean(), \n",
    "      (p_D3/prevalence_c302).mean().mean(),\n",
    "      (p_D4/prevalence_c302).mean().mean())"
   ]
  },
  {
   "cell_type": "code",
   "execution_count": 12,
   "id": "ea22fa6c",
   "metadata": {},
   "outputs": [
    {
     "name": "stdout",
     "output_type": "stream",
     "text": [
      "0.022046471988559396 0.07974698357651164 0.2048109589049813 0.6606220300642718\n",
      "0.02285620459010616 0.08252084120991131 0.2117459985670651 0.6828769556329174\n"
     ]
    }
   ],
   "source": [
    "print(p_S1.mean().mean(),\n",
    "      p_S2.mean().mean(), \n",
    "      p_S3.mean().mean(),\n",
    "      p_S4.mean().mean())\n",
    "print((p_S1/(1-prevalence_c302)).mean().mean(),\n",
    "      (p_S2/(1-prevalence_c302)).mean().mean(), \n",
    "      (p_S3/(1-prevalence_c302)).mean().mean(),\n",
    "      (p_S4/(1-prevalence_c302)).mean().mean())"
   ]
  },
  {
   "cell_type": "code",
   "execution_count": 13,
   "id": "c66a7ac3",
   "metadata": {},
   "outputs": [],
   "source": [
    "for param in [p_D1,p_D2,p_D3,p_D4,p_S1,p_S2,p_S3,p_S4\n",
    "             ]:\n",
    "    name = [x for x in globals() if globals()[x] is param][0]\n",
    "    assert param.min().min()>0, 'negative values'\n",
    "    assert param.max().max()<1, 'values greater than 1'\n",
    "    \n",
    "assert np.all((p_D1+p_D2+p_D3+p_D4+p_S1+p_S2+p_S3+p_S4).round(5)==1), 'Prevalence parameters do not all sum to one'"
   ]
  },
  {
   "cell_type": "markdown",
   "id": "788eec7c",
   "metadata": {},
   "source": [
    "## Other intermediate variables\n",
    "\n",
    "We are making that assumption that wasting relative risks apply to \n",
    "excess mortality, NOT incidence"
   ]
  },
  {
   "cell_type": "code",
   "execution_count": 14,
   "id": "40185aec",
   "metadata": {},
   "outputs": [
    {
     "name": "stdout",
     "output_type": "stream",
     "text": [
      "0.00038833795886415257 0.0003675113644543976 0.00041463564804416976\n",
      "0.3789093264178939 0.11061201288018828 0.052375756298638984\n"
     ]
    }
   ],
   "source": [
    "m_D1 = (ACMR - csmr_c302 + emr_c302 * (1 - paf_wasting_c302) * RR_1\n",
    "        - csmr_pem + emr_pem\n",
    "        - csmr_lri + csmr_lri * (1 - paf_wasting_lri) * RR_lri_1\n",
    "        - csmr_measles + csmr_measles * (1 - paf_wasting_measles) * RR_measles_1) * p_D1\n",
    "\n",
    "m_D2 = (ACMR - csmr_c302 + emr_c302 * (1 - paf_wasting_c302) * RR_2\n",
    "        - csmr_pem + emr_pem\n",
    "        - csmr_lri + csmr_lri * (1 - paf_wasting_lri) * RR_lri_2\n",
    "        - csmr_measles + csmr_measles * (1 - paf_wasting_measles) * RR_measles_2) * p_D2\n",
    "\n",
    "m_D3 = (ACMR - csmr_c302 + emr_c302 * (1 - paf_wasting_c302) * RR_3\n",
    "        - csmr_pem\n",
    "        - csmr_lri + csmr_lri * (1 - paf_wasting_lri) * RR_lri_3\n",
    "        - csmr_measles + csmr_measles * (1 - paf_wasting_measles) * RR_measles_3) * p_D3\n",
    "\n",
    "print(m_D1.mean().mean(),\n",
    "     m_D2.mean().mean(),\n",
    "     m_D3.mean().mean())\n",
    "print((m_D1/p_D1).mean().mean(),\n",
    "     (m_D2/p_D2).mean().mean(),\n",
    "     (m_D3/p_D3).mean().mean())"
   ]
  },
  {
   "cell_type": "code",
   "execution_count": 15,
   "id": "a50781b5",
   "metadata": {},
   "outputs": [
    {
     "name": "stdout",
     "output_type": "stream",
     "text": [
      "0.05133109288092936 0.17556029747694293 0.4385558397095897 1.4070671698369293\n",
      "2.149389531421424 2.149389531421424 2.149389531421424 2.149389531421424\n"
     ]
    }
   ],
   "source": [
    "#di_1 = (incidence_c302 * (1 - diarrhea_paf_incidence) * RR_1_incidence) * p_S1/(1-prevalence_c302)\n",
    "#di_2 = (incidence_c302 * (1 - diarrhea_paf_incidence) * RR_2_incidence) * p_S2/(1-prevalence_c302)\n",
    "#di_3 = (incidence_c302 * (1 - diarrhea_paf_incidence) * RR_3_incidence) * p_S3/(1-prevalence_c302)\n",
    "#di_4 = (incidence_c302 * (1 - diarrhea_paf_incidence)) * p_S4/(1-prevalence_c302)\n",
    "di_1 = (incidence_c302 * p_S1/(1-prevalence_c302))\n",
    "di_2 = (incidence_c302 * p_S2/(1-prevalence_c302))\n",
    "di_3 = (incidence_c302 * p_S3/(1-prevalence_c302))\n",
    "di_4 = (incidence_c302 * p_S4/(1-prevalence_c302))\n",
    "\n",
    "\n",
    "print(di_1.mean().mean(), di_2.mean().mean(), di_3.mean().mean(), di_4.mean().mean())\n",
    "print((di_1/p_S1).mean().mean(), \n",
    "      (di_2/p_S2).mean().mean(), \n",
    "      (di_3/p_S3).mean().mean(), \n",
    "      (di_4/p_S4).mean().mean())"
   ]
  },
  {
   "cell_type": "code",
   "execution_count": 16,
   "id": "2f6479c8",
   "metadata": {},
   "outputs": [
    {
     "name": "stdout",
     "output_type": "stream",
     "text": [
      "0.05440804332086057 0.18635524910715998 0.45803077869112385 1.3728449675625325\n",
      "63.158196485418635 63.158196485418635 63.158196485418635 63.158196485418635\n"
     ]
    }
   ],
   "source": [
    "dr_1 = remission_c302 / prevalence_c302 * p_D1\n",
    "dr_2 = remission_c302 / prevalence_c302 * p_D2\n",
    "dr_3 = remission_c302 / prevalence_c302 * p_D3\n",
    "dr_4 = remission_c302 / prevalence_c302 * p_D4\n",
    "\n",
    "print(dr_1.mean().mean(), dr_2.mean().mean(), dr_3.mean().mean(), dr_4.mean().mean())\n",
    "print((dr_1/p_D1).mean().mean(), \n",
    "      (dr_2/p_D2).mean().mean(), \n",
    "      (dr_3/p_D3).mean().mean(), \n",
    "      (dr_4/p_D4).mean().mean())"
   ]
  },
  {
   "cell_type": "code",
   "execution_count": 17,
   "id": "81bb6a8e",
   "metadata": {},
   "outputs": [],
   "source": [
    "b_D1 = ACMR * p_D1\n",
    "b_D2 = ACMR * p_D2\n",
    "b_D3 = ACMR * p_D3\n",
    "\n",
    "r_D1tx = t1 * p_D1 \n",
    "r_D1ux = r2 * p_D1\n",
    "r_D2 = r3 * p_D2\n",
    "r_D3 = r4 * p_D3"
   ]
  },
  {
   "cell_type": "code",
   "execution_count": 18,
   "id": "891e20a2",
   "metadata": {},
   "outputs": [],
   "source": [
    "assert np.all((m_D1 / p_D1) > (m_D2 / p_D2)), 'Mortality rate of D1 state less than D2 state'\n",
    "assert np.all((m_D2 / p_D2) > (m_D3 / p_D3)), 'Mortality rate of D2 state less than D3 state'"
   ]
  },
  {
   "cell_type": "markdown",
   "id": "072c344b",
   "metadata": {},
   "source": [
    "## Incidence rates"
   ]
  },
  {
   "cell_type": "code",
   "execution_count": 19,
   "id": "3ab9d2bb",
   "metadata": {},
   "outputs": [],
   "source": [
    "i_S1 = b_D1 + di_1 - dr_1 + i1*p_2 - m_D1 - r_D1tx - r_D1ux\n",
    "i_S2 = b_D1 + b_D2 + 2.0*di_1 - dr_1 - dr_2 + i2*p_3 - m_D1 - m_D2 - r_D1tx - r_D2\n",
    "i_S3 = b_D1 + b_D2 + b_D3 + 2.0*di_1 + di_3 - dr_1 - dr_2 - dr_3 + i3*p_4 - m_D1 - m_D2 - m_D3 - r_D3\n",
    "i_D1 = -b_D1 - di_1 + dr_1 + m_D1 + r_D1tx + r_D1ux\n",
    "i_D2 = -b_D1 - b_D2 - 2.0*di_1 + dr_1 + dr_2 + m_D1 + m_D2 + r_D1tx + r_D2\n",
    "i_D3 = -b_D1 - b_D2 - b_D3 - 2.0*di_1 - di_3 + dr_1 + dr_2 + dr_3 + m_D1 + m_D2 + m_D3 + r_D3"
   ]
  },
  {
   "cell_type": "code",
   "execution_count": 20,
   "id": "5a65bd75",
   "metadata": {},
   "outputs": [
    {
     "name": "stdout",
     "output_type": "stream",
     "text": [
      "0.13540387087524577 0.43054527539010995 1.3415866049591687\n",
      "0.009263146737993277 0.16012468828318985 0.21208573676567363\n"
     ]
    }
   ],
   "source": [
    "print(i_S1.mean().mean(), i_S2.mean().mean(), i_S3.mean().mean())\n",
    "print(i_D1.mean().mean(), i_D2.mean().mean(), i_D3.mean().mean())"
   ]
  },
  {
   "cell_type": "code",
   "execution_count": 21,
   "id": "89eef6b3",
   "metadata": {},
   "outputs": [],
   "source": [
    "RR_i3 = (i_D3 * p_S4) / (i_S3 * p_D4)\n",
    "RR_i2 = (i_D2 * p_S3) / (i_S2 * p_D3)\n",
    "RR_i1 = (i_D1 * p_S2) / (i_S1 * p_D2)"
   ]
  },
  {
   "cell_type": "code",
   "execution_count": 22,
   "id": "69564d7a",
   "metadata": {},
   "outputs": [
    {
     "name": "stdout",
     "output_type": "stream",
     "text": [
      "4.764589652847803 10.542478253704584 1.743731173135167\n"
     ]
    }
   ],
   "source": [
    "print(RR_i3.mean().mean(), RR_i2.mean().mean(), RR_i1.mean().mean())"
   ]
  },
  {
   "cell_type": "code",
   "execution_count": 23,
   "id": "26913e27",
   "metadata": {},
   "outputs": [],
   "source": [
    "assert np.all((i1 * p_2).transpose().sort_index().transpose().round(8) == (i_S1 + i_D1).round(8)), 'eq1 untrue'\n",
    "assert np.all((i2 * p_3).transpose().sort_index().transpose().round(8) == (i_S2 + i_D2).round(8)), 'eq2 untrue'\n",
    "assert np.all((i3 * p_4).transpose().sort_index().transpose().round(8) == (i_S3 + i_D3).round(8)), 'eq3 untrue'\n",
    "assert np.all((i_D3 + di_3 + b_D3 + r_D2 + r_D1tx).round(8) \n",
    "              == (r_D3 + dr_3 + m_D3 + i_D2).round(8)), 'eq4 untrue'\n",
    "assert np.all((i_D2 + di_1 + r_D1ux + b_D2).round(8)\n",
    "             == (r_D2 + dr_2 + i_D1 + m_D2).round(8)), 'eq5 untrue'\n",
    "assert np.all((i_D1 + di_1 + b_D1).round(8) \n",
    "             == (dr_1 + m_D1 + r_D1tx + r_D1ux).round(8)), 'eq6 untrue'"
   ]
  },
  {
   "cell_type": "code",
   "execution_count": 24,
   "id": "643d2f65",
   "metadata": {},
   "outputs": [],
   "source": [
    "for param in [i_S1, i_S2, i_S3, i_D1, i_D2, i_D3\n",
    "             ]:\n",
    "    name = [x for x in globals() if globals()[x] is param][0]\n",
    "    assert param.min().min()>0, 'negative values'"
   ]
  },
  {
   "cell_type": "code",
   "execution_count": 25,
   "id": "a9a1a840",
   "metadata": {},
   "outputs": [
    {
     "data": {
      "text/html": [
       "<div>\n",
       "<style scoped>\n",
       "    .dataframe tbody tr th:only-of-type {\n",
       "        vertical-align: middle;\n",
       "    }\n",
       "\n",
       "    .dataframe tbody tr th {\n",
       "        vertical-align: top;\n",
       "    }\n",
       "\n",
       "    .dataframe thead th {\n",
       "        text-align: right;\n",
       "    }\n",
       "</style>\n",
       "<table border=\"1\" class=\"dataframe\">\n",
       "  <thead>\n",
       "    <tr style=\"text-align: right;\">\n",
       "      <th></th>\n",
       "      <th>count</th>\n",
       "      <th>mean</th>\n",
       "      <th>std</th>\n",
       "      <th>min</th>\n",
       "      <th>2.5%</th>\n",
       "      <th>50%</th>\n",
       "      <th>97.5%</th>\n",
       "      <th>max</th>\n",
       "    </tr>\n",
       "    <tr>\n",
       "      <th>year_start</th>\n",
       "      <th></th>\n",
       "      <th></th>\n",
       "      <th></th>\n",
       "      <th></th>\n",
       "      <th></th>\n",
       "      <th></th>\n",
       "      <th></th>\n",
       "      <th></th>\n",
       "    </tr>\n",
       "  </thead>\n",
       "  <tbody>\n",
       "    <tr>\n",
       "      <th>2019</th>\n",
       "      <td>1000.0</td>\n",
       "      <td>4.76459</td>\n",
       "      <td>0.230162</td>\n",
       "      <td>4.076506</td>\n",
       "      <td>4.327559</td>\n",
       "      <td>4.764401</td>\n",
       "      <td>5.20549</td>\n",
       "      <td>5.439851</td>\n",
       "    </tr>\n",
       "  </tbody>\n",
       "</table>\n",
       "</div>"
      ],
      "text/plain": [
       "             count     mean       std       min      2.5%       50%    97.5%  \\\n",
       "year_start                                                                     \n",
       "2019        1000.0  4.76459  0.230162  4.076506  4.327559  4.764401  5.20549   \n",
       "\n",
       "                 max  \n",
       "year_start            \n",
       "2019        5.439851  "
      ]
     },
     "execution_count": 25,
     "metadata": {},
     "output_type": "execute_result"
    }
   ],
   "source": [
    "RR_i3.groupby('year_start').mean().apply(pd.DataFrame.describe, percentiles=[0.025,0.975], axis=1)"
   ]
  },
  {
   "cell_type": "code",
   "execution_count": 26,
   "id": "d208e231",
   "metadata": {},
   "outputs": [
    {
     "data": {
      "text/html": [
       "<div>\n",
       "<style scoped>\n",
       "    .dataframe tbody tr th:only-of-type {\n",
       "        vertical-align: middle;\n",
       "    }\n",
       "\n",
       "    .dataframe tbody tr th {\n",
       "        vertical-align: top;\n",
       "    }\n",
       "\n",
       "    .dataframe thead th {\n",
       "        text-align: right;\n",
       "    }\n",
       "</style>\n",
       "<table border=\"1\" class=\"dataframe\">\n",
       "  <thead>\n",
       "    <tr style=\"text-align: right;\">\n",
       "      <th></th>\n",
       "      <th>count</th>\n",
       "      <th>mean</th>\n",
       "      <th>std</th>\n",
       "      <th>min</th>\n",
       "      <th>2.5%</th>\n",
       "      <th>50%</th>\n",
       "      <th>97.5%</th>\n",
       "      <th>max</th>\n",
       "    </tr>\n",
       "    <tr>\n",
       "      <th>year_start</th>\n",
       "      <th></th>\n",
       "      <th></th>\n",
       "      <th></th>\n",
       "      <th></th>\n",
       "      <th></th>\n",
       "      <th></th>\n",
       "      <th></th>\n",
       "      <th></th>\n",
       "    </tr>\n",
       "  </thead>\n",
       "  <tbody>\n",
       "    <tr>\n",
       "      <th>2019</th>\n",
       "      <td>1000.0</td>\n",
       "      <td>10.542478</td>\n",
       "      <td>0.747141</td>\n",
       "      <td>8.263688</td>\n",
       "      <td>9.135932</td>\n",
       "      <td>10.502671</td>\n",
       "      <td>12.040487</td>\n",
       "      <td>12.805677</td>\n",
       "    </tr>\n",
       "  </tbody>\n",
       "</table>\n",
       "</div>"
      ],
      "text/plain": [
       "             count       mean       std       min      2.5%        50%  \\\n",
       "year_start                                                               \n",
       "2019        1000.0  10.542478  0.747141  8.263688  9.135932  10.502671   \n",
       "\n",
       "                97.5%        max  \n",
       "year_start                        \n",
       "2019        12.040487  12.805677  "
      ]
     },
     "execution_count": 26,
     "metadata": {},
     "output_type": "execute_result"
    }
   ],
   "source": [
    "RR_i2.groupby('year_start').mean().apply(pd.DataFrame.describe, percentiles=[0.025,0.975], axis=1)"
   ]
  },
  {
   "cell_type": "code",
   "execution_count": 27,
   "id": "f53b156a",
   "metadata": {},
   "outputs": [
    {
     "data": {
      "text/html": [
       "<div>\n",
       "<style scoped>\n",
       "    .dataframe tbody tr th:only-of-type {\n",
       "        vertical-align: middle;\n",
       "    }\n",
       "\n",
       "    .dataframe tbody tr th {\n",
       "        vertical-align: top;\n",
       "    }\n",
       "\n",
       "    .dataframe thead th {\n",
       "        text-align: right;\n",
       "    }\n",
       "</style>\n",
       "<table border=\"1\" class=\"dataframe\">\n",
       "  <thead>\n",
       "    <tr style=\"text-align: right;\">\n",
       "      <th></th>\n",
       "      <th>count</th>\n",
       "      <th>mean</th>\n",
       "      <th>std</th>\n",
       "      <th>min</th>\n",
       "      <th>2.5%</th>\n",
       "      <th>50%</th>\n",
       "      <th>97.5%</th>\n",
       "      <th>max</th>\n",
       "    </tr>\n",
       "    <tr>\n",
       "      <th>year_start</th>\n",
       "      <th></th>\n",
       "      <th></th>\n",
       "      <th></th>\n",
       "      <th></th>\n",
       "      <th></th>\n",
       "      <th></th>\n",
       "      <th></th>\n",
       "      <th></th>\n",
       "    </tr>\n",
       "  </thead>\n",
       "  <tbody>\n",
       "    <tr>\n",
       "      <th>2019</th>\n",
       "      <td>1000.0</td>\n",
       "      <td>1.743731</td>\n",
       "      <td>0.064248</td>\n",
       "      <td>1.548605</td>\n",
       "      <td>1.622291</td>\n",
       "      <td>1.744116</td>\n",
       "      <td>1.869238</td>\n",
       "      <td>1.948257</td>\n",
       "    </tr>\n",
       "  </tbody>\n",
       "</table>\n",
       "</div>"
      ],
      "text/plain": [
       "             count      mean       std       min      2.5%       50%  \\\n",
       "year_start                                                             \n",
       "2019        1000.0  1.743731  0.064248  1.548605  1.622291  1.744116   \n",
       "\n",
       "               97.5%       max  \n",
       "year_start                      \n",
       "2019        1.869238  1.948257  "
      ]
     },
     "execution_count": 27,
     "metadata": {},
     "output_type": "execute_result"
    }
   ],
   "source": [
    "RR_i1.groupby('year_start').mean().apply(pd.DataFrame.describe, percentiles=[0.025,0.975], axis=1)"
   ]
  },
  {
   "cell_type": "code",
   "execution_count": null,
   "id": "fe6e1115",
   "metadata": {},
   "outputs": [],
   "source": []
  }
 ],
 "metadata": {
  "kernelspec": {
   "display_name": "vivarium_ciff_sam kernel",
   "language": "python",
   "name": "vivarium_ciff_sam"
  },
  "language_info": {
   "codemirror_mode": {
    "name": "ipython",
    "version": 3
   },
   "file_extension": ".py",
   "mimetype": "text/x-python",
   "name": "python",
   "nbconvert_exporter": "python",
   "pygments_lexer": "ipython3",
   "version": "3.6.13"
  }
 },
 "nbformat": 4,
 "nbformat_minor": 5
}
