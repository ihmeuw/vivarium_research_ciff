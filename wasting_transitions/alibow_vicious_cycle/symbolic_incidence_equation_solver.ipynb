{
 "cells": [
  {
   "cell_type": "code",
   "execution_count": 1,
   "id": "024b7d89",
   "metadata": {},
   "outputs": [],
   "source": [
    "import numpy as np, pandas as pd\n",
    "import sympy as sym\n",
    "from sympy import symbols, Matrix, solve, simplify\n",
    "import math"
   ]
  },
  {
   "cell_type": "code",
   "execution_count": 2,
   "id": "f50255c0",
   "metadata": {},
   "outputs": [],
   "source": [
    "#### initialize unknown variable symbols \n",
    "\n",
    "i_S1, i_S2, i_S3 = symbols('i_S1 i_S2 i_S3')\n",
    "i_D1, i_D2, i_D3 = symbols('i_D1 i_D2 i_D3')"
   ]
  },
  {
   "cell_type": "code",
   "execution_count": 3,
   "id": "718f90d2",
   "metadata": {},
   "outputs": [
    {
     "data": {
      "text/plain": [
       "6"
      ]
     },
     "execution_count": 3,
     "metadata": {},
     "output_type": "execute_result"
    }
   ],
   "source": [
    "unknowns = [i_S1, i_S2, i_S3,\n",
    "           i_D1, i_D2, i_D3]\n",
    "len(unknowns)"
   ]
  },
  {
   "cell_type": "code",
   "execution_count": 4,
   "id": "0faddfb3",
   "metadata": {},
   "outputs": [],
   "source": [
    "### initialize known variable symbols\n",
    "\n",
    "p_4, p_3, p_2, p_1 = symbols('p_4 p_3 p_2 p_1')\n",
    "i1, i2, i3 = symbols('i1 i2 i3')\n",
    "di_1, di_2, di_3, di_4 = symbols('di_1 di_2 di_3 di_4')\n",
    "dr_1, dr_2, dr_3, dr_4 = symbols('dr_1 dr_2 dr_3 dr_4')\n",
    "b_D3, b_D2, b_D1 = symbols('b_D3 b_D2 b_D1')\n",
    "m_D3, m_D2, m_D1 = symbols('m_D3 m_D2 m_D1')\n",
    "r_D3, r_D2, r_D1tx, r_D1ux = symbols('r_D3 r_D2 r_D1tx r_D1ux')"
   ]
  },
  {
   "cell_type": "code",
   "execution_count": 5,
   "id": "344b3a40",
   "metadata": {},
   "outputs": [],
   "source": [
    "#[{unknown:coefficient, unknown:coefficient}, right hand side]\n",
    "\n",
    "eq1 = [{i_S1:1, i_D1:1}, i1 * p_2]\n",
    "eq2 = [{i_S2:1, i_D2:1}, i2 * p_3]\n",
    "eq3 = [{i_S3:1, i_D3:1}, i3 * p_4]\n",
    "eq4 = [{i_D2:1, i_D3:-1}, di_3 + b_D3 + r_D2 + r_D1tx - r_D3 - dr_3 - m_D3]\n",
    "eq5 = [{i_D1:1, i_D2:-1}, di_1 + r_D1ux + b_D2 - r_D2 - dr_2 - m_D2]\n",
    "eq6 = [{i_D1:1}, dr_1 + m_D1 + r_D1tx + r_D1ux - di_1 - b_D1]"
   ]
  },
  {
   "cell_type": "code",
   "execution_count": 6,
   "id": "1fc3e502",
   "metadata": {},
   "outputs": [
    {
     "data": {
      "text/plain": [
       "6"
      ]
     },
     "execution_count": 6,
     "metadata": {},
     "output_type": "execute_result"
    }
   ],
   "source": [
    "eqs = [eq1,eq2,eq3,eq4,eq5,eq6]\n",
    "len(eqs)"
   ]
  },
  {
   "cell_type": "code",
   "execution_count": 7,
   "id": "311288cf",
   "metadata": {},
   "outputs": [],
   "source": [
    "def build_matrix(eqns, unknowns):\n",
    "    \"\"\"\n",
    "    INPUT\n",
    "    ----\n",
    "    eqns: a list of equations. These are of the form:\n",
    "          [{x_i:a, x_j:b}, y] for the equation:\n",
    "          ax_i + bx_j = y\n",
    "    unknowns: a list of sympy unknowns\n",
    "    ----\n",
    "    OUTPUT\n",
    "    ----\n",
    "    A:  a matrix containing the coefficients of left-hand side of all eq in eqns.\n",
    "        - nrows = number of equations\n",
    "        - rcols = number of unknowns\n",
    "    b: an nx1 matrix containing the right-hand side of all the eqns\n",
    "    x: a sympy matrix of the unknowns\n",
    "    \n",
    "    Note that Ax = b\n",
    "    \"\"\"\n",
    "    n_eqns = len(eqns)\n",
    "    n_unknowns = len(unknowns)\n",
    "\n",
    "    # frame for matrix/LHS equation coefficients.\n",
    "    # nrows = n_eqns, ncols = n_unknowns\n",
    "    A = pd.DataFrame(\n",
    "        index = range(n_eqns),\n",
    "        columns = unknowns,\n",
    "        data = np.zeros([n_eqns,n_unknowns])\n",
    "    )\n",
    "\n",
    "    # frame for RHS of equations\n",
    "    b = pd.DataFrame(index = range(n_eqns), columns = ['val'])\n",
    "    \n",
    "    # define helper fn\n",
    "    def add_eq(terms, y, i):\n",
    "        \"\"\"\n",
    "        INPUT\n",
    "        ----\n",
    "        To input i^(th) equation y = ax_i + bx_j, add_eq wants:\n",
    "            - terms = {x_i:a, x_j:b}\n",
    "            - y = y\n",
    "            - i\n",
    "        ----\n",
    "        FUNCTION\n",
    "        ----\n",
    "        - Adds coefficients to matrix A.\n",
    "        - Adds y to row i of vector b\n",
    "        ----\n",
    "        EXAMPLE\n",
    "        ----\n",
    "        For y = ax_i + bx_j:\n",
    "        - adds \"a\" to column \"x_i\" row i of A\n",
    "        - adds \"b\" to column \"x_j\" row i of A\n",
    "        - adds \"y\" to row i of b\n",
    "        \"\"\"\n",
    "        for x in terms.keys():\n",
    "            A[x][i] = terms[x]\n",
    "        b.iloc[i] = y\n",
    "\n",
    "    # populate LHS/RHS\n",
    "    i = 0\n",
    "    for eq in eqns:\n",
    "        add_eq(terms=eq[0], y=eq[1], i=i)\n",
    "        i += 1\n",
    "\n",
    "    # convert to sympy matrices\n",
    "    A = sym.Matrix(A)\n",
    "    b = sym.Matrix(b)\n",
    "    x = sym.Matrix(unknowns) #vars to solve for\n",
    "\n",
    "    return A, x, b"
   ]
  },
  {
   "cell_type": "code",
   "execution_count": 8,
   "id": "dde95361",
   "metadata": {},
   "outputs": [],
   "source": [
    "A1, x1, b1 = build_matrix(eqs, unknowns)"
   ]
  },
  {
   "cell_type": "code",
   "execution_count": 9,
   "id": "73a88984",
   "metadata": {},
   "outputs": [
    {
     "data": {
      "text/latex": [
       "$\\displaystyle \\left[\\begin{matrix}1.0 & 0.0 & 0.0 & 1.0 & 0.0 & 0.0\\\\0.0 & 1.0 & 0.0 & 0.0 & 1.0 & 0.0\\\\0.0 & 0.0 & 1.0 & 0.0 & 0.0 & 1.0\\\\0.0 & 0.0 & 0.0 & 0.0 & 1.0 & -1.0\\\\0.0 & 0.0 & 0.0 & 1.0 & -1.0 & 0.0\\\\0.0 & 0.0 & 0.0 & 1.0 & 0.0 & 0.0\\end{matrix}\\right]$"
      ],
      "text/plain": [
       "Matrix([\n",
       "[1.0, 0.0, 0.0, 1.0,  0.0,  0.0],\n",
       "[0.0, 1.0, 0.0, 0.0,  1.0,  0.0],\n",
       "[0.0, 0.0, 1.0, 0.0,  0.0,  1.0],\n",
       "[0.0, 0.0, 0.0, 0.0,  1.0, -1.0],\n",
       "[0.0, 0.0, 0.0, 1.0, -1.0,  0.0],\n",
       "[0.0, 0.0, 0.0, 1.0,  0.0,  0.0]])"
      ]
     },
     "execution_count": 9,
     "metadata": {},
     "output_type": "execute_result"
    }
   ],
   "source": [
    "A1"
   ]
  },
  {
   "cell_type": "code",
   "execution_count": 10,
   "id": "2922658a",
   "metadata": {},
   "outputs": [
    {
     "data": {
      "text/plain": [
       "(6, 6)"
      ]
     },
     "execution_count": 10,
     "metadata": {},
     "output_type": "execute_result"
    }
   ],
   "source": [
    "A1.shape"
   ]
  },
  {
   "cell_type": "code",
   "execution_count": 11,
   "id": "22155584",
   "metadata": {},
   "outputs": [
    {
     "data": {
      "text/latex": [
       "$\\displaystyle \\left[\\begin{matrix}i_{S1}\\\\i_{S2}\\\\i_{S3}\\\\i_{D1}\\\\i_{D2}\\\\i_{D3}\\end{matrix}\\right]$"
      ],
      "text/plain": [
       "Matrix([\n",
       "[i_S1],\n",
       "[i_S2],\n",
       "[i_S3],\n",
       "[i_D1],\n",
       "[i_D2],\n",
       "[i_D3]])"
      ]
     },
     "execution_count": 11,
     "metadata": {},
     "output_type": "execute_result"
    }
   ],
   "source": [
    "x1"
   ]
  },
  {
   "cell_type": "code",
   "execution_count": 12,
   "id": "1eb5f591",
   "metadata": {},
   "outputs": [
    {
     "data": {
      "text/plain": [
       "(6, 1)"
      ]
     },
     "execution_count": 12,
     "metadata": {},
     "output_type": "execute_result"
    }
   ],
   "source": [
    "x1.shape"
   ]
  },
  {
   "cell_type": "code",
   "execution_count": 13,
   "id": "2404464d",
   "metadata": {},
   "outputs": [
    {
     "data": {
      "text/latex": [
       "$\\displaystyle \\left[\\begin{matrix}i_{1} p_{2}\\\\i_{2} p_{3}\\\\i_{3} p_{4}\\\\b_{D3} + di_{3} - dr_{3} - m_{D3} + r_{D1tx} + r_{D2} - r_{D3}\\\\b_{D2} + di_{1} - dr_{2} - m_{D2} + r_{D1ux} - r_{D2}\\\\- b_{D1} - di_{1} + dr_{1} + m_{D1} + r_{D1tx} + r_{D1ux}\\end{matrix}\\right]$"
      ],
      "text/plain": [
       "Matrix([\n",
       "[                                          i1*p_2],\n",
       "[                                          i2*p_3],\n",
       "[                                          i3*p_4],\n",
       "[b_D3 + di_3 - dr_3 - m_D3 + r_D1tx + r_D2 - r_D3],\n",
       "[       b_D2 + di_1 - dr_2 - m_D2 + r_D1ux - r_D2],\n",
       "[    -b_D1 - di_1 + dr_1 + m_D1 + r_D1tx + r_D1ux]])"
      ]
     },
     "execution_count": 13,
     "metadata": {},
     "output_type": "execute_result"
    }
   ],
   "source": [
    "b1"
   ]
  },
  {
   "cell_type": "code",
   "execution_count": 14,
   "id": "51464709",
   "metadata": {},
   "outputs": [
    {
     "data": {
      "text/plain": [
       "(6, 1)"
      ]
     },
     "execution_count": 14,
     "metadata": {},
     "output_type": "execute_result"
    }
   ],
   "source": [
    "b1.shape"
   ]
  },
  {
   "cell_type": "code",
   "execution_count": 15,
   "id": "9630be7a",
   "metadata": {},
   "outputs": [
    {
     "data": {
      "text/plain": [
       "{i_S1: b_D1 + di_1 - dr_1 + i1*p_2 - m_D1 - r_D1tx - r_D1ux,\n",
       " i_S2: b_D1 + b_D2 + 2.0*di_1 - dr_1 - dr_2 + i2*p_3 - m_D1 - m_D2 - r_D1tx - r_D2,\n",
       " i_S3: b_D1 + b_D2 + b_D3 + 2.0*di_1 + di_3 - dr_1 - dr_2 - dr_3 + i3*p_4 - m_D1 - m_D2 - m_D3 - r_D3,\n",
       " i_D1: -b_D1 - di_1 + dr_1 + m_D1 + r_D1tx + r_D1ux,\n",
       " i_D2: -b_D1 - b_D2 - 2.0*di_1 + dr_1 + dr_2 + m_D1 + m_D2 + r_D1tx + r_D2,\n",
       " i_D3: -b_D1 - b_D2 - b_D3 - 2.0*di_1 - di_3 + dr_1 + dr_2 + dr_3 + m_D1 + m_D2 + m_D3 + r_D3}"
      ]
     },
     "execution_count": 15,
     "metadata": {},
     "output_type": "execute_result"
    }
   ],
   "source": [
    "result = sym.solve(A1 * x1 - b1, x1)#, dict=True, set=True)\n",
    "result"
   ]
  },
  {
   "cell_type": "code",
   "execution_count": null,
   "id": "d9f574d5",
   "metadata": {},
   "outputs": [],
   "source": []
  }
 ],
 "metadata": {
  "kernelspec": {
   "display_name": "Python 3",
   "language": "python",
   "name": "python3"
  },
  "language_info": {
   "codemirror_mode": {
    "name": "ipython",
    "version": 3
   },
   "file_extension": ".py",
   "mimetype": "text/x-python",
   "name": "python",
   "nbconvert_exporter": "python",
   "pygments_lexer": "ipython3",
   "version": "3.6.13"
  }
 },
 "nbformat": 4,
 "nbformat_minor": 5
}
