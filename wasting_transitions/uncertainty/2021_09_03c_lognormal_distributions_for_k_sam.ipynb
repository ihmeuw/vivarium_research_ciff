{
 "cells": [
  {
   "cell_type": "code",
   "execution_count": 1,
   "id": "fbd72e83",
   "metadata": {},
   "outputs": [],
   "source": [
    "import numpy as np\n",
    "import matplotlib.pyplot as plt\n",
    "from scipy import stats"
   ]
  },
  {
   "cell_type": "code",
   "execution_count": null,
   "id": "f4f16cde",
   "metadata": {},
   "outputs": [],
   "source": []
  },
  {
   "cell_type": "code",
   "execution_count": 89,
   "id": "6bb1602d",
   "metadata": {},
   "outputs": [
    {
     "name": "stdout",
     "output_type": "stream",
     "text": [
      "6.672330927044911 6.85\n"
     ]
    }
   ],
   "source": [
    "print(np.sqrt(5.3*8.4), (5.3+8.4)/2)"
   ]
  },
  {
   "cell_type": "markdown",
   "id": "11a453ca",
   "metadata": {},
   "source": [
    "# Define functions to create a lognormal distribution given its median and either one or two quantiles\n",
    "\n",
    "Note that since lognormal is a 2-parameter distribution, specifying the median and one other quantile will determine the distribution exactly, whereas specifying the median and two quantiles is an overdetermined system, so the resulting distribution in the second case will in general only approximate the specified quantiles."
   ]
  },
  {
   "cell_type": "code",
   "execution_count": 2,
   "id": "ee4367ef",
   "metadata": {},
   "outputs": [
    {
     "data": {
      "text/plain": [
       "array([1.09861229, 1.38629436])"
      ]
     },
     "execution_count": 2,
     "metadata": {},
     "output_type": "execute_result"
    }
   ],
   "source": [
    "np.log([3,4])"
   ]
  },
  {
   "cell_type": "code",
   "execution_count": 85,
   "id": "d0891868",
   "metadata": {},
   "outputs": [],
   "source": [
    "def lognorm_from_median_and_quantile(median, quantile, quantile_rank):\n",
    "    \"\"\"Returns a frozen lognormal distribution with the specified median and quantile\n",
    "    of rank quantile_rank, which must be different from 0.5.\n",
    "    \"\"\"\n",
    "    # Let Y ~ Norm(mu, sigma^2) and X = exp(Y), where mu = log(median)\n",
    "    # so X ~ Lognorm(s=sigma, scale=exp(mu)) in scipy's notation.\n",
    "    # We need to determine sigma from the median and quantile.\n",
    "    \n",
    "    # quantile of standard normal distribution corresponding to quantile_rank\n",
    "    #(quantile is approximately 1.96 for quantile_rank=0.975)\n",
    "    stdnorm_quantile = stats.norm().ppf(quantile_rank)\n",
    "\n",
    "    mu = np.log(median) # mean of normal distribution for Y = log(X)\n",
    "    sigma = (np.log(quantile) - mu) / stdnorm_quantile # std dev of normal distribution for Y=log(X)\n",
    "\n",
    "    # Frozen lognormal distribution for X = exp(Y)\n",
    "    # (s=sigma is the shape parameter; the scale parameter is exp(mu), which equals the median)\n",
    "    return stats.lognorm(s=sigma, scale=median)\n",
    "\n",
    "def lognorm_from_median_lower_upper(median, lower, upper, quantile_ranks=(0.025,0.975)):\n",
    "    \"\"\"Returns a frozen lognormal distribution with the specified median, such that\n",
    "    (lower, upper) are approximately equal to the quantiles with ranks\n",
    "    (quantile_ranks[0], quantile_ranks[1]). More precisely, if q0 and q1 are\n",
    "    the quantiles of the returned distribution with ranks quantile_ranks[0]\n",
    "    and quantile_ranks[1], respectively, then q1/q0 = upper/lower. If the \n",
    "    quantile ranks are symmetric about 0.5, lower and upper will coincide with\n",
    "    q0 and q1 precisely when median^2 = lower*upper.\n",
    "    \"\"\"\n",
    "    # Let Y ~ Norm(mu, sigma^2) and X = exp(Y), where mu = log(median)\n",
    "    # so X ~ Lognorm(s=sigma, scale=exp(mu)) in scipy's notation.\n",
    "    # We will determine sigma from the two specified quantiles lower and upper.\n",
    "    \n",
    "    # mean (and median) of the normal random variable Y = log(X)\n",
    "    mu = np.log(median)\n",
    "    # quantiles of the standard normal distribution corresponding to quantile_ranks\n",
    "    stdnorm_quantiles = stats.norm.ppf(quantile_ranks)\n",
    "    # quantiles of Y = log(X) corresponding to the quantiles (lower, upper) for X\n",
    "    norm_quantiles = np.log([lower, upper])\n",
    "    # standard deviation of Y = log(X) computed from the above quantiles for Y\n",
    "    # and the corresponding standard normal quantiles\n",
    "    sigma = (norm_quantiles[1] - norm_quantiles[0]) / (stdnorm_quantiles[1] - stdnorm_quantiles[0])\n",
    "    # Frozen lognormal distribution for X = exp(Y)\n",
    "    # (s=sigma is the shape parameter; the scale parameter is exp(mu), which equals the median)\n",
    "    return stats.lognorm(s=sigma, scale=median)\n",
    "\n",
    "def lognorm_from_median_lower_upper_exact(\n",
    "    median, lower, upper, desired_prob=.95, initial_p0=None, max_iterations=1000, rtol=1e-05, atol=1e-08):\n",
    "    \"\"\"Returns a frozen lognormal distribution with the specified median, such that\n",
    "    the probability content of the interval (lower, upper) is `desired_prob`,\n",
    "    assuming such a distribution exists. If no such distribution exists, returns its best\n",
    "    guess after `max_iterations` iterations of binary search.\n",
    "    \"\"\"\n",
    "    residual_prob = 1-desired_prob\n",
    "    # Initialize lower quantile rank p0\n",
    "    p0 = residual_prob/2 if initial_p0 is None else initial_p0\n",
    "    # Do a binary search for the correct lower quantile rank p0\n",
    "    found = False\n",
    "    iterations = 0\n",
    "    while not found and iterations <= max_iterations:\n",
    "        dist = lognorm_from_median_lower_upper(median, lower, upper, (p0, p0+desired_prob))\n",
    "        prob = dist.cdf(upper) - dist.cdf(lower)\n",
    "        if np.allclose(prob, desired_prob, rtol, atol):\n",
    "            found = True\n",
    "        # These checks assume median is contained in the interval (lower, upper)\n",
    "        elif prob < desired_prob:\n",
    "            # need to reduce spread -> move p0 left\n",
    "            residual_prob = p0\n",
    "            p0 = p0/2\n",
    "        else: # prob > desired_prob\n",
    "            # need to increase spread -> move p0 right\n",
    "            p0 = (p0+residual_prob)/2\n",
    "        iterations +=1\n",
    "    print(iterations)\n",
    "    return dist"
   ]
  },
  {
   "cell_type": "code",
   "execution_count": 32,
   "id": "668a5b88",
   "metadata": {},
   "outputs": [
    {
     "data": {
      "text/plain": [
       "0.037500000000000006"
      ]
     },
     "execution_count": 32,
     "metadata": {},
     "output_type": "execute_result"
    }
   ],
   "source": [
    "(.05+.025)/2"
   ]
  },
  {
   "cell_type": "code",
   "execution_count": 38,
   "id": "e16477e2",
   "metadata": {},
   "outputs": [
    {
     "name": "stdout",
     "output_type": "stream",
     "text": [
      "18\n"
     ]
    },
    {
     "data": {
      "text/plain": [
       "{'s': 0.1174063100590593, 'scale': 6.7}"
      ]
     },
     "execution_count": 38,
     "metadata": {},
     "output_type": "execute_result"
    }
   ],
   "source": [
    "dist_exact = lognorm_from_median_lower_upper_exact(median, lower, upper)\n",
    "dist_exact.kwds"
   ]
  },
  {
   "cell_type": "markdown",
   "id": "cc4f24a0",
   "metadata": {},
   "source": [
    "# Check some standard normal quantiles"
   ]
  },
  {
   "cell_type": "code",
   "execution_count": 4,
   "id": "3b0e7662",
   "metadata": {},
   "outputs": [
    {
     "data": {
      "text/plain": [
       "1.959963984540054"
      ]
     },
     "execution_count": 4,
     "metadata": {},
     "output_type": "execute_result"
    }
   ],
   "source": [
    "stats.norm.ppf(0.975)"
   ]
  },
  {
   "cell_type": "code",
   "execution_count": 5,
   "id": "7ad4db7c",
   "metadata": {},
   "outputs": [
    {
     "data": {
      "text/plain": [
       "3.9199279690801085"
      ]
     },
     "execution_count": 5,
     "metadata": {},
     "output_type": "execute_result"
    }
   ],
   "source": [
    "stats.norm.ppf(0.975) - stats.norm.ppf(0.025)"
   ]
  },
  {
   "cell_type": "markdown",
   "id": "214af34e",
   "metadata": {},
   "source": [
    "# Create 3 slightly different lognormal distributions for K parameter from Isanaka paper"
   ]
  },
  {
   "cell_type": "code",
   "execution_count": 6,
   "id": "20cead9c",
   "metadata": {},
   "outputs": [],
   "source": [
    "median = 6.7\n",
    "lower = 5.3\n",
    "upper = 8.4\n",
    "\n",
    "dist_lower = lognorm_from_median_and_quantile(median, lower, 0.025)\n",
    "dist_upper = lognorm_from_median_and_quantile(median, upper, 0.975)\n",
    "dist_both = lognorm_from_median_lower_upper(median, lower, upper)"
   ]
  },
  {
   "cell_type": "markdown",
   "id": "af2de7e9",
   "metadata": {},
   "source": [
    "# Verify that the median is 6.7 for all three"
   ]
  },
  {
   "cell_type": "code",
   "execution_count": 7,
   "id": "879f2c3c",
   "metadata": {},
   "outputs": [
    {
     "name": "stdout",
     "output_type": "stream",
     "text": [
      "[6.7, 6.7, 6.7]\n"
     ]
    }
   ],
   "source": [
    "print([dist.median() for dist in [dist_lower, dist_upper, dist_both]])"
   ]
  },
  {
   "cell_type": "markdown",
   "id": "df1c48ad",
   "metadata": {},
   "source": [
    "# Check mean, variance, skew, kurtosis for each version"
   ]
  },
  {
   "cell_type": "code",
   "execution_count": 8,
   "id": "b6e7dad3",
   "metadata": {},
   "outputs": [
    {
     "data": {
      "text/plain": [
       "(array(6.74808618), array(0.65598273), array(0.36179892), array(0.2336203))"
      ]
     },
     "execution_count": 8,
     "metadata": {},
     "output_type": "execute_result"
    }
   ],
   "source": [
    "dist_lower.stats('mvsk')"
   ]
  },
  {
   "cell_type": "code",
   "execution_count": 9,
   "id": "d6ca31ec",
   "metadata": {},
   "outputs": [
    {
     "data": {
      "text/plain": [
       "(array(6.74473924), array(0.60956738), array(0.34882084), array(0.21710108))"
      ]
     },
     "execution_count": 9,
     "metadata": {},
     "output_type": "execute_result"
    }
   ],
   "source": [
    "dist_upper.stats('mvsk')"
   ]
  },
  {
   "cell_type": "code",
   "execution_count": 10,
   "id": "77166f6e",
   "metadata": {},
   "outputs": [
    {
     "data": {
      "text/plain": [
       "(array(6.74639747), array(0.6325494), array(0.35530706), array(0.22528056))"
      ]
     },
     "execution_count": 10,
     "metadata": {},
     "output_type": "execute_result"
    }
   ],
   "source": [
    "dist_both.stats('mvsk')"
   ]
  },
  {
   "cell_type": "code",
   "execution_count": 25,
   "id": "773e73c6",
   "metadata": {},
   "outputs": [
    {
     "data": {
      "text/plain": [
       "{'s': 0.11959439443161571, 'scale': 6.7}"
      ]
     },
     "execution_count": 25,
     "metadata": {},
     "output_type": "execute_result"
    }
   ],
   "source": [
    "dist_lower.kwds"
   ]
  },
  {
   "cell_type": "code",
   "execution_count": 26,
   "id": "9787f99d",
   "metadata": {},
   "outputs": [
    {
     "data": {
      "text/plain": [
       "{'s': 0.11537159929263298, 'scale': 6.7}"
      ]
     },
     "execution_count": 26,
     "metadata": {},
     "output_type": "execute_result"
    }
   ],
   "source": [
    "dist_upper.kwds"
   ]
  },
  {
   "cell_type": "code",
   "execution_count": 27,
   "id": "da73db65",
   "metadata": {},
   "outputs": [
    {
     "data": {
      "text/plain": [
       "{'s': 0.11748299686212435, 'scale': 6.7}"
      ]
     },
     "execution_count": 27,
     "metadata": {},
     "output_type": "execute_result"
    }
   ],
   "source": [
    "dist_both.kwds"
   ]
  },
  {
   "cell_type": "markdown",
   "id": "9415528b",
   "metadata": {},
   "source": [
    "# Check 95% interval = `(dist.ppf(0.025), dist.ppf(0.975))` for each version\n",
    "\n",
    "median = 6.7\n",
    "lower = 5.3\n",
    "upper = 8.4"
   ]
  },
  {
   "cell_type": "code",
   "execution_count": 11,
   "id": "9330129a",
   "metadata": {},
   "outputs": [
    {
     "data": {
      "text/plain": [
       "(5.299999999999999, 8.469811320754719)"
      ]
     },
     "execution_count": 11,
     "metadata": {},
     "output_type": "execute_result"
    }
   ],
   "source": [
    "dist_lower.interval(.95)"
   ]
  },
  {
   "cell_type": "code",
   "execution_count": 12,
   "id": "51f20ea8",
   "metadata": {},
   "outputs": [
    {
     "data": {
      "text/plain": [
       "(5.34404761904762, 8.399999999999999)"
      ]
     },
     "execution_count": 12,
     "metadata": {},
     "output_type": "execute_result"
    }
   ],
   "source": [
    "dist_upper.interval(.95)"
   ]
  },
  {
   "cell_type": "code",
   "execution_count": 13,
   "id": "6b75ac5c",
   "metadata": {},
   "outputs": [
    {
     "data": {
      "text/plain": [
       "(5.321978239428678, 8.434833436075643)"
      ]
     },
     "execution_count": 13,
     "metadata": {},
     "output_type": "execute_result"
    }
   ],
   "source": [
    "dist_both.interval(.95)"
   ]
  },
  {
   "cell_type": "code",
   "execution_count": 87,
   "id": "b1c5da36",
   "metadata": {},
   "outputs": [
    {
     "name": "stdout",
     "output_type": "stream",
     "text": [
      "1.5849056603773588 1.5849056603773586\n"
     ]
    }
   ],
   "source": [
    "i = dist_both.interval(.95)\n",
    "print(i[1]/i[0], 8.4/5.3)"
   ]
  },
  {
   "cell_type": "code",
   "execution_count": 14,
   "id": "12301f67",
   "metadata": {},
   "outputs": [
    {
     "data": {
      "text/plain": [
       "8.399999999999999"
      ]
     },
     "execution_count": 14,
     "metadata": {},
     "output_type": "execute_result"
    }
   ],
   "source": [
    "dist_upper.ppf(.975)"
   ]
  },
  {
   "cell_type": "code",
   "execution_count": 15,
   "id": "609d06e3",
   "metadata": {},
   "outputs": [
    {
     "data": {
      "text/plain": [
       "3.112855196646964"
      ]
     },
     "execution_count": 15,
     "metadata": {},
     "output_type": "execute_result"
    }
   ],
   "source": [
    "dist_both.ppf(.975) - dist_both.ppf(.025)"
   ]
  },
  {
   "cell_type": "code",
   "execution_count": 28,
   "id": "ccfdba06",
   "metadata": {},
   "outputs": [
    {
     "data": {
      "text/plain": [
       "0.9498578588175031"
      ]
     },
     "execution_count": 28,
     "metadata": {},
     "output_type": "execute_result"
    }
   ],
   "source": [
    "dist_both.cdf(8.4) - dist_both.cdf(5.3)"
   ]
  },
  {
   "cell_type": "code",
   "execution_count": 30,
   "id": "f208a554",
   "metadata": {},
   "outputs": [
    {
     "data": {
      "text/plain": [
       "0.9539080819334941"
      ]
     },
     "execution_count": 30,
     "metadata": {},
     "output_type": "execute_result"
    }
   ],
   "source": [
    "(dist_upper.cdf(8.4) - dist_upper.cdf(5.3))"
   ]
  },
  {
   "cell_type": "code",
   "execution_count": 31,
   "id": "ea45b7ec",
   "metadata": {},
   "outputs": [
    {
     "data": {
      "text/plain": [
       "0.9456717397479854"
      ]
     },
     "execution_count": 31,
     "metadata": {},
     "output_type": "execute_result"
    }
   ],
   "source": [
    "(dist_lower.cdf(8.4) - dist_lower.cdf(5.3))"
   ]
  },
  {
   "cell_type": "code",
   "execution_count": 36,
   "id": "fd19ee65",
   "metadata": {},
   "outputs": [
    {
     "data": {
      "text/plain": [
       "0.9500073919872631"
      ]
     },
     "execution_count": 36,
     "metadata": {},
     "output_type": "execute_result"
    }
   ],
   "source": [
    "(dist_exact.cdf(8.4) - dist_exact.cdf(5.3))"
   ]
  },
  {
   "cell_type": "code",
   "execution_count": 22,
   "id": "0680ae7f",
   "metadata": {},
   "outputs": [],
   "source": [
    "def relative_error(x,y):\n",
    "    return (x-y)/y"
   ]
  },
  {
   "cell_type": "code",
   "execution_count": 35,
   "id": "b84e9893",
   "metadata": {},
   "outputs": [
    {
     "name": "stdout",
     "output_type": "stream",
     "text": [
      "[-0.004556063423173268, 0.004113770456309603, -0.00014962229736514843, 7.78103922440353e-06]\n"
     ]
    }
   ],
   "source": [
    "print([relative_error(dist.cdf(8.4)-dist.cdf(5.3), .95) for dist in [dist_lower, dist_upper, dist_both, dist_exact]])"
   ]
  },
  {
   "cell_type": "markdown",
   "id": "9c6b3d1f",
   "metadata": {},
   "source": [
    "# Plot densities"
   ]
  },
  {
   "cell_type": "code",
   "execution_count": 39,
   "id": "4b9d4dec",
   "metadata": {},
   "outputs": [],
   "source": [
    "def plot_pdf(ax, dist, label):\n",
    "    x = np.linspace(dist.ppf(0.01), dist.ppf(0.99), 100)\n",
    "    ax.plot(x, dist.pdf(x), lw=2, alpha=0.8, label=label)"
   ]
  },
  {
   "cell_type": "code",
   "execution_count": 41,
   "id": "a77f1b18",
   "metadata": {},
   "outputs": [
    {
     "data": {
      "image/png": "[encoded data removed]",
      "text/plain": [
       "<Figure size 1008x576 with 1 Axes>"
      ]
     },
     "metadata": {
      "needs_background": "light"
     },
     "output_type": "display_data"
    }
   ],
   "source": [
    "fig, ax = plt.subplots(figsize=(14,8))\n",
    "plot_pdf(ax, dist_lower, '2.5% quantile = 5.3')\n",
    "plot_pdf(ax, dist_upper, '97.5% quantile = 8.4')\n",
    "plot_pdf(ax, dist_both, 'shape determined using both 5.3 and 8.4')\n",
    "plot_pdf(ax, dist_exact, '95% of probability is in (5.3, 8.4)')\n",
    "ax.legend()\n",
    "ax.set_title(\"Probability density functions for three lognormal distributions with median 6.7\")\n",
    "ax.set_xlabel('K value for severe acute malnutrition from Isanaka')\n",
    "ax.set_ylabel('Probability density representing parameter uncertainty');"
   ]
  },
  {
   "cell_type": "markdown",
   "id": "96d5c0e5",
   "metadata": {},
   "source": [
    "# Let's go with the distribution that uses both 5.3 and 8.4 since it's in between"
   ]
  },
  {
   "cell_type": "code",
   "execution_count": 73,
   "id": "8af84305",
   "metadata": {},
   "outputs": [
    {
     "name": "stdout",
     "output_type": "stream",
     "text": [
      "58\n",
      "d0.kwds={'s': 0.35365301915106695, 'scale': 5}, d1.kwds={'s': 0.30660667488965027, 'scale': 5}\n",
      "[(2.5000000000000004, 9.999999999999998), (2.7414853504743113, 9.119144114950199)]\n",
      "[0.9190379605880833, 0.9499999472314544]\n"
     ]
    },
    {
     "data": {
      "text/plain": [
       "<matplotlib.legend.Legend at 0x2b8c6f703580>"
      ]
     },
     "execution_count": 73,
     "metadata": {},
     "output_type": "execute_result"
    },
    {
     "data": {
      "image/png": "[encoded data removed]",
      "text/plain": [
       "<Figure size 432x288 with 1 Axes>"
      ]
     },
     "metadata": {
      "needs_background": "light"
     },
     "output_type": "display_data"
    }
   ],
   "source": [
    "d0 = lognorm_from_median_lower_upper(5,3,12)\n",
    "d1 = lognorm_from_median_lower_upper_exact(5,3,12, .95, rtol=1e-7)\n",
    "print(f\"{d0.kwds=}, {d1.kwds=}\")\n",
    "print([d.interval(.95) for d in [d0,d1]])\n",
    "print([d.cdf(12)-d.cdf(3) for d in [d0,d1]])\n",
    "plot_pdf(plt.gca(), d0, 'inexact')\n",
    "plot_pdf(plt.gca(), d1, 'exact')\n",
    "plt.legend()"
   ]
  },
  {
   "cell_type": "code",
   "execution_count": 49,
   "id": "e40cf471",
   "metadata": {},
   "outputs": [
    {
     "data": {
      "text/plain": [
       "(2.741445851775875, 9.11927550340099)"
      ]
     },
     "execution_count": 49,
     "metadata": {},
     "output_type": "execute_result"
    }
   ],
   "source": [
    "d1.interval(.95)"
   ]
  },
  {
   "cell_type": "code",
   "execution_count": 50,
   "id": "6439b174",
   "metadata": {},
   "outputs": [
    {
     "data": {
      "text/plain": [
       "0.9499955061697142"
      ]
     },
     "execution_count": 50,
     "metadata": {},
     "output_type": "execute_result"
    }
   ],
   "source": [
    "d1.cdf(12)-d1.cdf(3)"
   ]
  },
  {
   "cell_type": "code",
   "execution_count": 72,
   "id": "f3c000b0",
   "metadata": {},
   "outputs": [
    {
     "name": "stdout",
     "output_type": "stream",
     "text": [
      "27\n",
      "{'s': 0.1749046976542692, 'scale': 2}\n",
      "(1.4195505003202786, 2.817793378324703)\n",
      "0.9999999191879665-0.050006223576026035 = 0.9499936956119405\n"
     ]
    },
    {
     "data": {
      "image/png": "[encoded data removed]",
      "text/plain": [
       "<Figure size 432x288 with 1 Axes>"
      ]
     },
     "metadata": {
      "needs_background": "light"
     },
     "output_type": "display_data"
    }
   ],
   "source": [
    "d2 = lognorm_from_median_lower_upper_exact(2,1.5,5, .95)\n",
    "print(d2.kwds)\n",
    "print(d2.interval(.95))\n",
    "print(f\"{d2.cdf(5)}-{d2.cdf(1.5)} = {d2.cdf(5)-d2.cdf(1.5)}\")\n",
    "fig, ax = plt.subplots()\n",
    "plot_pdf(ax, d2, '')"
   ]
  },
  {
   "cell_type": "code",
   "execution_count": 69,
   "id": "0febd5bc",
   "metadata": {},
   "outputs": [
    {
     "data": {
      "text/plain": [
       "array([1.02190658e-02, 8.08120335e-08])"
      ]
     },
     "execution_count": 69,
     "metadata": {},
     "output_type": "execute_result"
    }
   ],
   "source": [
    "d2.sf([3,5])"
   ]
  },
  {
   "cell_type": "code",
   "execution_count": 63,
   "id": "3498cd19",
   "metadata": {},
   "outputs": [
    {
     "data": {
      "text/plain": [
       "2.0308268130316924"
      ]
     },
     "execution_count": 63,
     "metadata": {},
     "output_type": "execute_result"
    }
   ],
   "source": [
    "d2.mean()"
   ]
  },
  {
   "cell_type": "code",
   "execution_count": 75,
   "id": "16f0147e",
   "metadata": {},
   "outputs": [
    {
     "name": "stdout",
     "output_type": "stream",
     "text": [
      "96\n",
      "{'s': 0.1108482958162959, 'scale': 5}\n",
      "(4.02360893485017, 6.213327489027197)\n",
      "0.9499928682662206\n"
     ]
    },
    {
     "data": {
      "image/png": "[encoded data removed]",
      "text/plain": [
       "<Figure size 432x288 with 1 Axes>"
      ]
     },
     "metadata": {
      "needs_background": "light"
     },
     "output_type": "display_data"
    }
   ],
   "source": [
    "m=5\n",
    "l=1.5\n",
    "u=6\n",
    "prob=.95\n",
    "d2 = lognorm_from_median_lower_upper_exact(m,l,u, prob)\n",
    "print(d2.kwds)\n",
    "print(d2.interval(prob))\n",
    "print(d2.cdf(u)-d2.cdf(l))\n",
    "fig, ax = plt.subplots()\n",
    "plot_pdf(ax, d2, '')"
   ]
  },
  {
   "cell_type": "code",
   "execution_count": 81,
   "id": "edca80ef",
   "metadata": {},
   "outputs": [
    {
     "name": "stdout",
     "output_type": "stream",
     "text": [
      "8.79702340160916e-28 0.9499928682662206\n"
     ]
    }
   ],
   "source": [
    "print(d2.cdf(l), d2.cdf(u))"
   ]
  },
  {
   "cell_type": "code",
   "execution_count": 80,
   "id": "2229e082",
   "metadata": {},
   "outputs": [
    {
     "data": {
      "text/plain": [
       "{'s': 0.11084829581629589, 'scale': 5}"
      ]
     },
     "execution_count": 80,
     "metadata": {},
     "output_type": "execute_result"
    }
   ],
   "source": [
    "d2prime = lognorm_from_median_lower_upper(m, l, u, (d2.cdf(l), d2.cdf(u)))\n",
    "d2prime.kwds"
   ]
  },
  {
   "cell_type": "code",
   "execution_count": 86,
   "id": "143a3acd",
   "metadata": {},
   "outputs": [
    {
     "name": "stdout",
     "output_type": "stream",
     "text": [
      "1001\n",
      "{'s': 0.025243280879074282, 'scale': 1}\n",
      "(0.9517280741643348, 1.0507202920099319)\n",
      "0.0\n"
     ]
    },
    {
     "data": {
      "image/png": "[encoded data removed]",
      "text/plain": [
       "<Figure size 432x288 with 1 Axes>"
      ]
     },
     "metadata": {
      "needs_background": "light"
     },
     "output_type": "display_data"
    }
   ],
   "source": [
    "m=1\n",
    "l=3\n",
    "u=8\n",
    "prob=.95\n",
    "d = lognorm_from_median_lower_upper_exact(m,l,u, prob)\n",
    "print(d.kwds)\n",
    "print(d.interval(prob))\n",
    "print(d.cdf(u)-d.cdf(l))\n",
    "fig, ax = plt.subplots()\n",
    "plot_pdf(ax, d, '')"
   ]
  },
  {
   "cell_type": "code",
   "execution_count": null,
   "id": "945560ca",
   "metadata": {},
   "outputs": [],
   "source": []
  }
 ],
 "metadata": {
  "kernelspec": {
   "display_name": "Python 3 (ipykernel)",
   "language": "python",
   "name": "python3"
  },
  "language_info": {
   "codemirror_mode": {
    "name": "ipython",
    "version": 3
   },
   "file_extension": ".py",
   "mimetype": "text/x-python",
   "name": "python",
   "nbconvert_exporter": "python",
   "pygments_lexer": "ipython3",
   "version": "3.8.10"
  }
 },
 "nbformat": 4,
 "nbformat_minor": 5
}
