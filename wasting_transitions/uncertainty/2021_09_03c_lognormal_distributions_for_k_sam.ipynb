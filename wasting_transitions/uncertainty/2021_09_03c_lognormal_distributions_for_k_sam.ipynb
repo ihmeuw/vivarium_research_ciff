{
 "cells": [
  {
   "cell_type": "code",
   "execution_count": 1,
   "id": "fbd72e83",
   "metadata": {},
   "outputs": [],
   "source": [
    "import numpy as np\n",
    "import matplotlib.pyplot as plt\n",
    "from scipy import stats"
   ]
  },
  {
   "cell_type": "markdown",
   "id": "11a453ca",
   "metadata": {},
   "source": [
    "# Define functions to create a lognormal distribution given its median and either one or two quantiles\n",
    "\n",
    "Note that since lognormal is a 2-parameter distribution, specifying the median and one other quantile will determine the distribution exactly, whereas specifying the median and two quantiles is an overdetermined system, so the resulting distribution in the second case will in general only approximate the specified quantiles."
   ]
  },
  {
   "cell_type": "code",
   "execution_count": 2,
   "id": "ee4367ef",
   "metadata": {},
   "outputs": [
    {
     "data": {
      "text/plain": [
       "array([1.09861229, 1.38629436])"
      ]
     },
     "execution_count": 2,
     "metadata": {},
     "output_type": "execute_result"
    }
   ],
   "source": [
    "np.log([3,4])"
   ]
  },
  {
   "cell_type": "code",
   "execution_count": 3,
   "id": "d0891868",
   "metadata": {},
   "outputs": [],
   "source": [
    "def lognorm_from_median_and_quantile(median, quantile, quantile_rank):\n",
    "    \"\"\"Returns a frozen lognormal distribution with the specified median and quantile\n",
    "    of rank quantile_rank, which must be different from 0.5.\n",
    "    \"\"\"\n",
    "    # Let Y ~ Norm(mu, sigma^2) and X = exp(Y), where mu = log(median)\n",
    "    # so X ~ Lognorm(s=sigma, scale=exp(mu)) in scipy's notation.\n",
    "    # We need to determine sigma from the median and quantile.\n",
    "    \n",
    "    # quantile of standard normal distribution corresponding to quantile_rank\n",
    "    #(quantile is approximately 1.96 for quantile_rank=0.975)\n",
    "    stdnorm_quantile = stats.norm().ppf(quantile_rank)\n",
    "\n",
    "    mu = np.log(median) # mean of normal distribution for Y = log(X)\n",
    "    sigma = (np.log(quantile) - mu) / stdnorm_quantile # std dev of normal distribution for Y=log(X)\n",
    "\n",
    "    # Frozen lognormal distribution for X = exp(Y)\n",
    "    # (s=sigma is the shape parameter; the scale parameter is exp(mu), which equals the median)\n",
    "    return stats.lognorm(s=sigma, scale=median)\n",
    "\n",
    "def lognorm_from_median_lower_upper(median, lower, upper, quantile_ranks=(0.025,0.975)):\n",
    "    \"\"\"Returns a frozen lognormal distribution with the specified median, such that\n",
    "    (lower, upper) are approximately equal to the quantiles with ranks\n",
    "    (quantile_ranks[0], quantile_ranks[1]).\n",
    "    \"\"\"\n",
    "    # Let Y ~ Norm(mu, sigma^2) and X = exp(Y), where mu = log(median)\n",
    "    # so X ~ Lognorm(s=sigma, scale=exp(mu)) in scipy's notation.\n",
    "    # We will determine sigma from the two specified quantiles lower and upper.\n",
    "    \n",
    "    # mean (and median) of the normal random variable Y = log(X)\n",
    "    mu = np.log(median)\n",
    "    # quantiles of the standard normal distribution corresponding to quantile_ranks\n",
    "    stdnorm_quantiles = stats.norm.ppf(quantile_ranks)\n",
    "    # quantiles of Y = log(X) corresponding to the quantiles (lower, upper) for X\n",
    "    norm_quantiles = np.log([lower, upper])\n",
    "    # standard deviation of Y = log(X) computed from the above quantiles for Y\n",
    "    # and the corresponding standard normal quantiles\n",
    "    sigma = (norm_quantiles[1] - norm_quantiles[0]) / (stdnorm_quantiles[1] - stdnorm_quantiles[0])\n",
    "    # Frozen lognormal distribution for X = exp(Y)\n",
    "    # (s=sigma is the shape parameter; the scale parameter is exp(mu), which equals the median)\n",
    "    return stats.lognorm(s=sigma, scale=median)\n"
   ]
  },
  {
   "cell_type": "markdown",
   "id": "cc4f24a0",
   "metadata": {},
   "source": [
    "# Check some standard normal quantiles"
   ]
  },
  {
   "cell_type": "code",
   "execution_count": 4,
   "id": "3b0e7662",
   "metadata": {},
   "outputs": [
    {
     "data": {
      "text/plain": [
       "1.959963984540054"
      ]
     },
     "execution_count": 4,
     "metadata": {},
     "output_type": "execute_result"
    }
   ],
   "source": [
    "stats.norm.ppf(0.975)"
   ]
  },
  {
   "cell_type": "code",
   "execution_count": 5,
   "id": "7ad4db7c",
   "metadata": {},
   "outputs": [
    {
     "data": {
      "text/plain": [
       "3.9199279690801085"
      ]
     },
     "execution_count": 5,
     "metadata": {},
     "output_type": "execute_result"
    }
   ],
   "source": [
    "stats.norm.ppf(0.975) - stats.norm.ppf(0.025)"
   ]
  },
  {
   "cell_type": "markdown",
   "id": "214af34e",
   "metadata": {},
   "source": [
    "# Create 3 slightly different lognormal distributions for K parameter from Isanaka paper"
   ]
  },
  {
   "cell_type": "code",
   "execution_count": 6,
   "id": "20cead9c",
   "metadata": {},
   "outputs": [],
   "source": [
    "median = 6.7\n",
    "lower = 5.3\n",
    "upper = 8.4\n",
    "\n",
    "dist_lower = lognorm_from_median_and_quantile(median, lower, 0.025)\n",
    "dist_upper = lognorm_from_median_and_quantile(median, upper, 0.975)\n",
    "dist_both = lognorm_from_median_lower_upper(median, lower, upper)"
   ]
  },
  {
   "cell_type": "markdown",
   "id": "af2de7e9",
   "metadata": {},
   "source": [
    "# Verify that the median is 6.7 for all three"
   ]
  },
  {
   "cell_type": "code",
   "execution_count": 7,
   "id": "879f2c3c",
   "metadata": {},
   "outputs": [
    {
     "name": "stdout",
     "output_type": "stream",
     "text": [
      "[6.7, 6.7, 6.7]\n"
     ]
    }
   ],
   "source": [
    "print([dist.median() for dist in [dist_lower, dist_upper, dist_both]])"
   ]
  },
  {
   "cell_type": "markdown",
   "id": "df1c48ad",
   "metadata": {},
   "source": [
    "# Check mean, variance, skew, kurtosis for each version"
   ]
  },
  {
   "cell_type": "code",
   "execution_count": 8,
   "id": "b6e7dad3",
   "metadata": {},
   "outputs": [
    {
     "data": {
      "text/plain": [
       "(array(6.74808618), array(0.65598273), array(0.36179892), array(0.2336203))"
      ]
     },
     "execution_count": 8,
     "metadata": {},
     "output_type": "execute_result"
    }
   ],
   "source": [
    "dist_lower.stats('mvsk')"
   ]
  },
  {
   "cell_type": "code",
   "execution_count": 9,
   "id": "d6ca31ec",
   "metadata": {},
   "outputs": [
    {
     "data": {
      "text/plain": [
       "(array(6.74473924), array(0.60956738), array(0.34882084), array(0.21710108))"
      ]
     },
     "execution_count": 9,
     "metadata": {},
     "output_type": "execute_result"
    }
   ],
   "source": [
    "dist_upper.stats('mvsk')"
   ]
  },
  {
   "cell_type": "code",
   "execution_count": 10,
   "id": "77166f6e",
   "metadata": {},
   "outputs": [
    {
     "data": {
      "text/plain": [
       "(array(6.74639747), array(0.6325494), array(0.35530706), array(0.22528056))"
      ]
     },
     "execution_count": 10,
     "metadata": {},
     "output_type": "execute_result"
    }
   ],
   "source": [
    "dist_both.stats('mvsk')"
   ]
  },
  {
   "cell_type": "markdown",
   "id": "9415528b",
   "metadata": {},
   "source": [
    "# Check 95% interval = `(dist.ppf(0.025), dist.ppf(0.975))` for each version"
   ]
  },
  {
   "cell_type": "code",
   "execution_count": 11,
   "id": "9330129a",
   "metadata": {},
   "outputs": [
    {
     "data": {
      "text/plain": [
       "(5.299999999999999, 8.469811320754719)"
      ]
     },
     "execution_count": 11,
     "metadata": {},
     "output_type": "execute_result"
    }
   ],
   "source": [
    "dist_lower.interval(.95)"
   ]
  },
  {
   "cell_type": "code",
   "execution_count": 12,
   "id": "51f20ea8",
   "metadata": {},
   "outputs": [
    {
     "data": {
      "text/plain": [
       "(5.34404761904762, 8.399999999999999)"
      ]
     },
     "execution_count": 12,
     "metadata": {},
     "output_type": "execute_result"
    }
   ],
   "source": [
    "dist_upper.interval(.95)"
   ]
  },
  {
   "cell_type": "code",
   "execution_count": 13,
   "id": "6b75ac5c",
   "metadata": {},
   "outputs": [
    {
     "data": {
      "text/plain": [
       "(5.321978239428678, 8.434833436075643)"
      ]
     },
     "execution_count": 13,
     "metadata": {},
     "output_type": "execute_result"
    }
   ],
   "source": [
    "dist_both.interval(.95)"
   ]
  },
  {
   "cell_type": "code",
   "execution_count": 14,
   "id": "12301f67",
   "metadata": {},
   "outputs": [
    {
     "data": {
      "text/plain": [
       "8.399999999999999"
      ]
     },
     "execution_count": 14,
     "metadata": {},
     "output_type": "execute_result"
    }
   ],
   "source": [
    "dist_upper.ppf(.975)"
   ]
  },
  {
   "cell_type": "markdown",
   "id": "9c6b3d1f",
   "metadata": {},
   "source": [
    "# Plot densities"
   ]
  },
  {
   "cell_type": "code",
   "execution_count": 15,
   "id": "4b9d4dec",
   "metadata": {},
   "outputs": [],
   "source": [
    "def plot_pdf(ax, dist, label):\n",
    "    x = np.linspace(dist.ppf(0.01), dist.ppf(0.99), 100)\n",
    "    ax.plot(x, dist.pdf(x), lw=2, alpha=0.8, label=label)"
   ]
  },
  {
   "cell_type": "code",
   "execution_count": 16,
   "id": "a77f1b18",
   "metadata": {},
   "outputs": [
    {
     "data": {
      "image/png": "[encoded data removed]",
      "text/plain": [
       "<Figure size 1008x576 with 1 Axes>"
      ]
     },
     "metadata": {
      "needs_background": "light"
     },
     "output_type": "display_data"
    }
   ],
   "source": [
    "fig, ax = plt.subplots(figsize=(14,8))\n",
    "plot_pdf(ax, dist_lower, '2.5% quantile = 5.3')\n",
    "plot_pdf(ax, dist_upper, '97.5% quantile = 8.4')\n",
    "plot_pdf(ax, dist_both, 'shape determined using both 5.3 and 8.4')\n",
    "ax.legend()\n",
    "ax.set_title(\"Probability density functions for three lognormal distributions with median 6.7\")\n",
    "ax.set_xlabel('K value for severe acute malnutrition from Isanaka')\n",
    "ax.set_ylabel('Probability density representing parameter uncertainty');"
   ]
  },
  {
   "cell_type": "markdown",
   "id": "96d5c0e5",
   "metadata": {},
   "source": [
    "# Let's go with the distribution that uses both 5.3 and 8.4 since it's in between"
   ]
  },
  {
   "cell_type": "code",
   "execution_count": null,
   "id": "8af84305",
   "metadata": {},
   "outputs": [],
   "source": []
  }
 ],
 "metadata": {
  "kernelspec": {
   "display_name": "Python 3 (ipykernel)",
   "language": "python",
   "name": "python3"
  },
  "language_info": {
   "codemirror_mode": {
    "name": "ipython",
    "version": 3
   },
   "file_extension": ".py",
   "mimetype": "text/x-python",
   "name": "python",
   "nbconvert_exporter": "python",
   "pygments_lexer": "ipython3",
   "version": "3.8.10"
  }
 },
 "nbformat": 4,
 "nbformat_minor": 5
}
