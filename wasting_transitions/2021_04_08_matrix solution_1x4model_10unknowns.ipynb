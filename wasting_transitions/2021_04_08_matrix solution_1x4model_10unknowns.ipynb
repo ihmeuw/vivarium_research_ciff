{
 "cells": [
  {
   "cell_type": "code",
   "execution_count": 1,
   "metadata": {},
   "outputs": [],
   "source": [
    "import pandas as pd, numpy as np, matplotlib.pyplot as plt"
   ]
  },
  {
   "cell_type": "markdown",
   "metadata": {},
   "source": [
    "#  matrix\n",
    "\n",
    "$\\pi$ = ($p4, $p3, $p2, $p1)\n",
    "\n",
    "\n",
    "|equation|s1|s2|s3|s4|r2|r3|r4|i1|i2|i3|\n",
    "|:---:|:---:|:---:|:---:|:---:|:---:|:---:|:---:|:---:|:---:|:---:|\n",
    "|1|0|0|0|p4|0|0|p3|0|0|0|\n",
    "|2|0|0|p3|0|0|p2|0|p4|0|0|\n",
    "|3|0|p2|0|0|p1|0|0|0|p3|0|\n",
    "|4|p1|0|0|0|0|0|0|p2|0|0|\n",
    "|5|0|0|0|1|0|0|0|0|0|1|\n",
    "|6|0|0|1|0|0|0|1|0|1|0|\n",
    "|7|0|1|0|0|0|1|0|1|0|0|\n",
    "|8|1|0|0|0|1|0|0|0|0|0|\n",
    "|9|0|0|0|0|1|0|0|0|0|0|\n",
    "|10|0|0|0|0|0|1|0|1|0|0|\n"
   ]
  },
  {
   "cell_type": "code",
   "execution_count": 2,
   "metadata": {},
   "outputs": [],
   "source": [
    "p4 = 0.7\n",
    "p3 = 0.2\n",
    "p2 = 0.07\n",
    "p1 = 0.03"
   ]
  },
  {
   "cell_type": "code",
   "execution_count": 3,
   "metadata": {},
   "outputs": [],
   "source": [
    "a = np.array([[0,0,0,p4,0,0,p3,0,0,0],\n",
    "[0,0,p3,0,0,p2,0,p4,0,0],\n",
    "[0,p2,0,0,p1,0,0,0,p3,0],\n",
    "[p1,0,0,0,0,0,0,p2,0,0],\n",
    "[0,0,0,1,0,0,0,0,0,1],\n",
    "[0,0,1,0,0,0,1,0,1,0],\n",
    "[0,1,0,0,0,1,0,1,0,0],\n",
    "[1,0,0,0,1,0,0,0,0,0],\n",
    "[0,0,0,0,1,0,0,0,0,0],\n",
    "[0,0,0,0,0,1,0,1,0,0]])"
   ]
  },
  {
   "cell_type": "code",
   "execution_count": 4,
   "metadata": {},
   "outputs": [],
   "source": [
    "b =np.array([[p4],\n",
    "[p3],\n",
    "[p2],\n",
    "[p1],\n",
    "[1],\n",
    "[1],\n",
    "[1],\n",
    "[1],\n",
    "[0.0250],\n",
    "[0.0143]])"
   ]
  },
  {
   "cell_type": "code",
   "execution_count": 5,
   "metadata": {},
   "outputs": [
    {
     "data": {
      "text/plain": [
       "array([[0.975     ],\n",
       "       [0.9857    ],\n",
       "       [0.961245  ],\n",
       "       [0.98928571],\n",
       "       [0.025     ],\n",
       "       [0.00358571],\n",
       "       [0.0375    ],\n",
       "       [0.01071429],\n",
       "       [0.001255  ],\n",
       "       [0.01071429]])"
      ]
     },
     "execution_count": 5,
     "metadata": {},
     "output_type": "execute_result"
    }
   ],
   "source": [
    "x = np.linalg.solve(a,b)\n",
    "x"
   ]
  },
  {
   "cell_type": "code",
   "execution_count": 6,
   "metadata": {},
   "outputs": [
    {
     "data": {
      "text/plain": [
       "True"
      ]
     },
     "execution_count": 6,
     "metadata": {},
     "output_type": "execute_result"
    }
   ],
   "source": [
    "np.allclose(np.dot(a,x),b)"
   ]
  }
 ],
 "metadata": {
  "kernelspec": {
   "display_name": "Python 3",
   "language": "python",
   "name": "python3"
  },
  "language_info": {
   "codemirror_mode": {
    "name": "ipython",
    "version": 3
   },
   "file_extension": ".py",
   "mimetype": "text/x-python",
   "name": "python",
   "nbconvert_exporter": "python",
   "pygments_lexer": "ipython3",
   "version": "3.6.13"
  }
 },
 "nbformat": 4,
 "nbformat_minor": 4
}
