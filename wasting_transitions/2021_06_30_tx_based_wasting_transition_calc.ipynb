{
 "cells": [
  {
   "cell_type": "code",
   "execution_count": 1,
   "id": "cd1a8b66",
   "metadata": {},
   "outputs": [],
   "source": [
    "import numpy as np, pandas as pd\n",
    "import sympy as sym\n",
    "from sympy import symbols, Matrix, solve, simplify"
   ]
  },
  {
   "cell_type": "code",
   "execution_count": 2,
   "id": "8c343ee1",
   "metadata": {},
   "outputs": [
    {
     "name": "stdout",
     "output_type": "stream",
     "text": [
      "nicoly\n",
      "Mon Aug 23 20:31:59 PDT 2021\n"
     ]
    }
   ],
   "source": [
    "from db_queries import get_outputs as go, get_ids\n",
    "from vivarium import Artifact\n",
    "!whoami\n",
    "!date"
   ]
  },
  {
   "cell_type": "markdown",
   "id": "e556337f",
   "metadata": {},
   "source": [
    "## INITIALIZE VARS"
   ]
  },
  {
   "cell_type": "code",
   "execution_count": 3,
   "id": "0bce729a",
   "metadata": {},
   "outputs": [],
   "source": [
    "## SOLVE EQNS\n",
    "s4, i3 = symbols('s4 i3')\n",
    "r4, s3, i2 = symbols('r4 s3 i2')\n",
    "r3, s2, i1 = symbols('r3 s2 i1')\n",
    "r2, s1 = symbols('r2 s1')\n",
    "d4, d3, d2, d1 = symbols('d4 d3 d2 d1')\n",
    "f4, f3, f2, f1 = symbols('f4 f3 f2 f1')\n",
    "t1, t2 = symbols('t1 t2')\n",
    "\n",
    "ap4, ap3, ap2, ap1, ap0 = symbols('ap4 ap3 ap2 ap1 ap0')\n",
    "\n",
    "acmr = sym.Symbol('acmr')\n",
    "\n",
    "dur_cat1, dur_cat2, dur_cat3, dur_cat4 = symbols('dur_cat1 dur_cat2 dur_cat3 dur_cat4')"
   ]
  },
  {
   "cell_type": "markdown",
   "id": "66609987",
   "metadata": {},
   "source": [
    "## SETTINGS"
   ]
  },
  {
   "cell_type": "code",
   "execution_count": 4,
   "id": "7694f720",
   "metadata": {},
   "outputs": [],
   "source": [
    "age_group = 4 #post neonatal\n",
    "sex = 2 #female"
   ]
  },
  {
   "cell_type": "code",
   "execution_count": 5,
   "id": "545b19a2",
   "metadata": {},
   "outputs": [],
   "source": [
    "# these are ordered such that first n (n=9 for now) are the vars we want sympy to solve in terms of the remaining vars\n",
    "\n",
    "# unknowns = [s1,s2,s3,s4,t1,r2,r3,r4,i1,i2,i3,d1,d2,d3,d4,f1,f2,f3,f4]\n",
    "unknowns = [i2,s1,s2,s3,s4,r3,i1,i3,t1,r4,r2,d1,d2,d3,d4,f1,f2,f3,f4]"
   ]
  },
  {
   "cell_type": "markdown",
   "id": "d304ec29",
   "metadata": {},
   "source": [
    "## LOAD FNS & VALUES"
   ]
  },
  {
   "cell_type": "code",
   "execution_count": 6,
   "id": "62d1c890",
   "metadata": {},
   "outputs": [],
   "source": [
    "def build_matrix(eqns, unknowns):\n",
    "    \"\"\"\n",
    "    INPUT\n",
    "    ----\n",
    "    eqns: a list of equations. These are of the form:\n",
    "          [{x_i:a, x_j:b}, y] for the equation:\n",
    "          ax_i + bx_j = y\n",
    "    unknowns: a list of sympy unknowns\n",
    "    ----\n",
    "    OUTPUT\n",
    "    ----\n",
    "    A:  a matrix containing the coefficients of LHS of all eq in eqns.\n",
    "        - nrows = number of equations\n",
    "        - rcols = number of unknowns\n",
    "    b: an nx1 matrix containing the RHS of all the eqns\n",
    "    x: a sympy matrix of the unknowns\n",
    "    \n",
    "    Note that Ax = b\n",
    "    \"\"\"\n",
    "    n_eqns = len(eqns)\n",
    "    n_unknowns = len(unknowns)\n",
    "\n",
    "    # frame for matrix/LHS equation coefficients.\n",
    "    # nrows = n_eqns, ncols = n_unknowns\n",
    "    A = pd.DataFrame(\n",
    "        index = range(n_eqns),\n",
    "        columns = unknowns,\n",
    "        data = np.zeros([n_eqns,n_unknowns])\n",
    "    )\n",
    "\n",
    "    # frame for RHS of equations\n",
    "    b = pd.DataFrame(index = range(n_eqns), columns = ['val'])\n",
    "    \n",
    "    # define helper fn\n",
    "    def add_eq(terms, y, i):\n",
    "        \"\"\"\n",
    "        INPUT\n",
    "        ----\n",
    "        To input i^(th) equation y = ax_i + bx_j, add_eq wants:\n",
    "            - terms = {x_i:a, x_j:b}\n",
    "            - y = y\n",
    "            - i\n",
    "        ----\n",
    "        FUNCTION\n",
    "        ----\n",
    "        - Adds coefficients to matrix A.\n",
    "        - Adds y to row i of vector b\n",
    "        ----\n",
    "        EXAMPLE\n",
    "        ----\n",
    "        For y = ax_i + bx_j:\n",
    "        - adds \"a\" to column \"x_i\" row i of A\n",
    "        - adds \"b\" to column \"x_j\" row i of A\n",
    "        - adds \"y\" to row i of b\n",
    "        \"\"\"\n",
    "        for x in terms.keys():\n",
    "            A[x][i] = terms[x]\n",
    "        b.iloc[i] = y\n",
    "\n",
    "    # populate LHS/RHS\n",
    "    i = 0\n",
    "    for eq in eqns:\n",
    "        add_eq(terms=eq[0], y=eq[1], i=i)\n",
    "        i += 1\n",
    "\n",
    "    # convert to sympy matrices\n",
    "    A = sym.Matrix(A)\n",
    "    b = sym.Matrix(b)\n",
    "    x = sym.Matrix(unknowns) #vars to solve for\n",
    "\n",
    "    return A, x, b"
   ]
  },
  {
   "cell_type": "code",
   "execution_count": 7,
   "id": "1bb8283d",
   "metadata": {},
   "outputs": [
    {
     "name": "stderr",
     "output_type": "stream",
     "text": [
      "/share/code/nicoly/miniconda/envs/vivarium_ciff_sam/lib/python3.6/site-packages/tables/nodes/filenode.py:258: DeprecationWarning: tostring() is deprecated. Use tobytes() instead.\n",
      "  b[:n] = self._node.read(start, stop).tostring()\n",
      "/ihme/homes/nicoly/vivarium_research_ciff_sam/wasting_transitions/set_background_vals.py:22: SettingWithCopyWarning: \n",
      "A value is trying to be set on a copy of a slice from a DataFrame.\n",
      "Try using .loc[row_indexer,col_indexer] = value instead\n",
      "\n",
      "See the caveats in the documentation: https://pandas.pydata.org/pandas-docs/stable/user_guide/indexing.html#returning-a-view-versus-a-copy\n",
      "  wasting_exp['sex_id'] = np.where(wasting_exp['sex'] == 'Male', 1, 2)\n",
      "/ihme/homes/nicoly/vivarium_research_ciff_sam/wasting_transitions/set_background_vals.py:23: SettingWithCopyWarning: \n",
      "A value is trying to be set on a copy of a slice from a DataFrame.\n",
      "Try using .loc[row_indexer,col_indexer] = value instead\n",
      "\n",
      "See the caveats in the documentation: https://pandas.pydata.org/pandas-docs/stable/user_guide/indexing.html#returning-a-view-versus-a-copy\n",
      "  wasting_exp['age_group_id'] = np.where(wasting_exp['age_start'] == 0, 4, 5)\n"
     ]
    }
   ],
   "source": [
    "# RUN SCRIPTS\n",
    "from set_background_vals import *\n",
    "\n",
    "d1_val, d2_val, d3_val, d4_val = [1-np.exp(-1*i/365) for i in set_ds(sex_id = sex, age_group_id = age_group)]\n",
    "f1_val, f2_val, f3_val, f4_val = set_fs(sex_id = sex, age_group_id = age_group)\n",
    "\n",
    "## TODO: is this the correct time_step?\n",
    "ap0_val, ap1_val, ap2_val, ap3_val, ap4_val = set_ps(sex_id = sex, age_group_id = age_group, time_step = 1)"
   ]
  },
  {
   "cell_type": "markdown",
   "id": "af5ad17f",
   "metadata": {},
   "source": [
    "## BUILD & SOLVE SYSTEM OF EQNS"
   ]
  },
  {
   "attachments": {
    "image.png": {
     "image/png": "[encoded data removed]"
    }
   },
   "cell_type": "markdown",
   "id": "cec81fec",
   "metadata": {},
   "source": [
    "![image.png](attachment:image.png)"
   ]
  },
  {
   "cell_type": "code",
   "execution_count": 8,
   "id": "2ffbec0f",
   "metadata": {},
   "outputs": [],
   "source": [
    "# # assuming equilibrium:\n",
    "# p4*s4 + p3*r4 + p0*f4 = p4\n",
    "eq1 = [{s4:ap4, r4:ap3, f4:ap0}, ap4]\n",
    "\n",
    "# p4*i3 + p3*s3 + p2*r3 + p0*f3 = p3\n",
    "eq2 = [{i3:ap4, s3:ap3, r3:ap2, t1:ap1, f3:ap0}, ap3]\n",
    "\n",
    "# p3*i2 + p2*s2 + p1*r2 + p0*f2 = p2\n",
    "eq3 = [{i2:ap3, s2:ap2, r2:ap1, f2:ap0}, ap2]\n",
    "\n",
    "# p2*i1 + p1*s1 + p0*f1 = p1\n",
    "eq4 = [{i1:ap2, s1:ap1, f1:ap0}, ap1]\n",
    "\n",
    "# p4*d4 + p3*d3 + p2*d2 + p1*d1 + p0*0 = p0\n",
    "eq5 = [{d4:ap4, d3:ap3, d2:ap2, d1:ap1}, ap0]\n",
    "\n",
    "\n",
    "# # rows sum to one:\n",
    "# s4 + i3 + d4 = 1\n",
    "eq6 = [{s4:1, i3:1, d4:1}, 1]\n",
    "\n",
    "# r4 + s3 + i2 + d3 = 1\n",
    "eq7 = [{r4:1, s3:1, i2:1, d3:1}, 1]\n",
    "\n",
    "# r3 + s2 + i1 + d2 = 1\n",
    "eq8 = [{r3:1, s2:1, i1:1, d2:1}, 1]\n",
    "\n",
    "# r2 + s1 + d1 = 1\n",
    "eq9 = [{r2:1, t1:1, s1:1, d1:1}, 1]\n",
    "\n",
    "# f4 + f3 + f2 + f1 + sld = 1\n",
    "eq10 = [{f4:1, f3:1, f2:1, f1:1}, 1]\n",
    "\n",
    "\n",
    "# try again: add duration from isanaka\n",
    "eq11 = [{t1:1, r2:1, d1:1}, 1/dur_cat1]\n",
    "\n",
    "\n",
    "\n",
    "# # # adding durations of states\n",
    "# # r2 + d1 = 1/Dsam\n",
    "# eq11 = [{r2:1, d1:1, t1:1}, (1/dur_cat1)]\n",
    "\n",
    "# # r3 + i1 + d2 = 1/Dmam\n",
    "# eq12 = [{r3:1, i1:1, d2:1}, (1/dur_cat2)]\n",
    "\n",
    "# # r4 + i2 + d3 = 1/Dmild\n",
    "# eq13 = [{r4:1, i2:1, d3:1}, 1/dur_cat3]\n",
    "\n",
    "# # i3 + d4 = 1/Dtmrel\n",
    "# eq14 = [{i3:1, d4:1}, 1/dur_cat4]\n",
    "\n",
    "# # new_equation = [{var_a:coef_a},rhs]\n",
    "\n",
    "# ## extras\n",
    "# # r3/7.14 = i1\n",
    "# eq15 = [{r3:(1/7)}, i1]\n",
    "\n",
    "# eq16 = [{i3:1}, 0]\n",
    "# eq17 = [{r4:1}, 0]"
   ]
  },
  {
   "cell_type": "code",
   "execution_count": 9,
   "id": "5b33f0c8",
   "metadata": {},
   "outputs": [
    {
     "name": "stderr",
     "output_type": "stream",
     "text": [
      "/share/code/nicoly/miniconda/envs/vivarium_ciff_sam/lib/python3.6/site-packages/ipykernel_launcher.py:57: SettingWithCopyWarning: \n",
      "A value is trying to be set on a copy of a slice from a DataFrame\n",
      "\n",
      "See the caveats in the documentation: https://pandas.pydata.org/pandas-docs/stable/user_guide/indexing.html#returning-a-view-versus-a-copy\n",
      "/share/code/nicoly/miniconda/envs/vivarium_ciff_sam/lib/python3.6/site-packages/pandas/core/indexing.py:670: SettingWithCopyWarning: \n",
      "A value is trying to be set on a copy of a slice from a DataFrame\n",
      "\n",
      "See the caveats in the documentation: https://pandas.pydata.org/pandas-docs/stable/user_guide/indexing.html#returning-a-view-versus-a-copy\n",
      "  iloc._setitem_with_indexer(indexer, value)\n"
     ]
    }
   ],
   "source": [
    "all_eqns = [eq1,eq2,eq3,eq4,eq5,eq6,eq7,eq8,eq9,eq10]#,eq11]#,eq15]#,eq15]#,eq11,eq12,eq13,eq14]\n",
    "\n",
    "A1, x1, b1 = build_matrix(all_eqns, unknowns)\n",
    "\n",
    "result = sym.solve(A1 * x1 - b1, x1)"
   ]
  },
  {
   "cell_type": "markdown",
   "id": "031556b0",
   "metadata": {},
   "source": [
    "## CHECKOUT WHAT WE WERE SOLVING"
   ]
  },
  {
   "cell_type": "code",
   "execution_count": 10,
   "id": "bad8007b",
   "metadata": {},
   "outputs": [
    {
     "data": {
      "text/plain": [
       "10"
      ]
     },
     "execution_count": 10,
     "metadata": {},
     "output_type": "execute_result"
    }
   ],
   "source": [
    "len(all_eqns)"
   ]
  },
  {
   "cell_type": "code",
   "execution_count": 11,
   "id": "c5aeda48",
   "metadata": {
    "scrolled": true
   },
   "outputs": [
    {
     "data": {
      "text/html": [
       "<div>\n",
       "<style scoped>\n",
       "    .dataframe tbody tr th:only-of-type {\n",
       "        vertical-align: middle;\n",
       "    }\n",
       "\n",
       "    .dataframe tbody tr th {\n",
       "        vertical-align: top;\n",
       "    }\n",
       "\n",
       "    .dataframe thead th {\n",
       "        text-align: right;\n",
       "    }\n",
       "</style>\n",
       "<table border=\"1\" class=\"dataframe\">\n",
       "  <thead>\n",
       "    <tr style=\"text-align: right;\">\n",
       "      <th></th>\n",
       "      <th>i2</th>\n",
       "      <th>s1</th>\n",
       "      <th>s2</th>\n",
       "      <th>s3</th>\n",
       "      <th>s4</th>\n",
       "      <th>r3</th>\n",
       "      <th>i1</th>\n",
       "      <th>i3</th>\n",
       "      <th>t1</th>\n",
       "      <th>r4</th>\n",
       "      <th>r2</th>\n",
       "      <th>d1</th>\n",
       "      <th>d2</th>\n",
       "      <th>d3</th>\n",
       "      <th>d4</th>\n",
       "      <th>f1</th>\n",
       "      <th>f2</th>\n",
       "      <th>f3</th>\n",
       "      <th>f4</th>\n",
       "    </tr>\n",
       "  </thead>\n",
       "  <tbody>\n",
       "    <tr>\n",
       "      <th>eq1</th>\n",
       "      <td>0.0</td>\n",
       "      <td>0.0</td>\n",
       "      <td>0.0</td>\n",
       "      <td>0.0</td>\n",
       "      <td>ap4</td>\n",
       "      <td>0.0</td>\n",
       "      <td>0.0</td>\n",
       "      <td>0.0</td>\n",
       "      <td>0.0</td>\n",
       "      <td>ap3</td>\n",
       "      <td>0.0</td>\n",
       "      <td>0.0</td>\n",
       "      <td>0.0</td>\n",
       "      <td>0.0</td>\n",
       "      <td>0.0</td>\n",
       "      <td>0.0</td>\n",
       "      <td>0.0</td>\n",
       "      <td>0.0</td>\n",
       "      <td>ap0</td>\n",
       "    </tr>\n",
       "    <tr>\n",
       "      <th>eq2</th>\n",
       "      <td>0.0</td>\n",
       "      <td>0.0</td>\n",
       "      <td>0.0</td>\n",
       "      <td>ap3</td>\n",
       "      <td>0.0</td>\n",
       "      <td>ap2</td>\n",
       "      <td>0.0</td>\n",
       "      <td>ap4</td>\n",
       "      <td>ap1</td>\n",
       "      <td>0.0</td>\n",
       "      <td>0.0</td>\n",
       "      <td>0.0</td>\n",
       "      <td>0.0</td>\n",
       "      <td>0.0</td>\n",
       "      <td>0.0</td>\n",
       "      <td>0.0</td>\n",
       "      <td>0.0</td>\n",
       "      <td>ap0</td>\n",
       "      <td>0.0</td>\n",
       "    </tr>\n",
       "    <tr>\n",
       "      <th>eq3</th>\n",
       "      <td>ap3</td>\n",
       "      <td>0.0</td>\n",
       "      <td>ap2</td>\n",
       "      <td>0.0</td>\n",
       "      <td>0.0</td>\n",
       "      <td>0.0</td>\n",
       "      <td>0.0</td>\n",
       "      <td>0.0</td>\n",
       "      <td>0.0</td>\n",
       "      <td>0.0</td>\n",
       "      <td>ap1</td>\n",
       "      <td>0.0</td>\n",
       "      <td>0.0</td>\n",
       "      <td>0.0</td>\n",
       "      <td>0.0</td>\n",
       "      <td>0.0</td>\n",
       "      <td>ap0</td>\n",
       "      <td>0.0</td>\n",
       "      <td>0.0</td>\n",
       "    </tr>\n",
       "    <tr>\n",
       "      <th>eq4</th>\n",
       "      <td>0.0</td>\n",
       "      <td>ap1</td>\n",
       "      <td>0.0</td>\n",
       "      <td>0.0</td>\n",
       "      <td>0.0</td>\n",
       "      <td>0.0</td>\n",
       "      <td>ap2</td>\n",
       "      <td>0.0</td>\n",
       "      <td>0.0</td>\n",
       "      <td>0.0</td>\n",
       "      <td>0.0</td>\n",
       "      <td>0.0</td>\n",
       "      <td>0.0</td>\n",
       "      <td>0.0</td>\n",
       "      <td>0.0</td>\n",
       "      <td>ap0</td>\n",
       "      <td>0.0</td>\n",
       "      <td>0.0</td>\n",
       "      <td>0.0</td>\n",
       "    </tr>\n",
       "    <tr>\n",
       "      <th>eq5</th>\n",
       "      <td>0.0</td>\n",
       "      <td>0.0</td>\n",
       "      <td>0.0</td>\n",
       "      <td>0.0</td>\n",
       "      <td>0.0</td>\n",
       "      <td>0.0</td>\n",
       "      <td>0.0</td>\n",
       "      <td>0.0</td>\n",
       "      <td>0.0</td>\n",
       "      <td>0.0</td>\n",
       "      <td>0.0</td>\n",
       "      <td>ap1</td>\n",
       "      <td>ap2</td>\n",
       "      <td>ap3</td>\n",
       "      <td>ap4</td>\n",
       "      <td>0.0</td>\n",
       "      <td>0.0</td>\n",
       "      <td>0.0</td>\n",
       "      <td>0.0</td>\n",
       "    </tr>\n",
       "    <tr>\n",
       "      <th>eq6</th>\n",
       "      <td>0.0</td>\n",
       "      <td>0.0</td>\n",
       "      <td>0.0</td>\n",
       "      <td>0.0</td>\n",
       "      <td>1</td>\n",
       "      <td>0.0</td>\n",
       "      <td>0.0</td>\n",
       "      <td>1</td>\n",
       "      <td>0.0</td>\n",
       "      <td>0.0</td>\n",
       "      <td>0.0</td>\n",
       "      <td>0.0</td>\n",
       "      <td>0.0</td>\n",
       "      <td>0.0</td>\n",
       "      <td>1</td>\n",
       "      <td>0.0</td>\n",
       "      <td>0.0</td>\n",
       "      <td>0.0</td>\n",
       "      <td>0.0</td>\n",
       "    </tr>\n",
       "    <tr>\n",
       "      <th>eq7</th>\n",
       "      <td>1</td>\n",
       "      <td>0.0</td>\n",
       "      <td>0.0</td>\n",
       "      <td>1</td>\n",
       "      <td>0.0</td>\n",
       "      <td>0.0</td>\n",
       "      <td>0.0</td>\n",
       "      <td>0.0</td>\n",
       "      <td>0.0</td>\n",
       "      <td>1</td>\n",
       "      <td>0.0</td>\n",
       "      <td>0.0</td>\n",
       "      <td>0.0</td>\n",
       "      <td>1</td>\n",
       "      <td>0.0</td>\n",
       "      <td>0.0</td>\n",
       "      <td>0.0</td>\n",
       "      <td>0.0</td>\n",
       "      <td>0.0</td>\n",
       "    </tr>\n",
       "    <tr>\n",
       "      <th>eq8</th>\n",
       "      <td>0.0</td>\n",
       "      <td>0.0</td>\n",
       "      <td>1</td>\n",
       "      <td>0.0</td>\n",
       "      <td>0.0</td>\n",
       "      <td>1</td>\n",
       "      <td>1</td>\n",
       "      <td>0.0</td>\n",
       "      <td>0.0</td>\n",
       "      <td>0.0</td>\n",
       "      <td>0.0</td>\n",
       "      <td>0.0</td>\n",
       "      <td>1</td>\n",
       "      <td>0.0</td>\n",
       "      <td>0.0</td>\n",
       "      <td>0.0</td>\n",
       "      <td>0.0</td>\n",
       "      <td>0.0</td>\n",
       "      <td>0.0</td>\n",
       "    </tr>\n",
       "    <tr>\n",
       "      <th>eq9</th>\n",
       "      <td>0.0</td>\n",
       "      <td>1</td>\n",
       "      <td>0.0</td>\n",
       "      <td>0.0</td>\n",
       "      <td>0.0</td>\n",
       "      <td>0.0</td>\n",
       "      <td>0.0</td>\n",
       "      <td>0.0</td>\n",
       "      <td>1</td>\n",
       "      <td>0.0</td>\n",
       "      <td>1</td>\n",
       "      <td>1</td>\n",
       "      <td>0.0</td>\n",
       "      <td>0.0</td>\n",
       "      <td>0.0</td>\n",
       "      <td>0.0</td>\n",
       "      <td>0.0</td>\n",
       "      <td>0.0</td>\n",
       "      <td>0.0</td>\n",
       "    </tr>\n",
       "    <tr>\n",
       "      <th>eq10</th>\n",
       "      <td>0.0</td>\n",
       "      <td>0.0</td>\n",
       "      <td>0.0</td>\n",
       "      <td>0.0</td>\n",
       "      <td>0.0</td>\n",
       "      <td>0.0</td>\n",
       "      <td>0.0</td>\n",
       "      <td>0.0</td>\n",
       "      <td>0.0</td>\n",
       "      <td>0.0</td>\n",
       "      <td>0.0</td>\n",
       "      <td>0.0</td>\n",
       "      <td>0.0</td>\n",
       "      <td>0.0</td>\n",
       "      <td>0.0</td>\n",
       "      <td>1</td>\n",
       "      <td>1</td>\n",
       "      <td>1</td>\n",
       "      <td>1</td>\n",
       "    </tr>\n",
       "  </tbody>\n",
       "</table>\n",
       "</div>"
      ],
      "text/plain": [
       "       i2   s1   s2   s3   s4   r3   i1   i3   t1   r4   r2   d1   d2   d3  \\\n",
       "eq1   0.0  0.0  0.0  0.0  ap4  0.0  0.0  0.0  0.0  ap3  0.0  0.0  0.0  0.0   \n",
       "eq2   0.0  0.0  0.0  ap3  0.0  ap2  0.0  ap4  ap1  0.0  0.0  0.0  0.0  0.0   \n",
       "eq3   ap3  0.0  ap2  0.0  0.0  0.0  0.0  0.0  0.0  0.0  ap1  0.0  0.0  0.0   \n",
       "eq4   0.0  ap1  0.0  0.0  0.0  0.0  ap2  0.0  0.0  0.0  0.0  0.0  0.0  0.0   \n",
       "eq5   0.0  0.0  0.0  0.0  0.0  0.0  0.0  0.0  0.0  0.0  0.0  ap1  ap2  ap3   \n",
       "eq6   0.0  0.0  0.0  0.0    1  0.0  0.0    1  0.0  0.0  0.0  0.0  0.0  0.0   \n",
       "eq7     1  0.0  0.0    1  0.0  0.0  0.0  0.0  0.0    1  0.0  0.0  0.0    1   \n",
       "eq8   0.0  0.0    1  0.0  0.0    1    1  0.0  0.0  0.0  0.0  0.0    1  0.0   \n",
       "eq9   0.0    1  0.0  0.0  0.0  0.0  0.0  0.0    1  0.0    1    1  0.0  0.0   \n",
       "eq10  0.0  0.0  0.0  0.0  0.0  0.0  0.0  0.0  0.0  0.0  0.0  0.0  0.0  0.0   \n",
       "\n",
       "       d4   f1   f2   f3   f4  \n",
       "eq1   0.0  0.0  0.0  0.0  ap0  \n",
       "eq2   0.0  0.0  0.0  ap0  0.0  \n",
       "eq3   0.0  0.0  ap0  0.0  0.0  \n",
       "eq4   0.0  ap0  0.0  0.0  0.0  \n",
       "eq5   ap4  0.0  0.0  0.0  0.0  \n",
       "eq6     1  0.0  0.0  0.0  0.0  \n",
       "eq7   0.0  0.0  0.0  0.0  0.0  \n",
       "eq8   0.0  0.0  0.0  0.0  0.0  \n",
       "eq9   0.0  0.0  0.0  0.0  0.0  \n",
       "eq10  0.0    1    1    1    1  "
      ]
     },
     "execution_count": 11,
     "metadata": {},
     "output_type": "execute_result"
    }
   ],
   "source": [
    "# matrix we're solving\n",
    "pd.DataFrame(np.array(A1), columns = unknowns, index = [f'eq{i}' for i in range(1,len(all_eqns)+1)])"
   ]
  },
  {
   "cell_type": "code",
   "execution_count": 12,
   "id": "88b66afd",
   "metadata": {
    "scrolled": true
   },
   "outputs": [
    {
     "data": {
      "text/plain": [
       "array([[i2],\n",
       "       [s1],\n",
       "       [s2],\n",
       "       [s3],\n",
       "       [s4],\n",
       "       [r3],\n",
       "       [i1],\n",
       "       [i3],\n",
       "       [t1],\n",
       "       [r4],\n",
       "       [r2],\n",
       "       [d1],\n",
       "       [d2],\n",
       "       [d3],\n",
       "       [d4],\n",
       "       [f1],\n",
       "       [f2],\n",
       "       [f3],\n",
       "       [f4]], dtype=object)"
      ]
     },
     "execution_count": 12,
     "metadata": {},
     "output_type": "execute_result"
    }
   ],
   "source": [
    "# equals\n",
    "np.array(x1)"
   ]
  },
  {
   "cell_type": "code",
   "execution_count": 13,
   "id": "0a808789",
   "metadata": {},
   "outputs": [
    {
     "data": {
      "text/plain": [
       "[i2, s1, s2, s3, s4, r3, i1, i3, t1, r4, r2, d1, d2, d3, d4, f1, f2, f3, f4]"
      ]
     },
     "execution_count": 13,
     "metadata": {},
     "output_type": "execute_result"
    }
   ],
   "source": [
    "unknowns"
   ]
  },
  {
   "cell_type": "code",
   "execution_count": 14,
   "id": "b65feb05",
   "metadata": {},
   "outputs": [
    {
     "data": {
      "text/plain": [
       "{i2: ap0*f3/ap3 + ap0*f4/ap3 + ap1*t1/ap3 + ap2*r3/ap3 - d3 - ap4*d4/ap3,\n",
       " s1: -r2 - t1 + ap2*d2/ap1 + ap3*d3/ap1 + ap4*d4/ap1 + (-ap0 + ap1)/ap1,\n",
       " s2: -ap0*f2/ap2 - ap0*f3/ap2 - ap0*f4/ap2 - ap1*r2/ap2 - ap1*t1/ap2 - r3 + 1 + ap3*d3/ap2 + ap4*d4/ap2,\n",
       " s3: -ap0*f3/ap3 - ap0*f4/ap3 - ap1*t1/ap3 - ap2*r3/ap3 - r4 + 1 + ap4*d4/ap3,\n",
       " s4: -ap0*f4/ap4 - ap3*r4/ap4 + 1,\n",
       " i1: ap0*f2/ap2 + ap0*f3/ap2 + ap0*f4/ap2 + ap1*r2/ap2 + ap1*t1/ap2 - d2 - ap3*d3/ap2 - ap4*d4/ap2,\n",
       " i3: ap0*f4/ap4 + ap3*r4/ap4 - d4,\n",
       " d1: ap0/ap1 - ap2*d2/ap1 - ap3*d3/ap1 - ap4*d4/ap1,\n",
       " f1: -f2 - f3 - f4 + 1}"
      ]
     },
     "execution_count": 14,
     "metadata": {},
     "output_type": "execute_result"
    }
   ],
   "source": [
    "# solution to our system of eqns\n",
    "result"
   ]
  },
  {
   "cell_type": "code",
   "execution_count": 15,
   "id": "06dfa2af",
   "metadata": {},
   "outputs": [],
   "source": [
    "# this is the dictionary of values we want to plug into our variables\n",
    "subs = {\n",
    "    s1: s1,\n",
    "    s2: s2,\n",
    "    s3: s3,\n",
    "    s4: s4,\n",
    "    r2: r2, #1/59,\n",
    "    r3: r3, #1/52, #this is actually r3 + t2\n",
    "    r4: r4, #0.05, #assumed almost 0\n",
    "    i1: i1, #0.0007, #james et al\n",
    "    i2: i2, #0.00708,\n",
    "    i3: i3, #0.014, #assumed almost 0\n",
    "    t1: t1, #1/48,#(1.5/365)*.43*.7, #\n",
    "    d1: d1_val,\n",
    "    d2: d2_val,\n",
    "    d3: d3_val,\n",
    "    d4: d4_val,\n",
    "    f1: f1_val,\n",
    "    f2: f2_val,\n",
    "    f3: f3_val,\n",
    "    f4: f4_val,\n",
    "    ap0: ap0_val,\n",
    "    ap1: ap1_val,\n",
    "    ap2: ap2_val,\n",
    "    ap3: ap4_val,\n",
    "    ap4: ap4_val\n",
    "}"
   ]
  },
  {
   "cell_type": "code",
   "execution_count": 16,
   "id": "5de467ed",
   "metadata": {},
   "outputs": [],
   "source": [
    "def solution_set(more_subs = {}):\n",
    "    df = pd.DataFrame({\n",
    "        'var':result.keys(),\n",
    "        'val':[result[i].subs(subs).subs(more_subs) for i in result.keys()]\n",
    "    })\n",
    "    return df"
   ]
  },
  {
   "cell_type": "code",
   "execution_count": 17,
   "id": "f648b269",
   "metadata": {},
   "outputs": [
    {
     "data": {
      "text/html": [
       "<div>\n",
       "<style scoped>\n",
       "    .dataframe tbody tr th:only-of-type {\n",
       "        vertical-align: middle;\n",
       "    }\n",
       "\n",
       "    .dataframe tbody tr th {\n",
       "        vertical-align: top;\n",
       "    }\n",
       "\n",
       "    .dataframe thead th {\n",
       "        text-align: right;\n",
       "    }\n",
       "</style>\n",
       "<table border=\"1\" class=\"dataframe\">\n",
       "  <thead>\n",
       "    <tr style=\"text-align: right;\">\n",
       "      <th></th>\n",
       "      <th>var</th>\n",
       "      <th>val</th>\n",
       "    </tr>\n",
       "  </thead>\n",
       "  <tbody>\n",
       "    <tr>\n",
       "      <th>0</th>\n",
       "      <td>i2</td>\n",
       "      <td>0.115526176934477*r3 + 0.0331932645084267*t1 +...</td>\n",
       "    </tr>\n",
       "    <tr>\n",
       "      <th>1</th>\n",
       "      <td>s1</td>\n",
       "      <td>-r2 - t1 + 0.999674927533161</td>\n",
       "    </tr>\n",
       "    <tr>\n",
       "      <th>2</th>\n",
       "      <td>s2</td>\n",
       "      <td>-0.287322452704834*r2 - r3 - 0.287322452704834...</td>\n",
       "    </tr>\n",
       "    <tr>\n",
       "      <th>3</th>\n",
       "      <td>s3</td>\n",
       "      <td>-0.115526176934477*r3 - r4 - 0.033193264508426...</td>\n",
       "    </tr>\n",
       "    <tr>\n",
       "      <th>4</th>\n",
       "      <td>s4</td>\n",
       "      <td>0.999965196472842 - 1.0*r4</td>\n",
       "    </tr>\n",
       "    <tr>\n",
       "      <th>5</th>\n",
       "      <td>i1</td>\n",
       "      <td>0.287322452704834*r2 + 0.287322452704834*t1 + ...</td>\n",
       "    </tr>\n",
       "    <tr>\n",
       "      <th>6</th>\n",
       "      <td>i3</td>\n",
       "      <td>1.0*r4 + 2.22737008540041e-5</td>\n",
       "    </tr>\n",
       "    <tr>\n",
       "      <th>7</th>\n",
       "      <td>d1</td>\n",
       "      <td>0.000325072466838689</td>\n",
       "    </tr>\n",
       "    <tr>\n",
       "      <th>8</th>\n",
       "      <td>f1</td>\n",
       "      <td>0.0231004389169458</td>\n",
       "    </tr>\n",
       "  </tbody>\n",
       "</table>\n",
       "</div>"
      ],
      "text/plain": [
       "  var                                                val\n",
       "0  i2  0.115526176934477*r3 + 0.0331932645084267*t1 +...\n",
       "1  s1                       -r2 - t1 + 0.999674927533161\n",
       "2  s2  -0.287322452704834*r2 - r3 - 0.287322452704834...\n",
       "3  s3  -0.115526176934477*r3 - r4 - 0.033193264508426...\n",
       "4  s4                         0.999965196472842 - 1.0*r4\n",
       "5  i1  0.287322452704834*r2 + 0.287322452704834*t1 + ...\n",
       "6  i3                       1.0*r4 + 2.22737008540041e-5\n",
       "7  d1                               0.000325072466838689\n",
       "8  f1                                 0.0231004389169458"
      ]
     },
     "execution_count": 17,
     "metadata": {},
     "output_type": "execute_result"
    }
   ],
   "source": [
    "solution_set()"
   ]
  },
  {
   "cell_type": "code",
   "execution_count": 18,
   "id": "5ee67a74",
   "metadata": {},
   "outputs": [
    {
     "data": {
      "text/html": [
       "<div>\n",
       "<style scoped>\n",
       "    .dataframe tbody tr th:only-of-type {\n",
       "        vertical-align: middle;\n",
       "    }\n",
       "\n",
       "    .dataframe tbody tr th {\n",
       "        vertical-align: top;\n",
       "    }\n",
       "\n",
       "    .dataframe thead th {\n",
       "        text-align: right;\n",
       "    }\n",
       "</style>\n",
       "<table border=\"1\" class=\"dataframe\">\n",
       "  <thead>\n",
       "    <tr style=\"text-align: right;\">\n",
       "      <th></th>\n",
       "      <th>var</th>\n",
       "      <th>val</th>\n",
       "    </tr>\n",
       "  </thead>\n",
       "  <tbody>\n",
       "    <tr>\n",
       "      <th>0</th>\n",
       "      <td>i2</td>\n",
       "      <td>0.00265041578875304</td>\n",
       "    </tr>\n",
       "    <tr>\n",
       "      <th>1</th>\n",
       "      <td>s1</td>\n",
       "      <td>0.979432794003038</td>\n",
       "    </tr>\n",
       "    <tr>\n",
       "      <th>2</th>\n",
       "      <td>s2</td>\n",
       "      <td>0.974110021830502</td>\n",
       "    </tr>\n",
       "    <tr>\n",
       "      <th>3</th>\n",
       "      <td>s3</td>\n",
       "      <td>0.997328392956002 - r4</td>\n",
       "    </tr>\n",
       "    <tr>\n",
       "      <th>4</th>\n",
       "      <td>s4</td>\n",
       "      <td>0.999965196472842 - 1.0*r4</td>\n",
       "    </tr>\n",
       "    <tr>\n",
       "      <th>5</th>\n",
       "      <td>i1</td>\n",
       "      <td>0.00589942023754690</td>\n",
       "    </tr>\n",
       "    <tr>\n",
       "      <th>6</th>\n",
       "      <td>i3</td>\n",
       "      <td>1.0*r4 + 2.22737008540041e-5</td>\n",
       "    </tr>\n",
       "    <tr>\n",
       "      <th>7</th>\n",
       "      <td>d1</td>\n",
       "      <td>0.000325072466838689</td>\n",
       "    </tr>\n",
       "    <tr>\n",
       "      <th>8</th>\n",
       "      <td>f1</td>\n",
       "      <td>0.0231004389169458</td>\n",
       "    </tr>\n",
       "  </tbody>\n",
       "</table>\n",
       "</div>"
      ],
      "text/plain": [
       "  var                           val\n",
       "0  i2           0.00265041578875304\n",
       "1  s1             0.979432794003038\n",
       "2  s2             0.974110021830502\n",
       "3  s3        0.997328392956002 - r4\n",
       "4  s4    0.999965196472842 - 1.0*r4\n",
       "5  i1           0.00589942023754690\n",
       "6  i3  1.0*r4 + 2.22737008540041e-5\n",
       "7  d1          0.000325072466838689\n",
       "8  f1            0.0231004389169458"
      ]
     },
     "execution_count": 18,
     "metadata": {},
     "output_type": "execute_result"
    }
   ],
   "source": [
    "solution_set({r3:(0.512/63) + (.488/41.3), t1:.488/48.3, r2:.512/50.5})"
   ]
  },
  {
   "cell_type": "code",
   "execution_count": 19,
   "id": "6272d548",
   "metadata": {},
   "outputs": [
    {
     "data": {
      "text/html": [
       "<div>\n",
       "<style scoped>\n",
       "    .dataframe tbody tr th:only-of-type {\n",
       "        vertical-align: middle;\n",
       "    }\n",
       "\n",
       "    .dataframe tbody tr th {\n",
       "        vertical-align: top;\n",
       "    }\n",
       "\n",
       "    .dataframe thead th {\n",
       "        text-align: right;\n",
       "    }\n",
       "</style>\n",
       "<table border=\"1\" class=\"dataframe\">\n",
       "  <thead>\n",
       "    <tr style=\"text-align: right;\">\n",
       "      <th></th>\n",
       "      <th>var</th>\n",
       "      <th>val</th>\n",
       "    </tr>\n",
       "  </thead>\n",
       "  <tbody>\n",
       "    <tr>\n",
       "      <th>0</th>\n",
       "      <td>i2</td>\n",
       "      <td>0.00265041578875304</td>\n",
       "    </tr>\n",
       "    <tr>\n",
       "      <th>1</th>\n",
       "      <td>s1</td>\n",
       "      <td>0.979432794003038</td>\n",
       "    </tr>\n",
       "    <tr>\n",
       "      <th>2</th>\n",
       "      <td>s2</td>\n",
       "      <td>0.974110021830502</td>\n",
       "    </tr>\n",
       "    <tr>\n",
       "      <th>3</th>\n",
       "      <td>s3</td>\n",
       "      <td>0.996328392956002</td>\n",
       "    </tr>\n",
       "    <tr>\n",
       "      <th>4</th>\n",
       "      <td>s4</td>\n",
       "      <td>0.998965196472842</td>\n",
       "    </tr>\n",
       "    <tr>\n",
       "      <th>5</th>\n",
       "      <td>i1</td>\n",
       "      <td>0.00589942023754690</td>\n",
       "    </tr>\n",
       "    <tr>\n",
       "      <th>6</th>\n",
       "      <td>i3</td>\n",
       "      <td>0.00102227370085400</td>\n",
       "    </tr>\n",
       "    <tr>\n",
       "      <th>7</th>\n",
       "      <td>d1</td>\n",
       "      <td>0.000325072466838689</td>\n",
       "    </tr>\n",
       "    <tr>\n",
       "      <th>8</th>\n",
       "      <td>f1</td>\n",
       "      <td>0.0231004389169458</td>\n",
       "    </tr>\n",
       "  </tbody>\n",
       "</table>\n",
       "</div>"
      ],
      "text/plain": [
       "  var                   val\n",
       "0  i2   0.00265041578875304\n",
       "1  s1     0.979432794003038\n",
       "2  s2     0.974110021830502\n",
       "3  s3     0.996328392956002\n",
       "4  s4     0.998965196472842\n",
       "5  i1   0.00589942023754690\n",
       "6  i3   0.00102227370085400\n",
       "7  d1  0.000325072466838689\n",
       "8  f1    0.0231004389169458"
      ]
     },
     "execution_count": 19,
     "metadata": {},
     "output_type": "execute_result"
    }
   ],
   "source": [
    "solution_set({r3:(0.512/63) + (.488/41.3), t1:.488/48.3, r2:.512/50.5, r4:.001})"
   ]
  },
  {
   "cell_type": "code",
   "execution_count": 20,
   "id": "8057820f",
   "metadata": {},
   "outputs": [
    {
     "data": {
      "text/plain": [
       "0.02310043891694573"
      ]
     },
     "execution_count": 20,
     "metadata": {},
     "output_type": "execute_result"
    }
   ],
   "source": [
    "f1_val"
   ]
  },
  {
   "cell_type": "code",
   "execution_count": 21,
   "id": "607215ef",
   "metadata": {},
   "outputs": [
    {
     "data": {
      "text/plain": [
       "0.00014482773410817718"
      ]
     },
     "execution_count": 21,
     "metadata": {},
     "output_type": "execute_result"
    }
   ],
   "source": [
    "d1_val"
   ]
  },
  {
   "cell_type": "code",
   "execution_count": 22,
   "id": "f47943fe",
   "metadata": {},
   "outputs": [],
   "source": [
    "def toggle_solution_set(r3_val, t1_val, r2_val, r4_val):\n",
    "    print(solution_set({r3:r3_val, t1:t1_val, r2:r2_val, r4:r4_val}))"
   ]
  },
  {
   "cell_type": "code",
   "execution_count": 23,
   "id": "186cb6bb",
   "metadata": {},
   "outputs": [
    {
     "name": "stdout",
     "output_type": "stream",
     "text": [
      "  var                   val\n",
      "0  i2   0.00292429610552781\n",
      "1  s1     0.961892441657455\n",
      "2  s2     0.969782480299017\n",
      "3  s3     0.996054512639228\n",
      "4  s4     0.998965196472842\n",
      "5  i1    0.0109391572947868\n",
      "6  i3   0.00102227370085400\n",
      "7  d1  0.000325072466838689\n",
      "8  f1    0.0231004389169458\n"
     ]
    }
   ],
   "source": [
    "toggle_solution_set(r3_val = 1/52, t1_val = 1/48, r2_val = 1/59, r4_val = .001)"
   ]
  },
  {
   "cell_type": "code",
   "execution_count": 24,
   "id": "5eff75a2",
   "metadata": {},
   "outputs": [],
   "source": [
    "from ipywidgets import interact, interactive, fixed, interact_manual\n",
    "import ipywidgets as widgets\n",
    "from IPython.display import display"
   ]
  },
  {
   "cell_type": "code",
   "execution_count": 25,
   "id": "d768c3e0",
   "metadata": {},
   "outputs": [],
   "source": [
    "y = interactive(toggle_solution_set,\n",
    "                r3_val = (1/80,1/30,0.00208), t1_val = (1/80,1/30,0.00208),\n",
    "                r2_val = (1/80,1/30,0.00208), r4_val = (.0001,.01,0.00099),\n",
    "                readout_format='.9f'\n",
    "               )"
   ]
  },
  {
   "cell_type": "code",
   "execution_count": 1,
   "id": "9af0f0bf",
   "metadata": {},
   "outputs": [
    {
     "ename": "NameError",
     "evalue": "name 'y' is not defined",
     "output_type": "error",
     "traceback": [
      "\u001b[0;31m---------------------------------------------------------------------------\u001b[0m",
      "\u001b[0;31mNameError\u001b[0m                                 Traceback (most recent call last)",
      "\u001b[0;32m<ipython-input-1-32f365b48cd5>\u001b[0m in \u001b[0;36m<module>\u001b[0;34m\u001b[0m\n\u001b[1;32m      1\u001b[0m \u001b[0;31m# huh need to fix slider display precision\u001b[0m\u001b[0;34m\u001b[0m\u001b[0;34m\u001b[0m\u001b[0;34m\u001b[0m\u001b[0m\n\u001b[0;32m----> 2\u001b[0;31m \u001b[0mdisplay\u001b[0m\u001b[0;34m(\u001b[0m\u001b[0my\u001b[0m\u001b[0;34m)\u001b[0m\u001b[0;34m\u001b[0m\u001b[0;34m\u001b[0m\u001b[0m\n\u001b[0m",
      "\u001b[0;31mNameError\u001b[0m: name 'y' is not defined"
     ]
    }
   ],
   "source": [
    "# huh need to fix slider display precision\n",
    "display(y)"
   ]
  },
  {
   "cell_type": "code",
   "execution_count": null,
   "id": "4e658719",
   "metadata": {},
   "outputs": [],
   "source": []
  }
 ],
 "metadata": {
  "kernelspec": {
   "display_name": "Python 3",
   "language": "python",
   "name": "python3"
  },
  "language_info": {
   "codemirror_mode": {
    "name": "ipython",
    "version": 3
   },
   "file_extension": ".py",
   "mimetype": "text/x-python",
   "name": "python",
   "nbconvert_exporter": "python",
   "pygments_lexer": "ipython3",
   "version": "3.6.10"
  }
 },
 "nbformat": 4,
 "nbformat_minor": 5
}
