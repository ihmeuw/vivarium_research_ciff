{
 "cells": [
  {
   "cell_type": "code",
   "execution_count": 3,
   "id": "cc52b5ee",
   "metadata": {},
   "outputs": [
    {
     "name": "stdout",
     "output_type": "stream",
     "text": [
      "/ihme/homes/beatrixh/vivarium_research_ciff/wasting_transitions\n"
     ]
    }
   ],
   "source": [
    "%cd .."
   ]
  },
  {
   "cell_type": "code",
   "execution_count": 4,
   "id": "27ff215a",
   "metadata": {
    "collapsed": true
   },
   "outputs": [
    {
     "name": "stderr",
     "output_type": "stream",
     "text": [
      "/share/code/beatrixh/miniconda/envs/vivarium/lib/python3.6/site-packages/tables/nodes/filenode.py:258: DeprecationWarning: tostring() is deprecated. Use tobytes() instead.\n",
      "  b[:n] = self._node.read(start, stop).tostring()\n",
      "/ihme/homes/beatrixh/vivarium_research_ciff/wasting_transitions/set_background_vals.py:22: SettingWithCopyWarning: \n",
      "A value is trying to be set on a copy of a slice from a DataFrame.\n",
      "Try using .loc[row_indexer,col_indexer] = value instead\n",
      "\n",
      "See the caveats in the documentation: https://pandas.pydata.org/pandas-docs/stable/user_guide/indexing.html#returning-a-view-versus-a-copy\n",
      "  wasting_exp['sex_id'] = np.where(wasting_exp['sex'] == 'Male', 1, 2)\n",
      "/ihme/homes/beatrixh/vivarium_research_ciff/wasting_transitions/set_background_vals.py:23: SettingWithCopyWarning: \n",
      "A value is trying to be set on a copy of a slice from a DataFrame.\n",
      "Try using .loc[row_indexer,col_indexer] = value instead\n",
      "\n",
      "See the caveats in the documentation: https://pandas.pydata.org/pandas-docs/stable/user_guide/indexing.html#returning-a-view-versus-a-copy\n",
      "  wasting_exp['age_group_id'] = np.where(wasting_exp['age_start'] == 0, 4, 5)\n"
     ]
    }
   ],
   "source": [
    "from set_background_vals import *"
   ]
  },
  {
   "cell_type": "code",
   "execution_count": 1,
   "id": "24eaf7a4",
   "metadata": {},
   "outputs": [],
   "source": [
    "import pandas as pd, numpy as np"
   ]
  },
  {
   "cell_type": "code",
   "execution_count": 10,
   "id": "d7432f67",
   "metadata": {},
   "outputs": [
    {
     "name": "stderr",
     "output_type": "stream",
     "text": [
      "/share/code/beatrixh/miniconda/envs/vivarium/lib/python3.6/site-packages/tables/nodes/filenode.py:258: DeprecationWarning: tostring() is deprecated. Use tobytes() instead.\n",
      "  b[:n] = self._node.read(start, stop).tostring()\n"
     ]
    }
   ],
   "source": [
    "art = Artifact('/ihme/costeffectiveness/artifacts/vivarium_ciff_sam/ethiopia.hdf', filter_terms=['year_start == 2019', f'age_end <= 5'])\n",
    "art_wasting_exp = art.load('risk_factor.child_wasting.exposure').reset_index()"
   ]
  },
  {
   "cell_type": "code",
   "execution_count": 11,
   "id": "ca58f4cd",
   "metadata": {},
   "outputs": [
    {
     "data": {
      "text/html": [
       "<div>\n",
       "<style scoped>\n",
       "    .dataframe tbody tr th:only-of-type {\n",
       "        vertical-align: middle;\n",
       "    }\n",
       "\n",
       "    .dataframe tbody tr th {\n",
       "        vertical-align: top;\n",
       "    }\n",
       "\n",
       "    .dataframe thead th {\n",
       "        text-align: right;\n",
       "    }\n",
       "</style>\n",
       "<table border=\"1\" class=\"dataframe\">\n",
       "  <thead>\n",
       "    <tr style=\"text-align: right;\">\n",
       "      <th>parameter</th>\n",
       "      <th>sex</th>\n",
       "      <th>age_start</th>\n",
       "      <th>age_end</th>\n",
       "      <th>year_start</th>\n",
       "      <th>year_end</th>\n",
       "      <th>cat1</th>\n",
       "      <th>cat2</th>\n",
       "      <th>cat3</th>\n",
       "      <th>cat4</th>\n",
       "    </tr>\n",
       "  </thead>\n",
       "  <tbody>\n",
       "    <tr>\n",
       "      <th>0</th>\n",
       "      <td>Female</td>\n",
       "      <td>0.000000</td>\n",
       "      <td>0.019178</td>\n",
       "      <td>2019</td>\n",
       "      <td>2020</td>\n",
       "      <td>0.055065</td>\n",
       "      <td>0.113655</td>\n",
       "      <td>0.209650</td>\n",
       "      <td>0.621630</td>\n",
       "    </tr>\n",
       "    <tr>\n",
       "      <th>1</th>\n",
       "      <td>Female</td>\n",
       "      <td>0.019178</td>\n",
       "      <td>0.076712</td>\n",
       "      <td>2019</td>\n",
       "      <td>2020</td>\n",
       "      <td>0.053223</td>\n",
       "      <td>0.111500</td>\n",
       "      <td>0.207686</td>\n",
       "      <td>0.627591</td>\n",
       "    </tr>\n",
       "    <tr>\n",
       "      <th>2</th>\n",
       "      <td>Female</td>\n",
       "      <td>0.076712</td>\n",
       "      <td>1.000000</td>\n",
       "      <td>2019</td>\n",
       "      <td>2020</td>\n",
       "      <td>0.050631</td>\n",
       "      <td>0.117514</td>\n",
       "      <td>0.225722</td>\n",
       "      <td>0.606134</td>\n",
       "    </tr>\n",
       "    <tr>\n",
       "      <th>3</th>\n",
       "      <td>Female</td>\n",
       "      <td>1.000000</td>\n",
       "      <td>5.000000</td>\n",
       "      <td>2019</td>\n",
       "      <td>2020</td>\n",
       "      <td>0.025305</td>\n",
       "      <td>0.095432</td>\n",
       "      <td>0.235557</td>\n",
       "      <td>0.643706</td>\n",
       "    </tr>\n",
       "    <tr>\n",
       "      <th>4</th>\n",
       "      <td>Male</td>\n",
       "      <td>0.000000</td>\n",
       "      <td>0.019178</td>\n",
       "      <td>2019</td>\n",
       "      <td>2020</td>\n",
       "      <td>0.040159</td>\n",
       "      <td>0.106410</td>\n",
       "      <td>0.218904</td>\n",
       "      <td>0.634527</td>\n",
       "    </tr>\n",
       "  </tbody>\n",
       "</table>\n",
       "</div>"
      ],
      "text/plain": [
       "parameter     sex  age_start   age_end  year_start  year_end      cat1  \\\n",
       "0          Female   0.000000  0.019178        2019      2020  0.055065   \n",
       "1          Female   0.019178  0.076712        2019      2020  0.053223   \n",
       "2          Female   0.076712  1.000000        2019      2020  0.050631   \n",
       "3          Female   1.000000  5.000000        2019      2020  0.025305   \n",
       "4            Male   0.000000  0.019178        2019      2020  0.040159   \n",
       "\n",
       "parameter      cat2      cat3      cat4  \n",
       "0          0.113655  0.209650  0.621630  \n",
       "1          0.111500  0.207686  0.627591  \n",
       "2          0.117514  0.225722  0.606134  \n",
       "3          0.095432  0.235557  0.643706  \n",
       "4          0.106410  0.218904  0.634527  "
      ]
     },
     "execution_count": 11,
     "metadata": {},
     "output_type": "execute_result"
    }
   ],
   "source": [
    "wasting_exposures.head()"
   ]
  },
  {
   "cell_type": "code",
   "execution_count": 14,
   "id": "57b9ee64",
   "metadata": {},
   "outputs": [],
   "source": [
    "def set_wasting_prev(age_start, sex, draw):\n",
    "    \n",
    "    wasting_exposures = art_wasting_exp.set_index(['sex', 'age_start', 'age_end', 'year_start', 'year_end']).pivot(columns='parameter')['draw_0'].reset_index()\n",
    "    df = wasting_exposures.loc[\n",
    "        (wasting_exposures.sex==sex) &\n",
    "        (wasting_exposures.age_start==age_start)\n",
    "    ]\n",
    "\n",
    "    p_1 = float(df.cat1)\n",
    "    p_2 = float(df.cat2)\n",
    "    p_3 = float(df.cat3)\n",
    "    p_4 = float(df.cat4)\n",
    "    \n",
    "    return p_1, p_2, p_3, p_4"
   ]
  },
  {
   "cell_type": "code",
   "execution_count": 17,
   "id": "5b88abd0",
   "metadata": {},
   "outputs": [],
   "source": [
    "dur_cat3 = 365\n",
    "f_1, f_2, f_3, f_4 = set_wasting_prev(age_start = 1.0, sex = 'Female')"
   ]
  },
  {
   "cell_type": "code",
   "execution_count": 18,
   "id": "47b113a9",
   "metadata": {},
   "outputs": [
    {
     "data": {
      "text/plain": [
       "-0.00013257556954053969"
      ]
     },
     "execution_count": 18,
     "metadata": {},
     "output_type": "execute_result"
    }
   ],
   "source": [
    "0.00357142857142857*(7.0*dur_cat3*f_1 - 4.0*dur_cat3*f_2 + 280.0*f_3)/(dur_cat3*f_4)"
   ]
  }
 ],
 "metadata": {
  "kernelspec": {
   "display_name": "Python 3",
   "language": "python",
   "name": "python3"
  },
  "language_info": {
   "codemirror_mode": {
    "name": "ipython",
    "version": 3
   },
   "file_extension": ".py",
   "mimetype": "text/x-python",
   "name": "python",
   "nbconvert_exporter": "python",
   "pygments_lexer": "ipython3",
   "version": "3.6.13"
  }
 },
 "nbformat": 4,
 "nbformat_minor": 5
}
